{
 "cells": [
  {
   "cell_type": "markdown",
   "metadata": {},
   "source": [
    "# Step 1 - Predict Subject Name"
   ]
  },
  {
   "cell_type": "code",
   "execution_count": 1,
   "metadata": {},
   "outputs": [
    {
     "data": {
      "application/vnd.jupyter.widget-view+json": {
       "model_id": "dc5a4cad8d31495faaceab94576c8537",
       "version_major": 2,
       "version_minor": 0
      },
      "text/html": [
       "<p>Failed to display Jupyter Widget of type <code>HBox</code>.</p>\n",
       "<p>\n",
       "  If you're reading this message in the Jupyter Notebook or JupyterLab Notebook, it may mean\n",
       "  that the widgets JavaScript is still loading. If this message persists, it\n",
       "  likely means that the widgets JavaScript library is either not installed or\n",
       "  not enabled. See the <a href=\"https://ipywidgets.readthedocs.io/en/stable/user_install.html\">Jupyter\n",
       "  Widgets Documentation</a> for setup instructions.\n",
       "</p>\n",
       "<p>\n",
       "  If you're reading this message in another frontend (for example, a static\n",
       "  rendering on GitHub or <a href=\"https://nbviewer.jupyter.org/\">NBViewer</a>),\n",
       "  it may mean that your frontend doesn't currently support widgets.\n",
       "</p>\n"
      ],
      "text/plain": [
       "HBox(children=(IntProgress(value=1, bar_style='info', max=1), HTML(value='')))"
      ]
     },
     "metadata": {},
     "output_type": "display_data"
    },
    {
     "name": "stdout",
     "output_type": "stream",
     "text": [
      "\n"
     ]
    }
   ],
   "source": [
    "import sys\n",
    "sys.path.insert(0, '../../../allennlp')\n",
    "sys.path.insert(0, '../../')\n",
    "from tqdm import tqdm_notebook\n",
    "from scripts.utils.connect import get_connection \n",
    "import random\n",
    "import numpy as np\n",
    "\n",
    "tqdm_notebook().pandas()\n",
    "connection = get_connection()\n",
    "cursor = connection.cursor()"
   ]
  },
  {
   "cell_type": "code",
   "execution_count": 6,
   "metadata": {},
   "outputs": [
    {
     "data": {
      "text/html": [
       "<div>\n",
       "<style scoped>\n",
       "    .dataframe tbody tr th:only-of-type {\n",
       "        vertical-align: middle;\n",
       "    }\n",
       "\n",
       "    .dataframe tbody tr th {\n",
       "        vertical-align: top;\n",
       "    }\n",
       "\n",
       "    .dataframe thead th {\n",
       "        text-align: right;\n",
       "    }\n",
       "</style>\n",
       "<table border=\"1\" class=\"dataframe\">\n",
       "  <thead>\n",
       "    <tr style=\"text-align: right;\">\n",
       "      <th></th>\n",
       "      <th>subject</th>\n",
       "      <th>relation</th>\n",
       "      <th>object</th>\n",
       "      <th>question</th>\n",
       "    </tr>\n",
       "  </thead>\n",
       "  <tbody>\n",
       "    <tr>\n",
       "      <th>6219</th>\n",
       "      <td>03k3r</td>\n",
       "      <td>biology/organism_classification/organisms_of_t...</td>\n",
       "      <td>0bs56bp</td>\n",
       "      <td>Name an American Thoroughbread racehorse</td>\n",
       "    </tr>\n",
       "    <tr>\n",
       "      <th>3364</th>\n",
       "      <td>02qlppc</td>\n",
       "      <td>cvg/computer_videogame/cvg_genre</td>\n",
       "      <td>01sjng</td>\n",
       "      <td>what kind of game is vision racing driving sim...</td>\n",
       "    </tr>\n",
       "    <tr>\n",
       "      <th>9374</th>\n",
       "      <td>02l7c8</td>\n",
       "      <td>tv/tv_genre/programs</td>\n",
       "      <td>0dlmm88</td>\n",
       "      <td>what tv program is romance film</td>\n",
       "    </tr>\n",
       "    <tr>\n",
       "      <th>10142</th>\n",
       "      <td>049_zj3</td>\n",
       "      <td>location/location/containedby</td>\n",
       "      <td>04rrx</td>\n",
       "      <td>what state is  polaski located in</td>\n",
       "    </tr>\n",
       "    <tr>\n",
       "      <th>97</th>\n",
       "      <td>02w9ycr</td>\n",
       "      <td>people/deceased_person/cause_of_death</td>\n",
       "      <td>0qcr0</td>\n",
       "      <td>what disease claimed the life of fern emmett</td>\n",
       "    </tr>\n",
       "  </tbody>\n",
       "</table>\n",
       "</div>"
      ],
      "text/plain": [
       "       subject                                           relation   object  \\\n",
       "6219     03k3r  biology/organism_classification/organisms_of_t...  0bs56bp   \n",
       "3364   02qlppc                   cvg/computer_videogame/cvg_genre   01sjng   \n",
       "9374    02l7c8                               tv/tv_genre/programs  0dlmm88   \n",
       "10142  049_zj3                      location/location/containedby    04rrx   \n",
       "97     02w9ycr              people/deceased_person/cause_of_death    0qcr0   \n",
       "\n",
       "                                                question  \n",
       "6219           Name an American Thoroughbread racehorse   \n",
       "3364   what kind of game is vision racing driving sim...  \n",
       "9374                     what tv program is romance film  \n",
       "10142                  what state is  polaski located in  \n",
       "97          what disease claimed the life of fern emmett  "
      ]
     },
     "execution_count": 6,
     "metadata": {},
     "output_type": "execute_result"
    }
   ],
   "source": [
    "# Run the end-to-end pipeline on the development set\n",
    "\n",
    "from scripts.utils.simple_qa import load_simple_qa \n",
    "from sklearn.utils import shuffle\n",
    "\n",
    "df_dev, = load_simple_qa(dev=True)\n",
    "df_dev = shuffle(df_dev, random_state=123)\n",
    "df_dev[:5]"
   ]
  },
  {
   "cell_type": "markdown",
   "metadata": {},
   "source": [
    "## Load Subject Name Model"
   ]
  },
  {
   "cell_type": "code",
   "execution_count": 5,
   "metadata": {},
   "outputs": [
    {
     "name": "stdout",
     "output_type": "stream",
     "text": [
      "Question: what major cities does u.s. route 2 run through ?\n",
      "Predicted Tags: ['O', 'O', 'O', 'O', 'I', 'I', 'I', 'O', 'O', 'O']\n"
     ]
    }
   ],
   "source": [
    "import importlib\n",
    "import scripts.utils.import_notebook\n",
    "from allennlp.models.archival import load_archive\n",
    "from allennlp.service.predictors import Predictor\n",
    "\n",
    "archive = load_archive('../../results/0000.01-15_21:34:34.subject_recognition_crf_tagger/model.tar.gz',\n",
    "                       cuda_device=0)\n",
    "predictor = Predictor.from_archive(archive, 'sentence-tagger')\n",
    "\n",
    "## TEST ##\n",
    "question = 'what major cities does u.s. route 2 run through ?'\n",
    "print('Question:', question)\n",
    "print('Predicted Tags:', predictor.predict_json({'sentence': question}, 0)['tags'])"
   ]
  },
  {
   "cell_type": "markdown",
   "metadata": {},
   "source": [
    "## Top K Model Decoder\n",
    "\n",
    "The best subject name span is not always found in our KG; therefore, here we define a top k viterbi decoder. This allows us to get the top k subject names."
   ]
  },
  {
   "cell_type": "code",
   "execution_count": 7,
   "metadata": {},
   "outputs": [],
   "source": [
    "import torch\n",
    "\n",
    "# FROM: https://gist.github.com/Deepblue129/afaa3613a99a8e7213d2efdd02ae4762 \n",
    "def viterbi_decode(tag_sequence: torch.Tensor, transition_matrix: torch.Tensor, top_k: int=5):\n",
    "    \"\"\"\n",
    "    Perform Viterbi decoding in log space over a sequence given a transition matrix\n",
    "    specifying pairwise (transition) potentials between tags and a matrix of shape\n",
    "    (sequence_length, num_tags) specifying unary potentials for possible tags per\n",
    "    timestep.\n",
    "    Parameters\n",
    "    ----------\n",
    "    tag_sequence : torch.Tensor, required.\n",
    "        A tensor of shape (sequence_length, num_tags) representing scores for\n",
    "        a set of tags over a given sequence.\n",
    "    transition_matrix : torch.Tensor, required.\n",
    "        A tensor of shape (num_tags, num_tags) representing the binary potentials\n",
    "        for transitioning between a given pair of tags.\n",
    "    top_k : int, required.\n",
    "        Integer defining the top number of paths to decode.\n",
    "    Returns\n",
    "    -------\n",
    "    viterbi_path : List[int]\n",
    "        The tag indices of the maximum likelihood tag sequence.\n",
    "    viterbi_score : float\n",
    "        The score of the viterbi path.\n",
    "    \"\"\"\n",
    "    sequence_length, num_tags = list(tag_sequence.size())\n",
    "\n",
    "    path_scores = []\n",
    "    path_indices = []\n",
    "    # At the beginning, the maximum number of permutations is 1; therefore, we unsqueeze(0)\n",
    "    # to allow for 1 permutation.\n",
    "    path_scores.append(tag_sequence[0, :].unsqueeze(0))\n",
    "    # assert path_scores[0].size() == (n_permutations, num_tags)\n",
    "\n",
    "    # Evaluate the scores for all possible paths.\n",
    "    for timestep in range(1, sequence_length):\n",
    "        # Add pairwise potentials to current scores.\n",
    "        # assert path_scores[timestep - 1].size() == (n_permutations, num_tags)\n",
    "        summed_potentials = path_scores[timestep - 1].unsqueeze(2) + transition_matrix\n",
    "        summed_potentials = summed_potentials.view(-1, num_tags)\n",
    "\n",
    "        # Best pairwise potential path score from the previous timestep. \n",
    "        max_k = min(summed_potentials.size()[0], top_k)\n",
    "        scores, paths = torch.topk(summed_potentials, k=max_k, dim=0)\n",
    "        # assert scores.size() == (n_permutations, num_tags)\n",
    "        # assert paths.size() == (n_permutations, num_tags)\n",
    "\n",
    "        scores = tag_sequence[timestep, :] + scores\n",
    "        # assert scores.size() == (n_permutations, num_tags)\n",
    "        path_scores.append(scores)\n",
    "        path_indices.append(paths.squeeze())\n",
    "\n",
    "    # Construct the most likely sequence backwards.\n",
    "    path_scores = path_scores[-1].view(-1)\n",
    "    max_k = min(path_scores.size()[0], top_k)\n",
    "    viterbi_scores, best_paths = torch.topk(path_scores, k=max_k, dim=0)\n",
    "    viterbi_paths = []\n",
    "    for i in range(max_k):\n",
    "        viterbi_path = [best_paths[i]]\n",
    "        for backward_timestep in reversed(path_indices):\n",
    "            viterbi_path.append(int(backward_timestep.view(-1)[viterbi_path[-1]]))\n",
    "        # Reverse the backward path.\n",
    "        viterbi_path.reverse()\n",
    "        # Viterbi paths uses (num_tags * n_permutations) nodes; therefore, we need to modulo.\n",
    "        viterbi_path = [j % num_tags for j in viterbi_path]\n",
    "        viterbi_paths.append(viterbi_path)\n",
    "    return viterbi_paths, viterbi_scores\n",
    "\n",
    "## TEST ##\n",
    "sequence_logits = torch.FloatTensor([[1, 0, 0, 4], [1, 0, 6, 2], [0, 3, 0, 4]])\n",
    "transition_matrix = torch.zeros([4, 4])\n",
    "transition_matrix[0, 0] = 1\n",
    "transition_matrix[2, 1] = 5\n",
    "indices, value = viterbi_decode(sequence_logits, transition_matrix)\n",
    "assert indices[0] == [3, 2, 1]\n",
    "assert value[0] == 18"
   ]
  },
  {
   "cell_type": "code",
   "execution_count": 15,
   "metadata": {},
   "outputs": [
    {
     "name": "stdout",
     "output_type": "stream",
     "text": [
      "[Score: 39.895531] Path: ['O', 'O', 'O', 'O', 'I', 'I', 'I', 'O', 'O', 'O']\n",
      "[Score: 33.139980] Path: ['O', 'O', 'O', 'O', 'I', 'I', 'O', 'O', 'O', 'O']\n",
      "[Score: 31.901718] Path: ['O', 'O', 'O', 'O', 'I', 'O', 'I', 'O', 'O', 'O']\n",
      "[Score: 31.412817] Path: ['O', 'O', 'O', 'O', 'O', 'I', 'I', 'O', 'O', 'O']\n",
      "[Score: 31.158092] Path: ['O', 'O', 'O', 'O', 'I', 'O', 'O', 'O', 'O', 'O']\n"
     ]
    }
   ],
   "source": [
    "from typing import List\n",
    "\n",
    "import torch\n",
    "from torch.autograd import Variable\n",
    "\n",
    "# Originally From:\n",
    "# https://github.com/allenai/allennlp/blob/master/allennlp/modules/conditional_random_field.py#L162\n",
    "def viterbi_tags(logits: List[List[int]], mask: List[int], top_k: int) -> List[List[int]]:\n",
    "    \"\"\"\n",
    "    Uses viterbi algorithm to find most likely tags for the given inputs.\n",
    "    \"\"\"\n",
    "    logits = torch.FloatTensor(logits)\n",
    "    mask = torch.LongTensor(mask)\n",
    "    \n",
    "    max_seq_length, num_tags = logits.size()\n",
    "\n",
    "    # Augment transitions matrix with start and end transitions\n",
    "    start_tag = num_tags\n",
    "    end_tag = num_tags + 1\n",
    "    transitions = torch.Tensor(num_tags + 2, num_tags + 2).fill_(-10000.)\n",
    "\n",
    "    transitions[:num_tags, :num_tags] = archive.model.crf.transitions.data\n",
    "    transitions[start_tag, :num_tags] = archive.model.crf.start_transitions.data\n",
    "    transitions[:num_tags, end_tag] = archive.model.crf.end_transitions.data\n",
    "\n",
    "    # Pad the max sequence length by 2 to account for start_tag + end_tag.\n",
    "    tag_sequence = torch.Tensor(max_seq_length + 2, num_tags + 2)\n",
    "\n",
    "    sequence_length = torch.sum(mask)\n",
    "\n",
    "    # Start with everything totally unlikely\n",
    "    tag_sequence.fill_(-10000.)\n",
    "    # At timestep 0 we must have the START_TAG\n",
    "    tag_sequence[0, start_tag] = 0.\n",
    "    # At steps 1, ..., sequence_length we just use the incoming logits\n",
    "    logits[:sequence_length]\n",
    "    tag_sequence[1:(sequence_length + 1), :num_tags] = logits[:sequence_length]\n",
    "    # And at the last timestep we must have the END_TAG\n",
    "    tag_sequence[sequence_length + 1, end_tag] = 0.\n",
    "\n",
    "    # We pass the tags and the transitions to ``viterbi_decode``.\n",
    "    viterbi_paths, viterbi_scores = viterbi_decode(tag_sequence[:(sequence_length + 2)], transitions, top_k)\n",
    "    # Get rid of START and END sentinels and append.\n",
    "    viterbi_paths = [path[1:-1] for path in viterbi_paths]\n",
    "    # Translate indexes to labels\n",
    "    viterbi_paths = [\n",
    "        [archive.model.vocab.get_token_from_index(i, namespace=\"labels\")\n",
    "         for i in paths] for paths in viterbi_paths\n",
    "    ]\n",
    "    return viterbi_paths, viterbi_scores\n",
    "\n",
    "## TEST ##\n",
    "top_k = 5\n",
    "predicted = predictor.predict_json({'sentence': 'what major cities does u.s. route 2 run through ?'}, 0)\n",
    "viterbi_paths, viterbi_scores = viterbi_tags(predicted['logits'], predicted['mask'], top_k)\n",
    "\n",
    "# Best viterbi_paths should equal to predicted tags\n",
    "assert predicted['tags'] == viterbi_paths[0]\n",
    "\n",
    "for i in range(top_k):\n",
    "    print('[Score: %f] Path:' % viterbi_scores[i], viterbi_paths[i])"
   ]
  },
  {
   "cell_type": "markdown",
   "metadata": {},
   "source": [
    "## Wrap Up\n",
    "\n",
    "Put the model and top k decoder together. Predict the subject name accross all the examples in the dataframe."
   ]
  },
  {
   "cell_type": "code",
   "execution_count": 49,
   "metadata": {},
   "outputs": [
    {
     "name": "stdout",
     "output_type": "stream",
     "text": [
      "Sample Output:\n"
     ]
    },
    {
     "data": {
      "text/plain": [
       "[{'end_index': 7,\n",
       "  'name': 'u.s. route 2',\n",
       "  'score': 39.895530700683594,\n",
       "  'start_index': 4},\n",
       " {'end_index': 6,\n",
       "  'name': 'u.s. route',\n",
       "  'score': 33.13998031616211,\n",
       "  'start_index': 4},\n",
       " {'end_index': 7,\n",
       "  'name': 'route 2',\n",
       "  'score': 31.412817001342773,\n",
       "  'start_index': 5},\n",
       " {'end_index': 5,\n",
       "  'name': 'u.s.',\n",
       "  'score': 31.158092498779297,\n",
       "  'start_index': 4},\n",
       " {'end_index': 7,\n",
       "  'name': 'does u.s. route 2',\n",
       "  'score': 30.100318908691406,\n",
       "  'start_index': 3},\n",
       " {'end_index': 7, 'name': '2', 'score': 29.430931091308594, 'start_index': 6},\n",
       " {'end_index': 8,\n",
       "  'name': 'u.s. route 2 run',\n",
       "  'score': 27.478029251098633,\n",
       "  'start_index': 4},\n",
       " {'end_index': 7,\n",
       "  'name': 'cities does u.s. route 2',\n",
       "  'score': 26.6679630279541,\n",
       "  'start_index': 2},\n",
       " {'end_index': 6,\n",
       "  'name': 'route',\n",
       "  'score': 24.65726661682129,\n",
       "  'start_index': 5},\n",
       " {'end_index': 6,\n",
       "  'name': 'does u.s. route',\n",
       "  'score': 23.34476661682129,\n",
       "  'start_index': 3},\n",
       " {'end_index': 7,\n",
       "  'name': 'major cities does u.s. route 2',\n",
       "  'score': 22.846487045288086,\n",
       "  'start_index': 1}]"
      ]
     },
     "execution_count": 49,
     "metadata": {},
     "output_type": "execute_result"
    }
   ],
   "source": [
    "import math\n",
    "import re\n",
    "\n",
    "def predict_subject_name(tokens):\n",
    "    # Predict Tags\n",
    "    predicted = predictor.predict_json({'sentence': ' '.join(tokens)}, 0)\n",
    "    viterbi_paths, viterbi_scores = viterbi_tags(predicted['logits'], predicted['mask'], 25)\n",
    "    \n",
    "    predicted_subject_names = []\n",
    "    for tags, score in zip(viterbi_paths, viterbi_scores):\n",
    "        assert len(tags) == len(tokens)\n",
    "        # Ignore if multiple subject names are selected\n",
    "        n_subjects = sum(tags[i] == 'I' and (i - 1 == -1 or tags[i - 1] == 'O') for i in range(len(tags)))\n",
    "        if n_subjects == 1:\n",
    "            predicted_subject_name = ' '.join([tokens[i] for i, tag in\n",
    "                                               enumerate(tags) if tag == 'I'])\n",
    "            start_index = [i for i, tag in enumerate(tags) \n",
    "                           if tag == 'I' and (i == 0 or tags[i - 1] == 'O')][0]\n",
    "            end_index = [i for i, tag in enumerate(tags) \n",
    "                         if tag == 'I' and (i == len(tags) - 1 or tags[i + 1] == 'O')][0] + 1\n",
    "            predicted_subject_names.append({\n",
    "                'name': predicted_subject_name,\n",
    "                'score': score,\n",
    "                'start_index': start_index,\n",
    "                'end_index': end_index,\n",
    "            })\n",
    "    return predicted_subject_names\n",
    "\n",
    "## TEST ##\n",
    "print('Sample Output:')\n",
    "predict_subject_name(['what', 'major', 'cities', 'does', 'u.s.', 'route', '2', 'run', 'through', '?'])"
   ]
  },
  {
   "cell_type": "code",
   "execution_count": 50,
   "metadata": {},
   "outputs": [
    {
     "data": {
      "application/vnd.jupyter.widget-view+json": {
       "model_id": "a708a8e456bd4ba3bf6b742c565a4662",
       "version_major": 2,
       "version_minor": 0
      },
      "text/html": [
       "<p>Failed to display Jupyter Widget of type <code>HBox</code>.</p>\n",
       "<p>\n",
       "  If you're reading this message in the Jupyter Notebook or JupyterLab Notebook, it may mean\n",
       "  that the widgets JavaScript is still loading. If this message persists, it\n",
       "  likely means that the widgets JavaScript library is either not installed or\n",
       "  not enabled. See the <a href=\"https://ipywidgets.readthedocs.io/en/stable/user_install.html\">Jupyter\n",
       "  Widgets Documentation</a> for setup instructions.\n",
       "</p>\n",
       "<p>\n",
       "  If you're reading this message in another frontend (for example, a static\n",
       "  rendering on GitHub or <a href=\"https://nbviewer.jupyter.org/\">NBViewer</a>),\n",
       "  it may mean that your frontend doesn't currently support widgets.\n",
       "</p>\n"
      ],
      "text/plain": [
       "HBox(children=(IntProgress(value=0, max=10845), HTML(value='')))"
      ]
     },
     "metadata": {},
     "output_type": "display_data"
    },
    {
     "data": {
      "text/html": [
       "<div>\n",
       "<style scoped>\n",
       "    .dataframe tbody tr th:only-of-type {\n",
       "        vertical-align: middle;\n",
       "    }\n",
       "\n",
       "    .dataframe tbody tr th {\n",
       "        vertical-align: top;\n",
       "    }\n",
       "\n",
       "    .dataframe thead th {\n",
       "        text-align: right;\n",
       "    }\n",
       "</style>\n",
       "<table border=\"1\" class=\"dataframe\">\n",
       "  <thead>\n",
       "    <tr style=\"text-align: right;\">\n",
       "      <th></th>\n",
       "      <th>end_index</th>\n",
       "      <th>object</th>\n",
       "      <th>predicted_subject_names</th>\n",
       "      <th>question</th>\n",
       "      <th>question_tokens</th>\n",
       "      <th>relation</th>\n",
       "      <th>start_index</th>\n",
       "      <th>subject</th>\n",
       "      <th>subject_name</th>\n",
       "      <th>subject_name_tokens</th>\n",
       "    </tr>\n",
       "  </thead>\n",
       "  <tbody>\n",
       "    <tr>\n",
       "      <th>6219</th>\n",
       "      <td>NaN</td>\n",
       "      <td>0bs56bp</td>\n",
       "      <td>[{'name': 'american thoroughbread', 'score': 1...</td>\n",
       "      <td>Name an American Thoroughbread racehorse</td>\n",
       "      <td>[name, an, american, thoroughbread, racehorse]</td>\n",
       "      <td>biology/organism_classification/organisms_of_t...</td>\n",
       "      <td>NaN</td>\n",
       "      <td>03k3r</td>\n",
       "      <td>NaN</td>\n",
       "      <td>NaN</td>\n",
       "    </tr>\n",
       "    <tr>\n",
       "      <th>3364</th>\n",
       "      <td>9.0</td>\n",
       "      <td>01sjng</td>\n",
       "      <td>[{'name': 'vision racing driving simulator', '...</td>\n",
       "      <td>what kind of game is vision racing driving sim...</td>\n",
       "      <td>[what, kind, of, game, is, vision, racing, dri...</td>\n",
       "      <td>cvg/computer_videogame/cvg_genre</td>\n",
       "      <td>5.0</td>\n",
       "      <td>02qlppc</td>\n",
       "      <td>vision racing driving simulator</td>\n",
       "      <td>(vision, racing, driving, simulator)</td>\n",
       "    </tr>\n",
       "    <tr>\n",
       "      <th>9374</th>\n",
       "      <td>6.0</td>\n",
       "      <td>0dlmm88</td>\n",
       "      <td>[{'name': 'romance film', 'score': 28.02931404...</td>\n",
       "      <td>what tv program is romance film</td>\n",
       "      <td>[what, tv, program, is, romance, film]</td>\n",
       "      <td>tv/tv_genre/programs</td>\n",
       "      <td>4.0</td>\n",
       "      <td>02l7c8</td>\n",
       "      <td>romance film</td>\n",
       "      <td>(romance, film)</td>\n",
       "    </tr>\n",
       "    <tr>\n",
       "      <th>10142</th>\n",
       "      <td>4.0</td>\n",
       "      <td>04rrx</td>\n",
       "      <td>[{'name': 'polaski', 'score': 32.1325416564941...</td>\n",
       "      <td>what state is  polaski located in</td>\n",
       "      <td>[what, state, is, polaski, located, in]</td>\n",
       "      <td>location/location/containedby</td>\n",
       "      <td>3.0</td>\n",
       "      <td>049_zj3</td>\n",
       "      <td>polaski</td>\n",
       "      <td>(polaski,)</td>\n",
       "    </tr>\n",
       "    <tr>\n",
       "      <th>97</th>\n",
       "      <td>8.0</td>\n",
       "      <td>0qcr0</td>\n",
       "      <td>[{'name': 'fern emmett', 'score': 23.679399490...</td>\n",
       "      <td>what disease claimed the life of fern emmett</td>\n",
       "      <td>[what, disease, claimed, the, life, of, fern, ...</td>\n",
       "      <td>people/deceased_person/cause_of_death</td>\n",
       "      <td>6.0</td>\n",
       "      <td>02w9ycr</td>\n",
       "      <td>fern emmett</td>\n",
       "      <td>(fern, emmett)</td>\n",
       "    </tr>\n",
       "  </tbody>\n",
       "</table>\n",
       "</div>"
      ],
      "text/plain": [
       "       end_index   object                            predicted_subject_names  \\\n",
       "6219         NaN  0bs56bp  [{'name': 'american thoroughbread', 'score': 1...   \n",
       "3364         9.0   01sjng  [{'name': 'vision racing driving simulator', '...   \n",
       "9374         6.0  0dlmm88  [{'name': 'romance film', 'score': 28.02931404...   \n",
       "10142        4.0    04rrx  [{'name': 'polaski', 'score': 32.1325416564941...   \n",
       "97           8.0    0qcr0  [{'name': 'fern emmett', 'score': 23.679399490...   \n",
       "\n",
       "                                                question  \\\n",
       "6219           Name an American Thoroughbread racehorse    \n",
       "3364   what kind of game is vision racing driving sim...   \n",
       "9374                     what tv program is romance film   \n",
       "10142                  what state is  polaski located in   \n",
       "97          what disease claimed the life of fern emmett   \n",
       "\n",
       "                                         question_tokens  \\\n",
       "6219      [name, an, american, thoroughbread, racehorse]   \n",
       "3364   [what, kind, of, game, is, vision, racing, dri...   \n",
       "9374              [what, tv, program, is, romance, film]   \n",
       "10142            [what, state, is, polaski, located, in]   \n",
       "97     [what, disease, claimed, the, life, of, fern, ...   \n",
       "\n",
       "                                                relation  start_index  \\\n",
       "6219   biology/organism_classification/organisms_of_t...          NaN   \n",
       "3364                    cvg/computer_videogame/cvg_genre          5.0   \n",
       "9374                                tv/tv_genre/programs          4.0   \n",
       "10142                      location/location/containedby          3.0   \n",
       "97                 people/deceased_person/cause_of_death          6.0   \n",
       "\n",
       "       subject                     subject_name  \\\n",
       "6219     03k3r                              NaN   \n",
       "3364   02qlppc  vision racing driving simulator   \n",
       "9374    02l7c8                     romance film   \n",
       "10142  049_zj3                          polaski   \n",
       "97     02w9ycr                      fern emmett   \n",
       "\n",
       "                        subject_name_tokens  \n",
       "6219                                    NaN  \n",
       "3364   (vision, racing, driving, simulator)  \n",
       "9374                        (romance, film)  \n",
       "10142                            (polaski,)  \n",
       "97                           (fern, emmett)  "
      ]
     },
     "execution_count": 50,
     "metadata": {},
     "output_type": "execute_result"
    }
   ],
   "source": [
    "import pandas as pd\n",
    "from numpy import nan\n",
    "\n",
    "preprocess = importlib.import_module(\n",
    "                \"scripts.Simple QA Models.Subject Recognition Data\").preprocess\n",
    "tokenize = importlib.import_module(\n",
    "                \"scripts.Simple QA Models.Subject Recognition Data\").spacy_tokenize\n",
    "\n",
    "def add_predicted_subject_name(row):\n",
    "    question_tokens = tokenize(preprocess(row['question']))\n",
    "    predicted_subject_names = predict_subject_name(question_tokens)\n",
    "    row['predicted_subject_names'] = predicted_subject_names\n",
    "    row['question_tokens'] = question_tokens\n",
    "    return row\n",
    "\n",
    "df_dev = df_dev.progress_apply(add_predicted_subject_name, axis=1)\n",
    "df_dev[:5]"
   ]
  },
  {
   "cell_type": "markdown",
   "metadata": {},
   "source": [
    "## Analysis Setup\n",
    "\n",
    "Add the True `subject_name` and `start_index` / `end_index` to check the accuracy of our predicted values."
   ]
  },
  {
   "cell_type": "code",
   "execution_count": 38,
   "metadata": {},
   "outputs": [
    {
     "name": "stdout",
     "output_type": "stream",
     "text": [
      "importing Jupyter notebook from ../../scripts/Simple QA Numbers/HYPOTHESIS - Question Refers to Multiple Subjects.ipynb\n"
     ]
    },
    {
     "data": {
      "application/vnd.jupyter.widget-view+json": {
       "model_id": "1f5a07f717ef40c6bb5be7ee43a82109",
       "version_major": 2,
       "version_minor": 0
      },
      "text/html": [
       "<p>Failed to display Jupyter Widget of type <code>HBox</code>.</p>\n",
       "<p>\n",
       "  If you're reading this message in the Jupyter Notebook or JupyterLab Notebook, it may mean\n",
       "  that the widgets JavaScript is still loading. If this message persists, it\n",
       "  likely means that the widgets JavaScript library is either not installed or\n",
       "  not enabled. See the <a href=\"https://ipywidgets.readthedocs.io/en/stable/user_install.html\">Jupyter\n",
       "  Widgets Documentation</a> for setup instructions.\n",
       "</p>\n",
       "<p>\n",
       "  If you're reading this message in another frontend (for example, a static\n",
       "  rendering on GitHub or <a href=\"https://nbviewer.jupyter.org/\">NBViewer</a>),\n",
       "  it may mean that your frontend doesn't currently support widgets.\n",
       "</p>\n"
      ],
      "text/plain": [
       "HBox(children=(IntProgress(value=0, max=10845), HTML(value='')))"
      ]
     },
     "metadata": {},
     "output_type": "display_data"
    }
   ],
   "source": [
    "import importlib\n",
    "from functools import partial\n",
    "\n",
    "edit_distance_link_alias = importlib.import_module(\n",
    "                \"scripts.Simple QA Numbers.HYPOTHESIS - Question Refers to Multiple Subjects\").edit_distance_link_alias\n",
    "normalize = importlib.import_module(\n",
    "                \"scripts.Simple QA Numbers.HYPOTHESIS - Subject Name not in Question\").normalize\n",
    "\n",
    "# Create a column with the subject_name linked per example\n",
    "df_dev['subject_name'] = df_dev.progress_apply(partial(edit_distance_link_alias, cursor, normalize), axis=1)"
   ]
  },
  {
   "cell_type": "code",
   "execution_count": 39,
   "metadata": {},
   "outputs": [
    {
     "data": {
      "application/vnd.jupyter.widget-view+json": {
       "model_id": "ad365500c4984f9f9eae55c94e09f432",
       "version_major": 2,
       "version_minor": 0
      },
      "text/html": [
       "<p>Failed to display Jupyter Widget of type <code>HBox</code>.</p>\n",
       "<p>\n",
       "  If you're reading this message in the Jupyter Notebook or JupyterLab Notebook, it may mean\n",
       "  that the widgets JavaScript is still loading. If this message persists, it\n",
       "  likely means that the widgets JavaScript library is either not installed or\n",
       "  not enabled. See the <a href=\"https://ipywidgets.readthedocs.io/en/stable/user_install.html\">Jupyter\n",
       "  Widgets Documentation</a> for setup instructions.\n",
       "</p>\n",
       "<p>\n",
       "  If you're reading this message in another frontend (for example, a static\n",
       "  rendering on GitHub or <a href=\"https://nbviewer.jupyter.org/\">NBViewer</a>),\n",
       "  it may mean that your frontend doesn't currently support widgets.\n",
       "</p>\n"
      ],
      "text/plain": [
       "HBox(children=(IntProgress(value=0, max=10845), HTML(value='')))"
      ]
     },
     "metadata": {},
     "output_type": "display_data"
    },
    {
     "name": "stdout",
     "output_type": "stream",
     "text": [
      "\n"
     ]
    }
   ],
   "source": [
    "import importlib\n",
    "find_subject_name_span = importlib.import_module(\n",
    "                \"scripts.Simple QA Models.Subject Recognition Data\").find_subject_name_span\n",
    "\n",
    "# Create a column with the subject_name linked per example\n",
    "df_dev = df_dev.progress_apply(find_subject_name_span, axis=1)"
   ]
  },
  {
   "cell_type": "markdown",
   "metadata": {},
   "source": [
    "## Analysis - Correct Span\n",
    "\n",
    "We determine the correct subject name span and compare it to the predicted subject name."
   ]
  },
  {
   "cell_type": "code",
   "execution_count": 58,
   "metadata": {},
   "outputs": [
    {
     "data": {
      "application/vnd.jupyter.widget-view+json": {
       "model_id": "d1ef4db36c0d453e858855469e9705ea",
       "version_major": 2,
       "version_minor": 0
      },
      "text/html": [
       "<p>Failed to display Jupyter Widget of type <code>HBox</code>.</p>\n",
       "<p>\n",
       "  If you're reading this message in the Jupyter Notebook or JupyterLab Notebook, it may mean\n",
       "  that the widgets JavaScript is still loading. If this message persists, it\n",
       "  likely means that the widgets JavaScript library is either not installed or\n",
       "  not enabled. See the <a href=\"https://ipywidgets.readthedocs.io/en/stable/user_install.html\">Jupyter\n",
       "  Widgets Documentation</a> for setup instructions.\n",
       "</p>\n",
       "<p>\n",
       "  If you're reading this message in another frontend (for example, a static\n",
       "  rendering on GitHub or <a href=\"https://nbviewer.jupyter.org/\">NBViewer</a>),\n",
       "  it may mean that your frontend doesn't currently support widgets.\n",
       "</p>\n"
      ],
      "text/plain": [
       "HBox(children=(IntProgress(value=0, max=10845), HTML(value='')))"
      ]
     },
     "metadata": {},
     "output_type": "display_data"
    },
    {
     "name": "stdout",
     "output_type": "stream",
     "text": [
      "Accuracy Top 1: 0.942618 [10037 of 10648]\n",
      "Accuracy Top 2: 0.973892 [10370 of 10648]\n",
      "Accuracy Top 3: 0.982438 [10461 of 10648]\n",
      "Accuracy Top 4: 0.988449 [10525 of 10648]\n",
      "Accuracy Top 5: 0.991736 [10560 of 10648]\n",
      "Accuracy Top 6: 0.994083 [10585 of 10648]\n",
      "Accuracy Top 7: 0.995586 [10601 of 10648]\n",
      "Accuracy Top 8: 0.996056 [10606 of 10648]\n",
      "Accuracy Top 9: 0.996901 [10615 of 10648]\n",
      "Accuracy Top 10: 0.997558 [10622 of 10648]\n"
     ]
    }
   ],
   "source": [
    "from tqdm import tqdm_notebook\n",
    "\n",
    "accuracies = [0] * 10\n",
    "total = 0\n",
    "\n",
    "def is_correct(row, top_k):\n",
    "    for i in range(min(top_k, len(row['predicted_subject_names']))):\n",
    "        if (row['start_index'] == row['predicted_subject_names'][i]['start_index'] and\n",
    "            row['end_index'] == row['predicted_subject_names'][i]['end_index']):\n",
    "            return True\n",
    "    return False\n",
    "    \n",
    "\n",
    "for index, row in tqdm_notebook(df_dev.iterrows(), total=df_dev.shape[0]):\n",
    "    if not isinstance(row['subject_name'], str):\n",
    "        continue\n",
    "        \n",
    "    total += 1\n",
    "    accuracies = [count + is_correct(row, i + 1) for i, count in enumerate(accuracies)]\n",
    "\n",
    "for i, count in enumerate(accuracies):\n",
    "    print('Accuracy Top %d: %f [%d of %d]' % (i + 1, count / total, count, total))"
   ]
  },
  {
   "cell_type": "markdown",
   "metadata": {},
   "source": [
    "## Analysis - Normalized Link\n",
    "\n",
    "We normalize the correct subject name and compare it to the predicted name normalized.\n",
    "\n",
    "We expect this to be lower than the span analysis because in \"HYPOTHESIS - Subject Name not in Question\", we found that 97.85% of the time the subject name normalized is not in the question; therefore, some spans that are correct will not be equal to the subject name normalized."
   ]
  },
  {
   "cell_type": "code",
   "execution_count": 12,
   "metadata": {},
   "outputs": [],
   "source": [
    "import importlib\n",
    "\n",
    "normalize = importlib.import_module(\n",
    "                \"scripts.Simple QA Numbers.HYPOTHESIS - Subject Name not in Question\").normalize\n",
    "tokenize = importlib.import_module(\n",
    "                \"scripts.Simple QA Models.Subject Recognition Data\").spacy_tokenize"
   ]
  },
  {
   "cell_type": "code",
   "execution_count": 61,
   "metadata": {},
   "outputs": [
    {
     "data": {
      "application/vnd.jupyter.widget-view+json": {
       "model_id": "4e73908fc64c41edbfa3336301d7174f",
       "version_major": 2,
       "version_minor": 0
      },
      "text/html": [
       "<p>Failed to display Jupyter Widget of type <code>HBox</code>.</p>\n",
       "<p>\n",
       "  If you're reading this message in the Jupyter Notebook or JupyterLab Notebook, it may mean\n",
       "  that the widgets JavaScript is still loading. If this message persists, it\n",
       "  likely means that the widgets JavaScript library is either not installed or\n",
       "  not enabled. See the <a href=\"https://ipywidgets.readthedocs.io/en/stable/user_install.html\">Jupyter\n",
       "  Widgets Documentation</a> for setup instructions.\n",
       "</p>\n",
       "<p>\n",
       "  If you're reading this message in another frontend (for example, a static\n",
       "  rendering on GitHub or <a href=\"https://nbviewer.jupyter.org/\">NBViewer</a>),\n",
       "  it may mean that your frontend doesn't currently support widgets.\n",
       "</p>\n"
      ],
      "text/plain": [
       "HBox(children=(IntProgress(value=0, max=10845), HTML(value='')))"
      ]
     },
     "metadata": {},
     "output_type": "display_data"
    },
    {
     "name": "stdout",
     "output_type": "stream",
     "text": [
      "Accuracy Top 1: 0.935105 [9957 of 10648]\n",
      "Accuracy Top 2: 0.963749 [10262 of 10648]\n",
      "Accuracy Top 3: 0.971638 [10346 of 10648]\n",
      "Accuracy Top 4: 0.977273 [10406 of 10648]\n",
      "Accuracy Top 5: 0.980372 [10439 of 10648]\n",
      "Accuracy Top 6: 0.982532 [10462 of 10648]\n",
      "Accuracy Top 7: 0.983847 [10476 of 10648]\n",
      "Accuracy Top 8: 0.984316 [10481 of 10648]\n",
      "Accuracy Top 9: 0.984974 [10488 of 10648]\n",
      "Accuracy Top 10: 0.985631 [10495 of 10648]\n",
      "Negative Sample:\n",
      "\n",
      "| Index | Predicted Subject Name | Subject Name |\n",
      "| --- | --- | --- |\n",
      "| 0 | ['documentary film', 'documentary', 'short documentary film', 'short documentary', 'documentary film released'] | short |\n",
      "| 1 | ['krgy station', 'krgy', 'station', 'does krgy station', 'krgy station play'] | krgy |\n",
      "| 2 | ['austrailian screenwriter', 'screenwriter', 'austrailian', 'famous austrailian screenwriter', 'austrailian screenwriter ?'] | screenwriter |\n",
      "| 3 | ['the water in the canche', 'water in the canche', 'in the canche', 'the canche', 'canche'] | canche |\n",
      "| 4 | ['the red clouds war', 'red clouds war', 'the red clouds', 'clouds war', 'red clouds'] | red cloud's war |\n",
      "| 5 | ['nation book', 'corporation nation book', 'the corporation nation book', 'nation', 'corporation nation'] | corporation nation |\n",
      "| 6 | ['the world museum liverpool', 'world museum liverpool', 'museum liverpool', 'the world museum', 'liverpool'] | world museum liverpool |\n",
      "| 7 | ['peters point plantation', 'peters point', 'point plantation', 'peters', 'plantation'] | peter's point plantation |\n",
      "| 8 | ['it must have been years be heard', 'it must have been years', 'it must have been years be', 'must have been years be heard', 'composition it must have been years be heard'] | it must have been years |\n",
      "| 9 | ['through dundas , ontario', 'dundas , ontario', 'through dundas', 'through dundas ,', 'ontario'] | dundas, ontario |\n",
      "| 10 | ['aaron carter', 'carter', 'aaron', 'by aaron carter', 'album'] | album |\n",
      "| 11 | ['pillows & prayers : cherry red 1982 - 1983', 'pillows & prayers : cherry red 1982', 'pillows & prayers : cherry red 1982 -', 'pillows & prayers : cherry red', '& prayers : cherry red 1982 - 1983'] | pillows & prayers: cherry red 1982–1983 |\n",
      "| 12 | ['luxembourg', 'commune of luxembourg', 'of luxembourg', 'the commune of luxembourg', 'commune'] | commune of luxembourg |\n",
      "| 13 | ['the eye of the eagle', 'eye of the eagle', 'of the eagle', 'the eye of the eagle ?', 'the eye of the'] | eye of the eagle |\n",
      "| 14 | ['the blues collection 5 : jungle music', 'blues collection 5 : jungle music', 'the blues collection 5 : jungle', 'collection 5 : jungle music', '5 : jungle music'] | jungle music |\n",
      "| 15 | ['hits album 6', '6', 'the hits album 6', 'hits', 'the hits'] | the hits album 6 |\n",
      "| 16 | ['two women', 'between two women', 'about between two women', 'women', 'two'] | between two women |\n",
      "| 17 | ['battle of hudsons bay', 'of hudsons bay', 'battle of hudsons', 'the battle of hudsons bay', 'hudsons bay'] | battle of hudson's bay |\n",
      "| 18 | ['hypertension', 'treat hypertension', 'tablet', 'to treat hypertension', 'to'] | tablet |\n",
      "| 19 | ['frank zappa', 'zappa', 'frank', 'compilation album', 'compilation album did frank zappa'] | compilation album |\n",
      "| 20 | ['a gunfighter', 'gunfighter', 'is a gunfighter', 'a gunfighter also', 'a'] | gunfighter |\n",
      "| 21 | ['anthony marinelli', 'marinelli', 'anthony', 'by anthony marinelli', 'soundtrack'] | soundtrack |\n",
      "| 22 | ['george canyon', 'canyon', 'george', 'album', 'album by george canyon'] | album |\n",
      "| 23 | ['waddy wachtel', 'waddy', 'wachtel', 'was waddy wachtel', \"waddy wachtel 's\"] | waddy |\n",
      "| 24 | ['portal', 'band portal', 'the band portal', 'album', 'the'] | album |\n",
      "| 25 | ['megan chengs', 'megan', 's megan chengs', 'chengs', 'megan chengs ethnicity'] | megan cheng |\n",
      "| 26 | ['martial arts', 'martial arts film', 'arts', 'netflix martial arts', 'martial'] | martial arts film |\n",
      "| 27 | ['compilation album', 'album', 'compilation', 'creedence clearwater revival', 'creedence'] | creedence clearwater revival |\n",
      "| 28 | ['showed e.n.g', 'e.n.g', 'showed e.n.g .', 'showed', 'originally showed e.n.g'] | e.n.g. |\n",
      "| 29 | ['the talking from 9 to 5', 'the talking from 9 to 5 book', 'talking from 9 to 5', 'talking from 9 to 5 book', 'the talking from 9 to'] | talking from 9 to 5 |\n",
      "| 30 | ['medicine', 'topical medicine', 'a topical medicine', 'topical', 'name a topical medicine'] | topical medication |\n",
      "| 31 | ['tv director maciej dutkiewicz', 'maciej dutkiewicz', 'director maciej dutkiewicz', 'dutkiewicz', 'tv director maciej'] | maciej dutkiewicz |\n",
      "| 32 | ['the master', 'master', 'one of the master', 'of the master', 'powers'] | master |\n",
      "| 33 | ['tha shiznit', 'tha', 'tha shiznit episode', 'tha shiznit episode ii', 'shiznit'] | tha shiznit episode ii |\n",
      "| 34 | ['kearny', 'of kearny', 'town of kearny', 'the town of kearny', 'in the town of kearny'] | t-town |\n",
      "| 35 | ['drum', 'drum kit', 'the drum', 'the drum kit', 'plays the drum'] | drums |\n",
      "| 36 | ['the night - time butterflies', 'night - time butterflies', 'the night - time butterflies series', 'the night - time', '- time butterflies'] | night-time butterflies |\n",
      "| 37 | ['cadillac comes', 'cadillac', 'track cadillac comes', 'comes', 'release track cadillac comes'] | cadillac |\n",
      "| 38 | ['dimillos floating restaurant', 'dimillos floating', 'floating restaurant', 'dimillos', 'is dimillos floating restaurant'] | dimillo's floating restaurant |\n",
      "| 39 | ['denmark', 'ragtime', 'ragtime artist', 'in denmark', 'the ragtime'] | ragtime |\n",
      "| 40 | ['the fil lies in plain sight', 'fil lies in plain sight', 'lies in plain sight', 'the fil lies in plain', 'in plain sight'] | lies in plain sight |\n",
      "| 41 | ['charlotte fich', 'charlotte', 'fich', \"charlotte fich 's\", 'is charlotte fich'] | charlotte |\n",
      "| 42 | ['npr : wait wait ... do nt tell me ! podcast', 'npr : wait wait ... do nt tell me !', 'wait wait ... do nt tell me ! podcast', ': wait wait ... do nt tell me ! podcast', 'wait ... do nt tell me ! podcast'] | npr: wait wait... don't tell me! |\n",
      "| 43 | ['the glenrock lagoon', 'glenrock lagoon', 'lagoon', 'the glenrock', 'is the glenrock lagoon'] | glenrock lagoon |\n",
      "| 44 | ['regatta mystery', 'mystery', 'piece regatta mystery', 'regatta', 'the piece regatta mystery'] | the regatta mystery |\n",
      "| 45 | ['a palace', 'palace', 'is a palace', 'building is a palace', 'a palace as'] | palace |\n",
      "| 46 | ['cubism record', 'cubism', 'the cubism record', 'the cubism', 'off the cubism record'] | cubism |\n",
      "| 47 | ['jack dejohnrette', 'jack', 'dejohnrette', 'of jack dejohnrette', 'name of jack dejohnrette'] | album |\n",
      "| 48 | ['tamil', '2004', 'bollywood tamil', 'tamil film', 'bollywood tamil film'] | bollywood |\n",
      "| 49 | ['the guillotine', 'guillotine', 'by the guillotine', 'the guillotine .', 'died by the guillotine'] | guillotine |\n",
      "\n"
     ]
    }
   ],
   "source": [
    "from tqdm import tqdm_notebook\n",
    "from scripts.utils.table import format_pipe_table\n",
    "\n",
    "negative_sample = []\n",
    "accuracies = [0] * 10\n",
    "total = 0\n",
    "\n",
    "def is_correct(row, top_k):\n",
    "    subject_name = normalize(' '.join(tokenize(row['subject_name'])))\n",
    "    for i in range(min(top_k, len(row['predicted_subject_names']))):\n",
    "        predicted_subject_name = normalize(row['predicted_subject_names'][i]['name'])\n",
    "        if predicted_subject_name == subject_name:\n",
    "            return True\n",
    "    return False\n",
    "\n",
    "for index, row in tqdm_notebook(df_dev.iterrows(), total=df_dev.shape[0]):\n",
    "    if not isinstance(row['subject_name'], str):\n",
    "        continue\n",
    "        \n",
    "    total += 1\n",
    "    accuracies = [count + is_correct(row, i + 1) for i, count in enumerate(accuracies)]\n",
    "    if not is_correct(row, 1):\n",
    "        negative_sample.append({\n",
    "            'Subject Name': row['subject_name'],\n",
    "            'Predicted Subject Name': [row['predicted_subject_names'][i]['name'] for i in range(5)],\n",
    "        })\n",
    "\n",
    "for i, count in enumerate(accuracies):\n",
    "    print('Accuracy Top %d: %f [%d of %d]' % (i + 1, count / total, count, total))\n",
    "print('Negative Sample:\\n')\n",
    "print(format_pipe_table(negative_sample[:50]))"
   ]
  },
  {
   "cell_type": "markdown",
   "metadata": {},
   "source": [
    "## Save Data"
   ]
  },
  {
   "cell_type": "code",
   "execution_count": 63,
   "metadata": {},
   "outputs": [],
   "source": [
    "df_dev.to_pickle('step_1_predict_subject_name.pkl')"
   ]
  }
 ],
 "metadata": {
  "kernelspec": {
   "display_name": "Python 3",
   "language": "python",
   "name": "python3"
  },
  "language_info": {
   "codemirror_mode": {
    "name": "ipython",
    "version": 3
   },
   "file_extension": ".py",
   "mimetype": "text/x-python",
   "name": "python",
   "nbconvert_exporter": "python",
   "pygments_lexer": "ipython3",
   "version": "3.6.4"
  }
 },
 "nbformat": 4,
 "nbformat_minor": 2
}
