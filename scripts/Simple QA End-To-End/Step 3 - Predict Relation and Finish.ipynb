{
 "cells": [
  {
   "cell_type": "markdown",
   "metadata": {},
   "source": [
    "# Step 3 - Predict Relation and Finish\n",
    "\n",
    "Our goal during this step is to predict the relation and compute the end-to-end accuracy."
   ]
  },
  {
   "cell_type": "code",
   "execution_count": 1,
   "metadata": {},
   "outputs": [],
   "source": [
    "import sys\n",
    "sys.path.insert(0, '../../')"
   ]
  },
  {
   "cell_type": "code",
   "execution_count": 2,
   "metadata": {},
   "outputs": [],
   "source": [
    "from scripts.utils.connect import get_connection \n",
    "from scripts.utils.data import FB2M_NAME_TABLE\n",
    "from scripts.utils.data import FB2M_KG_TABLE\n",
    "\n",
    "connection = get_connection()\n",
    "cursor = connection.cursor()"
   ]
  },
  {
   "cell_type": "code",
   "execution_count": 3,
   "metadata": {},
   "outputs": [
    {
     "data": {
      "application/vnd.jupyter.widget-view+json": {
       "model_id": "dfd424549e0a49ad8e8c8ca47ab7184c",
       "version_major": 2,
       "version_minor": 0
      },
      "text/html": [
       "<p>Failed to display Jupyter Widget of type <code>HBox</code>.</p>\n",
       "<p>\n",
       "  If you're reading this message in the Jupyter Notebook or JupyterLab Notebook, it may mean\n",
       "  that the widgets JavaScript is still loading. If this message persists, it\n",
       "  likely means that the widgets JavaScript library is either not installed or\n",
       "  not enabled. See the <a href=\"https://ipywidgets.readthedocs.io/en/stable/user_install.html\">Jupyter\n",
       "  Widgets Documentation</a> for setup instructions.\n",
       "</p>\n",
       "<p>\n",
       "  If you're reading this message in another frontend (for example, a static\n",
       "  rendering on GitHub or <a href=\"https://nbviewer.jupyter.org/\">NBViewer</a>),\n",
       "  it may mean that your frontend doesn't currently support widgets.\n",
       "</p>\n"
      ],
      "text/plain": [
       "HBox(children=(IntProgress(value=1, bar_style='info', max=1), HTML(value='')))"
      ]
     },
     "metadata": {},
     "output_type": "display_data"
    },
    {
     "name": "stdout",
     "output_type": "stream",
     "text": [
      "\n"
     ]
    },
    {
     "data": {
      "text/html": [
       "<div>\n",
       "<style scoped>\n",
       "    .dataframe tbody tr th:only-of-type {\n",
       "        vertical-align: middle;\n",
       "    }\n",
       "\n",
       "    .dataframe tbody tr th {\n",
       "        vertical-align: top;\n",
       "    }\n",
       "\n",
       "    .dataframe thead th {\n",
       "        text-align: right;\n",
       "    }\n",
       "</style>\n",
       "<table border=\"1\" class=\"dataframe\">\n",
       "  <thead>\n",
       "    <tr style=\"text-align: right;\">\n",
       "      <th></th>\n",
       "      <th>end_index</th>\n",
       "      <th>object</th>\n",
       "      <th>predicted_question_tokens</th>\n",
       "      <th>predicted_subject_names</th>\n",
       "      <th>question</th>\n",
       "      <th>question_tokens</th>\n",
       "      <th>relation</th>\n",
       "      <th>start_index</th>\n",
       "      <th>subject</th>\n",
       "      <th>subject_name</th>\n",
       "      <th>subject_name_tokens</th>\n",
       "      <th>candidate_mids</th>\n",
       "      <th>predicted_start_index</th>\n",
       "      <th>predicted_end_index</th>\n",
       "      <th>predicted_subject_name</th>\n",
       "    </tr>\n",
       "  </thead>\n",
       "  <tbody>\n",
       "    <tr>\n",
       "      <th>6219</th>\n",
       "      <td>NaN</td>\n",
       "      <td>0bs56bp</td>\n",
       "      <td>[name, an, american, thoroughbread, racehorse]</td>\n",
       "      <td>[{'name': 'american thoroughbread', 'score': 4...</td>\n",
       "      <td>Name an American Thoroughbread racehorse</td>\n",
       "      <td>NaN</td>\n",
       "      <td>biology/organism_classification/organisms_of_t...</td>\n",
       "      <td>NaN</td>\n",
       "      <td>03k3r</td>\n",
       "      <td>NaN</td>\n",
       "      <td>NaN</td>\n",
       "      <td>[01z1jf2, 04q7gbh]</td>\n",
       "      <td>2.0</td>\n",
       "      <td>3.0</td>\n",
       "      <td>american</td>\n",
       "    </tr>\n",
       "    <tr>\n",
       "      <th>3364</th>\n",
       "      <td>9.0</td>\n",
       "      <td>01sjng</td>\n",
       "      <td>[what, kind, of, game, is, vision, racing, dri...</td>\n",
       "      <td>[{'name': 'vision racing driving simulator', '...</td>\n",
       "      <td>what kind of game is vision racing driving sim...</td>\n",
       "      <td>[what, kind, of, game, is, vision, racing, dri...</td>\n",
       "      <td>cvg/computer_videogame/cvg_genre</td>\n",
       "      <td>5.0</td>\n",
       "      <td>02qlppc</td>\n",
       "      <td>vision racing driving simulator</td>\n",
       "      <td>(vision, racing, driving, simulator)</td>\n",
       "      <td>[02qlppc]</td>\n",
       "      <td>5.0</td>\n",
       "      <td>9.0</td>\n",
       "      <td>vision racing driving simulator</td>\n",
       "    </tr>\n",
       "    <tr>\n",
       "      <th>9374</th>\n",
       "      <td>6.0</td>\n",
       "      <td>0dlmm88</td>\n",
       "      <td>[what, tv, program, is, romance, film]</td>\n",
       "      <td>[{'name': 'romance film', 'score': 55.87209701...</td>\n",
       "      <td>what tv program is romance film</td>\n",
       "      <td>[what, tv, program, is, romance, film]</td>\n",
       "      <td>tv/tv_genre/programs</td>\n",
       "      <td>4.0</td>\n",
       "      <td>02l7c8</td>\n",
       "      <td>romance film</td>\n",
       "      <td>(romance, film)</td>\n",
       "      <td>[02l7c8]</td>\n",
       "      <td>4.0</td>\n",
       "      <td>6.0</td>\n",
       "      <td>romance film</td>\n",
       "    </tr>\n",
       "    <tr>\n",
       "      <th>10142</th>\n",
       "      <td>4.0</td>\n",
       "      <td>04rrx</td>\n",
       "      <td>[what, state, is, polaski, located, in]</td>\n",
       "      <td>[{'name': 'polaski', 'score': 57.6216735839843...</td>\n",
       "      <td>what state is  polaski located in</td>\n",
       "      <td>[what, state, is, polaski, located, in]</td>\n",
       "      <td>location/location/containedby</td>\n",
       "      <td>3.0</td>\n",
       "      <td>049_zj3</td>\n",
       "      <td>polaski</td>\n",
       "      <td>(polaski,)</td>\n",
       "      <td>[049_zj3]</td>\n",
       "      <td>3.0</td>\n",
       "      <td>4.0</td>\n",
       "      <td>polaski</td>\n",
       "    </tr>\n",
       "    <tr>\n",
       "      <th>97</th>\n",
       "      <td>8.0</td>\n",
       "      <td>0qcr0</td>\n",
       "      <td>[what, disease, claimed, the, life, of, fern, ...</td>\n",
       "      <td>[{'name': 'fern emmett', 'score': 69.716217041...</td>\n",
       "      <td>what disease claimed the life of fern emmett</td>\n",
       "      <td>[what, disease, claimed, the, life, of, fern, ...</td>\n",
       "      <td>people/deceased_person/cause_of_death</td>\n",
       "      <td>6.0</td>\n",
       "      <td>02w9ycr</td>\n",
       "      <td>fern emmett</td>\n",
       "      <td>(fern, emmett)</td>\n",
       "      <td>[02w9ycr]</td>\n",
       "      <td>6.0</td>\n",
       "      <td>8.0</td>\n",
       "      <td>fern emmett</td>\n",
       "    </tr>\n",
       "  </tbody>\n",
       "</table>\n",
       "</div>"
      ],
      "text/plain": [
       "       end_index   object                          predicted_question_tokens  \\\n",
       "6219         NaN  0bs56bp     [name, an, american, thoroughbread, racehorse]   \n",
       "3364         9.0   01sjng  [what, kind, of, game, is, vision, racing, dri...   \n",
       "9374         6.0  0dlmm88             [what, tv, program, is, romance, film]   \n",
       "10142        4.0    04rrx            [what, state, is, polaski, located, in]   \n",
       "97           8.0    0qcr0  [what, disease, claimed, the, life, of, fern, ...   \n",
       "\n",
       "                                 predicted_subject_names  \\\n",
       "6219   [{'name': 'american thoroughbread', 'score': 4...   \n",
       "3364   [{'name': 'vision racing driving simulator', '...   \n",
       "9374   [{'name': 'romance film', 'score': 55.87209701...   \n",
       "10142  [{'name': 'polaski', 'score': 57.6216735839843...   \n",
       "97     [{'name': 'fern emmett', 'score': 69.716217041...   \n",
       "\n",
       "                                                question  \\\n",
       "6219           Name an American Thoroughbread racehorse    \n",
       "3364   what kind of game is vision racing driving sim...   \n",
       "9374                     what tv program is romance film   \n",
       "10142                  what state is  polaski located in   \n",
       "97          what disease claimed the life of fern emmett   \n",
       "\n",
       "                                         question_tokens  \\\n",
       "6219                                                 NaN   \n",
       "3364   [what, kind, of, game, is, vision, racing, dri...   \n",
       "9374              [what, tv, program, is, romance, film]   \n",
       "10142            [what, state, is, polaski, located, in]   \n",
       "97     [what, disease, claimed, the, life, of, fern, ...   \n",
       "\n",
       "                                                relation  start_index  \\\n",
       "6219   biology/organism_classification/organisms_of_t...          NaN   \n",
       "3364                    cvg/computer_videogame/cvg_genre          5.0   \n",
       "9374                                tv/tv_genre/programs          4.0   \n",
       "10142                      location/location/containedby          3.0   \n",
       "97                 people/deceased_person/cause_of_death          6.0   \n",
       "\n",
       "       subject                     subject_name  \\\n",
       "6219     03k3r                              NaN   \n",
       "3364   02qlppc  vision racing driving simulator   \n",
       "9374    02l7c8                     romance film   \n",
       "10142  049_zj3                          polaski   \n",
       "97     02w9ycr                      fern emmett   \n",
       "\n",
       "                        subject_name_tokens      candidate_mids  \\\n",
       "6219                                    NaN  [01z1jf2, 04q7gbh]   \n",
       "3364   (vision, racing, driving, simulator)           [02qlppc]   \n",
       "9374                        (romance, film)            [02l7c8]   \n",
       "10142                            (polaski,)           [049_zj3]   \n",
       "97                           (fern, emmett)           [02w9ycr]   \n",
       "\n",
       "       predicted_start_index  predicted_end_index  \\\n",
       "6219                     2.0                  3.0   \n",
       "3364                     5.0                  9.0   \n",
       "9374                     4.0                  6.0   \n",
       "10142                    3.0                  4.0   \n",
       "97                       6.0                  8.0   \n",
       "\n",
       "                predicted_subject_name  \n",
       "6219                          american  \n",
       "3364   vision racing driving simulator  \n",
       "9374                      romance film  \n",
       "10142                          polaski  \n",
       "97                         fern emmett  "
      ]
     },
     "execution_count": 3,
     "metadata": {},
     "output_type": "execute_result"
    }
   ],
   "source": [
    "import pandas as pd\n",
    "from tqdm import tqdm_notebook\n",
    "\n",
    "tqdm_notebook().pandas()\n",
    "\n",
    "df = pd.read_pickle('step_2_generate_candidates.pkl')\n",
    "df[:5]"
   ]
  },
  {
   "cell_type": "markdown",
   "metadata": {},
   "source": [
    "## Generate Facts\n",
    "\n",
    "Given the candidate mids, the we generate candidate facts."
   ]
  },
  {
   "cell_type": "code",
   "execution_count": 4,
   "metadata": {},
   "outputs": [],
   "source": [
    "from collections import defaultdict\n",
    "\n",
    "def generate_facts(row):\n",
    "    cursor.execute(\"\"\"SELECT subject_mid, relation, object_mid\n",
    "                      FROM {kg}\n",
    "                      WHERE subject_mid = ANY(%s)\"\"\".format(kg=FB2M_KG_TABLE), (row['candidate_mids'],))\n",
    "    rows = cursor.fetchall()\n",
    "    candidate_facts = defaultdict(lambda: defaultdict(set))\n",
    "    \n",
    "    for subject_mid, relation, object_mid in rows:\n",
    "        candidate_facts[relation][subject_mid].add(object_mid)\n",
    "    \n",
    "    # Convert it back to dict\n",
    "    for relation in candidate_facts:\n",
    "        candidate_facts[relation] = dict(candidate_facts[relation])\n",
    "    candidate_facts = dict(candidate_facts)\n",
    "        \n",
    "    return candidate_facts"
   ]
  },
  {
   "cell_type": "code",
   "execution_count": 5,
   "metadata": {},
   "outputs": [
    {
     "data": {
      "application/vnd.jupyter.widget-view+json": {
       "model_id": "6f02e468c68241588c8e3cf778b3a0af",
       "version_major": 2,
       "version_minor": 0
      },
      "text/html": [
       "<p>Failed to display Jupyter Widget of type <code>HBox</code>.</p>\n",
       "<p>\n",
       "  If you're reading this message in the Jupyter Notebook or JupyterLab Notebook, it may mean\n",
       "  that the widgets JavaScript is still loading. If this message persists, it\n",
       "  likely means that the widgets JavaScript library is either not installed or\n",
       "  not enabled. See the <a href=\"https://ipywidgets.readthedocs.io/en/stable/user_install.html\">Jupyter\n",
       "  Widgets Documentation</a> for setup instructions.\n",
       "</p>\n",
       "<p>\n",
       "  If you're reading this message in another frontend (for example, a static\n",
       "  rendering on GitHub or <a href=\"https://nbviewer.jupyter.org/\">NBViewer</a>),\n",
       "  it may mean that your frontend doesn't currently support widgets.\n",
       "</p>\n"
      ],
      "text/plain": [
       "HBox(children=(IntProgress(value=0, max=10845), HTML(value='')))"
      ]
     },
     "metadata": {},
     "output_type": "display_data"
    },
    {
     "name": "stdout",
     "output_type": "stream",
     "text": [
      "\n"
     ]
    }
   ],
   "source": [
    "df['candidate_facts'] = df.progress_apply(generate_facts, axis=1)"
   ]
  },
  {
   "cell_type": "code",
   "execution_count": 6,
   "metadata": {},
   "outputs": [
    {
     "name": "stdout",
     "output_type": "stream",
     "text": [
      "Average Number of Relations: 17.962010142923006\n"
     ]
    }
   ],
   "source": [
    "print('Average Number of Relations:', sum(len(r) for r in df['candidate_facts']) / df.shape[0])"
   ]
  },
  {
   "cell_type": "markdown",
   "metadata": {},
   "source": [
    "## Upperbounds\n",
    "\n",
    "Check the accuracy of the candidates."
   ]
  },
  {
   "cell_type": "code",
   "execution_count": 7,
   "metadata": {},
   "outputs": [
    {
     "data": {
      "application/vnd.jupyter.widget-view+json": {
       "model_id": "113836bfa89a4090a6912f736749c18e",
       "version_major": 2,
       "version_minor": 0
      },
      "text/html": [
       "<p>Failed to display Jupyter Widget of type <code>HBox</code>.</p>\n",
       "<p>\n",
       "  If you're reading this message in the Jupyter Notebook or JupyterLab Notebook, it may mean\n",
       "  that the widgets JavaScript is still loading. If this message persists, it\n",
       "  likely means that the widgets JavaScript library is either not installed or\n",
       "  not enabled. See the <a href=\"https://ipywidgets.readthedocs.io/en/stable/user_install.html\">Jupyter\n",
       "  Widgets Documentation</a> for setup instructions.\n",
       "</p>\n",
       "<p>\n",
       "  If you're reading this message in another frontend (for example, a static\n",
       "  rendering on GitHub or <a href=\"https://nbviewer.jupyter.org/\">NBViewer</a>),\n",
       "  it may mean that your frontend doesn't currently support widgets.\n",
       "</p>\n"
      ],
      "text/plain": [
       "HBox(children=(IntProgress(value=0, max=10845), HTML(value='')))"
      ]
     },
     "metadata": {},
     "output_type": "display_data"
    },
    {
     "name": "stdout",
     "output_type": "stream",
     "text": [
      "\n",
      "Object Canditate Accuracy: 0.9550023052097741\n",
      "Relation Canditate Accuracy: 0.9674504379898571\n",
      "Subject Canditate Accuracy: 0.9550023052097741\n"
     ]
    }
   ],
   "source": [
    "from tqdm import tqdm_notebook\n",
    "\n",
    "correct_object = 0\n",
    "correct_relation = 0\n",
    "correct_subject = 0\n",
    "for index, row in tqdm_notebook(df.iterrows(), total=df.shape[0]):\n",
    "    facts = row['candidate_facts']\n",
    "\n",
    "    if row['relation'] in facts:\n",
    "        correct_relation += 1\n",
    "        if row['subject'] in facts[row['relation']]:\n",
    "            correct_subject += 1\n",
    "            if row['object'] in facts[row['relation']][row['subject']]:\n",
    "                correct_object += 1    \n",
    "        \n",
    "\n",
    "print('Object Canditate Accuracy:', correct_object / df.shape[0])\n",
    "print('Relation Canditate Accuracy:', correct_relation / df.shape[0])\n",
    "print('Subject Canditate Accuracy:', correct_subject / df.shape[0])"
   ]
  },
  {
   "cell_type": "markdown",
   "metadata": {},
   "source": [
    "## Models\n",
    "\n",
    "Load models to be used in our final step."
   ]
  },
  {
   "cell_type": "code",
   "execution_count": 8,
   "metadata": {},
   "outputs": [],
   "source": [
    "from lib.checkpoint import Checkpoint\n",
    "\n",
    "def load_checkpoint(path):\n",
    "    checkpoint = Checkpoint(checkpoint_path=path, device=0)\n",
    "    checkpoint.model.train(mode=False)\n",
    "    checkpoint.model.apply(lambda m: m.flatten_parameters() if hasattr(m, 'flatten_parameters') else None)\n",
    "    return checkpoint\n",
    "\n",
    "cuda = lambda v: v.cuda() if torch.cuda.is_available() else t"
   ]
  },
  {
   "cell_type": "code",
   "execution_count": 12,
   "metadata": {},
   "outputs": [],
   "source": [
    "def format_question(row):\n",
    "    formatted_question =  ''\n",
    "    for i, token in enumerate(row['predicted_question_tokens']):\n",
    "        if i == row['predicted_start_index']:\n",
    "            formatted_question += '<e>'\n",
    "        elif i > row['predicted_start_index'] and i < row['predicted_end_index']:\n",
    "            continue\n",
    "        else:\n",
    "            formatted_question += token.lower().strip()\n",
    "        formatted_question += ' '\n",
    "    formatted_question = formatted_question.strip()\n",
    "    return formatted_question"
   ]
  },
  {
   "cell_type": "markdown",
   "metadata": {},
   "source": [
    "### Softmax Relation Model\n",
    "\n",
    "Load the softmax relation model."
   ]
  },
  {
   "cell_type": "code",
   "execution_count": 10,
   "metadata": {},
   "outputs": [
    {
     "name": "stdout",
     "output_type": "stream",
     "text": [
      "Question: where was <e> born?\n",
      "Scores:\n",
      "[0.9917193651199341, 0.00010895365267060697]\n"
     ]
    }
   ],
   "source": [
    "from torch.autograd import Variable\n",
    "import math\n",
    "import torch\n",
    "\n",
    "def get_softmax_relation_score(checkpoint, question, relations):\n",
    "    relations = [r for r in relations]\n",
    "    relations = [checkpoint.relation_encoder.encode(r)[0] for r in relations]\n",
    "    mask = set(relations)\n",
    "    mask = [1 if i in relations else 0 for i in range(checkpoint.relation_encoder.vocab_size)]\n",
    "    mask = cuda(Variable(torch.FloatTensor(mask), volatile=True))\n",
    "    question = checkpoint.text_encoder.encode(question)\n",
    "    question = cuda(Variable(torch.LongTensor(question).unsqueeze(1), volatile=True))\n",
    "    output_batch = checkpoint.model(question, mask).exp_().data\n",
    "    output_batch = output_batch.squeeze(0)\n",
    "    return [output_batch[r] for r in relations]\n",
    "    \n",
    "## Test ##\n",
    "# Checkpoint with 0.880\n",
    "checkpoint = load_checkpoint('../../results/relation_classifier.02_02_07:59:28/1746.pt')\n",
    "question = 'where was <e> born?'\n",
    "print('Question:', question)\n",
    "print('Scores:')\n",
    "print(get_softmax_relation_score(checkpoint, question, ['people/person/place_of_birth',\n",
    "                                                        'location/location/people_born_here']))"
   ]
  },
  {
   "cell_type": "code",
   "execution_count": 27,
   "metadata": {},
   "outputs": [
    {
     "data": {
      "application/vnd.jupyter.widget-view+json": {
       "model_id": "4161d8d2b15d434ab2a846fa11b2df62",
       "version_major": 2,
       "version_minor": 0
      },
      "text/html": [
       "<p>Failed to display Jupyter Widget of type <code>HBox</code>.</p>\n",
       "<p>\n",
       "  If you're reading this message in the Jupyter Notebook or JupyterLab Notebook, it may mean\n",
       "  that the widgets JavaScript is still loading. If this message persists, it\n",
       "  likely means that the widgets JavaScript library is either not installed or\n",
       "  not enabled. See the <a href=\"https://ipywidgets.readthedocs.io/en/stable/user_install.html\">Jupyter\n",
       "  Widgets Documentation</a> for setup instructions.\n",
       "</p>\n",
       "<p>\n",
       "  If you're reading this message in another frontend (for example, a static\n",
       "  rendering on GitHub or <a href=\"https://nbviewer.jupyter.org/\">NBViewer</a>),\n",
       "  it may mean that your frontend doesn't currently support widgets.\n",
       "</p>\n"
      ],
      "text/plain": [
       "HBox(children=(IntProgress(value=0, max=10845), HTML(value='')))"
      ]
     },
     "metadata": {},
     "output_type": "display_data"
    }
   ],
   "source": [
    "# 1212212=seed, 88.38%=dev_accuracy\n",
    "checkpoint = load_checkpoint('../../experiments/relation_classifier.02_02_13:31:11/189.pt')\n",
    "def add_softmax_scores(row):\n",
    "    if len(row['candidate_facts']) != 0:\n",
    "        candidate_relations = list(row['candidate_facts'].keys())\n",
    "        return get_softmax_relation_score(checkpoint, format_question(row), candidate_relations)\n",
    "    else:\n",
    "        return None\n",
    "    \n",
    "df['softmax_scores'] = df.progress_apply(add_softmax_scores, axis=1)"
   ]
  },
  {
   "cell_type": "code",
   "execution_count": 28,
   "metadata": {},
   "outputs": [
    {
     "data": {
      "application/vnd.jupyter.widget-view+json": {
       "model_id": "4197ca31102b4f26a675cdb41a6408d6",
       "version_major": 2,
       "version_minor": 0
      },
      "text/html": [
       "<p>Failed to display Jupyter Widget of type <code>HBox</code>.</p>\n",
       "<p>\n",
       "  If you're reading this message in the Jupyter Notebook or JupyterLab Notebook, it may mean\n",
       "  that the widgets JavaScript is still loading. If this message persists, it\n",
       "  likely means that the widgets JavaScript library is either not installed or\n",
       "  not enabled. See the <a href=\"https://ipywidgets.readthedocs.io/en/stable/user_install.html\">Jupyter\n",
       "  Widgets Documentation</a> for setup instructions.\n",
       "</p>\n",
       "<p>\n",
       "  If you're reading this message in another frontend (for example, a static\n",
       "  rendering on GitHub or <a href=\"https://nbviewer.jupyter.org/\">NBViewer</a>),\n",
       "  it may mean that your frontend doesn't currently support widgets.\n",
       "</p>\n"
      ],
      "text/plain": [
       "HBox(children=(IntProgress(value=0, max=10845), HTML(value='')))"
      ]
     },
     "metadata": {},
     "output_type": "display_data"
    },
    {
     "data": {
      "application/vnd.jupyter.widget-view+json": {
       "model_id": "450a13109eec48e8b3aad7a05f212f10",
       "version_major": 2,
       "version_minor": 0
      },
      "text/html": [
       "<p>Failed to display Jupyter Widget of type <code>HBox</code>.</p>\n",
       "<p>\n",
       "  If you're reading this message in the Jupyter Notebook or JupyterLab Notebook, it may mean\n",
       "  that the widgets JavaScript is still loading. If this message persists, it\n",
       "  likely means that the widgets JavaScript library is either not installed or\n",
       "  not enabled. See the <a href=\"https://ipywidgets.readthedocs.io/en/stable/user_install.html\">Jupyter\n",
       "  Widgets Documentation</a> for setup instructions.\n",
       "</p>\n",
       "<p>\n",
       "  If you're reading this message in another frontend (for example, a static\n",
       "  rendering on GitHub or <a href=\"https://nbviewer.jupyter.org/\">NBViewer</a>),\n",
       "  it may mean that your frontend doesn't currently support widgets.\n",
       "</p>\n"
      ],
      "text/plain": [
       "HBox(children=(IntProgress(value=0, max=10845), HTML(value='')))"
      ]
     },
     "metadata": {},
     "output_type": "display_data"
    }
   ],
   "source": [
    "import torch\n",
    "from functools import partial\n",
    "\n",
    "def add_softmax_ensemble_scores(row, checkpoint):\n",
    "    if len(row['candidate_facts']) != 0:\n",
    "        candidate_relations = list(row['candidate_facts'].keys())\n",
    "        scores = get_softmax_relation_score(checkpoint, format_question(row), candidate_relations)\n",
    "        # Sum together...\n",
    "        return [ensemble_score + score for ensemble_score, score in zip(row['softmax_ensemble_scores'], scores)]\n",
    "    else:\n",
    "        return None\n",
    "\n",
    "# Copy previous single model scores\n",
    "df['softmax_ensemble_scores'] = df['softmax_scores']\n",
    "ensemble = [\n",
    "    '../../experiments/relation_classifier.02_02_13:23:02/223.pt', # 457=seed, 88.26%=dev_accuracy\n",
    "    '../../results/relation_classifier.02_02_07:59:28/1746.pt', # 123=seed, 88.25%=dev_accuracy\n",
    "]\n",
    "\n",
    "for path in ensemble:\n",
    "    checkpoint = load_checkpoint(path)\n",
    "    df['softmax_ensemble_scores'] = df.progress_apply(partial(add_softmax_ensemble_scores,\n",
    "                                                              checkpoint=checkpoint), axis=1)\n",
    "    torch.cuda.empty_cache()"
   ]
  },
  {
   "cell_type": "markdown",
   "metadata": {},
   "source": [
    "### Relation Model Yu et Al.\n",
    "\n",
    "Load the predictor for Yu et Al. relation model."
   ]
  },
  {
   "cell_type": "code",
   "execution_count": null,
   "metadata": {},
   "outputs": [],
   "source": [
    "import re\n",
    "import torch\n",
    "import pprint\n",
    "from torch.autograd import Variable\n",
    "from functools import lru_cache\n",
    "from lib.checkpoint import Checkpoint\n",
    "from lib.utils import pad_batch\n",
    "\n",
    "RELATION_CLASSIFIER = '../../scripts/Simple QA Models/logs/yu_relation_model.01-29_17:00:01/7196.pt'\n",
    "\n",
    "pretty_printer = pprint.PrettyPrinter(indent=2)\n",
    "\n",
    "relation_classifier = Checkpoint(checkpoint_path=RELATION_CLASSIFIER, device=0)\n",
    "relation_classifier.model.relation_word_rnn.flatten_parameters()\n",
    "relation_classifier.model.text_rnn_layer_one.flatten_parameters()\n",
    "relation_classifier.model.text_rnn_layer_two.flatten_parameters()\n",
    "relation_classifier.model.relation_rnn.flatten_parameters()\n",
    "relation_classifier.model.train(mode=False)\n",
    "\n",
    "cuda = lambda v: v.cuda() if torch.cuda.is_available() else t\n",
    "to_variable = lambda b: cuda(Variable(torch.stack(b).t_().contiguous(), volatile=True))\n",
    "    \n",
    "def get_relation_scores(question, relations):\n",
    "    questions = [question for _ in range(len(relations))]\n",
    "    questions_encoded, _ = pad_batch([relation_classifier.text_encoder.encode(q) for q in questions])\n",
    "    relations_encoded, _ = pad_batch([relation_classifier.relation_encoder.encode(r) for r in relations])\n",
    "    relations_word_encoded, _ = pad_batch([relation_classifier.relation_word_encoder.encode(r) for r in relations])\n",
    "\n",
    "    questions_encoded = to_variable(questions_encoded)\n",
    "    relations_encoded = to_variable(relations_encoded)\n",
    "    relations_word_encoded = to_variable(relations_word_encoded)\n",
    "\n",
    "    return relation_classifier.model(questions_encoded, relations_encoded, relations_word_encoded).data\n",
    "\n",
    "# To test this cell\n",
    "question = 'where was <e> born ?'\n",
    "print('Question:', question)\n",
    "# print('Scores:')\n",
    "print(get_relation_scores(question, ['people/person/place_of_birth']))\n",
    "print(get_relation_scores(question, ['location/location/people_born_here']))"
   ]
  },
  {
   "cell_type": "markdown",
   "metadata": {},
   "source": [
    "## Final End-To-End Metric\n",
    "\n",
    "Given candidate facts compute the end-to-end metric. Below we start a couple code blocks with basic utilities used by each version."
   ]
  },
  {
   "cell_type": "code",
   "execution_count": 14,
   "metadata": {},
   "outputs": [
    {
     "data": {
      "application/vnd.jupyter.widget-view+json": {
       "model_id": "15e6eb3238524ed19546c915b3b1345c",
       "version_major": 2,
       "version_minor": 0
      },
      "text/html": [
       "<p>Failed to display Jupyter Widget of type <code>HBox</code>.</p>\n",
       "<p>\n",
       "  If you're reading this message in the Jupyter Notebook or JupyterLab Notebook, it may mean\n",
       "  that the widgets JavaScript is still loading. If this message persists, it\n",
       "  likely means that the widgets JavaScript library is either not installed or\n",
       "  not enabled. See the <a href=\"https://ipywidgets.readthedocs.io/en/stable/user_install.html\">Jupyter\n",
       "  Widgets Documentation</a> for setup instructions.\n",
       "</p>\n",
       "<p>\n",
       "  If you're reading this message in another frontend (for example, a static\n",
       "  rendering on GitHub or <a href=\"https://nbviewer.jupyter.org/\">NBViewer</a>),\n",
       "  it may mean that your frontend doesn't currently support widgets.\n",
       "</p>\n"
      ],
      "text/plain": [
       "HBox(children=(IntProgress(value=0, max=75910), HTML(value='')))"
      ]
     },
     "metadata": {},
     "output_type": "display_data"
    }
   ],
   "source": [
    "from collections import defaultdict\n",
    "from scripts.utils.simple_qa import load_simple_qa \n",
    "from tqdm import tqdm_notebook\n",
    "\n",
    "df_train, = load_simple_qa(train=True)\n",
    "\n",
    "total_rows_train = df_train.shape[0]\n",
    "cursor.execute('SELECT count(*) FROM ' + FB2M_KG_TABLE)\n",
    "total_rows_fb_two_kg = cursor.fetchone()[0]\n",
    "\n",
    "# Given we see a relation occuring with %x probability in KG, we use `transform_probability_from_kg_to_train`\n",
    "# to get the probability of the relation occuring in SimpleQuestions.\n",
    "transform_probability_from_kg_to_train = defaultdict(int)\n",
    "for relation, n_rows_train in tqdm_notebook(df_train.relation.value_counts().iteritems(), total=total_rows_train):\n",
    "    cursor.execute('SELECT count(*) FROM ' + FB2M_KG_TABLE + ' WHERE relation = %s', (relation, ))\n",
    "    n_facts_fb2m = cursor.fetchone()[0]\n",
    "    \n",
    "    relation_probability_kg = n_facts_fb2m / total_rows_fb_two_kg\n",
    "    relation_probability_train = n_rows_train / total_rows_train\n",
    "    \n",
    "    transform_probability_from_kg_to_train[relation] = relation_probability_train / relation_probability_kg"
   ]
  },
  {
   "cell_type": "code",
   "execution_count": 15,
   "metadata": {},
   "outputs": [],
   "source": [
    "from scripts.utils.table import format_pipe_table\n",
    "\n",
    "def evaluate(predicted):\n",
    "    subject_and_relation_correct = 0 # Official metric from the Simple Questions dataset\n",
    "    object_correct = 0\n",
    "    relation_correct = 0\n",
    "    subject_correct = 0\n",
    "    negative_samples = []\n",
    "    \n",
    "    for i, (_, row) in tqdm_notebook(enumerate(df.iterrows()), total=df.shape[0]):\n",
    "        relation, subject, objects = predicted[i]\n",
    "        if relation == row['relation'] and subject == row['subject']:\n",
    "            subject_and_relation_correct += 1\n",
    "        else:\n",
    "            if relation and relation in row['candidate_facts']:\n",
    "                subjects = list(row['candidate_facts'][relation].keys())[:3]\n",
    "                cursor.execute('SELECT mid, alias FROM fb_two_name WHERE mid = ANY(%s)', (subjects,))\n",
    "                subject_aliases = list(cursor.fetchall())[:3]\n",
    "            else:\n",
    "                subjects = None\n",
    "                subject_aliases = None\n",
    "            negative_samples.append({\n",
    "                'Candidate Relations (Max 3)': list(row['candidate_facts'].keys())[:3],\n",
    "                'Predicate': format_question(row),\n",
    "                'True Relation': row['relation'],\n",
    "                'Predicted Subject Name': row['predicted_subject_name'],\n",
    "                'Predicted Subject Aliases (Max 3 MIDs)': subject_aliases,\n",
    "                'MIDs (Max 3)': subjects,\n",
    "            })\n",
    "        if objects and row['object'] in objects:\n",
    "            object_correct += 1\n",
    "        if relation == row['relation']:\n",
    "            relation_correct += 1\n",
    "        if subject == row['subject']:\n",
    "            subject_correct += 1\n",
    "        \n",
    "    print('Subject & Relation Accuracy (SOTA 78.7%%): %f [%d of %d]' %\n",
    "          (subject_and_relation_correct / df.shape[0], subject_and_relation_correct, df.shape[0]))\n",
    "    print('Object Accuracy: %f [%d of %d]' %\n",
    "              (object_correct / df.shape[0], object_correct, df.shape[0]))\n",
    "    print('Relation Accuracy (SOTA 88.4%%): %f [%d of %d]' %\n",
    "              (relation_correct / df.shape[0], relation_correct, df.shape[0]))\n",
    "    print('Subject Accuracy (SOTA 79%%): %f [%d of %d]' %\n",
    "              (subject_correct / df.shape[0], subject_correct, df.shape[0]))\n",
    "    print('Negative Sample:')\n",
    "    print(format_pipe_table(negative_samples[:50]))"
   ]
  },
  {
   "cell_type": "markdown",
   "metadata": {},
   "source": [
    "### Version 0: Softmax\n",
    "\n",
    "For the version 0 of softmax, we use the highest predicted relation with not additional considerations."
   ]
  },
  {
   "cell_type": "code",
   "execution_count": 29,
   "metadata": {},
   "outputs": [
    {
     "data": {
      "application/vnd.jupyter.widget-view+json": {
       "model_id": "667ab772f83e41bbafe4c85265f91f1b",
       "version_major": 2,
       "version_minor": 0
      },
      "text/html": [
       "<p>Failed to display Jupyter Widget of type <code>HBox</code>.</p>\n",
       "<p>\n",
       "  If you're reading this message in the Jupyter Notebook or JupyterLab Notebook, it may mean\n",
       "  that the widgets JavaScript is still loading. If this message persists, it\n",
       "  likely means that the widgets JavaScript library is either not installed or\n",
       "  not enabled. See the <a href=\"https://ipywidgets.readthedocs.io/en/stable/user_install.html\">Jupyter\n",
       "  Widgets Documentation</a> for setup instructions.\n",
       "</p>\n",
       "<p>\n",
       "  If you're reading this message in another frontend (for example, a static\n",
       "  rendering on GitHub or <a href=\"https://nbviewer.jupyter.org/\">NBViewer</a>),\n",
       "  it may mean that your frontend doesn't currently support widgets.\n",
       "</p>\n"
      ],
      "text/plain": [
       "HBox(children=(IntProgress(value=0, max=10845), HTML(value='')))"
      ]
     },
     "metadata": {},
     "output_type": "display_data"
    },
    {
     "data": {
      "application/vnd.jupyter.widget-view+json": {
       "model_id": "0da0695622434f3aa8d8374a322f72ea",
       "version_major": 2,
       "version_minor": 0
      },
      "text/html": [
       "<p>Failed to display Jupyter Widget of type <code>HBox</code>.</p>\n",
       "<p>\n",
       "  If you're reading this message in the Jupyter Notebook or JupyterLab Notebook, it may mean\n",
       "  that the widgets JavaScript is still loading. If this message persists, it\n",
       "  likely means that the widgets JavaScript library is either not installed or\n",
       "  not enabled. See the <a href=\"https://ipywidgets.readthedocs.io/en/stable/user_install.html\">Jupyter\n",
       "  Widgets Documentation</a> for setup instructions.\n",
       "</p>\n",
       "<p>\n",
       "  If you're reading this message in another frontend (for example, a static\n",
       "  rendering on GitHub or <a href=\"https://nbviewer.jupyter.org/\">NBViewer</a>),\n",
       "  it may mean that your frontend doesn't currently support widgets.\n",
       "</p>\n"
      ],
      "text/plain": [
       "HBox(children=(IntProgress(value=0, max=10845), HTML(value='')))"
      ]
     },
     "metadata": {},
     "output_type": "display_data"
    },
    {
     "name": "stdout",
     "output_type": "stream",
     "text": [
      "Subject & Relation Accuracy (SOTA 78.7%): 0.767358 [8322 of 10845]\n",
      "Object Accuracy: 0.818718 [8879 of 10845]\n",
      "Relation Accuracy (SOTA 88.4%): 0.881051 [9555 of 10845]\n",
      "Subject Accuracy (SOTA 79%): 0.817704 [8868 of 10845]\n",
      "Negative Sample:\n",
      "| Index | Candidate Relations (Max 3) | MIDs (Max 3) | Predicate | Predicted Subject Aliases (Max 3 MIDs) | Predicted Subject Name | True Relation |\n",
      "| --- | --- | --- | --- | --- | --- | --- |\n",
      "| 0 | ['symbols/namesake/named_after', 'people/ethnicity/languages_spoken', 'dataworld/gardening_hint/split_to'] | ['04q7gbh'] | name an <e> thoroughbread racehorse | [('04q7gbh', 'american'), ('04q7gbh', 'americans')] | american | biology/organism_classification/organisms_of_this_type |\n",
      "| 1 | ['music/album/artist', 'music/album/release_type', 'music/album/album_content_type'] | ['0dp76p7', '0f34691'] | who was the artist on the album <e> | [('0dp76p7', 'just you, just me'), ('0f34691', 'just you, just me')] | just you , just me | music/album/artist |\n",
      "| 2 | ['common/topic/notable_types', 'computer/computer_processor/used_in_computers', 'computer/computer_processor/processor_family'] | ['0d0gvn'] | what company made <e> ? | [('0d0gvn', 'intel core 2')] | intel core 2 | computer/computer_processor/manufacturers |\n",
      "| 3 | ['common/topic/notable_types', 'education/educational_institution/colors', 'education/school/school_district'] | ['02q45pf', '0d57s_', '0dlrh8'] | what type of school is <e> | [('02q45pf', 'central high school'), ('0d57s_', 'central high school'), ('0dlrh8', 'central high school')] | central high school | education/educational_institution/school_type |\n",
      "| 4 | ['user/micahsaul/advertising/advertised_thing/ad_campaigns', 'internet/website_category/sites', 'common/topic/notable_types'] | ['0jtdp'] | name a short <e> released in 2011 | [('0jtdp', 'docu'), ('0jtdp', 'documentaires'), ('0jtdp', 'documentary')] | documentary film | film/film_genre/films_in_this_genre |\n",
      "| 5 | ['film/film/film_production_design_by', 'common/topic/notable_types', 'music/album/release_type'] | ['09v84yn', '0zdfmpr'] | who designed the costume for the movie <e> | [('09v84yn', 'copenhagen'), ('0zdfmpr', 'copenhagen'), ('0zdfmpr', 'in copenhagen')] | copenhagen | film/film/costume_design_by |\n",
      "| 6 | ['book/written_work/author', 'common/topic/notable_types', 'music/release_track/release'] | ['0w9n3k', '0dw8r_p'] | what is canonical version of <e> ? | [('0dw8r_p', 'ethics'), ('0w9n3k', 'ethics')] | ethics | music/recording/canonical_version |\n",
      "| 7 | ['people/person/children', 'common/topic/notable_types', 'people/person/gender'] | ['0bljcm', '05mj7m'] | what is <e> 's gender | [('05mj7m', 'marc singer'), ('05mj7m', 'mark singer'), ('0bljcm', 'marc singer')] | marc singer | people/person/gender |\n",
      "| 8 | ['music/release/region', 'music/recording/tracks', 'tv/tv_series_episode/season'] | ['057vmw', '057yc8'] | what is the mpaa rating for the movie <e> | [('057vmw', 'sahara'), ('057yc8', 'sahara')] | sahara | film/film/rating |\n",
      "| 9 | ['location/location/containedby', 'music/album/artist', 'internet/top_level_domain/domain_type'] | ['06765p'] | what university sponsored <e> | [('06765p', 'lc'), ('06765p', 'louisburg college'), ('06765p', 'louisburg college, main campus')] | lc | internet/top_level_domain/sponsor |\n",
      "| 10 | ['geography/river/mouth', 'geography/river/basin_countries', 'location/location/containedby'] | ['0gfh4v'] | where does the water in the <e> come from | [('0gfh4v', 'canche'), ('0gfh4v', 'canche river')] | canche | geography/river/mouth |\n",
      "| 11 | ['common/topic/notable_types', 'music/recording/releases', 'music/recording/song'] | ['0101_4d', '01081y1', '0109vz2'] | what is the name of the title track for the recording <e> | [('0101_4d', 'venus'), ('01081y1', 'venus'), ('0109vz2', 'venus')] | venus | music/recording/tracks |\n",
      "| 12 | ['people/deceased_person/place_of_death', 'people/person/gender', 'people/person/nationality'] | ['0_1pwrn', '04wtk2', '0cwp91'] | what gender is <e> ? | [('0_1pwrn', 'david thomas'), ('04wtk2', 'david thomas'), ('0cwp91', 'david thomas')] | david thomas | people/person/gender |\n",
      "| 13 | ['music/recording/artist', 'music/release_track/recording', 'music/recording/canonical_version'] | ['0zqq13g', '0_6p96n', '0kjbv7c'] | the release track <e> is from which recording | [('0_6p96n', 'armageddon'), ('0kjbv7c', 'armageddon'), ('0zqq13g', 'armageddon')] | armageddon | music/release_track/recording |\n",
      "| 14 | ['music/release_track/recording', 'music/recording/tracks', 'tv/tv_program/country_of_origin'] | ['0l4qkv0', '0mv7wq0', '0l7h_jd'] | the release track <e> is from what body of work | [('0l4qkv0', 'cardiac arrest'), ('0l7h_jd', 'cardiac arrest'), ('0mv7wq0', 'cardiac arrest')] | cardiac arrest | music/release_track/recording |\n",
      "| 15 | ['media_common/netflix_title/netflix_genres', 'film/film/music', 'music/album/release_type'] | ['026qc5f', '03nlr5'] | which country was the film <e> from | [('026qc5f', 'the hitcher'), ('03nlr5', 'the hitcher')] | the hitcher | film/film/country |\n",
      "| 16 | ['location/postal_code/country', 'location/location/contains', 'location/location/containedby'] | ['01ztb8n'] | name an address in the postal code <e> . | [('01ztb8n', '80202'), ('01ztb8n', '80202, denver')] | 80202 | location/location/contains |\n",
      "| 17 | ['music/release_track/recording', 'common/topic/notable_types', 'film/film/produced_by'] | ['0q540sz', '02hrh1q', '0274hl'] | name an <e> | [('0274hl', 'actor'), ('02hrh1q', 'actor'), ('02hrh1q', 'actress')] | actor | people/profession/people_with_this_profession |\n",
      "| 18 | ['common/topic/notable_types', 'music/recording/releases', 'music/recording/tracks'] | ['0_6c0k5', '0_6f4mx', '0_6q8xw'] | what is the release track on <e> | [('0_6c0k5', 'o holy night'), ('0_6f4mx', 'o holy night'), ('0_6q8xw', 'o holy night')] | o holy night | music/release_track/recording |\n",
      "| 19 | ['media_common/netflix_title/netflix_genres', 'film/film/language', 'film/film/country'] | ['0crtr_s'] | what kind of film is <e> ? | [('0crtr_s', 'november son')] | november son | media_common/netflix_title/netflix_genres |\n",
      "| 20 | ['music/release/track_list', 'music/release/region', 'music/release/track'] | ['039m104', '0fc63r6', '0fl9bn_'] | what format was <e> released on | [('039m104', 'set yourself on fire'), ('0fc63r6', 'set yourself on fire'), ('0fl9bn_', 'set yourself on fire')] | set yourself on fire | music/release/format |\n",
      "| 21 | ['location/neighborhood/neighborhood_of', 'location/location/containedby'] | ['0486c5w'] | where is <e> ? | [('0486c5w', 'pine knoll vista'), ('0486c5w', 'pine knoll vista, alabama'), ('0486c5w', 'pine knoll vista, birmingham')] | pine knoll vista | location/neighborhood/neighborhood_of |\n",
      "| 22 | ['law/invention/inventor', 'people/person/gender', 'user/mt/default_domain/metabolite/chemical_species'] | ['02kgct'] | which canadian city is served by <e> > | [('02kgct', 'a man called e'), ('02kgct', 'e'), ('02kgct', 'eels')] | e | aviation/airport/serves |\n",
      "| 23 | ['music/recording/artist', 'base/skosbase/vocabulary_equivalent_topic/equivalent_concept', 'music/release/track_list'] | ['02xlf'] | what is a more specific award in the <e> category | [('02xlf', 'fiction')] | fiction | award/award_discipline/awards_in_this_discipline |\n",
      "| 24 | ['base/aareas/schema/administrative_area/capital', 'base/aareas/schema/administrative_area/administrative_area_type', 'location/location/containedby'] | ['0536sd'] | where in sicily is <e> located in ? | [('0536sd', 'province of palermo')] | province of palermo | location/location/contains |\n",
      "| 25 | ['music/single/versions', 'common/topic/notable_types', 'music/recording/releases'] | ['0mx3qw9', '0mtfpx9', '0m1jnn3'] | what recording has the track <e> | [('0m1jnn3', 'the cleansing'), ('0mtfpx9', 'the cleansing'), ('0mx3qw9', 'the cleansing')] | the cleansing | music/release_track/recording |\n",
      "| 26 | ['music/release_track/recording', 'music/recording/tracks', 'music/recording/releases'] | ['03j9m9c', '0g1qwlt', '0sg_hzm'] | what album was <e> released from | [('03j9m9c', 'daybreak'), ('0g1qwlt', 'daybreak'), ('0sg_hzm', 'daybreak')] | daybreak | music/release_track/release |\n",
      "| 27 | ['music/release/format', 'music/release/track', 'music/release/track_list'] | ['0f_1wny', '0ftssx0', '0g0pphd'] | what was the format of the release <e> | [('0f_1wny', 'bionic'), ('0ftssx0', 'bionic'), ('0g0pphd', 'bionic')] | bionic | music/release/format |\n",
      "| 28 | ['media_common/media_genre/parent_genre', 'theater/theater_genre/plays_in_this_genre', 'film/film/country'] | ['0dm00', '02xht0b'] | who created the music ( <e> ? | [('02xht0b', 'sketch'), ('02xht0b', 'sketch comedy'), ('0dm00', 'sketch')] | sketch ) | visual_art/artwork/artist |\n",
      "| 29 | ['book/book_edition/place_of_publication', 'music/recording/tracks', 'music/release_track/release'] | ['0m6gd78', '0l3fskh', '0klfwcy'] | what is a recording of the song <e> ? | [('0klfwcy', 'pablo picasso'), ('0l3fskh', 'pablo picasso'), ('0m6gd78', 'pablo picasso')] | pablo picasso | music/release_track/recording |\n",
      "| 30 | ['music/recording/releases', 'music/recording/tracks', 'base/locations/countries/continent'] | ['0gdbw9f', '018z2ly', '0drgww1'] | <e> was recorded as a part of what release ? | [('018z2ly', 'congo'), ('0drgww1', 'congo'), ('0gdbw9f', 'congo')] | congo | music/recording/releases |\n",
      "| 31 | ['film/music_contributor/film', 'people/person/profession', 'music/lyricist/lyrics_written'] | ['0hpvw'] | what film is rated <e> | [('0hpvw', 'bad hair day'), ('0hpvw', 'gyllene tider'), ('0hpvw', 'peer gessle')] | pg | film/content_rating/film |\n",
      "| 32 | ['music/recording/releases', 'music/recording/artist', 'music/recording/song'] | ['0_7cky4', '0_dm121', '0_hw3kf'] | what was released by <e> | [('0_7cky4', 'gold'), ('0_dm121', 'gold'), ('0_hw3kf', 'gold')] | gold | music/release_track/release |\n",
      "| 33 | ['medicine/drug_formulation/active_ingredient_moieties', 'medicine/drug_formulation/active_ingredients', 'medicine/drug_formulation/drug_category'] | ['0hqtcr0'] | what is the active ingredient in <e> | [('0hqtcr0', 'theophylline 4 injectable solution'), ('0hqtcr0', 'theophylline in dextrose')] | theophylline 4 injectable solution | medicine/drug_formulation/active_ingredient_moieties |\n",
      "| 34 | ['film/film/edited_by', 'music/artist/genre', 'music/release/region'] | ['04t11j8', '04w4qmf', '0466f2x'] | what is the subject of the book <e> ? | [('0466f2x', 'secrets'), ('04t11j8', 'secrets'), ('04w4qmf', 'geheimnisse')] | secrets | book/written_work/subjects |\n",
      "| 35 | ['people/person/religion', 'people/person/profession', 'influence/influence_node/influenced_by'] | ['078_jf'] | where is <e> born ? | [('078_jf', 'dr. william stewart halsted'), ('078_jf', 'william stewart halsted')] | william stewart halsted | people/person/nationality |\n",
      "| 36 | ['common/topic/notable_types', 'music/release_track/release', 'tv/tv_series_episode/season'] | ['0dydsnf', '0_9y34', '0rnbw0'] | what album features the song <e> | [('0_9y34', 'atlanta'), ('0dydsnf', 'atlanta'), ('0rnbw0', 'atlanta')] | atlanta | music/recording/releases |\n",
      "| 37 | ['music/recording/tracks', 'book/written_work/author', 'music/release_track/recording'] | ['08s2hj', '01ky4n', '0s0w4'] | which female was born in <e> ? | [('01ky4n', 'paris'), ('01ky4n', 'paris, ontario'), ('08s2hj', 'paris')] | paris | location/location/people_born_here |\n",
      "| 38 | ['music/release/album', 'music/release/region', 'music/album/release_type'] | ['032mvsy', '0f8hlgx', '04cjhtz'] | which album contains <e> | [('032mvsy', 'untouchables'), ('04cjhtz', 'untouchables'), ('0f8hlgx', 'untouchables')] | untouchables | music/release/album |\n",
      "| 39 | ['type/object/permission', 'film/film/executive_produced_by', 'music/release/format'] | ['0dz5w7m', '031rr94'] | what physical format was <e> released in | [('031rr94', 'mission: impossible iii'), ('0dz5w7m', 'mission: impossible iii')] | mission : impossible iii | music/release/format |\n",
      "| 40 | ['cvg/computer_videogame/developer', 'film/film/language', 'media_common/netflix_title/netflix_genres'] | ['027ncf', '06wb73s'] | where was the movie <e> released | [('027ncf', 'blood, az utolsó vámpír'), ('027ncf', 'blood: el último vampiro'), ('027ncf', 'blood: the last vampire')] | blood : the last vampire | film/film/country |\n",
      "| 41 | ['broadcast/artist/content', 'film/film/genre', 'music/album/release_type'] | ['06412fy', '04n6blg', '0244pp9'] | what is the release type of <e> | [('0244pp9', 'soul'), ('04n6blg', 'soul'), ('06412fy', 'soul')] | soul | music/release/format |\n",
      "| 42 | ['base/lookalikes/twin/twin_members', 'music/artist/genre', 'music/album/artist'] | ['01kj0z9'] | name an album released by <e> | [('01kj0z9', 'aaron'), ('01kj0z9', 'aaron carter'), ('01kj0z9', 'aaron_carter')] | aaron carter | music/album_release_type/albums |\n",
      "| 43 | ['music/lyricist/lyrics_written', 'music/album/album_content_type', 'common/topic/notable_types'] | ['03wjb7'] | what is a song written by <e> ? | [('03wjb7', 'hitchcock, robyn'), ('03wjb7', 'robyn hitchcock'), ('03wjb7', 'robyn rowan hitchcock')] | robyn hitchcock | music/composer/compositions |\n",
      "| 44 | ['music/recording/artist', 'music/release_track/recording', 'music/recording/canonical_version'] | ['024fnzs', '0dmqc0z', '01c11jc'] | who is the producer of <e> | [('01c11jc', 'armageddon'), ('024fnzs', 'armageddon'), ('0dmqc0z', 'armageddon')] | armageddon | film/film/produced_by |\n",
      "| 45 | ['location/location/containedby', 'location/location/people_born_here', 'location/hud_county_place/county'] | ['0vnmx', '0s5h8'] | in which county in michigan is the village <e> located | [('0s5h8', 'cook county / posen village'), ('0s5h8', 'posen'), ('0s5h8', 'posen, illinois')] | posen | location/location/containedby |\n",
      "| 46 | ['language/human_language/region', 'language/human_language/main_country', 'language/human_language/language_family'] | ['0czrnr'] | where is the <e> spoken | [('0czrnr', 'sose'), ('0czrnr', 'soso'), ('0czrnr', 'sosoxi language')] | susu language | language/human_language/region |\n",
      "| 47 | ['location/location/people_born_here', 'music/release_track/recording', 'music/recording/releases'] | ['0zf50', '0492m43', '011dnyr'] | what is <e> known for ? | [('011dnyr', 'ontario'), ('0492m43', 'ontario'), ('0492m43', 'ontario, kansas')] | ontario | common/topic/notable_types |\n",
      "| 48 | ['visual_art/visual_artist/artworks', 'people/person/profession', 'common/topic/notable_types'] | ['092s6g'] | what did <e> create | [('092s6g', 'judith leyster')] | judith leyster | visual_art/visual_artist/artworks |\n",
      "| 49 | ['education/school/lowest_grade_taught', 'education/school/school_district', 'education/educational_institution/school_type'] | ['077hd2', '0gckxf', '03cgj90'] | who is <e> named after ? | [('03cgj90', 'theodore roosevelt high school'), ('077hd2', 'roosevelt high school'), ('077hd2', 'theodore roosevelt high school')] | theodore roosevelt high school | symbols/namesake/named_after |\n",
      "\n"
     ]
    }
   ],
   "source": [
    "from tqdm import tqdm_notebook\n",
    "import random\n",
    "\n",
    "predicted = []\n",
    "for index, row in tqdm_notebook(df.iterrows(), total=df.shape[0]):\n",
    "    if len(row['candidate_facts']) != 0:\n",
    "        candidate_relations = list(row['candidate_facts'].keys())\n",
    "        max_score = max(row['softmax_scores'])\n",
    "        predicted_relations = [r for i, r in enumerate(candidate_relations)\n",
    "                               if row['softmax_scores'][i] == max_score]\n",
    "        predicted_relation = random.choice(predicted_relations)\n",
    "        subject_mid, object_mids = random.choice(list(row['candidate_facts'][predicted_relation].items()))\n",
    "        predicted.append(tuple([predicted_relation, subject_mid, object_mids]))\n",
    "    else:\n",
    "        predicted.append(tuple([None, None, None]))\n",
    "\n",
    "evaluate(predicted)"
   ]
  },
  {
   "cell_type": "markdown",
   "metadata": {},
   "source": [
    "### Version 1: Softmax & Most Facts\n",
    "\n",
    "For the version 1 of softmax, we use the highest predicted relation and additionally guess the subject with the most objects associated with it."
   ]
  },
  {
   "cell_type": "code",
   "execution_count": 30,
   "metadata": {},
   "outputs": [
    {
     "data": {
      "application/vnd.jupyter.widget-view+json": {
       "model_id": "38889b2684d54810a16e1b054cbd3b4d",
       "version_major": 2,
       "version_minor": 0
      },
      "text/html": [
       "<p>Failed to display Jupyter Widget of type <code>HBox</code>.</p>\n",
       "<p>\n",
       "  If you're reading this message in the Jupyter Notebook or JupyterLab Notebook, it may mean\n",
       "  that the widgets JavaScript is still loading. If this message persists, it\n",
       "  likely means that the widgets JavaScript library is either not installed or\n",
       "  not enabled. See the <a href=\"https://ipywidgets.readthedocs.io/en/stable/user_install.html\">Jupyter\n",
       "  Widgets Documentation</a> for setup instructions.\n",
       "</p>\n",
       "<p>\n",
       "  If you're reading this message in another frontend (for example, a static\n",
       "  rendering on GitHub or <a href=\"https://nbviewer.jupyter.org/\">NBViewer</a>),\n",
       "  it may mean that your frontend doesn't currently support widgets.\n",
       "</p>\n"
      ],
      "text/plain": [
       "HBox(children=(IntProgress(value=0, max=10845), HTML(value='')))"
      ]
     },
     "metadata": {},
     "output_type": "display_data"
    },
    {
     "data": {
      "application/vnd.jupyter.widget-view+json": {
       "model_id": "f85673d7ff7a4518bcafbe41bff9d082",
       "version_major": 2,
       "version_minor": 0
      },
      "text/html": [
       "<p>Failed to display Jupyter Widget of type <code>HBox</code>.</p>\n",
       "<p>\n",
       "  If you're reading this message in the Jupyter Notebook or JupyterLab Notebook, it may mean\n",
       "  that the widgets JavaScript is still loading. If this message persists, it\n",
       "  likely means that the widgets JavaScript library is either not installed or\n",
       "  not enabled. See the <a href=\"https://ipywidgets.readthedocs.io/en/stable/user_install.html\">Jupyter\n",
       "  Widgets Documentation</a> for setup instructions.\n",
       "</p>\n",
       "<p>\n",
       "  If you're reading this message in another frontend (for example, a static\n",
       "  rendering on GitHub or <a href=\"https://nbviewer.jupyter.org/\">NBViewer</a>),\n",
       "  it may mean that your frontend doesn't currently support widgets.\n",
       "</p>\n"
      ],
      "text/plain": [
       "HBox(children=(IntProgress(value=0, max=10845), HTML(value='')))"
      ]
     },
     "metadata": {},
     "output_type": "display_data"
    },
    {
     "name": "stdout",
     "output_type": "stream",
     "text": [
      "Subject & Relation Accuracy (SOTA 78.7%): 0.787091 [8536 of 10845]\n",
      "Object Accuracy: 0.839373 [9103 of 10845]\n",
      "Relation Accuracy (SOTA 88.4%): 0.881051 [9555 of 10845]\n",
      "Subject Accuracy (SOTA 79%): 0.837805 [9086 of 10845]\n",
      "Negative Sample:\n",
      "| Index | Candidate Relations (Max 3) | MIDs (Max 3) | Predicate | Predicted Subject Aliases (Max 3 MIDs) | Predicted Subject Name | True Relation |\n",
      "| --- | --- | --- | --- | --- | --- | --- |\n",
      "| 0 | ['symbols/namesake/named_after', 'people/ethnicity/languages_spoken', 'dataworld/gardening_hint/split_to'] | ['04q7gbh'] | name an <e> thoroughbread racehorse | [('04q7gbh', 'american'), ('04q7gbh', 'americans')] | american | biology/organism_classification/organisms_of_this_type |\n",
      "| 1 | ['common/topic/notable_types', 'computer/computer_processor/used_in_computers', 'computer/computer_processor/processor_family'] | ['0d0gvn'] | what company made <e> ? | [('0d0gvn', 'intel core 2')] | intel core 2 | computer/computer_processor/manufacturers |\n",
      "| 2 | ['common/topic/notable_types', 'education/educational_institution/colors', 'education/school/school_district'] | ['02q45pf', '0d57s_', '0dlrh8'] | what type of school is <e> | [('02q45pf', 'central high school'), ('0d57s_', 'central high school'), ('0dlrh8', 'central high school')] | central high school | education/educational_institution/school_type |\n",
      "| 3 | ['user/micahsaul/advertising/advertised_thing/ad_campaigns', 'internet/website_category/sites', 'common/topic/notable_types'] | ['0jtdp'] | name a short <e> released in 2011 | [('0jtdp', 'docu'), ('0jtdp', 'documentaires'), ('0jtdp', 'documentary')] | documentary film | film/film_genre/films_in_this_genre |\n",
      "| 4 | ['people/person/children', 'common/topic/notable_types', 'people/person/gender'] | ['0bljcm', '05mj7m'] | what is <e> 's gender | [('05mj7m', 'marc singer'), ('05mj7m', 'mark singer'), ('0bljcm', 'marc singer')] | marc singer | people/person/gender |\n",
      "| 5 | ['music/release/region', 'music/recording/tracks', 'tv/tv_series_episode/season'] | ['057vmw', '057yc8'] | what is the mpaa rating for the movie <e> | [('057vmw', 'sahara'), ('057yc8', 'sahara')] | sahara | film/film/rating |\n",
      "| 6 | ['location/location/containedby', 'music/album/artist', 'internet/top_level_domain/domain_type'] | ['06765p'] | what university sponsored <e> | [('06765p', 'lc'), ('06765p', 'louisburg college'), ('06765p', 'louisburg college, main campus')] | lc | internet/top_level_domain/sponsor |\n",
      "| 7 | ['geography/river/mouth', 'geography/river/basin_countries', 'location/location/containedby'] | ['0gfh4v'] | where does the water in the <e> come from | [('0gfh4v', 'canche'), ('0gfh4v', 'canche river')] | canche | geography/river/mouth |\n",
      "| 8 | ['common/topic/notable_types', 'music/recording/releases', 'music/recording/song'] | ['0101_4d', '01081y1', '0109vz2'] | what is the name of the title track for the recording <e> | [('0101_4d', 'venus'), ('01081y1', 'venus'), ('0109vz2', 'venus')] | venus | music/recording/tracks |\n",
      "| 9 | ['people/deceased_person/place_of_death', 'people/person/gender', 'people/person/nationality'] | ['0_1pwrn', '04wtk2', '0cwp91'] | what gender is <e> ? | [('0_1pwrn', 'david thomas'), ('04wtk2', 'david thomas'), ('0cwp91', 'david thomas')] | david thomas | people/person/gender |\n",
      "| 10 | ['music/recording/artist', 'music/release_track/recording', 'music/recording/canonical_version'] | ['0zqq13g', '0_6p96n', '0kjbv7c'] | the release track <e> is from which recording | [('0_6p96n', 'armageddon'), ('0kjbv7c', 'armageddon'), ('0zqq13g', 'armageddon')] | armageddon | music/release_track/recording |\n",
      "| 11 | ['music/release_track/recording', 'music/recording/tracks', 'tv/tv_program/country_of_origin'] | ['0l4qkv0', '0mv7wq0', '0l7h_jd'] | the release track <e> is from what body of work | [('0l4qkv0', 'cardiac arrest'), ('0l7h_jd', 'cardiac arrest'), ('0mv7wq0', 'cardiac arrest')] | cardiac arrest | music/release_track/recording |\n",
      "| 12 | ['media_common/netflix_title/netflix_genres', 'film/film/music', 'music/album/release_type'] | ['026qc5f', '03nlr5'] | which country was the film <e> from | [('026qc5f', 'the hitcher'), ('03nlr5', 'the hitcher')] | the hitcher | film/film/country |\n",
      "| 13 | ['location/postal_code/country', 'location/location/contains', 'location/location/containedby'] | ['01ztb8n'] | name an address in the postal code <e> . | [('01ztb8n', '80202'), ('01ztb8n', '80202, denver')] | 80202 | location/location/contains |\n",
      "| 14 | ['common/topic/notable_types', 'music/recording/releases', 'music/recording/tracks'] | ['0_6c0k5', '0_6f4mx', '0_6q8xw'] | what is the release track on <e> | [('0_6c0k5', 'o holy night'), ('0_6f4mx', 'o holy night'), ('0_6q8xw', 'o holy night')] | o holy night | music/release_track/recording |\n",
      "| 15 | ['media_common/netflix_title/netflix_genres', 'film/film/language', 'film/film/country'] | ['0crtr_s'] | what kind of film is <e> ? | [('0crtr_s', 'november son')] | november son | media_common/netflix_title/netflix_genres |\n",
      "| 16 | ['location/neighborhood/neighborhood_of', 'location/location/containedby'] | ['0486c5w'] | where is <e> ? | [('0486c5w', 'pine knoll vista'), ('0486c5w', 'pine knoll vista, alabama'), ('0486c5w', 'pine knoll vista, birmingham')] | pine knoll vista | location/neighborhood/neighborhood_of |\n",
      "| 17 | ['law/invention/inventor', 'people/person/gender', 'user/mt/default_domain/metabolite/chemical_species'] | ['02kgct'] | which canadian city is served by <e> > | [('02kgct', 'a man called e'), ('02kgct', 'e'), ('02kgct', 'eels')] | e | aviation/airport/serves |\n",
      "| 18 | ['music/recording/artist', 'base/skosbase/vocabulary_equivalent_topic/equivalent_concept', 'music/release/track_list'] | ['02xlf'] | what is a more specific award in the <e> category | [('02xlf', 'fiction')] | fiction | award/award_discipline/awards_in_this_discipline |\n",
      "| 19 | ['base/aareas/schema/administrative_area/capital', 'base/aareas/schema/administrative_area/administrative_area_type', 'location/location/containedby'] | ['0536sd'] | where in sicily is <e> located in ? | [('0536sd', 'province of palermo')] | province of palermo | location/location/contains |\n",
      "| 20 | ['music/single/versions', 'common/topic/notable_types', 'music/recording/releases'] | ['0mx3qw9', '0mtfpx9', '0m1jnn3'] | what recording has the track <e> | [('0m1jnn3', 'the cleansing'), ('0mtfpx9', 'the cleansing'), ('0mx3qw9', 'the cleansing')] | the cleansing | music/release_track/recording |\n",
      "| 21 | ['music/release_track/recording', 'music/recording/tracks', 'music/recording/releases'] | ['03j9m9c', '0g1qwlt', '0sg_hzm'] | what album was <e> released from | [('03j9m9c', 'daybreak'), ('0g1qwlt', 'daybreak'), ('0sg_hzm', 'daybreak')] | daybreak | music/release_track/release |\n",
      "| 22 | ['media_common/media_genre/parent_genre', 'theater/theater_genre/plays_in_this_genre', 'film/film/country'] | ['0dm00', '02xht0b'] | who created the music ( <e> ? | [('02xht0b', 'sketch'), ('02xht0b', 'sketch comedy'), ('0dm00', 'sketch')] | sketch ) | visual_art/artwork/artist |\n",
      "| 23 | ['book/book_edition/place_of_publication', 'music/recording/tracks', 'music/release_track/release'] | ['0m6gd78', '0l3fskh', '0klfwcy'] | what is a recording of the song <e> ? | [('0klfwcy', 'pablo picasso'), ('0l3fskh', 'pablo picasso'), ('0m6gd78', 'pablo picasso')] | pablo picasso | music/release_track/recording |\n",
      "| 24 | ['music/recording/releases', 'music/recording/tracks', 'base/locations/countries/continent'] | ['0gdbw9f', '018z2ly', '0drgww1'] | <e> was recorded as a part of what release ? | [('018z2ly', 'congo'), ('0drgww1', 'congo'), ('0gdbw9f', 'congo')] | congo | music/recording/releases |\n",
      "| 25 | ['film/music_contributor/film', 'people/person/profession', 'music/lyricist/lyrics_written'] | ['0hpvw'] | what film is rated <e> | [('0hpvw', 'bad hair day'), ('0hpvw', 'gyllene tider'), ('0hpvw', 'peer gessle')] | pg | film/content_rating/film |\n",
      "| 26 | ['medicine/drug_formulation/active_ingredient_moieties', 'medicine/drug_formulation/active_ingredients', 'medicine/drug_formulation/legal_status'] | ['0hqs95s', '0hqrgv9', '0jxhcfy'] | what is an active ingredient in <e> ? | [('0hqrgv9', 'arnica montana, trifolium pratense, calcarea carbonica, calcarea fluorica, calcarea phosphorica, chamomilla, kreosotum, silicea, 3/12/12/12/3/12/12/12 liquid'), ('0hqrgv9', 'teething'), ('0hqs95s', 'aconitum napellus, belladonna, borax, calcarea phosphorica, chamomilla, kali phosphoricum, magnesia phosphorica, nitricum acidum, staphysagria, 30/30/3/9/8/30/6/30/8 liquid')] | teething | medicine/drug_formulation/active_ingredient_moieties |\n",
      "| 27 | ['music/recording/releases', 'music/recording/artist', 'music/recording/song'] | ['0_7cky4', '0_dm121', '0_hw3kf'] | what was released by <e> | [('0_7cky4', 'gold'), ('0_dm121', 'gold'), ('0_hw3kf', 'gold')] | gold | music/release_track/release |\n",
      "| 28 | ['medicine/drug_formulation/active_ingredient_moieties', 'medicine/drug_formulation/active_ingredients', 'medicine/drug_formulation/drug_category'] | ['0hqtcr0'] | what is the active ingredient in <e> | [('0hqtcr0', 'theophylline 4 injectable solution'), ('0hqtcr0', 'theophylline in dextrose')] | theophylline 4 injectable solution | medicine/drug_formulation/active_ingredient_moieties |\n",
      "| 29 | ['cvg/game_version/developer', 'cvg/computer_videogame/publisher', 'cvg/game_version/platform'] | ['02hlzwt', '02hm0pj'] | who published the game <e> ? | [('02hlzwt', 'venus the flytrap'), ('02hm0pj', 'venus the flytrap')] | venus the flytrap | cvg/game_version/publisher |\n",
      "| 30 | ['film/film/edited_by', 'music/artist/genre', 'music/release/region'] | ['04t11j8', '04w4qmf', '0466f2x'] | what is the subject of the book <e> ? | [('0466f2x', 'secrets'), ('04t11j8', 'secrets'), ('04w4qmf', 'geheimnisse')] | secrets | book/written_work/subjects |\n",
      "| 31 | ['people/person/religion', 'people/person/profession', 'influence/influence_node/influenced_by'] | ['078_jf'] | where is <e> born ? | [('078_jf', 'dr. william stewart halsted'), ('078_jf', 'william stewart halsted')] | william stewart halsted | people/person/nationality |\n",
      "| 32 | ['music/release/album', 'music/release/region', 'music/album/release_type'] | ['032mvsy', '0f8hlgx', '04cjhtz'] | which album contains <e> | [('032mvsy', 'untouchables'), ('04cjhtz', 'untouchables'), ('0f8hlgx', 'untouchables')] | untouchables | music/release/album |\n",
      "| 33 | ['cvg/computer_videogame/developer', 'film/film/language', 'media_common/netflix_title/netflix_genres'] | ['027ncf', '06wb73s'] | where was the movie <e> released | [('027ncf', 'blood, az utolsó vámpír'), ('027ncf', 'blood: el último vampiro'), ('027ncf', 'blood: the last vampire')] | blood : the last vampire | film/film/country |\n",
      "| 34 | ['broadcast/artist/content', 'film/film/genre', 'music/album/release_type'] | ['06412fy', '04n6blg', '0244pp9'] | what is the release type of <e> | [('0244pp9', 'soul'), ('04n6blg', 'soul'), ('06412fy', 'soul')] | soul | music/release/format |\n",
      "| 35 | ['base/lookalikes/twin/twin_members', 'music/artist/genre', 'music/album/artist'] | ['01kj0z9'] | name an album released by <e> | [('01kj0z9', 'aaron'), ('01kj0z9', 'aaron carter'), ('01kj0z9', 'aaron_carter')] | aaron carter | music/album_release_type/albums |\n",
      "| 36 | ['education/school/lowest_grade_taught', 'education/educational_institution/school_type', 'education/school/school_district'] | ['06r5dt', '026htp2'] | which level of education is <e> | [('026htp2', 'glendale high school'), ('06r5dt', 'glendale high school')] | glendale high school | education/educational_institution/school_type |\n",
      "| 37 | ['music/lyricist/lyrics_written', 'music/album/album_content_type', 'common/topic/notable_types'] | ['03wjb7'] | what is a song written by <e> ? | [('03wjb7', 'hitchcock, robyn'), ('03wjb7', 'robyn hitchcock'), ('03wjb7', 'robyn rowan hitchcock')] | robyn hitchcock | music/composer/compositions |\n",
      "| 38 | ['music/recording/artist', 'music/release_track/recording', 'music/recording/canonical_version'] | ['024fnzs', '0dmqc0z', '01c11jc'] | who is the producer of <e> | [('01c11jc', 'armageddon'), ('024fnzs', 'armageddon'), ('0dmqc0z', 'armageddon')] | armageddon | film/film/produced_by |\n",
      "| 39 | ['cvg/computer_videogame/cvg_genre', 'cvg/computer_videogame/developer', 'cvg/game_version/platform'] | ['03wj7mk', '0kyqbt6'] | what kind of computer game is <e> | [('03wj7mk', 'ninja commando'), ('0kyqbt6', 'ninja commando')] | ninja commando | cvg/computer_videogame/cvg_genre |\n",
      "| 40 | ['language/human_language/region', 'language/human_language/main_country', 'language/human_language/language_family'] | ['0czrnr'] | where is the <e> spoken | [('0czrnr', 'sose'), ('0czrnr', 'soso'), ('0czrnr', 'sosoxi language')] | susu language | language/human_language/region |\n",
      "| 41 | ['location/location/people_born_here', 'music/release_track/recording', 'music/recording/releases'] | ['0zf50', '0492m43', '011dnyr'] | what is <e> known for ? | [('011dnyr', 'ontario'), ('0492m43', 'ontario'), ('0492m43', 'ontario, kansas')] | ontario | common/topic/notable_types |\n",
      "| 42 | ['visual_art/visual_artist/artworks', 'people/person/profession', 'common/topic/notable_types'] | ['092s6g'] | what did <e> create | [('092s6g', 'judith leyster')] | judith leyster | visual_art/visual_artist/artworks |\n",
      "| 43 | ['education/school/lowest_grade_taught', 'education/school/school_district', 'education/educational_institution/school_type'] | ['077hd2', '0gckxf', '03cgj90'] | who is <e> named after ? | [('03cgj90', 'theodore roosevelt high school'), ('077hd2', 'roosevelt high school'), ('077hd2', 'theodore roosevelt high school')] | theodore roosevelt high school | symbols/namesake/named_after |\n",
      "| 44 | ['music/release_track/recording', 'music/recording/releases', 'music/recording/artist'] | ['0rd_zc2', '0tmshq4', '0lw621d'] | which release is the track <e> from | [('0lw621d', 'die in your arms'), ('0rd_zc2', 'die in your arms'), ('0tmshq4', 'die in your arms')] | die in your arms | music/release_track/release |\n",
      "| 45 | ['music/album/album_content_type', 'music/album/genre', 'music/album/release_type'] | ['03fyj3w'] | what is the name of the track list for the release <e> ? | [('03fyj3w', 'pillows & prayers'), ('03fyj3w', 'pillows & prayers: cherry red 1982-1983'), ('03fyj3w', 'pillows & prayers: cherry red 1982–1983')] | pillows & prayers : cherry red 1982 - 1983 | music/release/track_list |\n",
      "| 46 | ['music/release_track/recording', 'music/recording/releases', 'common/topic/notable_types'] | ['0khv_qy', '0rry45s', '0mgssq1'] | from what recording is <e> from | [('0khv_qy', 'billy'), ('0mgssq1', 'billy'), ('0rry45s', 'billy')] | billy | music/release_track/recording |\n",
      "| 47 | ['book/book/genre', 'book/book_edition/book', 'book/book_edition/author_editor'] | ['04vzpqf', '028yj64', '05q560t'] | what was the first original edition of <e> called | [('028yj64', 'mossflower'), ('04vzpqf', 'mossflower'), ('05q560t', 'mossflower')] | mossflower | book/book/editions |\n",
      "| 48 | ['music/recording/tracks', 'music/release/format', 'music/single/versions'] | ['04xr2b0', '04xr2c0', '04xr291'] | who published the book \" <e> \" ? | [('04xr291', 'history'), ('04xr2b0', 'history'), ('04xr2c0', 'history')] | history | book/book_edition/publisher |\n",
      "| 49 | [] | None | what type of music does arsen shomakhov play ? | None | nan | music/artist/genre |\n",
      "\n"
     ]
    }
   ],
   "source": [
    "from tqdm import tqdm_notebook\n",
    "import random\n",
    "\n",
    "predicted = []\n",
    "for index, row in tqdm_notebook(df.iterrows(), total=df.shape[0]):\n",
    "    if len(row['candidate_facts']) != 0:\n",
    "        candidate_relations = list(row['candidate_facts'].keys())\n",
    "        max_score = max(row['softmax_scores'])\n",
    "        predicted_relations = [r for i, r in enumerate(candidate_relations)\n",
    "                               if row['softmax_scores'][i] == max_score]\n",
    "        predicted_relation = random.choice(predicted_relations)\n",
    "        \n",
    "        # We use the `Better than random guessing` from notebook \n",
    "        # `HYPOTHESIS - Question Refers to Multiple Subjects`.\n",
    "        subject_mid, object_mids = sorted(row['candidate_facts'][predicted_relation].items(),\n",
    "                                          key=lambda i: len(i[1]), reverse=True)[0]\n",
    "        predicted.append(tuple([predicted_relation, subject_mid, object_mids]))\n",
    "    else:\n",
    "        predicted.append(tuple([None, None, None]))\n",
    "\n",
    "evaluate(predicted)"
   ]
  },
  {
   "cell_type": "markdown",
   "metadata": {},
   "source": [
    "### Version 2: Softmax & Most Facts & Entity Relation Distribution\n",
    "\n",
    "The hypothesis of version 2 is that we can use the distribution of relations for a particular set of facts to our advantage. Particular entities favor some relations more than others; therefore, we use that probability in a product of experts model."
   ]
  },
  {
   "cell_type": "code",
   "execution_count": 31,
   "metadata": {},
   "outputs": [
    {
     "data": {
      "application/vnd.jupyter.widget-view+json": {
       "model_id": "fadea38960b34149895a0ec747dd9675",
       "version_major": 2,
       "version_minor": 0
      },
      "text/html": [
       "<p>Failed to display Jupyter Widget of type <code>HBox</code>.</p>\n",
       "<p>\n",
       "  If you're reading this message in the Jupyter Notebook or JupyterLab Notebook, it may mean\n",
       "  that the widgets JavaScript is still loading. If this message persists, it\n",
       "  likely means that the widgets JavaScript library is either not installed or\n",
       "  not enabled. See the <a href=\"https://ipywidgets.readthedocs.io/en/stable/user_install.html\">Jupyter\n",
       "  Widgets Documentation</a> for setup instructions.\n",
       "</p>\n",
       "<p>\n",
       "  If you're reading this message in another frontend (for example, a static\n",
       "  rendering on GitHub or <a href=\"https://nbviewer.jupyter.org/\">NBViewer</a>),\n",
       "  it may mean that your frontend doesn't currently support widgets.\n",
       "</p>\n"
      ],
      "text/plain": [
       "HBox(children=(IntProgress(value=0, max=10845), HTML(value='')))"
      ]
     },
     "metadata": {},
     "output_type": "display_data"
    },
    {
     "data": {
      "application/vnd.jupyter.widget-view+json": {
       "model_id": "e0ddbc06050447e7b24750373f919cd2",
       "version_major": 2,
       "version_minor": 0
      },
      "text/html": [
       "<p>Failed to display Jupyter Widget of type <code>HBox</code>.</p>\n",
       "<p>\n",
       "  If you're reading this message in the Jupyter Notebook or JupyterLab Notebook, it may mean\n",
       "  that the widgets JavaScript is still loading. If this message persists, it\n",
       "  likely means that the widgets JavaScript library is either not installed or\n",
       "  not enabled. See the <a href=\"https://ipywidgets.readthedocs.io/en/stable/user_install.html\">Jupyter\n",
       "  Widgets Documentation</a> for setup instructions.\n",
       "</p>\n",
       "<p>\n",
       "  If you're reading this message in another frontend (for example, a static\n",
       "  rendering on GitHub or <a href=\"https://nbviewer.jupyter.org/\">NBViewer</a>),\n",
       "  it may mean that your frontend doesn't currently support widgets.\n",
       "</p>\n"
      ],
      "text/plain": [
       "HBox(children=(IntProgress(value=0, max=10845), HTML(value='')))"
      ]
     },
     "metadata": {},
     "output_type": "display_data"
    },
    {
     "name": "stdout",
     "output_type": "stream",
     "text": [
      "Subject & Relation Accuracy (SOTA 78.7%): 0.791886 [8588 of 10845]\n",
      "Object Accuracy: 0.845367 [9168 of 10845]\n",
      "Relation Accuracy (SOTA 88.4%): 0.886768 [9617 of 10845]\n",
      "Subject Accuracy (SOTA 79%): 0.839189 [9101 of 10845]\n",
      "Negative Sample:\n",
      "| Index | Candidate Relations (Max 3) | MIDs (Max 3) | Predicate | Predicted Subject Aliases (Max 3 MIDs) | Predicted Subject Name | True Relation |\n",
      "| --- | --- | --- | --- | --- | --- | --- |\n",
      "| 0 | ['symbols/namesake/named_after', 'people/ethnicity/languages_spoken', 'dataworld/gardening_hint/split_to'] | ['04q7gbh'] | name an <e> thoroughbread racehorse | [('04q7gbh', 'american'), ('04q7gbh', 'americans')] | american | biology/organism_classification/organisms_of_this_type |\n",
      "| 1 | ['common/topic/notable_types', 'computer/computer_processor/used_in_computers', 'computer/computer_processor/processor_family'] | ['0d0gvn'] | what company made <e> ? | [('0d0gvn', 'intel core 2')] | intel core 2 | computer/computer_processor/manufacturers |\n",
      "| 2 | ['common/topic/notable_types', 'education/educational_institution/colors', 'education/school/school_district'] | ['02q45pf', '0d57s_', '0dlrh8'] | what type of school is <e> | [('02q45pf', 'central high school'), ('0d57s_', 'central high school'), ('0dlrh8', 'central high school')] | central high school | education/educational_institution/school_type |\n",
      "| 3 | ['user/micahsaul/advertising/advertised_thing/ad_campaigns', 'internet/website_category/sites', 'common/topic/notable_types'] | ['0jtdp'] | name a short <e> released in 2011 | [('0jtdp', 'docu'), ('0jtdp', 'documentaires'), ('0jtdp', 'documentary')] | documentary film | film/film_genre/films_in_this_genre |\n",
      "| 4 | ['people/person/children', 'common/topic/notable_types', 'people/person/gender'] | ['0bljcm', '05mj7m'] | what is <e> 's gender | [('05mj7m', 'marc singer'), ('05mj7m', 'mark singer'), ('0bljcm', 'marc singer')] | marc singer | people/person/gender |\n",
      "| 5 | ['music/release/region', 'music/recording/tracks', 'tv/tv_series_episode/season'] | ['057vmw', '057yc8'] | what is the mpaa rating for the movie <e> | [('057vmw', 'sahara'), ('057yc8', 'sahara')] | sahara | film/film/rating |\n",
      "| 6 | ['location/location/containedby', 'music/album/artist', 'internet/top_level_domain/domain_type'] | ['06765p'] | what university sponsored <e> | [('06765p', 'lc'), ('06765p', 'louisburg college'), ('06765p', 'louisburg college, main campus')] | lc | internet/top_level_domain/sponsor |\n",
      "| 7 | ['geography/river/mouth', 'geography/river/basin_countries', 'location/location/containedby'] | ['0gfh4v'] | where does the water in the <e> come from | [('0gfh4v', 'canche'), ('0gfh4v', 'canche river')] | canche | geography/river/mouth |\n",
      "| 8 | ['common/topic/notable_types', 'music/recording/releases', 'music/recording/song'] | ['0101_4d', '01081y1', '0109vz2'] | what is the name of the title track for the recording <e> | [('0101_4d', 'venus'), ('01081y1', 'venus'), ('0109vz2', 'venus')] | venus | music/recording/tracks |\n",
      "| 9 | ['people/deceased_person/place_of_death', 'people/person/gender', 'people/person/nationality'] | ['0_1pwrn', '04wtk2', '0cwp91'] | what gender is <e> ? | [('0_1pwrn', 'david thomas'), ('04wtk2', 'david thomas'), ('0cwp91', 'david thomas')] | david thomas | people/person/gender |\n",
      "| 10 | ['music/recording/artist', 'music/release_track/recording', 'music/recording/canonical_version'] | ['0zqq13g', '0_6p96n', '0kjbv7c'] | the release track <e> is from which recording | [('0_6p96n', 'armageddon'), ('0kjbv7c', 'armageddon'), ('0zqq13g', 'armageddon')] | armageddon | music/release_track/recording |\n",
      "| 11 | ['music/release_track/recording', 'music/recording/tracks', 'tv/tv_program/country_of_origin'] | ['0l4qkv0', '0mv7wq0', '0l7h_jd'] | the release track <e> is from what body of work | [('0l4qkv0', 'cardiac arrest'), ('0l7h_jd', 'cardiac arrest'), ('0mv7wq0', 'cardiac arrest')] | cardiac arrest | music/release_track/recording |\n",
      "| 12 | ['media_common/netflix_title/netflix_genres', 'film/film/music', 'music/album/release_type'] | ['026qc5f', '03nlr5'] | which country was the film <e> from | [('026qc5f', 'the hitcher'), ('03nlr5', 'the hitcher')] | the hitcher | film/film/country |\n",
      "| 13 | ['location/postal_code/country', 'location/location/contains', 'location/location/containedby'] | ['01ztb8n'] | name an address in the postal code <e> . | [('01ztb8n', '80202'), ('01ztb8n', '80202, denver')] | 80202 | location/location/contains |\n",
      "| 14 | ['common/topic/notable_types', 'music/recording/releases', 'music/recording/tracks'] | ['0_7lyly', '0f9fkkd', '0k_72cg'] | what is the release track on <e> | [('0_7lyly', 'o holy night'), ('0f9fkkd', 'o holy night'), ('0k_72cg', 'o holy night')] | o holy night | music/release_track/recording |\n",
      "| 15 | ['media_common/netflix_title/netflix_genres', 'film/film/language', 'film/film/country'] | ['0crtr_s'] | what kind of film is <e> ? | [('0crtr_s', 'november son')] | november son | media_common/netflix_title/netflix_genres |\n",
      "| 16 | ['location/neighborhood/neighborhood_of', 'location/location/containedby'] | ['0486c5w'] | where is <e> ? | [('0486c5w', 'pine knoll vista'), ('0486c5w', 'pine knoll vista, alabama'), ('0486c5w', 'pine knoll vista, birmingham')] | pine knoll vista | location/neighborhood/neighborhood_of |\n",
      "| 17 | ['law/invention/inventor', 'people/person/gender', 'user/mt/default_domain/metabolite/chemical_species'] | ['02kgct'] | which canadian city is served by <e> > | [('02kgct', 'a man called e'), ('02kgct', 'e'), ('02kgct', 'eels')] | e | aviation/airport/serves |\n",
      "| 18 | ['music/recording/artist', 'base/skosbase/vocabulary_equivalent_topic/equivalent_concept', 'music/release/track_list'] | ['02xlf'] | what is a more specific award in the <e> category | [('02xlf', 'fiction')] | fiction | award/award_discipline/awards_in_this_discipline |\n",
      "| 19 | ['music/single/versions', 'common/topic/notable_types', 'music/recording/releases'] | ['0mx3qw9', '0mtfpx9', '0m1jnn3'] | what recording has the track <e> | [('0m1jnn3', 'the cleansing'), ('0mtfpx9', 'the cleansing'), ('0mx3qw9', 'the cleansing')] | the cleansing | music/release_track/recording |\n",
      "| 20 | ['music/release_track/recording', 'music/recording/tracks', 'music/recording/releases'] | ['0lnc43c', '0mp43b4', '0kstyh8'] | what album was <e> released from | [('0kstyh8', 'daybreak'), ('0lnc43c', 'daybreak'), ('0mp43b4', 'daybreak')] | daybreak | music/release_track/release |\n",
      "| 21 | ['media_common/media_genre/parent_genre', 'theater/theater_genre/plays_in_this_genre', 'film/film/country'] | ['0dm00', '02xht0b'] | who created the music ( <e> ? | [('02xht0b', 'sketch'), ('02xht0b', 'sketch comedy'), ('0dm00', 'sketch')] | sketch ) | visual_art/artwork/artist |\n",
      "| 22 | ['book/book_edition/place_of_publication', 'music/recording/tracks', 'music/release_track/release'] | ['0m6gd78', '0l3fskh', '0klfwcy'] | what is a recording of the song <e> ? | [('0klfwcy', 'pablo picasso'), ('0l3fskh', 'pablo picasso'), ('0m6gd78', 'pablo picasso')] | pablo picasso | music/release_track/recording |\n",
      "| 23 | ['music/recording/releases', 'music/recording/tracks', 'base/locations/countries/continent'] | ['0gdbw9f', '018z2ly', '0drgww1'] | <e> was recorded as a part of what release ? | [('018z2ly', 'congo'), ('0drgww1', 'congo'), ('0gdbw9f', 'congo')] | congo | music/recording/releases |\n",
      "| 24 | ['film/music_contributor/film', 'people/person/profession', 'music/lyricist/lyrics_written'] | ['0hpvw'] | what film is rated <e> | [('0hpvw', 'bad hair day'), ('0hpvw', 'gyllene tider'), ('0hpvw', 'peer gessle')] | pg | film/content_rating/film |\n",
      "| 25 | ['medicine/drug_formulation/active_ingredient_moieties', 'medicine/drug_formulation/active_ingredients', 'medicine/drug_formulation/legal_status'] | ['0hqs95s', '0hqrgv9', '0jxhcfy'] | what is an active ingredient in <e> ? | [('0hqrgv9', 'arnica montana, trifolium pratense, calcarea carbonica, calcarea fluorica, calcarea phosphorica, chamomilla, kreosotum, silicea, 3/12/12/12/3/12/12/12 liquid'), ('0hqrgv9', 'teething'), ('0hqs95s', 'aconitum napellus, belladonna, borax, calcarea phosphorica, chamomilla, kali phosphoricum, magnesia phosphorica, nitricum acidum, staphysagria, 30/30/3/9/8/30/6/30/8 liquid')] | teething | medicine/drug_formulation/active_ingredient_moieties |\n",
      "| 26 | ['music/recording/releases', 'music/recording/artist', 'music/recording/song'] | ['0_7cky4', '0_dm121', '0_hw3kf'] | what was released by <e> | [('0_7cky4', 'gold'), ('0_dm121', 'gold'), ('0_hw3kf', 'gold')] | gold | music/release_track/release |\n",
      "| 27 | ['medicine/drug_formulation/active_ingredient_moieties', 'medicine/drug_formulation/active_ingredients', 'medicine/drug_formulation/drug_category'] | ['0hqtcr0'] | what is the active ingredient in <e> | [('0hqtcr0', 'theophylline 4 injectable solution'), ('0hqtcr0', 'theophylline in dextrose')] | theophylline 4 injectable solution | medicine/drug_formulation/active_ingredient_moieties |\n",
      "| 28 | ['cvg/game_version/developer', 'cvg/computer_videogame/publisher', 'cvg/game_version/platform'] | ['02hlzwt', '02hm0pj'] | who published the game <e> ? | [('02hlzwt', 'venus the flytrap'), ('02hm0pj', 'venus the flytrap')] | venus the flytrap | cvg/game_version/publisher |\n",
      "| 29 | ['film/film/edited_by', 'music/artist/genre', 'music/release/region'] | ['04t11j8', '04w4qmf', '0466f2x'] | what is the subject of the book <e> ? | [('0466f2x', 'secrets'), ('04t11j8', 'secrets'), ('04w4qmf', 'geheimnisse')] | secrets | book/written_work/subjects |\n",
      "| 30 | ['people/person/religion', 'people/person/profession', 'influence/influence_node/influenced_by'] | ['078_jf'] | where is <e> born ? | [('078_jf', 'dr. william stewart halsted'), ('078_jf', 'william stewart halsted')] | william stewart halsted | people/person/nationality |\n",
      "| 31 | ['music/release/album', 'music/release/region', 'music/album/release_type'] | ['032mvsy', '0f8hlgx', '04cjhtz'] | which album contains <e> | [('032mvsy', 'untouchables'), ('04cjhtz', 'untouchables'), ('0f8hlgx', 'untouchables')] | untouchables | music/release/album |\n",
      "| 32 | ['cvg/computer_videogame/developer', 'film/film/language', 'media_common/netflix_title/netflix_genres'] | ['027ncf', '06wb73s'] | where was the movie <e> released | [('027ncf', 'blood, az utolsó vámpír'), ('027ncf', 'blood: el último vampiro'), ('027ncf', 'blood: the last vampire')] | blood : the last vampire | film/film/country |\n",
      "| 33 | ['broadcast/artist/content', 'film/film/genre', 'music/album/release_type'] | ['06412fy', '04n6blg', '0244pp9'] | what is the release type of <e> | [('0244pp9', 'soul'), ('04n6blg', 'soul'), ('06412fy', 'soul')] | soul | music/release/format |\n",
      "| 34 | ['base/lookalikes/twin/twin_members', 'music/artist/genre', 'music/album/artist'] | ['01kj0z9'] | name an album released by <e> | [('01kj0z9', 'aaron'), ('01kj0z9', 'aaron carter'), ('01kj0z9', 'aaron_carter')] | aaron carter | music/album_release_type/albums |\n",
      "| 35 | ['education/school/lowest_grade_taught', 'education/educational_institution/school_type', 'education/school/school_district'] | ['06r5dt', '026htp2'] | which level of education is <e> | [('026htp2', 'glendale high school'), ('06r5dt', 'glendale high school')] | glendale high school | education/educational_institution/school_type |\n",
      "| 36 | ['music/lyricist/lyrics_written', 'music/album/album_content_type', 'common/topic/notable_types'] | ['03wjb7'] | what is a song written by <e> ? | [('03wjb7', 'hitchcock, robyn'), ('03wjb7', 'robyn hitchcock'), ('03wjb7', 'robyn rowan hitchcock')] | robyn hitchcock | music/composer/compositions |\n",
      "| 37 | ['music/recording/artist', 'music/release_track/recording', 'music/recording/canonical_version'] | ['032ppzs', '0bfh611', '0bfj_z4'] | who is the producer of <e> | [('032ppzs', 'armageddon'), ('0bfh611', 'armageddon'), ('0bfj_z4', 'armageddon')] | armageddon | film/film/produced_by |\n",
      "| 38 | ['cvg/computer_videogame/cvg_genre', 'cvg/computer_videogame/developer', 'cvg/game_version/platform'] | ['03wj7mk', '0kyqbt6'] | what kind of computer game is <e> | [('03wj7mk', 'ninja commando'), ('0kyqbt6', 'ninja commando')] | ninja commando | cvg/computer_videogame/cvg_genre |\n",
      "| 39 | ['language/human_language/region', 'language/human_language/main_country', 'language/human_language/language_family'] | ['0czrnr'] | where is the <e> spoken | [('0czrnr', 'sose'), ('0czrnr', 'soso'), ('0czrnr', 'sosoxi language')] | susu language | language/human_language/region |\n",
      "| 40 | ['location/location/people_born_here', 'music/release_track/recording', 'music/recording/releases'] | ['0zf50', '0492m43', '011dnyr'] | what is <e> known for ? | [('011dnyr', 'ontario'), ('0492m43', 'ontario'), ('0492m43', 'ontario, kansas')] | ontario | common/topic/notable_types |\n",
      "| 41 | ['visual_art/visual_artist/artworks', 'people/person/profession', 'common/topic/notable_types'] | ['092s6g'] | what did <e> create | [('092s6g', 'judith leyster')] | judith leyster | visual_art/visual_artist/artworks |\n",
      "| 42 | ['education/school/lowest_grade_taught', 'education/school/school_district', 'education/educational_institution/school_type'] | ['077hd2', '0gckxf', '03cgj90'] | who is <e> named after ? | [('03cgj90', 'theodore roosevelt high school'), ('077hd2', 'roosevelt high school'), ('077hd2', 'theodore roosevelt high school')] | theodore roosevelt high school | symbols/namesake/named_after |\n",
      "| 43 | ['music/release_track/recording', 'music/recording/releases', 'music/recording/artist'] | ['0rd_zc2', '0tmshq4', '0lw621d'] | which release is the track <e> from | [('0lw621d', 'die in your arms'), ('0rd_zc2', 'die in your arms'), ('0tmshq4', 'die in your arms')] | die in your arms | music/release_track/release |\n",
      "| 44 | ['music/album/album_content_type', 'music/album/genre', 'music/album/release_type'] | ['03fyj3w'] | what is the name of the track list for the release <e> ? | [('03fyj3w', 'pillows & prayers'), ('03fyj3w', 'pillows & prayers: cherry red 1982-1983'), ('03fyj3w', 'pillows & prayers: cherry red 1982–1983')] | pillows & prayers : cherry red 1982 - 1983 | music/release/track_list |\n",
      "| 45 | ['music/release_track/recording', 'music/recording/releases', 'common/topic/notable_types'] | ['0khv_qy', '0rry45s', '0mgssq1'] | from what recording is <e> from | [('0khv_qy', 'billy'), ('0mgssq1', 'billy'), ('0rry45s', 'billy')] | billy | music/release_track/recording |\n",
      "| 46 | ['book/book/genre', 'book/book_edition/book', 'book/book_edition/author_editor'] | ['04vzpqf', '028yj64', '05q560t'] | what was the first original edition of <e> called | [('028yj64', 'mossflower'), ('04vzpqf', 'mossflower'), ('05q560t', 'mossflower')] | mossflower | book/book/editions |\n",
      "| 47 | ['music/recording/tracks', 'music/release/format', 'music/single/versions'] | ['04xr2b0', '04xr2c0', '04xr291'] | who published the book \" <e> \" ? | [('04xr291', 'history'), ('04xr2b0', 'history'), ('04xr2c0', 'history')] | history | book/book_edition/publisher |\n",
      "| 48 | [] | None | what type of music does arsen shomakhov play ? | None | nan | music/artist/genre |\n",
      "| 49 | ['cvg/computer_videogame/gameplay_modes', 'music/artist/genre', 'film/film/language'] | ['0j67plv'] | what is a model of <e> ? | [('0j67plv', 'lotus')] | lotus | automotive/make/model_s |\n",
      "\n"
     ]
    }
   ],
   "source": [
    "from tqdm import tqdm_notebook\n",
    "import random\n",
    "\n",
    "predicted = []\n",
    "for index, row in tqdm_notebook(df.iterrows(), total=df.shape[0]):\n",
    "    if len(row['candidate_facts']) != 0:\n",
    "        candidate_relations = list(row['candidate_facts'].keys())\n",
    "        kg_relation_probability = [sum(len(row['candidate_facts'][r][mid]) for mid in row['candidate_facts'][r])\n",
    "                                     for r in candidate_relations]\n",
    "        scores = [(row['softmax_scores'][i] *\n",
    "                   transform_probability_from_kg_to_train[r] *\n",
    "                   kg_relation_probability[i]) for i, r in enumerate(candidate_relations)]\n",
    "        max_score = max(scores)\n",
    "        predicted_relations = [r for i, r in enumerate(candidate_relations) if scores[i] == max_score]\n",
    "        predicted_relation = random.choice(predicted_relations)\n",
    "        \n",
    "        # We use the `Better than random guessing` from notebook \n",
    "        # `HYPOTHESIS - Question Refers to Multiple Subjects`.\n",
    "        subject_mid, object_mids = sorted(row['candidate_facts'][predicted_relation].items(),\n",
    "                                          key=lambda i: len(i[1]), reverse=True)[0]\n",
    "        predicted.append(tuple([predicted_relation, subject_mid, object_mids]))\n",
    "    else:\n",
    "        predicted.append(tuple([None, None, None]))\n",
    "\n",
    "evaluate(predicted)"
   ]
  },
  {
   "cell_type": "markdown",
   "metadata": {},
   "source": [
    "### Version 3: Softmax & Most Facts & Entity Relation Distribution & Ensemble\n",
    "\n",
    "In version 3, we try to ensemble 3 similary performing softmax models."
   ]
  },
  {
   "cell_type": "code",
   "execution_count": 32,
   "metadata": {},
   "outputs": [
    {
     "data": {
      "application/vnd.jupyter.widget-view+json": {
       "model_id": "b2265d2fdc334e5398aa2a6dd2b85b31",
       "version_major": 2,
       "version_minor": 0
      },
      "text/html": [
       "<p>Failed to display Jupyter Widget of type <code>HBox</code>.</p>\n",
       "<p>\n",
       "  If you're reading this message in the Jupyter Notebook or JupyterLab Notebook, it may mean\n",
       "  that the widgets JavaScript is still loading. If this message persists, it\n",
       "  likely means that the widgets JavaScript library is either not installed or\n",
       "  not enabled. See the <a href=\"https://ipywidgets.readthedocs.io/en/stable/user_install.html\">Jupyter\n",
       "  Widgets Documentation</a> for setup instructions.\n",
       "</p>\n",
       "<p>\n",
       "  If you're reading this message in another frontend (for example, a static\n",
       "  rendering on GitHub or <a href=\"https://nbviewer.jupyter.org/\">NBViewer</a>),\n",
       "  it may mean that your frontend doesn't currently support widgets.\n",
       "</p>\n"
      ],
      "text/plain": [
       "HBox(children=(IntProgress(value=0, max=10845), HTML(value='')))"
      ]
     },
     "metadata": {},
     "output_type": "display_data"
    },
    {
     "data": {
      "application/vnd.jupyter.widget-view+json": {
       "model_id": "dc39d7403e8b4ec4ba73e66496140aa4",
       "version_major": 2,
       "version_minor": 0
      },
      "text/html": [
       "<p>Failed to display Jupyter Widget of type <code>HBox</code>.</p>\n",
       "<p>\n",
       "  If you're reading this message in the Jupyter Notebook or JupyterLab Notebook, it may mean\n",
       "  that the widgets JavaScript is still loading. If this message persists, it\n",
       "  likely means that the widgets JavaScript library is either not installed or\n",
       "  not enabled. See the <a href=\"https://ipywidgets.readthedocs.io/en/stable/user_install.html\">Jupyter\n",
       "  Widgets Documentation</a> for setup instructions.\n",
       "</p>\n",
       "<p>\n",
       "  If you're reading this message in another frontend (for example, a static\n",
       "  rendering on GitHub or <a href=\"https://nbviewer.jupyter.org/\">NBViewer</a>),\n",
       "  it may mean that your frontend doesn't currently support widgets.\n",
       "</p>\n"
      ],
      "text/plain": [
       "HBox(children=(IntProgress(value=0, max=10845), HTML(value='')))"
      ]
     },
     "metadata": {},
     "output_type": "display_data"
    },
    {
     "name": "stdout",
     "output_type": "stream",
     "text": [
      "Subject & Relation Accuracy (SOTA 78.7%): 0.790779 [8576 of 10845]\n",
      "Object Accuracy: 0.844813 [9162 of 10845]\n",
      "Relation Accuracy (SOTA 88.4%): 0.886030 [9609 of 10845]\n",
      "Subject Accuracy (SOTA 79%): 0.838543 [9094 of 10845]\n",
      "Negative Sample:\n",
      "| Index | Candidate Relations (Max 3) | MIDs (Max 3) | Predicate | Predicted Subject Aliases (Max 3 MIDs) | Predicted Subject Name | True Relation |\n",
      "| --- | --- | --- | --- | --- | --- | --- |\n",
      "| 0 | ['symbols/namesake/named_after', 'people/ethnicity/languages_spoken', 'dataworld/gardening_hint/split_to'] | ['04q7gbh'] | name an <e> thoroughbread racehorse | [('04q7gbh', 'american'), ('04q7gbh', 'americans')] | american | biology/organism_classification/organisms_of_this_type |\n",
      "| 1 | ['common/topic/notable_types', 'computer/computer_processor/used_in_computers', 'computer/computer_processor/processor_family'] | ['0d0gvn'] | what company made <e> ? | [('0d0gvn', 'intel core 2')] | intel core 2 | computer/computer_processor/manufacturers |\n",
      "| 2 | ['common/topic/notable_types', 'education/educational_institution/colors', 'education/school/school_district'] | ['02q45pf', '0d57s_', '0dlrh8'] | what type of school is <e> | [('02q45pf', 'central high school'), ('0d57s_', 'central high school'), ('0dlrh8', 'central high school')] | central high school | education/educational_institution/school_type |\n",
      "| 3 | ['user/micahsaul/advertising/advertised_thing/ad_campaigns', 'internet/website_category/sites', 'common/topic/notable_types'] | ['0jtdp'] | name a short <e> released in 2011 | [('0jtdp', 'docu'), ('0jtdp', 'documentaires'), ('0jtdp', 'documentary')] | documentary film | film/film_genre/films_in_this_genre |\n",
      "| 4 | ['people/person/children', 'common/topic/notable_types', 'people/person/gender'] | ['0bljcm', '05mj7m'] | what is <e> 's gender | [('05mj7m', 'marc singer'), ('05mj7m', 'mark singer'), ('0bljcm', 'marc singer')] | marc singer | people/person/gender |\n",
      "| 5 | ['music/release/region', 'music/recording/tracks', 'tv/tv_series_episode/season'] | ['057vmw', '057yc8'] | what is the mpaa rating for the movie <e> | [('057vmw', 'sahara'), ('057yc8', 'sahara')] | sahara | film/film/rating |\n",
      "| 6 | ['location/location/containedby', 'music/album/artist', 'internet/top_level_domain/domain_type'] | ['06765p'] | what university sponsored <e> | [('06765p', 'lc'), ('06765p', 'louisburg college'), ('06765p', 'louisburg college, main campus')] | lc | internet/top_level_domain/sponsor |\n",
      "| 7 | ['geography/river/mouth', 'geography/river/basin_countries', 'location/location/containedby'] | ['0gfh4v'] | where does the water in the <e> come from | [('0gfh4v', 'canche'), ('0gfh4v', 'canche river')] | canche | geography/river/mouth |\n",
      "| 8 | ['common/topic/notable_types', 'music/recording/releases', 'music/recording/song'] | ['0101_4d', '01081y1', '0109vz2'] | what is the name of the title track for the recording <e> | [('0101_4d', 'venus'), ('01081y1', 'venus'), ('0109vz2', 'venus')] | venus | music/recording/tracks |\n",
      "| 9 | ['people/deceased_person/place_of_death', 'people/person/gender', 'people/person/nationality'] | ['0_1pwrn', '04wtk2', '0cwp91'] | what gender is <e> ? | [('0_1pwrn', 'david thomas'), ('04wtk2', 'david thomas'), ('0cwp91', 'david thomas')] | david thomas | people/person/gender |\n",
      "| 10 | ['music/recording/artist', 'music/release_track/recording', 'music/recording/canonical_version'] | ['0zqq13g', '0_6p96n', '0kjbv7c'] | the release track <e> is from which recording | [('0_6p96n', 'armageddon'), ('0kjbv7c', 'armageddon'), ('0zqq13g', 'armageddon')] | armageddon | music/release_track/recording |\n",
      "| 11 | ['music/release_track/recording', 'music/recording/tracks', 'tv/tv_program/country_of_origin'] | ['0l4qkv0', '0mv7wq0', '0l7h_jd'] | the release track <e> is from what body of work | [('0l4qkv0', 'cardiac arrest'), ('0l7h_jd', 'cardiac arrest'), ('0mv7wq0', 'cardiac arrest')] | cardiac arrest | music/release_track/recording |\n",
      "| 12 | ['media_common/netflix_title/netflix_genres', 'film/film/music', 'music/album/release_type'] | ['026qc5f', '03nlr5'] | which country was the film <e> from | [('026qc5f', 'the hitcher'), ('03nlr5', 'the hitcher')] | the hitcher | film/film/country |\n",
      "| 13 | ['location/postal_code/country', 'location/location/contains', 'location/location/containedby'] | ['01ztb8n'] | name an address in the postal code <e> . | [('01ztb8n', '80202'), ('01ztb8n', '80202, denver')] | 80202 | location/location/contains |\n",
      "| 14 | ['common/topic/notable_types', 'music/recording/releases', 'music/recording/tracks'] | ['0_7lyly', '0f9fkkd', '0k_72cg'] | what is the release track on <e> | [('0_7lyly', 'o holy night'), ('0f9fkkd', 'o holy night'), ('0k_72cg', 'o holy night')] | o holy night | music/release_track/recording |\n",
      "| 15 | ['media_common/netflix_title/netflix_genres', 'film/film/language', 'film/film/country'] | ['0crtr_s'] | what kind of film is <e> ? | [('0crtr_s', 'november son')] | november son | media_common/netflix_title/netflix_genres |\n",
      "| 16 | ['location/neighborhood/neighborhood_of', 'location/location/containedby'] | ['0486c5w'] | where is <e> ? | [('0486c5w', 'pine knoll vista'), ('0486c5w', 'pine knoll vista, alabama'), ('0486c5w', 'pine knoll vista, birmingham')] | pine knoll vista | location/neighborhood/neighborhood_of |\n",
      "| 17 | ['law/invention/inventor', 'people/person/gender', 'user/mt/default_domain/metabolite/chemical_species'] | ['05q0fv', '092f13t', '0tl0r19'] | which canadian city is served by <e> > | [('05q0fv', 'e'), ('05q0fv', 'eric erlandson'), ('05q0fv', 'eric t. erlandson')] | e | aviation/airport/serves |\n",
      "| 18 | ['music/recording/artist', 'base/skosbase/vocabulary_equivalent_topic/equivalent_concept', 'music/release/track_list'] | ['02xlf'] | what is a more specific award in the <e> category | [('02xlf', 'fiction')] | fiction | award/award_discipline/awards_in_this_discipline |\n",
      "| 19 | ['music/single/versions', 'common/topic/notable_types', 'music/recording/releases'] | ['0mx3qw9', '0mtfpx9', '0m1jnn3'] | what recording has the track <e> | [('0m1jnn3', 'the cleansing'), ('0mtfpx9', 'the cleansing'), ('0mx3qw9', 'the cleansing')] | the cleansing | music/release_track/recording |\n",
      "| 20 | ['music/release_track/recording', 'music/recording/tracks', 'music/recording/releases'] | ['0lnc43c', '0mp43b4', '0kstyh8'] | what album was <e> released from | [('0kstyh8', 'daybreak'), ('0lnc43c', 'daybreak'), ('0mp43b4', 'daybreak')] | daybreak | music/release_track/release |\n",
      "| 21 | ['media_common/media_genre/parent_genre', 'theater/theater_genre/plays_in_this_genre', 'film/film/country'] | ['0dm00', '02xht0b'] | who created the music ( <e> ? | [('02xht0b', 'sketch'), ('02xht0b', 'sketch comedy'), ('0dm00', 'sketch')] | sketch ) | visual_art/artwork/artist |\n",
      "| 22 | ['book/book_edition/place_of_publication', 'music/recording/tracks', 'music/release_track/release'] | ['0m6gd78', '0l3fskh', '0klfwcy'] | what is a recording of the song <e> ? | [('0klfwcy', 'pablo picasso'), ('0l3fskh', 'pablo picasso'), ('0m6gd78', 'pablo picasso')] | pablo picasso | music/release_track/recording |\n",
      "| 23 | ['music/recording/releases', 'music/recording/tracks', 'base/locations/countries/continent'] | ['0gdbw9f', '018z2ly', '0drgww1'] | <e> was recorded as a part of what release ? | [('018z2ly', 'congo'), ('0drgww1', 'congo'), ('0gdbw9f', 'congo')] | congo | music/recording/releases |\n",
      "| 24 | ['film/music_contributor/film', 'people/person/profession', 'music/lyricist/lyrics_written'] | ['0hpvw'] | what film is rated <e> | [('0hpvw', 'bad hair day'), ('0hpvw', 'gyllene tider'), ('0hpvw', 'peer gessle')] | pg | film/content_rating/film |\n",
      "| 25 | ['medicine/drug_formulation/active_ingredient_moieties', 'medicine/drug_formulation/active_ingredients', 'medicine/drug_formulation/legal_status'] | ['0hqs95s', '0hqrgv9', '0jxhcfy'] | what is an active ingredient in <e> ? | [('0hqrgv9', 'arnica montana, trifolium pratense, calcarea carbonica, calcarea fluorica, calcarea phosphorica, chamomilla, kreosotum, silicea, 3/12/12/12/3/12/12/12 liquid'), ('0hqrgv9', 'teething'), ('0hqs95s', 'aconitum napellus, belladonna, borax, calcarea phosphorica, chamomilla, kali phosphoricum, magnesia phosphorica, nitricum acidum, staphysagria, 30/30/3/9/8/30/6/30/8 liquid')] | teething | medicine/drug_formulation/active_ingredient_moieties |\n",
      "| 26 | ['music/recording/releases', 'music/recording/artist', 'music/recording/song'] | ['0_7cky4', '0_dm121', '0_hw3kf'] | what was released by <e> | [('0_7cky4', 'gold'), ('0_dm121', 'gold'), ('0_hw3kf', 'gold')] | gold | music/release_track/release |\n",
      "| 27 | ['medicine/drug_formulation/active_ingredient_moieties', 'medicine/drug_formulation/active_ingredients', 'medicine/drug_formulation/drug_category'] | ['0hqtcr0'] | what is the active ingredient in <e> | [('0hqtcr0', 'theophylline 4 injectable solution'), ('0hqtcr0', 'theophylline in dextrose')] | theophylline 4 injectable solution | medicine/drug_formulation/active_ingredient_moieties |\n",
      "| 28 | ['cvg/game_version/developer', 'cvg/computer_videogame/publisher', 'cvg/game_version/platform'] | ['02hlzwt', '02hm0pj'] | who published the game <e> ? | [('02hlzwt', 'venus the flytrap'), ('02hm0pj', 'venus the flytrap')] | venus the flytrap | cvg/game_version/publisher |\n",
      "| 29 | ['film/film/edited_by', 'music/artist/genre', 'music/release/region'] | ['04t11j8', '04w4qmf', '0466f2x'] | what is the subject of the book <e> ? | [('0466f2x', 'secrets'), ('04t11j8', 'secrets'), ('04w4qmf', 'geheimnisse')] | secrets | book/written_work/subjects |\n",
      "| 30 | ['people/person/religion', 'people/person/profession', 'influence/influence_node/influenced_by'] | ['078_jf'] | where is <e> born ? | [('078_jf', 'dr. william stewart halsted'), ('078_jf', 'william stewart halsted')] | william stewart halsted | people/person/nationality |\n",
      "| 31 | ['music/release/album', 'music/release/region', 'music/album/release_type'] | ['032mvsy', '0f8hlgx', '04cjhtz'] | which album contains <e> | [('032mvsy', 'untouchables'), ('04cjhtz', 'untouchables'), ('0f8hlgx', 'untouchables')] | untouchables | music/release/album |\n",
      "| 32 | ['cvg/computer_videogame/developer', 'film/film/language', 'media_common/netflix_title/netflix_genres'] | ['027ncf', '06wb73s'] | where was the movie <e> released | [('027ncf', 'blood, az utolsó vámpír'), ('027ncf', 'blood: el último vampiro'), ('027ncf', 'blood: the last vampire')] | blood : the last vampire | film/film/country |\n",
      "| 33 | ['broadcast/artist/content', 'film/film/genre', 'music/album/release_type'] | ['06412fy', '04n6blg', '0244pp9'] | what is the release type of <e> | [('0244pp9', 'soul'), ('04n6blg', 'soul'), ('06412fy', 'soul')] | soul | music/release/format |\n",
      "| 34 | ['base/lookalikes/twin/twin_members', 'music/artist/genre', 'music/album/artist'] | ['01kj0z9'] | name an album released by <e> | [('01kj0z9', 'aaron'), ('01kj0z9', 'aaron carter'), ('01kj0z9', 'aaron_carter')] | aaron carter | music/album_release_type/albums |\n",
      "| 35 | ['education/school/lowest_grade_taught', 'education/educational_institution/school_type', 'education/school/school_district'] | ['06r5dt', '026htp2'] | which level of education is <e> | [('026htp2', 'glendale high school'), ('06r5dt', 'glendale high school')] | glendale high school | education/educational_institution/school_type |\n",
      "| 36 | ['music/lyricist/lyrics_written', 'music/album/album_content_type', 'common/topic/notable_types'] | ['03wjb7'] | what is a song written by <e> ? | [('03wjb7', 'hitchcock, robyn'), ('03wjb7', 'robyn hitchcock'), ('03wjb7', 'robyn rowan hitchcock')] | robyn hitchcock | music/composer/compositions |\n",
      "| 37 | ['cvg/computer_videogame/cvg_genre', 'cvg/computer_videogame/developer', 'cvg/game_version/platform'] | ['03wj7mk', '0kyqbt6'] | what kind of computer game is <e> | [('03wj7mk', 'ninja commando'), ('0kyqbt6', 'ninja commando')] | ninja commando | cvg/computer_videogame/cvg_genre |\n",
      "| 38 | ['language/human_language/region', 'language/human_language/main_country', 'language/human_language/language_family'] | ['0czrnr'] | where is the <e> spoken | [('0czrnr', 'sose'), ('0czrnr', 'soso'), ('0czrnr', 'sosoxi language')] | susu language | language/human_language/region |\n",
      "| 39 | ['location/location/people_born_here', 'music/release_track/recording', 'music/recording/releases'] | ['0zf50', '0492m43', '011dnyr'] | what is <e> known for ? | [('011dnyr', 'ontario'), ('0492m43', 'ontario'), ('0492m43', 'ontario, kansas')] | ontario | common/topic/notable_types |\n",
      "| 40 | ['visual_art/visual_artist/artworks', 'people/person/profession', 'common/topic/notable_types'] | ['092s6g'] | what did <e> create | [('092s6g', 'judith leyster')] | judith leyster | visual_art/visual_artist/artworks |\n",
      "| 41 | ['education/school/lowest_grade_taught', 'education/school/school_district', 'education/educational_institution/school_type'] | ['077hd2', '0gckxf', '03cgj90'] | who is <e> named after ? | [('03cgj90', 'theodore roosevelt high school'), ('077hd2', 'roosevelt high school'), ('077hd2', 'theodore roosevelt high school')] | theodore roosevelt high school | symbols/namesake/named_after |\n",
      "| 42 | ['music/release_track/recording', 'music/recording/releases', 'music/recording/artist'] | ['0rd_zc2', '0tmshq4', '0lw621d'] | which release is the track <e> from | [('0lw621d', 'die in your arms'), ('0rd_zc2', 'die in your arms'), ('0tmshq4', 'die in your arms')] | die in your arms | music/release_track/release |\n",
      "| 43 | ['music/album/album_content_type', 'music/album/genre', 'music/album/release_type'] | ['03fyj3w'] | what is the name of the track list for the release <e> ? | [('03fyj3w', 'pillows & prayers'), ('03fyj3w', 'pillows & prayers: cherry red 1982-1983'), ('03fyj3w', 'pillows & prayers: cherry red 1982–1983')] | pillows & prayers : cherry red 1982 - 1983 | music/release/track_list |\n",
      "| 44 | ['music/release_track/recording', 'music/recording/releases', 'common/topic/notable_types'] | ['0khv_qy', '0rry45s', '0mgssq1'] | from what recording is <e> from | [('0khv_qy', 'billy'), ('0mgssq1', 'billy'), ('0rry45s', 'billy')] | billy | music/release_track/recording |\n",
      "| 45 | ['book/book/genre', 'book/book_edition/book', 'book/book_edition/author_editor'] | ['04vzpqf', '028yj64', '05q560t'] | what was the first original edition of <e> called | [('028yj64', 'mossflower'), ('04vzpqf', 'mossflower'), ('05q560t', 'mossflower')] | mossflower | book/book/editions |\n",
      "| 46 | ['music/recording/tracks', 'music/release/format', 'music/single/versions'] | ['04xr2b0', '04xr2c0', '04xr291'] | who published the book \" <e> \" ? | [('04xr291', 'history'), ('04xr2b0', 'history'), ('04xr2c0', 'history')] | history | book/book_edition/publisher |\n",
      "| 47 | [] | None | what type of music does arsen shomakhov play ? | None | nan | music/artist/genre |\n",
      "| 48 | ['cvg/computer_videogame/gameplay_modes', 'music/artist/genre', 'film/film/language'] | ['0j67plv'] | what is a model of <e> ? | [('0j67plv', 'lotus')] | lotus | automotive/make/model_s |\n",
      "| 49 | ['common/topic/notable_types', 'music/composition/lyricist', 'people/deceased_person/place_of_death'] | ['02zk_m', '02rhmx4', '074q2h'] | what is the birth place of <e> aiona | [('02rhmx4', 'james'), ('02rhmx4', 'jim castillo'), ('02zk_m', 'daren james')] | james | people/person/place_of_birth |\n",
      "\n"
     ]
    }
   ],
   "source": [
    "from tqdm import tqdm_notebook\n",
    "import random\n",
    "\n",
    "predicted = []\n",
    "for index, row in tqdm_notebook(df.iterrows(), total=df.shape[0]):\n",
    "    if len(row['candidate_facts']) != 0:\n",
    "        candidate_relations = list(row['candidate_facts'].keys())\n",
    "        kg_relation_probability = [sum(len(row['candidate_facts'][r][mid]) for mid in row['candidate_facts'][r])\n",
    "                                     for r in candidate_relations]\n",
    "        scores = [(row['softmax_ensemble_scores'][i] *\n",
    "                   transform_probability_from_kg_to_train[r] *\n",
    "                   kg_relation_probability[i]) for i, r in enumerate(candidate_relations)]\n",
    "        max_score = max(scores)\n",
    "        predicted_relations = [r for i, r in enumerate(candidate_relations) if scores[i] == max_score]\n",
    "        predicted_relation = random.choice(predicted_relations)\n",
    "        \n",
    "        # We use the `Better than random guessing` from notebook \n",
    "        # `HYPOTHESIS - Question Refers to Multiple Subjects`.\n",
    "        subject_mid, object_mids = sorted(row['candidate_facts'][predicted_relation].items(),\n",
    "                                          key=lambda i: len(i[1]), reverse=True)[0]\n",
    "        predicted.append(tuple([predicted_relation, subject_mid, object_mids]))\n",
    "    else:\n",
    "        predicted.append(tuple([None, None, None]))\n",
    "\n",
    "evaluate(predicted)"
   ]
  }
 ],
 "metadata": {
  "kernelspec": {
   "display_name": "Python 3",
   "language": "python",
   "name": "python3"
  },
  "language_info": {
   "codemirror_mode": {
    "name": "ipython",
    "version": 3
   },
   "file_extension": ".py",
   "mimetype": "text/x-python",
   "name": "python",
   "nbconvert_exporter": "python",
   "pygments_lexer": "ipython3",
   "version": "3.6.4"
  }
 },
 "nbformat": 4,
 "nbformat_minor": 2
}
