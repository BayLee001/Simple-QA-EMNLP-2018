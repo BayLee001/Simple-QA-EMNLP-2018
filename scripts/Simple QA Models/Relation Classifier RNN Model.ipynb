{
 "cells": [
  {
   "cell_type": "markdown",
   "metadata": {},
   "source": [
    "# Relation Classifier RNN Model\n",
    "\n",
    "Our goal here is to implement a relation model. Our goal is to do basic relation classification.\n",
    "\n",
    "First things first, set up the initial configuration."
   ]
  },
  {
   "cell_type": "code",
   "execution_count": 1,
   "metadata": {},
   "outputs": [
    {
     "name": "stdout",
     "output_type": "stream",
     "text": [
      "2018-01-15 10:53:11,397 | INFO : Device: 0\n",
      "2018-01-15 10:53:11,398 | INFO : Seed: 123\n"
     ]
    }
   ],
   "source": [
    "import sys\n",
    "import pandas as pd\n",
    "import logging\n",
    "sys.path.insert(0, '../../')\n",
    "\n",
    "from lib.utils import setup_training\n",
    "\n",
    "# Create root logger\n",
    "logging.basicConfig(format='%(asctime)s | %(levelname)s : %(message)s',\n",
    "                     level=logging.INFO, stream=sys.stdout)\n",
    "\n",
    "random_seed = 123\n",
    "device = 0\n",
    "is_cuda, _ = setup_training(device, random_seed) \n",
    "# Async minibatch allocation for speed\n",
    "# Reference: http://timdettmers.com/2015/03/09/deep-learning-hardware-guide/\n",
    "# TODO: look into cuda_async device=device\n",
    "cuda_async = lambda t: t.cuda(async=True) if is_cuda else t  # Use with tensors\n",
    "cuda = lambda t: t.cuda(device=device) if is_cuda else t  # Use with nn.modules"
   ]
  },
  {
   "cell_type": "markdown",
   "metadata": {},
   "source": [
    "## Dataset\n",
    "\n",
    "Load our dataset. Log a couple rows."
   ]
  },
  {
   "cell_type": "code",
   "execution_count": 2,
   "metadata": {},
   "outputs": [],
   "source": [
    "import os \n",
    "from lib.datasets.dataset import Dataset\n",
    "\n",
    "def simple_qa_predicate(directory='../../data/relation_classifier',\n",
    "                        train=False,\n",
    "                        dev=False,\n",
    "                        test=False,\n",
    "                        train_filename='train.txt',\n",
    "                        dev_filename='dev.txt',\n",
    "                        test_filename='test.txt'):\n",
    "    \"\"\"\n",
    "    Sample Data:\n",
    "        Input: what is the book e about?\n",
    "        Output: www.freebase.com/book/written_work/subjects\n",
    "    \"\"\"\n",
    "    ret = []\n",
    "    datasets = [(train, train_filename), (dev, dev_filename), (test, test_filename)]\n",
    "    for is_requested, filename in datasets:\n",
    "        if not is_requested:\n",
    "            continue\n",
    "        full_path = os.path.join(directory, filename)\n",
    "        data = pd.read_table(\n",
    "            full_path, header=None, names=['question', 'relation'])\n",
    "        rows = []\n",
    "        for _, row in data.iterrows():\n",
    "            rows.append({'text': row['question'].strip(), 'relation': row['relation']})\n",
    "        ret.append(Dataset(rows))\n",
    "\n",
    "    if len(ret) == 1:\n",
    "        return ret[0]\n",
    "    else:\n",
    "        return tuple(ret)"
   ]
  },
  {
   "cell_type": "code",
   "execution_count": 3,
   "metadata": {},
   "outputs": [
    {
     "name": "stdout",
     "output_type": "stream",
     "text": [
      "Num Training Data: 74520\n",
      "Train Sample:\n"
     ]
    },
    {
     "data": {
      "text/html": [
       "<div>\n",
       "<style scoped>\n",
       "    .dataframe tbody tr th:only-of-type {\n",
       "        vertical-align: middle;\n",
       "    }\n",
       "\n",
       "    .dataframe tbody tr th {\n",
       "        vertical-align: top;\n",
       "    }\n",
       "\n",
       "    .dataframe thead th {\n",
       "        text-align: right;\n",
       "    }\n",
       "</style>\n",
       "<table border=\"1\" class=\"dataframe\">\n",
       "  <thead>\n",
       "    <tr style=\"text-align: right;\">\n",
       "      <th></th>\n",
       "      <th>relation</th>\n",
       "      <th>text</th>\n",
       "    </tr>\n",
       "  </thead>\n",
       "  <tbody>\n",
       "    <tr>\n",
       "      <th>0</th>\n",
       "      <td>book/written_work/subjects</td>\n",
       "      <td>what is the book &lt;e&gt; about</td>\n",
       "    </tr>\n",
       "    <tr>\n",
       "      <th>1</th>\n",
       "      <td>music/release_track/release</td>\n",
       "      <td>to what release does the release track &lt;e&gt; com...</td>\n",
       "    </tr>\n",
       "    <tr>\n",
       "      <th>2</th>\n",
       "      <td>film/film/country</td>\n",
       "      <td>what country was the film &lt;e&gt; from</td>\n",
       "    </tr>\n",
       "    <tr>\n",
       "      <th>3</th>\n",
       "      <td>music/producer/tracks_produced</td>\n",
       "      <td>what songs have &lt;e&gt; produced ?</td>\n",
       "    </tr>\n",
       "    <tr>\n",
       "      <th>4</th>\n",
       "      <td>music/release/producers</td>\n",
       "      <td>who produced &lt;e&gt; ?</td>\n",
       "    </tr>\n",
       "  </tbody>\n",
       "</table>\n",
       "</div>"
      ],
      "text/plain": [
       "                         relation  \\\n",
       "0      book/written_work/subjects   \n",
       "1     music/release_track/release   \n",
       "2               film/film/country   \n",
       "3  music/producer/tracks_produced   \n",
       "4         music/release/producers   \n",
       "\n",
       "                                                text  \n",
       "0                         what is the book <e> about  \n",
       "1  to what release does the release track <e> com...  \n",
       "2                 what country was the film <e> from  \n",
       "3                     what songs have <e> produced ?  \n",
       "4                                 who produced <e> ?  "
      ]
     },
     "metadata": {},
     "output_type": "display_data"
    },
    {
     "name": "stdout",
     "output_type": "stream",
     "text": [
      "Num Development Data: 10648\n",
      "Development Sample:\n"
     ]
    },
    {
     "data": {
      "text/html": [
       "<div>\n",
       "<style scoped>\n",
       "    .dataframe tbody tr th:only-of-type {\n",
       "        vertical-align: middle;\n",
       "    }\n",
       "\n",
       "    .dataframe tbody tr th {\n",
       "        vertical-align: top;\n",
       "    }\n",
       "\n",
       "    .dataframe thead th {\n",
       "        text-align: right;\n",
       "    }\n",
       "</style>\n",
       "<table border=\"1\" class=\"dataframe\">\n",
       "  <thead>\n",
       "    <tr style=\"text-align: right;\">\n",
       "      <th></th>\n",
       "      <th>relation</th>\n",
       "      <th>text</th>\n",
       "    </tr>\n",
       "  </thead>\n",
       "  <tbody>\n",
       "    <tr>\n",
       "      <th>0</th>\n",
       "      <td>symbols/namesake/named_after</td>\n",
       "      <td>who was the &lt;e&gt; named after</td>\n",
       "    </tr>\n",
       "    <tr>\n",
       "      <th>1</th>\n",
       "      <td>people/person/place_of_birth</td>\n",
       "      <td>where was &lt;e&gt; born</td>\n",
       "    </tr>\n",
       "    <tr>\n",
       "      <th>2</th>\n",
       "      <td>music/release/region</td>\n",
       "      <td>what is a region that &lt;e&gt; was released in</td>\n",
       "    </tr>\n",
       "    <tr>\n",
       "      <th>3</th>\n",
       "      <td>film/director/film</td>\n",
       "      <td>what is a film directed by &lt;e&gt; ?</td>\n",
       "    </tr>\n",
       "    <tr>\n",
       "      <th>4</th>\n",
       "      <td>music/release/region</td>\n",
       "      <td>what country was &lt;e&gt;   released in</td>\n",
       "    </tr>\n",
       "  </tbody>\n",
       "</table>\n",
       "</div>"
      ],
      "text/plain": [
       "                       relation                                       text\n",
       "0  symbols/namesake/named_after                who was the <e> named after\n",
       "1  people/person/place_of_birth                         where was <e> born\n",
       "2          music/release/region  what is a region that <e> was released in\n",
       "3            film/director/film           what is a film directed by <e> ?\n",
       "4          music/release/region         what country was <e>   released in"
      ]
     },
     "metadata": {},
     "output_type": "display_data"
    }
   ],
   "source": [
    "train_dataset, dev_dataset = simple_qa_predicate(train=True, dev=True, test=False)\n",
    "\n",
    "print('Num Training Data: %d' % len(train_dataset))\n",
    "print('Train Sample:')\n",
    "display(pd.DataFrame(train_dataset[:5]))\n",
    "print('Num Development Data: %d' % len(dev_dataset))\n",
    "print('Development Sample:')\n",
    "display(pd.DataFrame(dev_dataset[:5]))"
   ]
  },
  {
   "cell_type": "markdown",
   "metadata": {},
   "source": [
    "## Encode Text\n",
    "\n",
    "Here we encode our data into a numerical format. "
   ]
  },
  {
   "cell_type": "code",
   "execution_count": 4,
   "metadata": {},
   "outputs": [
    {
     "name": "stdout",
     "output_type": "stream",
     "text": [
      "Text encoder vocab size: 5877\n",
      "Relation encoder vocab size: 1691\n"
     ]
    }
   ],
   "source": [
    "from lib.text_encoders import IdentityEncoder\n",
    "from lib.text_encoders import WordEncoder\n",
    "\n",
    "# NOTE: Given the development vocab might be cheating if we use any statistics from that...\n",
    "text_encoder = WordEncoder(train_dataset['text'] + dev_dataset['text'], lower=True, append_eos=False)\n",
    "print('Text encoder vocab size: %d' % text_encoder.vocab_size)\n",
    "relation_encoder = IdentityEncoder(train_dataset['relation'] + dev_dataset['relation'])\n",
    "print('Relation encoder vocab size: %d' % relation_encoder.vocab_size)\n",
    "\n",
    "for dataset in [train_dataset, dev_dataset]:\n",
    "    for row in dataset:\n",
    "        row['text'] = text_encoder.encode(row['text'])\n",
    "        row['relation'] = relation_encoder.encode(row['relation'])"
   ]
  },
  {
   "cell_type": "markdown",
   "metadata": {},
   "source": [
    "# Loss\n",
    "\n",
    "Instantiate the loss."
   ]
  },
  {
   "cell_type": "code",
   "execution_count": 5,
   "metadata": {},
   "outputs": [],
   "source": [
    "from torch.nn.modules.loss import NLLLoss\n",
    "\n",
    "criterion = cuda(NLLLoss())"
   ]
  },
  {
   "cell_type": "markdown",
   "metadata": {},
   "source": [
    "## Hyperparameters\n",
    "\n",
    "Set up the hyperparameters for our model. We use `lib.configurable` to setup arguments."
   ]
  },
  {
   "cell_type": "code",
   "execution_count": 6,
   "metadata": {},
   "outputs": [
    {
     "name": "stdout",
     "output_type": "stream",
     "text": [
      "2018-01-15 10:53:17,350 | INFO : Checking configuration...\n",
      "2018-01-15 10:53:17,355 | INFO : Configuration checked.\n",
      "2018-01-15 10:53:17,355 | INFO : Global configuration:\n",
      "2018-01-15 10:53:17,357 | INFO : {   'lib': {   'nn': {   'seq_to_label': {   'SeqToLabel': {   '__init__': {   'bidirectional': True,\n",
      "                                                                               'decode_dropout': 0.3,\n",
      "                                                                               'embedding_dropout': 0.3,\n",
      "                                                                               'embedding_size': 300,\n",
      "                                                                               'freeze_embeddings': True,\n",
      "                                                                               'rnn_cell': 'lstm',\n",
      "                                                                               'rnn_layers': 2,\n",
      "                                                                               'rnn_size': 300,\n",
      "                                                                               'rnn_variational_dropout': 0.3}}}},\n",
      "               'optim': {'Optimizer': {'__init__': {'max_grad_norm': None}}}},\n",
      "    'torch': {   'optim': {   'adam': {   'Adam': {   '__init__': {   'lr': 0.0001,\n",
      "                                                                      'weight_decay': 0}}}}}}\n"
     ]
    }
   ],
   "source": [
    "from torch.optim import Adam\n",
    "from lib.configurable import configurable\n",
    "from lib.configurable import add_config\n",
    "from lib.configurable import log_config\n",
    "\n",
    "\n",
    "Adam.__init__ = configurable(Adam.__init__)\n",
    "\n",
    "embedding_size = 300\n",
    "\n",
    "SIMPLE_PREDICATE_HYPERPARAMETERS = {\n",
    "    'lib': {\n",
    "        'nn.seq_to_label.SeqToLabel.__init__': {\n",
    "            'bidirectional': True,\n",
    "            'embedding_size': embedding_size,\n",
    "            'rnn_size': 300,\n",
    "            'freeze_embeddings': True,\n",
    "            'rnn_cell': 'lstm',\n",
    "            'decode_dropout': 0.3,  # dropout before fully connected layer in RNN\n",
    "            'rnn_layers': 2,\n",
    "            'rnn_variational_dropout': 0.3,\n",
    "            'embedding_dropout': 0.3\n",
    "        },\n",
    "        'optim.Optimizer.__init__.max_grad_norm': None,\n",
    "    },\n",
    "    'torch.optim.adam.Adam.__init__': {\n",
    "        'lr': 1e-4,\n",
    "        'weight_decay': 0,\n",
    "    }\n",
    "}\n",
    "\n",
    "add_config(SIMPLE_PREDICATE_HYPERPARAMETERS)\n",
    "log_config()"
   ]
  },
  {
   "cell_type": "markdown",
   "metadata": {},
   "source": [
    "# Model\n",
    "\n",
    "Instantiate the model."
   ]
  },
  {
   "cell_type": "code",
   "execution_count": 7,
   "metadata": {},
   "outputs": [
    {
     "name": "stdout",
     "output_type": "stream",
     "text": [
      "2018-01-15 10:53:17,364 | INFO : Loading vectors from ./../../.pretrained_embeddings_cache/wiki.en.vec.pt\n"
     ]
    }
   ],
   "source": [
    "import torch\n",
    "from lib.pretrained_embeddings import FastText\n",
    "\n",
    "# Load embeddings\n",
    "unk_init = lambda t: torch.FloatTensor(t).uniform_(-0.1, 0.1)\n",
    "pretrained_embedding = FastText(language='en', cache='./../../.pretrained_embeddings_cache')\n",
    "embedding_weights = torch.Tensor(text_encoder.vocab_size, pretrained_embedding.dim)\n",
    "for i, token in enumerate(text_encoder.vocab):\n",
    "    embedding_weights[i] = pretrained_embedding[token]"
   ]
  },
  {
   "cell_type": "code",
   "execution_count": 8,
   "metadata": {},
   "outputs": [],
   "source": [
    "from lib.nn import SeqToLabel\n",
    "\n",
    "def make_model():\n",
    "    model = SeqToLabel(text_encoder.vocab_size, relation_encoder.vocab_size)\n",
    "    for param in model.parameters():\n",
    "        param.data.uniform_(-0.1, 0.1)\n",
    "\n",
    "    model.encoder.embedding.weight.data.copy_(embedding_weights)\n",
    "\n",
    "    cuda(model)\n",
    "    return model"
   ]
  },
  {
   "cell_type": "markdown",
   "metadata": {},
   "source": [
    "## Gradient Descent Optimizer \n",
    "\n",
    "Instantiate the gradient descent optimizer."
   ]
  },
  {
   "cell_type": "code",
   "execution_count": 9,
   "metadata": {},
   "outputs": [],
   "source": [
    "from lib.optim import Optimizer\n",
    "\n",
    "# https://github.com/pytorch/pytorch/issues/679\n",
    "def make_optimizer():\n",
    "    params = filter(lambda p: p.requires_grad, model.parameters())\n",
    "    optimizer = Optimizer(Adam(params=params))\n",
    "    return optimizer"
   ]
  },
  {
   "cell_type": "markdown",
   "metadata": {},
   "source": [
    "## Training Loop\n",
    "\n",
    "Below here, we do a training loop over a number of epochs."
   ]
  },
  {
   "cell_type": "code",
   "execution_count": 10,
   "metadata": {},
   "outputs": [],
   "source": [
    "import torch\n",
    "from torch.autograd import Variable\n",
    "from lib.utils import pad_batch\n",
    "\n",
    "# Defines how to combine a batch of rows into a tensor\n",
    "def collate_fn(batch, train=True):\n",
    "    \"\"\" list of tensors to a batch variable \"\"\"\n",
    "    # PyTorch RNN requires sorting decreasing size\n",
    "    batch = sorted(batch, key=lambda row: len(row['text']), reverse=True)\n",
    "    input_batch, input_lengths = pad_batch([row['text'] for row in batch])\n",
    "    relations = [row['relation'] for row in batch]\n",
    "\n",
    "    # PyTorch RNN requires batches to be transposed for speed and integration with CUDA\n",
    "    to_variable = (\n",
    "        lambda b: Variable(torch.stack(b).t_().squeeze(0).contiguous(), volatile=not train))\n",
    "\n",
    "    return (to_variable(input_batch), torch.LongTensor(input_lengths), to_variable(relations))"
   ]
  },
  {
   "cell_type": "code",
   "execution_count": 11,
   "metadata": {},
   "outputs": [],
   "source": [
    "from lib.samplers import BucketBatchSampler\n",
    "from lib.samplers import SortedSampler\n",
    "\n",
    "\n",
    "sort_key = lambda r: r['text'].size()[0]\n",
    "def get_train_iterator():\n",
    "    # Use bucket sampling to group similar sized text but with noise + random\n",
    "    batch_sampler = BucketBatchSampler(train_dataset, sort_key, train_max_batch_size)\n",
    "    return DataLoader(\n",
    "        train_dataset,\n",
    "        batch_sampler=batch_sampler,\n",
    "        collate_fn=collate_fn,\n",
    "        pin_memory=is_cuda,\n",
    "        num_workers=0)\n",
    "\n",
    "\n",
    "def get_dev_iterator():\n",
    "    # Use sorted sampler for speed\n",
    "    return DataLoader(\n",
    "        dev_dataset,\n",
    "        batch_size=dev_max_batch_size,\n",
    "        sampler=SortedSampler(dev_dataset, sort_key, sort_noise=0.0),\n",
    "        collate_fn=partial(collate_fn, train=False),\n",
    "        pin_memory=is_cuda,\n",
    "        num_workers=0)"
   ]
  },
  {
   "cell_type": "code",
   "execution_count": 12,
   "metadata": {},
   "outputs": [
    {
     "name": "stdout",
     "output_type": "stream",
     "text": [
      "2018-01-15 10:53:19,943 | INFO : seq_to_label.SeqToLabel.__init__ was configured with:\n",
      "{   'bidirectional': True,\n",
      "    'decode_dropout': 0.3,\n",
      "    'embedding_dropout': 0.3,\n",
      "    'embedding_size': 300,\n",
      "    'freeze_embeddings': True,\n",
      "    'input_vocab_size': 5877,\n",
      "    'output_vocab_size': 1691,\n",
      "    'rnn_cell': 'lstm',\n",
      "    'rnn_layers': 2,\n",
      "    'rnn_size': 300,\n",
      "    'rnn_variational_dropout': 0.3}\n",
      "2018-01-15 10:53:19,944 | INFO : seq_encoder.SeqEncoder.__init__ no config for: lib.nn.seq_encoder.SeqEncoder.__init__\n",
      "2018-01-15 10:53:19,945 | INFO : seq_encoder.SeqEncoder.__init__ was configured with:\n",
      "{   'bidirectional': True,\n",
      "    'embedding_dropout': 0.3,\n",
      "    'embedding_size': 300,\n",
      "    'freeze_embeddings': True,\n",
      "    'n_layers': 2,\n",
      "    'rnn_cell': 'lstm',\n",
      "    'rnn_size': 300,\n",
      "    'rnn_variational_dropout': 0.3,\n",
      "    'vocab_size': 5877}\n",
      "2018-01-15 10:53:22,091 | INFO : adam.Adam.__init__ was configured with:\n",
      "{'lr': 0.0001, 'params': <filter object at 0x7fc1c459c898>, 'weight_decay': 0}\n",
      "2018-01-15 10:53:22,092 | INFO : optim.Optimizer.__init__ was configured with:\n",
      "{   'max_grad_norm': None,\n",
      "    'optim': <torch.optim.adam.Adam object at 0x7fc1c459cf60>}\n",
      "Log Directory: ./../../logs/0000.01-15_10:53:19.relation_classifier\n",
      "Devevelopment Max Batch Size: 128\n",
      "Train Max Batch Size: 16\n",
      "Epochs: 50\n",
      "Total Parameters: 1684691\n",
      "Model:\n",
      "SeqToLabel(\n",
      "  (encoder): SeqEncoder(\n",
      "    (embedding): Embedding(5877, 300, padding_idx=0)\n",
      "    (rnn): LSTM(300, 150, num_layers=2, dropout=0.3, bidirectional=True)\n",
      "    (rnn_dropout): LockedDropout(\n",
      "    )\n",
      "    (embedding_dropout): Dropout(p=0.3)\n",
      "  )\n",
      "  (out): Sequential(\n",
      "    (0): Linear(in_features=300, out_features=300)\n",
      "    (1): BatchNorm1d(300, eps=1e-05, momentum=0.1, affine=True)\n",
      "    (2): ReLU()\n",
      "    (3): Dropout(p=0.3)\n",
      "    (4): Linear(in_features=300, out_features=1691)\n",
      "  )\n",
      ")\n"
     ]
    }
   ],
   "source": [
    "from lib.utils import get_total_parameters\n",
    "from lib.utils import get_log_directory_path\n",
    "\n",
    "epochs = 50\n",
    "train_max_batch_size = 16\n",
    "dev_max_batch_size = 128\n",
    "log_directory = get_log_directory_path('relation_classifier', './../../logs')\n",
    "model = make_model()\n",
    "optimizer = make_optimizer()\n",
    "\n",
    "print('Log Directory: %s' % log_directory)\n",
    "print('Devevelopment Max Batch Size: %s' % dev_max_batch_size)\n",
    "print('Train Max Batch Size: %s' % train_max_batch_size)\n",
    "print('Epochs: %s' % epochs)\n",
    "print('Total Parameters: %d' % get_total_parameters(model))\n",
    "print('Model:\\n%s' % model)"
   ]
  },
  {
   "cell_type": "code",
   "execution_count": 13,
   "metadata": {
    "scrolled": true
   },
   "outputs": [
    {
     "name": "stdout",
     "output_type": "stream",
     "text": [
      "Epoch 0\n"
     ]
    },
    {
     "data": {
      "application/vnd.jupyter.widget-view+json": {
       "model_id": "639378df01b94ba391d0290899dd9dcc",
       "version_major": 2,
       "version_minor": 0
      },
      "text/html": [
       "<p>Failed to display Jupyter Widget of type <code>HBox</code>.</p>\n",
       "<p>\n",
       "  If you're reading this message in the Jupyter Notebook or JupyterLab Notebook, it may mean\n",
       "  that the widgets JavaScript is still loading. If this message persists, it\n",
       "  likely means that the widgets JavaScript library is either not installed or\n",
       "  not enabled. See the <a href=\"https://ipywidgets.readthedocs.io/en/stable/user_install.html\">Jupyter\n",
       "  Widgets Documentation</a> for setup instructions.\n",
       "</p>\n",
       "<p>\n",
       "  If you're reading this message in another frontend (for example, a static\n",
       "  rendering on GitHub or <a href=\"https://nbviewer.jupyter.org/\">NBViewer</a>),\n",
       "  it may mean that your frontend doesn't currently support widgets.\n",
       "</p>\n"
      ],
      "text/plain": [
       "HBox(children=(IntProgress(value=0, max=4658), HTML(value='')))"
      ]
     },
     "metadata": {},
     "output_type": "display_data"
    },
    {
     "name": "stderr",
     "output_type": "stream",
     "text": [
      "../../lib/nn/seq_to_label.py:52: UserWarning: Implicit dimension choice for log_softmax has been deprecated. Change the call to include dim=X as an argument.\n",
      "  scores = F.log_softmax(output)\n"
     ]
    },
    {
     "name": "stdout",
     "output_type": "stream",
     "text": [
      "\n",
      "2018-01-15 10:53:49,306 | INFO : Saving checkpoint 01m_15d_10h_53m_49s.pt\n"
     ]
    },
    {
     "data": {
      "application/vnd.jupyter.widget-view+json": {
       "model_id": "7ec79897f45043959af8c435db8a7283",
       "version_major": 2,
       "version_minor": 0
      },
      "text/html": [
       "<p>Failed to display Jupyter Widget of type <code>HBox</code>.</p>\n",
       "<p>\n",
       "  If you're reading this message in the Jupyter Notebook or JupyterLab Notebook, it may mean\n",
       "  that the widgets JavaScript is still loading. If this message persists, it\n",
       "  likely means that the widgets JavaScript library is either not installed or\n",
       "  not enabled. See the <a href=\"https://ipywidgets.readthedocs.io/en/stable/user_install.html\">Jupyter\n",
       "  Widgets Documentation</a> for setup instructions.\n",
       "</p>\n",
       "<p>\n",
       "  If you're reading this message in another frontend (for example, a static\n",
       "  rendering on GitHub or <a href=\"https://nbviewer.jupyter.org/\">NBViewer</a>),\n",
       "  it may mean that your frontend doesn't currently support widgets.\n",
       "</p>\n"
      ],
      "text/plain": [
       "HBox(children=(IntProgress(value=0, max=84), HTML(value='')))"
      ]
     },
     "metadata": {},
     "output_type": "display_data"
    },
    {
     "name": "stdout",
     "output_type": "stream",
     "text": [
      "\n",
      "2018-01-15 10:53:49,915 | INFO : Random Sample:\n",
      "\n",
      "Positive Samples:\n",
      "                           Source                                 Target  \\\n",
      "0               where did <e> die  people/deceased_person/place_of_death   \n",
      "1      what kind of film is <e> ?                        film/film/genre   \n",
      "2              name <e> 's gender                   people/person/gender   \n",
      "3  what album was <e> released on            music/release_track/release   \n",
      "4                     what is <e>             common/topic/notable_types   \n",
      "\n",
      "                              Prediction  \n",
      "0  people/deceased_person/place_of_death  \n",
      "1                        film/film/genre  \n",
      "2                   people/person/gender  \n",
      "3            music/release_track/release  \n",
      "4             common/topic/notable_types  \n",
      "\n",
      "Negative Samples:\n",
      "                                    Source  \\\n",
      "0                what license is <e> under   \n",
      "1  who was the publisher that released <e>   \n",
      "2                             name a <e> .   \n",
      "3                    who did <e> influence   \n",
      "4         what is the release track on <e>   \n",
      "\n",
      "                                Target  \\\n",
      "0       common/licensed_object/license   \n",
      "1     cvg/computer_videogame/publisher   \n",
      "2      music/album_content_type/albums   \n",
      "3  influence/influence_node/influenced   \n",
      "4                  music/release/track   \n",
      "\n",
      "                                      Prediction  \n",
      "0                     common/topic/notable_types  \n",
      "1                             music/album/artist  \n",
      "2  people/profession/people_with_this_profession  \n",
      "3                          people/person/parents  \n",
      "4                    music/release_track/release  \n",
      "\n",
      "Loss: 2.480\n",
      "2018-01-15 10:53:49,981 | INFO : Accuracy: 0.5570060105184073 [5931 of 10648]\n",
      "2018-01-15 10:53:50,300 | INFO : Accuracy Top 3: 0.6901765589782118 [7349 of 10648]\n",
      "2018-01-15 10:53:50,621 | INFO : Accuracy Top 5: 0.7333771600300526 [7809 of 10648]\n",
      "\n",
      "Epoch 1\n"
     ]
    },
    {
     "data": {
      "application/vnd.jupyter.widget-view+json": {
       "model_id": "19f8815046824a84b1e68a87b8c6bd66",
       "version_major": 2,
       "version_minor": 0
      },
      "text/html": [
       "<p>Failed to display Jupyter Widget of type <code>HBox</code>.</p>\n",
       "<p>\n",
       "  If you're reading this message in the Jupyter Notebook or JupyterLab Notebook, it may mean\n",
       "  that the widgets JavaScript is still loading. If this message persists, it\n",
       "  likely means that the widgets JavaScript library is either not installed or\n",
       "  not enabled. See the <a href=\"https://ipywidgets.readthedocs.io/en/stable/user_install.html\">Jupyter\n",
       "  Widgets Documentation</a> for setup instructions.\n",
       "</p>\n",
       "<p>\n",
       "  If you're reading this message in another frontend (for example, a static\n",
       "  rendering on GitHub or <a href=\"https://nbviewer.jupyter.org/\">NBViewer</a>),\n",
       "  it may mean that your frontend doesn't currently support widgets.\n",
       "</p>\n"
      ],
      "text/plain": [
       "HBox(children=(IntProgress(value=0, max=4658), HTML(value='')))"
      ]
     },
     "metadata": {},
     "output_type": "display_data"
    },
    {
     "name": "stdout",
     "output_type": "stream",
     "text": [
      "\n",
      "2018-01-15 10:54:16,598 | INFO : Saving checkpoint 01m_15d_10h_54m_16s.pt\n"
     ]
    },
    {
     "data": {
      "application/vnd.jupyter.widget-view+json": {
       "model_id": "847cd631b3504901a1817e4f84d0fa2c",
       "version_major": 2,
       "version_minor": 0
      },
      "text/html": [
       "<p>Failed to display Jupyter Widget of type <code>HBox</code>.</p>\n",
       "<p>\n",
       "  If you're reading this message in the Jupyter Notebook or JupyterLab Notebook, it may mean\n",
       "  that the widgets JavaScript is still loading. If this message persists, it\n",
       "  likely means that the widgets JavaScript library is either not installed or\n",
       "  not enabled. See the <a href=\"https://ipywidgets.readthedocs.io/en/stable/user_install.html\">Jupyter\n",
       "  Widgets Documentation</a> for setup instructions.\n",
       "</p>\n",
       "<p>\n",
       "  If you're reading this message in another frontend (for example, a static\n",
       "  rendering on GitHub or <a href=\"https://nbviewer.jupyter.org/\">NBViewer</a>),\n",
       "  it may mean that your frontend doesn't currently support widgets.\n",
       "</p>\n"
      ],
      "text/plain": [
       "HBox(children=(IntProgress(value=0, max=84), HTML(value='')))"
      ]
     },
     "metadata": {},
     "output_type": "display_data"
    },
    {
     "name": "stdout",
     "output_type": "stream",
     "text": [
      "\n",
      "2018-01-15 10:54:17,168 | INFO : Random Sample:\n",
      "\n",
      "Positive Samples:\n",
      "                           Source                               Target  \\\n",
      "0       what nationality is <e> ?            people/person/nationality   \n",
      "1  which position does <e> play ?    soccer/football_player/position_s   \n",
      "2     what is an example of a <e>  film/film_genre/films_in_this_genre   \n",
      "3      what is the subject of <e>           book/written_work/subjects   \n",
      "4                who directed <e>                film/film/directed_by   \n",
      "\n",
      "                            Prediction  \n",
      "0            people/person/nationality  \n",
      "1    soccer/football_player/position_s  \n",
      "2  film/film_genre/films_in_this_genre  \n",
      "3           book/written_work/subjects  \n",
      "4                film/film/directed_by  \n",
      "\n",
      "Negative Samples:\n",
      "                               Source  \\\n",
      "0            who is the artist on <e>   \n",
      "1                     what sex is <e>   \n",
      "2  which famous company published <e>   \n",
      "3  which military unit comes from <e>   \n",
      "4      which county is <e> located in   \n",
      "\n",
      "                                              Target  \\\n",
      "0                             music/recording/artist   \n",
      "1  base/thoroughbredracing/thoroughbred_racehorse...   \n",
      "2                         cvg/game_version/publisher   \n",
      "3  military/military_unit_place_of_origin/militar...   \n",
      "4                   location/hud_county_place/county   \n",
      "\n",
      "                         Prediction  \n",
      "0                music/album/artist  \n",
      "1              people/person/gender  \n",
      "2  cvg/computer_videogame/publisher  \n",
      "3         people/person/nationality  \n",
      "4     location/location/containedby  \n",
      "\n",
      "Loss: 1.815\n",
      "2018-01-15 10:54:17,233 | INFO : Accuracy: 0.6492299023290758 [6913 of 10648]\n",
      "2018-01-15 10:54:17,524 | INFO : Accuracy Top 3: 0.7935762584522915 [8450 of 10648]\n",
      "2018-01-15 10:54:17,825 | INFO : Accuracy Top 5: 0.8351803155522164 [8893 of 10648]\n",
      "\n",
      "Epoch 2\n"
     ]
    },
    {
     "data": {
      "application/vnd.jupyter.widget-view+json": {
       "model_id": "5ae5e0599335422bbf193ac0e98c9123",
       "version_major": 2,
       "version_minor": 0
      },
      "text/html": [
       "<p>Failed to display Jupyter Widget of type <code>HBox</code>.</p>\n",
       "<p>\n",
       "  If you're reading this message in the Jupyter Notebook or JupyterLab Notebook, it may mean\n",
       "  that the widgets JavaScript is still loading. If this message persists, it\n",
       "  likely means that the widgets JavaScript library is either not installed or\n",
       "  not enabled. See the <a href=\"https://ipywidgets.readthedocs.io/en/stable/user_install.html\">Jupyter\n",
       "  Widgets Documentation</a> for setup instructions.\n",
       "</p>\n",
       "<p>\n",
       "  If you're reading this message in another frontend (for example, a static\n",
       "  rendering on GitHub or <a href=\"https://nbviewer.jupyter.org/\">NBViewer</a>),\n",
       "  it may mean that your frontend doesn't currently support widgets.\n",
       "</p>\n"
      ],
      "text/plain": [
       "HBox(children=(IntProgress(value=0, max=4658), HTML(value='')))"
      ]
     },
     "metadata": {},
     "output_type": "display_data"
    },
    {
     "name": "stdout",
     "output_type": "stream",
     "text": [
      "\n",
      "2018-01-15 10:54:44,477 | INFO : Saving checkpoint 01m_15d_10h_54m_44s.pt\n"
     ]
    },
    {
     "data": {
      "application/vnd.jupyter.widget-view+json": {
       "model_id": "61d4295dac254e27a9801abe4e285c5f",
       "version_major": 2,
       "version_minor": 0
      },
      "text/html": [
       "<p>Failed to display Jupyter Widget of type <code>HBox</code>.</p>\n",
       "<p>\n",
       "  If you're reading this message in the Jupyter Notebook or JupyterLab Notebook, it may mean\n",
       "  that the widgets JavaScript is still loading. If this message persists, it\n",
       "  likely means that the widgets JavaScript library is either not installed or\n",
       "  not enabled. See the <a href=\"https://ipywidgets.readthedocs.io/en/stable/user_install.html\">Jupyter\n",
       "  Widgets Documentation</a> for setup instructions.\n",
       "</p>\n",
       "<p>\n",
       "  If you're reading this message in another frontend (for example, a static\n",
       "  rendering on GitHub or <a href=\"https://nbviewer.jupyter.org/\">NBViewer</a>),\n",
       "  it may mean that your frontend doesn't currently support widgets.\n",
       "</p>\n"
      ],
      "text/plain": [
       "HBox(children=(IntProgress(value=0, max=84), HTML(value='')))"
      ]
     },
     "metadata": {},
     "output_type": "display_data"
    },
    {
     "name": "stdout",
     "output_type": "stream",
     "text": [
      "\n",
      "2018-01-15 10:54:45,072 | INFO : Random Sample:\n",
      "\n",
      "Positive Samples:\n",
      "                               Source                                  Target  \\\n",
      "0        what is an animated <e> film     film/film_genre/films_in_this_genre   \n",
      "1                       what is <e> ?              common/topic/notable_types   \n",
      "2   who 's a person named after <e> ?            symbols/namesake/named_after   \n",
      "3         what is the status of <e> ?  medicine/drug_formulation/legal_status   \n",
      "4  what is the name of a baseball <e>      baseball/baseball_position/players   \n",
      "\n",
      "                               Prediction  \n",
      "0     film/film_genre/films_in_this_genre  \n",
      "1              common/topic/notable_types  \n",
      "2            symbols/namesake/named_after  \n",
      "3  medicine/drug_formulation/legal_status  \n",
      "4      baseball/baseball_position/players  \n",
      "\n",
      "Negative Samples:\n",
      "                                              Source  \\\n",
      "0          what is an administrative division of <e>   \n",
      "1                                    who wrote <e> ?   \n",
      "2  what season did the tv series episode <e> come...   \n",
      "3      how would the majority of people describe <e>   \n",
      "4        what 's a production that was staged at <e>   \n",
      "\n",
      "                                              Target  \\\n",
      "0          location/country/administrative_divisions   \n",
      "1                         music/composition/lyricist   \n",
      "2                        tv/tv_series_episode/season   \n",
      "3                               people/person/gender   \n",
      "4  theater/theater/theatrical_productions_staged_...   \n",
      "\n",
      "                       Prediction  \n",
      "0      location/location/contains  \n",
      "1        book/written_work/author  \n",
      "2     tv/tv_series_episode/series  \n",
      "3         people/person/ethnicity  \n",
      "4  film/film/production_companies  \n",
      "\n",
      "Loss: 1.561\n",
      "2018-01-15 10:54:45,138 | INFO : Accuracy: 0.6908339594290007 [7356 of 10648]\n",
      "2018-01-15 10:54:45,433 | INFO : Accuracy Top 3: 0.833114199849737 [8871 of 10648]\n",
      "2018-01-15 10:54:45,760 | INFO : Accuracy Top 5: 0.870679939894816 [9271 of 10648]\n",
      "\n",
      "Epoch 3\n"
     ]
    },
    {
     "data": {
      "application/vnd.jupyter.widget-view+json": {
       "model_id": "ac17f096008049128f27844d87142526",
       "version_major": 2,
       "version_minor": 0
      },
      "text/html": [
       "<p>Failed to display Jupyter Widget of type <code>HBox</code>.</p>\n",
       "<p>\n",
       "  If you're reading this message in the Jupyter Notebook or JupyterLab Notebook, it may mean\n",
       "  that the widgets JavaScript is still loading. If this message persists, it\n",
       "  likely means that the widgets JavaScript library is either not installed or\n",
       "  not enabled. See the <a href=\"https://ipywidgets.readthedocs.io/en/stable/user_install.html\">Jupyter\n",
       "  Widgets Documentation</a> for setup instructions.\n",
       "</p>\n",
       "<p>\n",
       "  If you're reading this message in another frontend (for example, a static\n",
       "  rendering on GitHub or <a href=\"https://nbviewer.jupyter.org/\">NBViewer</a>),\n",
       "  it may mean that your frontend doesn't currently support widgets.\n",
       "</p>\n"
      ],
      "text/plain": [
       "HBox(children=(IntProgress(value=0, max=4658), HTML(value='')))"
      ]
     },
     "metadata": {},
     "output_type": "display_data"
    },
    {
     "name": "stdout",
     "output_type": "stream",
     "text": [
      "\n",
      "2018-01-15 10:55:10,614 | INFO : Saving checkpoint 01m_15d_10h_55m_10s.pt\n"
     ]
    },
    {
     "data": {
      "application/vnd.jupyter.widget-view+json": {
       "model_id": "0ad25eb592d84dd5964b01f9c6cdbe11",
       "version_major": 2,
       "version_minor": 0
      },
      "text/html": [
       "<p>Failed to display Jupyter Widget of type <code>HBox</code>.</p>\n",
       "<p>\n",
       "  If you're reading this message in the Jupyter Notebook or JupyterLab Notebook, it may mean\n",
       "  that the widgets JavaScript is still loading. If this message persists, it\n",
       "  likely means that the widgets JavaScript library is either not installed or\n",
       "  not enabled. See the <a href=\"https://ipywidgets.readthedocs.io/en/stable/user_install.html\">Jupyter\n",
       "  Widgets Documentation</a> for setup instructions.\n",
       "</p>\n",
       "<p>\n",
       "  If you're reading this message in another frontend (for example, a static\n",
       "  rendering on GitHub or <a href=\"https://nbviewer.jupyter.org/\">NBViewer</a>),\n",
       "  it may mean that your frontend doesn't currently support widgets.\n",
       "</p>\n"
      ],
      "text/plain": [
       "HBox(children=(IntProgress(value=0, max=84), HTML(value='')))"
      ]
     },
     "metadata": {},
     "output_type": "display_data"
    },
    {
     "name": "stdout",
     "output_type": "stream",
     "text": [
      "\n",
      "2018-01-15 10:55:11,167 | INFO : Random Sample:\n",
      "\n",
      "Positive Samples:\n",
      "                                              Source  \\\n",
      "0           what film falls into the <e> ( genre ) ?   \n",
      "1                             what country is <e> in   \n",
      "2                   which religion does <e> practice   \n",
      "3                        what hill is located in <e>   \n",
      "4  who is a notable person that was born in <e> <...   \n",
      "\n",
      "                                Target                           Prediction  \n",
      "0  film/film_genre/films_in_this_genre  film/film_genre/films_in_this_genre  \n",
      "1        location/location/containedby        location/location/containedby  \n",
      "2               people/person/religion               people/person/religion  \n",
      "3           location/location/contains           location/location/contains  \n",
      "4   location/location/people_born_here   location/location/people_born_here  \n",
      "\n",
      "Negative Samples:\n",
      "                                             Source  \\\n",
      "0               which genre is <e> considered to be   \n",
      "1    where in the world did <e> 's life begin <pad>   \n",
      "2                           what album contains <e>   \n",
      "3  where was <e> 's mother when she went into labor   \n",
      "4                                    what are <e> ?   \n",
      "\n",
      "                                Target                             Prediction  \n",
      "0                    music/album/genre                     music/artist/genre  \n",
      "1         people/person/place_of_birth  people/deceased_person/place_of_death  \n",
      "2                   music/genre/albums            music/release_track/release  \n",
      "3         people/person/place_of_birth  people/deceased_person/place_of_death  \n",
      "4  film/film_genre/films_in_this_genre             common/topic/notable_types  \n",
      "\n",
      "Loss: 1.436\n",
      "2018-01-15 10:55:11,230 | INFO : Accuracy: 0.7155334335086401 [7619 of 10648]\n",
      "2018-01-15 10:55:11,514 | INFO : Accuracy Top 3: 0.8599737039819685 [9157 of 10648]\n",
      "2018-01-15 10:55:11,806 | INFO : Accuracy Top 5: 0.8918106686701728 [9496 of 10648]\n",
      "\n",
      "Epoch 4\n"
     ]
    },
    {
     "data": {
      "application/vnd.jupyter.widget-view+json": {
       "model_id": "8cd126059dd24909ab0dab3483500d8f",
       "version_major": 2,
       "version_minor": 0
      },
      "text/html": [
       "<p>Failed to display Jupyter Widget of type <code>HBox</code>.</p>\n",
       "<p>\n",
       "  If you're reading this message in the Jupyter Notebook or JupyterLab Notebook, it may mean\n",
       "  that the widgets JavaScript is still loading. If this message persists, it\n",
       "  likely means that the widgets JavaScript library is either not installed or\n",
       "  not enabled. See the <a href=\"https://ipywidgets.readthedocs.io/en/stable/user_install.html\">Jupyter\n",
       "  Widgets Documentation</a> for setup instructions.\n",
       "</p>\n",
       "<p>\n",
       "  If you're reading this message in another frontend (for example, a static\n",
       "  rendering on GitHub or <a href=\"https://nbviewer.jupyter.org/\">NBViewer</a>),\n",
       "  it may mean that your frontend doesn't currently support widgets.\n",
       "</p>\n"
      ],
      "text/plain": [
       "HBox(children=(IntProgress(value=0, max=4658), HTML(value='')))"
      ]
     },
     "metadata": {},
     "output_type": "display_data"
    },
    {
     "name": "stdout",
     "output_type": "stream",
     "text": [
      "\n",
      "2018-01-15 10:55:36,888 | INFO : Saving checkpoint 01m_15d_10h_55m_36s.pt\n"
     ]
    },
    {
     "data": {
      "application/vnd.jupyter.widget-view+json": {
       "model_id": "54ecb4fb483d4fd38937af8ccb56bed0",
       "version_major": 2,
       "version_minor": 0
      },
      "text/html": [
       "<p>Failed to display Jupyter Widget of type <code>HBox</code>.</p>\n",
       "<p>\n",
       "  If you're reading this message in the Jupyter Notebook or JupyterLab Notebook, it may mean\n",
       "  that the widgets JavaScript is still loading. If this message persists, it\n",
       "  likely means that the widgets JavaScript library is either not installed or\n",
       "  not enabled. See the <a href=\"https://ipywidgets.readthedocs.io/en/stable/user_install.html\">Jupyter\n",
       "  Widgets Documentation</a> for setup instructions.\n",
       "</p>\n",
       "<p>\n",
       "  If you're reading this message in another frontend (for example, a static\n",
       "  rendering on GitHub or <a href=\"https://nbviewer.jupyter.org/\">NBViewer</a>),\n",
       "  it may mean that your frontend doesn't currently support widgets.\n",
       "</p>\n"
      ],
      "text/plain": [
       "HBox(children=(IntProgress(value=0, max=84), HTML(value='')))"
      ]
     },
     "metadata": {},
     "output_type": "display_data"
    },
    {
     "name": "stdout",
     "output_type": "stream",
     "text": [
      "\n",
      "2018-01-15 10:55:37,533 | INFO : Random Sample:\n",
      "\n",
      "Positive Samples:\n",
      "                                              Source  \\\n",
      "0            what is the gender specification of <e>   \n",
      "1  what is the position that soccer player <e> pl...   \n",
      "2                         what types of movie is <e>   \n",
      "3   what kind of visual art is <e> associated with ?   \n",
      "4     who was the executive producer of the film <e>   \n",
      "\n",
      "                               Target                          Prediction  \n",
      "0                people/person/gender                people/person/gender  \n",
      "1   soccer/football_player/position_s   soccer/football_player/position_s  \n",
      "2                     film/film/genre                     film/film/genre  \n",
      "3  visual_art/visual_artist/art_forms  visual_art/visual_artist/art_forms  \n",
      "4     film/film/executive_produced_by     film/film/executive_produced_by  \n",
      "\n",
      "Negative Samples:\n",
      "                                           Source  \\\n",
      "0        who was the developer for the game <e> ?   \n",
      "1      <e> is an example of what genre of music ?   \n",
      "2  <e> is the costume designer for what musical ?   \n",
      "3                     who is the maker of the <e>   \n",
      "4      what is the main recording of <e> called ?   \n",
      "\n",
      "                                              Target  \\\n",
      "0                         cvg/game_version/developer   \n",
      "1                                    film/film/genre   \n",
      "2  film/film_costumer_designer/costume_design_for...   \n",
      "3                              automotive/model/make   \n",
      "4                  music/recording/canonical_version   \n",
      "\n",
      "                                     Prediction  \n",
      "0              cvg/computer_videogame/developer  \n",
      "1                            music/artist/genre  \n",
      "2                   film/film/costume_design_by  \n",
      "3  medicine/manufactured_drug_form/manufacturer  \n",
      "4                          music/recording/song  \n",
      "\n",
      "Loss: 1.348\n",
      "2018-01-15 10:55:37,596 | INFO : Accuracy: 0.732625845229151 [7801 of 10648]\n",
      "2018-01-15 10:55:37,875 | INFO : Accuracy Top 3: 0.8712434259954921 [9277 of 10648]\n",
      "2018-01-15 10:55:38,160 | INFO : Accuracy Top 5: 0.900732531930879 [9591 of 10648]\n",
      "\n",
      "Epoch 5\n"
     ]
    },
    {
     "data": {
      "application/vnd.jupyter.widget-view+json": {
       "model_id": "5da6b250ffa044ff996420c67ff7a1b3",
       "version_major": 2,
       "version_minor": 0
      },
      "text/html": [
       "<p>Failed to display Jupyter Widget of type <code>HBox</code>.</p>\n",
       "<p>\n",
       "  If you're reading this message in the Jupyter Notebook or JupyterLab Notebook, it may mean\n",
       "  that the widgets JavaScript is still loading. If this message persists, it\n",
       "  likely means that the widgets JavaScript library is either not installed or\n",
       "  not enabled. See the <a href=\"https://ipywidgets.readthedocs.io/en/stable/user_install.html\">Jupyter\n",
       "  Widgets Documentation</a> for setup instructions.\n",
       "</p>\n",
       "<p>\n",
       "  If you're reading this message in another frontend (for example, a static\n",
       "  rendering on GitHub or <a href=\"https://nbviewer.jupyter.org/\">NBViewer</a>),\n",
       "  it may mean that your frontend doesn't currently support widgets.\n",
       "</p>\n"
      ],
      "text/plain": [
       "HBox(children=(IntProgress(value=0, max=4658), HTML(value='')))"
      ]
     },
     "metadata": {},
     "output_type": "display_data"
    },
    {
     "name": "stdout",
     "output_type": "stream",
     "text": [
      "\n",
      "2018-01-15 10:56:03,547 | INFO : Saving checkpoint 01m_15d_10h_56m_03s.pt\n"
     ]
    },
    {
     "data": {
      "application/vnd.jupyter.widget-view+json": {
       "model_id": "3588a836067b4a90afc10833d2354381",
       "version_major": 2,
       "version_minor": 0
      },
      "text/html": [
       "<p>Failed to display Jupyter Widget of type <code>HBox</code>.</p>\n",
       "<p>\n",
       "  If you're reading this message in the Jupyter Notebook or JupyterLab Notebook, it may mean\n",
       "  that the widgets JavaScript is still loading. If this message persists, it\n",
       "  likely means that the widgets JavaScript library is either not installed or\n",
       "  not enabled. See the <a href=\"https://ipywidgets.readthedocs.io/en/stable/user_install.html\">Jupyter\n",
       "  Widgets Documentation</a> for setup instructions.\n",
       "</p>\n",
       "<p>\n",
       "  If you're reading this message in another frontend (for example, a static\n",
       "  rendering on GitHub or <a href=\"https://nbviewer.jupyter.org/\">NBViewer</a>),\n",
       "  it may mean that your frontend doesn't currently support widgets.\n",
       "</p>\n"
      ],
      "text/plain": [
       "HBox(children=(IntProgress(value=0, max=84), HTML(value='')))"
      ]
     },
     "metadata": {},
     "output_type": "display_data"
    },
    {
     "name": "stdout",
     "output_type": "stream",
     "text": [
      "\n",
      "2018-01-15 10:56:04,112 | INFO : Random Sample:\n",
      "\n",
      "Positive Samples:\n",
      "                                              Source  \\\n",
      "0                        who did the music for <e> ?   \n",
      "1  what is the tittle of the movie produced by <e...   \n",
      "2                            what is an album by <e>   \n",
      "3             what religion does <e> identify with ?   \n",
      "4                            what county is <e> in ?   \n",
      "\n",
      "                          Target                     Prediction  \n",
      "0                film/film/music                film/film/music  \n",
      "1             film/producer/film             film/producer/film  \n",
      "2             music/artist/album             music/artist/album  \n",
      "3         people/person/religion         people/person/religion  \n",
      "4  location/location/containedby  location/location/containedby  \n",
      "\n",
      "Negative Samples:\n",
      "                                         Source  \\\n",
      "0      what movie was adapted from the book <e>   \n",
      "1       <e> is a song from what album recording   \n",
      "2                                 who wrote <e>   \n",
      "3  which processors does the game <e> support ?   \n",
      "4                            what is a 2006 <e>   \n",
      "\n",
      "                                        Target  \\\n",
      "0        media_common/adapted_work/adaptations   \n",
      "1                music/release_track/recording   \n",
      "2                         film/film/written_by   \n",
      "3  cvg/computer_videogame/processors_supported   \n",
      "4                          cvg/cvg_genre/games   \n",
      "\n",
      "                             Prediction  \n",
      "0  media_common/adaptation/adapted_from  \n",
      "1                music/recording/tracks  \n",
      "2              book/written_work/author  \n",
      "3              sports/sports_team/sport  \n",
      "4   film/film_genre/films_in_this_genre  \n",
      "\n",
      "Loss: 1.276\n",
      "2018-01-15 10:56:04,176 | INFO : Accuracy: 0.7432381667918858 [7914 of 10648]\n",
      "2018-01-15 10:56:04,471 | INFO : Accuracy Top 3: 0.8794139744552968 [9364 of 10648]\n",
      "2018-01-15 10:56:04,761 | INFO : Accuracy Top 5: 0.9084335086401202 [9673 of 10648]\n",
      "\n",
      "Epoch 6\n"
     ]
    },
    {
     "data": {
      "application/vnd.jupyter.widget-view+json": {
       "model_id": "3a8528ebc321409481f15b4784df36c5",
       "version_major": 2,
       "version_minor": 0
      },
      "text/html": [
       "<p>Failed to display Jupyter Widget of type <code>HBox</code>.</p>\n",
       "<p>\n",
       "  If you're reading this message in the Jupyter Notebook or JupyterLab Notebook, it may mean\n",
       "  that the widgets JavaScript is still loading. If this message persists, it\n",
       "  likely means that the widgets JavaScript library is either not installed or\n",
       "  not enabled. See the <a href=\"https://ipywidgets.readthedocs.io/en/stable/user_install.html\">Jupyter\n",
       "  Widgets Documentation</a> for setup instructions.\n",
       "</p>\n",
       "<p>\n",
       "  If you're reading this message in another frontend (for example, a static\n",
       "  rendering on GitHub or <a href=\"https://nbviewer.jupyter.org/\">NBViewer</a>),\n",
       "  it may mean that your frontend doesn't currently support widgets.\n",
       "</p>\n"
      ],
      "text/plain": [
       "HBox(children=(IntProgress(value=0, max=4658), HTML(value='')))"
      ]
     },
     "metadata": {},
     "output_type": "display_data"
    },
    {
     "name": "stdout",
     "output_type": "stream",
     "text": [
      "\n",
      "2018-01-15 10:56:29,726 | INFO : Saving checkpoint 01m_15d_10h_56m_29s.pt\n"
     ]
    },
    {
     "data": {
      "application/vnd.jupyter.widget-view+json": {
       "model_id": "1eed68fac56640dc97ec95bfa7f617af",
       "version_major": 2,
       "version_minor": 0
      },
      "text/html": [
       "<p>Failed to display Jupyter Widget of type <code>HBox</code>.</p>\n",
       "<p>\n",
       "  If you're reading this message in the Jupyter Notebook or JupyterLab Notebook, it may mean\n",
       "  that the widgets JavaScript is still loading. If this message persists, it\n",
       "  likely means that the widgets JavaScript library is either not installed or\n",
       "  not enabled. See the <a href=\"https://ipywidgets.readthedocs.io/en/stable/user_install.html\">Jupyter\n",
       "  Widgets Documentation</a> for setup instructions.\n",
       "</p>\n",
       "<p>\n",
       "  If you're reading this message in another frontend (for example, a static\n",
       "  rendering on GitHub or <a href=\"https://nbviewer.jupyter.org/\">NBViewer</a>),\n",
       "  it may mean that your frontend doesn't currently support widgets.\n",
       "</p>\n"
      ],
      "text/plain": [
       "HBox(children=(IntProgress(value=0, max=84), HTML(value='')))"
      ]
     },
     "metadata": {},
     "output_type": "display_data"
    },
    {
     "name": "stdout",
     "output_type": "stream",
     "text": [
      "\n",
      "2018-01-15 10:56:30,372 | INFO : Random Sample:\n",
      "\n",
      "Positive Samples:\n",
      "                                        Source  \\\n",
      "0                           who recorded <e> ?   \n",
      "1                         what has <e> written   \n",
      "2       in what language was the film <e> made   \n",
      "3  who was the author editor of the book <e> ?   \n",
      "4       who was one of the founders of the <e>   \n",
      "\n",
      "                               Target                          Prediction  \n",
      "0              music/recording/artist              music/recording/artist  \n",
      "1           book/author/works_written           book/author/works_written  \n",
      "2                  film/film/language                  film/film/language  \n",
      "3     book/book_edition/author_editor     book/book_edition/author_editor  \n",
      "4  organization/organization/founders  organization/organization/founders  \n",
      "\n",
      "Negative Samples:\n",
      "                                           Source  \\\n",
      "0               which tv show featured mainly <e>   \n",
      "1                what country was <e> released in   \n",
      "2           what type of establishment is the <e>   \n",
      "3                    what type of museum is <e> ?   \n",
      "4  what is <e> 's in the entertainment industry ?   \n",
      "\n",
      "                               Target  \\\n",
      "0                tv/tv_genre/programs   \n",
      "1                   film/film/country   \n",
      "2          common/topic/notable_types   \n",
      "3  architecture/museum/type_of_museum   \n",
      "4            people/person/profession   \n",
      "\n",
      "                                      Prediction  \n",
      "0                    tv/tv_series_episode/series  \n",
      "1                           music/release/region  \n",
      "2  education/educational_institution/school_type  \n",
      "3  education/educational_institution/school_type  \n",
      "4                     common/topic/notable_types  \n",
      "\n",
      "Loss: 1.241\n",
      "2018-01-15 10:56:30,436 | INFO : Accuracy: 0.7481217129977461 [7966 of 10648]\n",
      "2018-01-15 10:56:30,715 | INFO : Accuracy Top 3: 0.8858001502629602 [9432 of 10648]\n",
      "2018-01-15 10:56:31,000 | INFO : Accuracy Top 5: 0.9135987978963186 [9728 of 10648]\n",
      "\n",
      "Epoch 7\n"
     ]
    },
    {
     "data": {
      "application/vnd.jupyter.widget-view+json": {
       "model_id": "e11731762d594728a03a62577e436af8",
       "version_major": 2,
       "version_minor": 0
      },
      "text/html": [
       "<p>Failed to display Jupyter Widget of type <code>HBox</code>.</p>\n",
       "<p>\n",
       "  If you're reading this message in the Jupyter Notebook or JupyterLab Notebook, it may mean\n",
       "  that the widgets JavaScript is still loading. If this message persists, it\n",
       "  likely means that the widgets JavaScript library is either not installed or\n",
       "  not enabled. See the <a href=\"https://ipywidgets.readthedocs.io/en/stable/user_install.html\">Jupyter\n",
       "  Widgets Documentation</a> for setup instructions.\n",
       "</p>\n",
       "<p>\n",
       "  If you're reading this message in another frontend (for example, a static\n",
       "  rendering on GitHub or <a href=\"https://nbviewer.jupyter.org/\">NBViewer</a>),\n",
       "  it may mean that your frontend doesn't currently support widgets.\n",
       "</p>\n"
      ],
      "text/plain": [
       "HBox(children=(IntProgress(value=0, max=4658), HTML(value='')))"
      ]
     },
     "metadata": {},
     "output_type": "display_data"
    },
    {
     "name": "stdout",
     "output_type": "stream",
     "text": [
      "\n",
      "2018-01-15 10:56:56,122 | INFO : Saving checkpoint 01m_15d_10h_56m_56s.pt\n"
     ]
    },
    {
     "data": {
      "application/vnd.jupyter.widget-view+json": {
       "model_id": "e707df0c3e6145f5b0403ea853be6139",
       "version_major": 2,
       "version_minor": 0
      },
      "text/html": [
       "<p>Failed to display Jupyter Widget of type <code>HBox</code>.</p>\n",
       "<p>\n",
       "  If you're reading this message in the Jupyter Notebook or JupyterLab Notebook, it may mean\n",
       "  that the widgets JavaScript is still loading. If this message persists, it\n",
       "  likely means that the widgets JavaScript library is either not installed or\n",
       "  not enabled. See the <a href=\"https://ipywidgets.readthedocs.io/en/stable/user_install.html\">Jupyter\n",
       "  Widgets Documentation</a> for setup instructions.\n",
       "</p>\n",
       "<p>\n",
       "  If you're reading this message in another frontend (for example, a static\n",
       "  rendering on GitHub or <a href=\"https://nbviewer.jupyter.org/\">NBViewer</a>),\n",
       "  it may mean that your frontend doesn't currently support widgets.\n",
       "</p>\n"
      ],
      "text/plain": [
       "HBox(children=(IntProgress(value=0, max=84), HTML(value='')))"
      ]
     },
     "metadata": {},
     "output_type": "display_data"
    },
    {
     "name": "stdout",
     "output_type": "stream",
     "text": [
      "\n",
      "2018-01-15 10:56:56,676 | INFO : Random Sample:\n",
      "\n",
      "Positive Samples:\n",
      "                                           Source  \\\n",
      "0                    what is <e> 's nationality ?   \n",
      "1  which state on the easetern seaboard is <e> in   \n",
      "2             what female actress was born in <e>   \n",
      "3     where in europe was <e> 's place of birth ?   \n",
      "4                            how was <e> released   \n",
      "\n",
      "                               Target                          Prediction  \n",
      "0           people/person/nationality           people/person/nationality  \n",
      "1       location/location/containedby       location/location/containedby  \n",
      "2  location/location/people_born_here  location/location/people_born_here  \n",
      "3        people/person/place_of_birth        people/person/place_of_birth  \n",
      "4            music/album/release_type            music/album/release_type  \n",
      "\n",
      "Negative Samples:\n",
      "                                              Source  \\\n",
      "0                                       where is <e>   \n",
      "1     what is the title of the film in the genre <e>   \n",
      "2  which <e> character is from the film la folie ...   \n",
      "3                              who sang the song <e>   \n",
      "4              which tracks are released under <e> ?   \n",
      "\n",
      "                                              Target  \\\n",
      "0            location/location/partially_containedby   \n",
      "1                  media_common/netflix_genre/titles   \n",
      "2  fictional_universe/character_gender/characters...   \n",
      "3                           broadcast/content/artist   \n",
      "4                           music/release/track_list   \n",
      "\n",
      "                            Prediction  \n",
      "0        location/location/containedby  \n",
      "1  film/film_genre/films_in_this_genre  \n",
      "2  film/film_genre/films_in_this_genre  \n",
      "3               music/recording/artist  \n",
      "4                  music/release/track  \n",
      "\n",
      "Loss: 1.218\n",
      "2018-01-15 10:56:56,738 | INFO : Accuracy: 0.7558226897069872 [8048 of 10648]\n",
      "2018-01-15 10:56:57,017 | INFO : Accuracy Top 3: 0.891435011269722 [9492 of 10648]\n",
      "2018-01-15 10:56:57,299 | INFO : Accuracy Top 5: 0.9185762584522915 [9781 of 10648]\n",
      "\n",
      "Epoch 8\n"
     ]
    },
    {
     "data": {
      "application/vnd.jupyter.widget-view+json": {
       "model_id": "89e068ee5e9a4589afd4deaf9e700b53",
       "version_major": 2,
       "version_minor": 0
      },
      "text/html": [
       "<p>Failed to display Jupyter Widget of type <code>HBox</code>.</p>\n",
       "<p>\n",
       "  If you're reading this message in the Jupyter Notebook or JupyterLab Notebook, it may mean\n",
       "  that the widgets JavaScript is still loading. If this message persists, it\n",
       "  likely means that the widgets JavaScript library is either not installed or\n",
       "  not enabled. See the <a href=\"https://ipywidgets.readthedocs.io/en/stable/user_install.html\">Jupyter\n",
       "  Widgets Documentation</a> for setup instructions.\n",
       "</p>\n",
       "<p>\n",
       "  If you're reading this message in another frontend (for example, a static\n",
       "  rendering on GitHub or <a href=\"https://nbviewer.jupyter.org/\">NBViewer</a>),\n",
       "  it may mean that your frontend doesn't currently support widgets.\n",
       "</p>\n"
      ],
      "text/plain": [
       "HBox(children=(IntProgress(value=0, max=4658), HTML(value='')))"
      ]
     },
     "metadata": {},
     "output_type": "display_data"
    },
    {
     "name": "stdout",
     "output_type": "stream",
     "text": [
      "\n",
      "2018-01-15 10:57:22,019 | INFO : Saving checkpoint 01m_15d_10h_57m_22s.pt\n"
     ]
    },
    {
     "data": {
      "application/vnd.jupyter.widget-view+json": {
       "model_id": "17ea4264ed9c4772957d6c5e90f8b05e",
       "version_major": 2,
       "version_minor": 0
      },
      "text/html": [
       "<p>Failed to display Jupyter Widget of type <code>HBox</code>.</p>\n",
       "<p>\n",
       "  If you're reading this message in the Jupyter Notebook or JupyterLab Notebook, it may mean\n",
       "  that the widgets JavaScript is still loading. If this message persists, it\n",
       "  likely means that the widgets JavaScript library is either not installed or\n",
       "  not enabled. See the <a href=\"https://ipywidgets.readthedocs.io/en/stable/user_install.html\">Jupyter\n",
       "  Widgets Documentation</a> for setup instructions.\n",
       "</p>\n",
       "<p>\n",
       "  If you're reading this message in another frontend (for example, a static\n",
       "  rendering on GitHub or <a href=\"https://nbviewer.jupyter.org/\">NBViewer</a>),\n",
       "  it may mean that your frontend doesn't currently support widgets.\n",
       "</p>\n"
      ],
      "text/plain": [
       "HBox(children=(IntProgress(value=0, max=84), HTML(value='')))"
      ]
     },
     "metadata": {},
     "output_type": "display_data"
    },
    {
     "name": "stdout",
     "output_type": "stream",
     "text": [
      "\n",
      "2018-01-15 10:57:22,658 | INFO : Random Sample:\n",
      "\n",
      "Positive Samples:\n",
      "                                       Source  \\\n",
      "0      what is the active ingredient of <e> ?   \n",
      "1                   who produced the film <e>   \n",
      "2          what was the genre of the film <e>   \n",
      "3                     who was a parent of <e>   \n",
      "4  what is the legal status of the drug <e> ?   \n",
      "\n",
      "                                         Target  \\\n",
      "0  medicine/drug_formulation/active_ingredients   \n",
      "1                         film/film/produced_by   \n",
      "2                               film/film/genre   \n",
      "3                         people/person/parents   \n",
      "4        medicine/drug_formulation/legal_status   \n",
      "\n",
      "                                     Prediction  \n",
      "0  medicine/drug_formulation/active_ingredients  \n",
      "1                         film/film/produced_by  \n",
      "2                               film/film/genre  \n",
      "3                         people/person/parents  \n",
      "4        medicine/drug_formulation/legal_status  \n",
      "\n",
      "Negative Samples:\n",
      "                                              Source  \\\n",
      "0                    what is the record label of <e>   \n",
      "1                                  which book is <e>   \n",
      "2             what basketball position does <e> play   \n",
      "3  what is a transit line in <e> ( british columb...   \n",
      "4                          what format does <e> have   \n",
      "\n",
      "                                              Target  \\\n",
      "0                                 music/artist/label   \n",
      "1                            book/book_subject/works   \n",
      "2            basketball/basketball_player/position_s   \n",
      "3  metropolitan_transit/transit_system/transit_lines   \n",
      "4                            type/content/media_type   \n",
      "\n",
      "                                          Prediction  \n",
      "0                                music/release/label  \n",
      "1    media_common/literary_genre/books_in_this_genre  \n",
      "2           ice_hockey/hockey_player/hockey_position  \n",
      "3  metropolitan_transit/transit_vehicle/transit_l...  \n",
      "4                               music/release/format  \n",
      "\n",
      "Loss: 1.179\n",
      "2018-01-15 10:57:22,723 | INFO : Accuracy: 0.760236664162284 [8095 of 10648]\n",
      "2018-01-15 10:57:22,993 | INFO : Accuracy Top 3: 0.8950037565740045 [9530 of 10648]\n",
      "2018-01-15 10:57:23,265 | INFO : Accuracy Top 5: 0.9214876033057852 [9812 of 10648]\n",
      "\n",
      "Epoch 9\n"
     ]
    },
    {
     "data": {
      "application/vnd.jupyter.widget-view+json": {
       "model_id": "265ea7598dd6445cb1d5160825ce80ff",
       "version_major": 2,
       "version_minor": 0
      },
      "text/html": [
       "<p>Failed to display Jupyter Widget of type <code>HBox</code>.</p>\n",
       "<p>\n",
       "  If you're reading this message in the Jupyter Notebook or JupyterLab Notebook, it may mean\n",
       "  that the widgets JavaScript is still loading. If this message persists, it\n",
       "  likely means that the widgets JavaScript library is either not installed or\n",
       "  not enabled. See the <a href=\"https://ipywidgets.readthedocs.io/en/stable/user_install.html\">Jupyter\n",
       "  Widgets Documentation</a> for setup instructions.\n",
       "</p>\n",
       "<p>\n",
       "  If you're reading this message in another frontend (for example, a static\n",
       "  rendering on GitHub or <a href=\"https://nbviewer.jupyter.org/\">NBViewer</a>),\n",
       "  it may mean that your frontend doesn't currently support widgets.\n",
       "</p>\n"
      ],
      "text/plain": [
       "HBox(children=(IntProgress(value=0, max=4658), HTML(value='')))"
      ]
     },
     "metadata": {},
     "output_type": "display_data"
    },
    {
     "name": "stdout",
     "output_type": "stream",
     "text": [
      "\n",
      "2018-01-15 10:57:48,037 | INFO : Saving checkpoint 01m_15d_10h_57m_48s.pt\n"
     ]
    },
    {
     "data": {
      "application/vnd.jupyter.widget-view+json": {
       "model_id": "ab55cdd0f1dd4e7c905104596354f14b",
       "version_major": 2,
       "version_minor": 0
      },
      "text/html": [
       "<p>Failed to display Jupyter Widget of type <code>HBox</code>.</p>\n",
       "<p>\n",
       "  If you're reading this message in the Jupyter Notebook or JupyterLab Notebook, it may mean\n",
       "  that the widgets JavaScript is still loading. If this message persists, it\n",
       "  likely means that the widgets JavaScript library is either not installed or\n",
       "  not enabled. See the <a href=\"https://ipywidgets.readthedocs.io/en/stable/user_install.html\">Jupyter\n",
       "  Widgets Documentation</a> for setup instructions.\n",
       "</p>\n",
       "<p>\n",
       "  If you're reading this message in another frontend (for example, a static\n",
       "  rendering on GitHub or <a href=\"https://nbviewer.jupyter.org/\">NBViewer</a>),\n",
       "  it may mean that your frontend doesn't currently support widgets.\n",
       "</p>\n"
      ],
      "text/plain": [
       "HBox(children=(IntProgress(value=0, max=84), HTML(value='')))"
      ]
     },
     "metadata": {},
     "output_type": "display_data"
    },
    {
     "name": "stdout",
     "output_type": "stream",
     "text": [
      "\n",
      "2018-01-15 10:57:48,595 | INFO : Random Sample:\n",
      "\n",
      "Positive Samples:\n",
      "                             Source                               Target  \\\n",
      "0                 where is <e> from            people/person/nationality   \n",
      "1    what is a <e> film form 1937 ?  film/film_genre/films_in_this_genre   \n",
      "2      what 's an example of an <e>      music/album_release_type/albums   \n",
      "3         what kind of album is <e>       music/album/album_content_type   \n",
      "4  what was the track list on <e> ?             music/release/track_list   \n",
      "\n",
      "                            Prediction  \n",
      "0            people/person/nationality  \n",
      "1  film/film_genre/films_in_this_genre  \n",
      "2      music/album_release_type/albums  \n",
      "3       music/album/album_content_type  \n",
      "4             music/release/track_list  \n",
      "\n",
      "Negative Samples:\n",
      "                                      Source  \\\n",
      "0                   who is the writer of <e>   \n",
      "1  what type of music is <e> affiliated with   \n",
      "2                  what 's the format of <e>   \n",
      "3                which chapter indicates <e>   \n",
      "4        what show is <e> the soundtrack for   \n",
      "\n",
      "                                              Target  \\\n",
      "0                        tv/tv_series_episode/writer   \n",
      "1                                  music/album/genre   \n",
      "2                     broadcast/radio_station/format   \n",
      "3  fictional_universe/fictional_setting/works_set...   \n",
      "4                        tv/tv_soundtrack/tv_program   \n",
      "\n",
      "                                  Prediction  \n",
      "0                   book/written_work/author  \n",
      "1                         music/artist/genre  \n",
      "2                       music/release/format  \n",
      "3  architecture/architectural_style/examples  \n",
      "4                       film/film/soundtrack  \n",
      "\n",
      "Loss: 1.169\n",
      "2018-01-15 10:57:48,658 | INFO : Accuracy: 0.7625845229151015 [8120 of 10648]\n",
      "2018-01-15 10:57:48,927 | INFO : Accuracy Top 3: 0.8981968444778362 [9564 of 10648]\n",
      "2018-01-15 10:57:49,202 | INFO : Accuracy Top 5: 0.9254320060105184 [9854 of 10648]\n",
      "\n",
      "Epoch 10\n"
     ]
    },
    {
     "data": {
      "application/vnd.jupyter.widget-view+json": {
       "model_id": "fe154c1e804c4f019c554b99076a3069",
       "version_major": 2,
       "version_minor": 0
      },
      "text/html": [
       "<p>Failed to display Jupyter Widget of type <code>HBox</code>.</p>\n",
       "<p>\n",
       "  If you're reading this message in the Jupyter Notebook or JupyterLab Notebook, it may mean\n",
       "  that the widgets JavaScript is still loading. If this message persists, it\n",
       "  likely means that the widgets JavaScript library is either not installed or\n",
       "  not enabled. See the <a href=\"https://ipywidgets.readthedocs.io/en/stable/user_install.html\">Jupyter\n",
       "  Widgets Documentation</a> for setup instructions.\n",
       "</p>\n",
       "<p>\n",
       "  If you're reading this message in another frontend (for example, a static\n",
       "  rendering on GitHub or <a href=\"https://nbviewer.jupyter.org/\">NBViewer</a>),\n",
       "  it may mean that your frontend doesn't currently support widgets.\n",
       "</p>\n"
      ],
      "text/plain": [
       "HBox(children=(IntProgress(value=0, max=4658), HTML(value='')))"
      ]
     },
     "metadata": {},
     "output_type": "display_data"
    },
    {
     "name": "stdout",
     "output_type": "stream",
     "text": [
      "\n",
      "2018-01-15 10:58:14,359 | INFO : Saving checkpoint 01m_15d_10h_58m_14s.pt\n"
     ]
    },
    {
     "data": {
      "application/vnd.jupyter.widget-view+json": {
       "model_id": "414134f019d048968bd0334b5be40680",
       "version_major": 2,
       "version_minor": 0
      },
      "text/html": [
       "<p>Failed to display Jupyter Widget of type <code>HBox</code>.</p>\n",
       "<p>\n",
       "  If you're reading this message in the Jupyter Notebook or JupyterLab Notebook, it may mean\n",
       "  that the widgets JavaScript is still loading. If this message persists, it\n",
       "  likely means that the widgets JavaScript library is either not installed or\n",
       "  not enabled. See the <a href=\"https://ipywidgets.readthedocs.io/en/stable/user_install.html\">Jupyter\n",
       "  Widgets Documentation</a> for setup instructions.\n",
       "</p>\n",
       "<p>\n",
       "  If you're reading this message in another frontend (for example, a static\n",
       "  rendering on GitHub or <a href=\"https://nbviewer.jupyter.org/\">NBViewer</a>),\n",
       "  it may mean that your frontend doesn't currently support widgets.\n",
       "</p>\n"
      ],
      "text/plain": [
       "HBox(children=(IntProgress(value=0, max=84), HTML(value='')))"
      ]
     },
     "metadata": {},
     "output_type": "display_data"
    },
    {
     "name": "stdout",
     "output_type": "stream",
     "text": [
      "\n",
      "2018-01-15 10:58:14,929 | INFO : Random Sample:\n",
      "\n",
      "Positive Samples:\n",
      "                                              Source  \\\n",
      "0  what s the name of a track that was on the rel...   \n",
      "1           who is the artist of the recording <e> ?   \n",
      "2                   what books did <e> write ? <pad>   \n",
      "3                          what is <e> song of <pad>   \n",
      "4           what is the architectural style of <e> ?   \n",
      "\n",
      "                                       Target  \\\n",
      "0                         music/release/track   \n",
      "1                      music/recording/artist   \n",
      "2                   book/author/works_written   \n",
      "3                        music/recording/song   \n",
      "4  architecture/structure/architectural_style   \n",
      "\n",
      "                                   Prediction  \n",
      "0                         music/release/track  \n",
      "1                      music/recording/artist  \n",
      "2                   book/author/works_written  \n",
      "3                        music/recording/song  \n",
      "4  architecture/structure/architectural_style  \n",
      "\n",
      "Negative Samples:\n",
      "                                              Source  \\\n",
      "0                                name an <e> website   \n",
      "1  which american jazz drummer composed the song ...   \n",
      "2                 which <e> film stars jackie chan ?   \n",
      "3                     what is mentioned in the <e> ?   \n",
      "4              what type of media does <e> broadcast   \n",
      "\n",
      "                           Target  \\\n",
      "0   internet/website_status/sites   \n",
      "1      music/composition/composer   \n",
      "2        film/content_rating/film   \n",
      "3    base/reviews/review/mentions   \n",
      "4  broadcast/radio_station/format   \n",
      "\n",
      "                                      Prediction  \n",
      "0  people/profession/people_with_this_profession  \n",
      "1                         music/recording/artist  \n",
      "2            film/film_genre/films_in_this_genre  \n",
      "3                     location/location/contains  \n",
      "4                       broadcast/artist/content  \n",
      "\n",
      "Loss: 1.144\n",
      "2018-01-15 10:58:14,992 | INFO : Accuracy: 0.7666228399699474 [8163 of 10648]\n",
      "2018-01-15 10:58:15,262 | INFO : Accuracy Top 3: 0.9017655897821187 [9602 of 10648]\n",
      "2018-01-15 10:58:15,543 | INFO : Accuracy Top 5: 0.9296581517655897 [9899 of 10648]\n",
      "\n",
      "Epoch 11\n"
     ]
    },
    {
     "data": {
      "application/vnd.jupyter.widget-view+json": {
       "model_id": "81c15545dd9a4b538dcba043b1500ff2",
       "version_major": 2,
       "version_minor": 0
      },
      "text/html": [
       "<p>Failed to display Jupyter Widget of type <code>HBox</code>.</p>\n",
       "<p>\n",
       "  If you're reading this message in the Jupyter Notebook or JupyterLab Notebook, it may mean\n",
       "  that the widgets JavaScript is still loading. If this message persists, it\n",
       "  likely means that the widgets JavaScript library is either not installed or\n",
       "  not enabled. See the <a href=\"https://ipywidgets.readthedocs.io/en/stable/user_install.html\">Jupyter\n",
       "  Widgets Documentation</a> for setup instructions.\n",
       "</p>\n",
       "<p>\n",
       "  If you're reading this message in another frontend (for example, a static\n",
       "  rendering on GitHub or <a href=\"https://nbviewer.jupyter.org/\">NBViewer</a>),\n",
       "  it may mean that your frontend doesn't currently support widgets.\n",
       "</p>\n"
      ],
      "text/plain": [
       "HBox(children=(IntProgress(value=0, max=4658), HTML(value='')))"
      ]
     },
     "metadata": {},
     "output_type": "display_data"
    },
    {
     "name": "stdout",
     "output_type": "stream",
     "text": [
      "\n",
      "2018-01-15 10:58:40,768 | INFO : Saving checkpoint 01m_15d_10h_58m_40s.pt\n"
     ]
    },
    {
     "data": {
      "application/vnd.jupyter.widget-view+json": {
       "model_id": "71710daaf12f485fbf0829e2b0c772d3",
       "version_major": 2,
       "version_minor": 0
      },
      "text/html": [
       "<p>Failed to display Jupyter Widget of type <code>HBox</code>.</p>\n",
       "<p>\n",
       "  If you're reading this message in the Jupyter Notebook or JupyterLab Notebook, it may mean\n",
       "  that the widgets JavaScript is still loading. If this message persists, it\n",
       "  likely means that the widgets JavaScript library is either not installed or\n",
       "  not enabled. See the <a href=\"https://ipywidgets.readthedocs.io/en/stable/user_install.html\">Jupyter\n",
       "  Widgets Documentation</a> for setup instructions.\n",
       "</p>\n",
       "<p>\n",
       "  If you're reading this message in another frontend (for example, a static\n",
       "  rendering on GitHub or <a href=\"https://nbviewer.jupyter.org/\">NBViewer</a>),\n",
       "  it may mean that your frontend doesn't currently support widgets.\n",
       "</p>\n"
      ],
      "text/plain": [
       "HBox(children=(IntProgress(value=0, max=84), HTML(value='')))"
      ]
     },
     "metadata": {},
     "output_type": "display_data"
    },
    {
     "name": "stdout",
     "output_type": "stream",
     "text": [
      "\n",
      "2018-01-15 10:58:41,445 | INFO : Random Sample:\n",
      "\n",
      "Positive Samples:\n",
      "                                          Source                       Target  \\\n",
      "0                 which singer has <e> ethnicity      people/ethnicity/people   \n",
      "1        which language was the film <e> made in           film/film/language   \n",
      "2                     what types of movie is <e>              film/film/genre   \n",
      "3             what medium was <e> painted with ?     visual_art/artwork/media   \n",
      "4  what 's a piece of music written by <e> <pad>  music/composer/compositions   \n",
      "\n",
      "                    Prediction  \n",
      "0      people/ethnicity/people  \n",
      "1           film/film/language  \n",
      "2              film/film/genre  \n",
      "3     visual_art/artwork/media  \n",
      "4  music/composer/compositions  \n",
      "\n",
      "Negative Samples:\n",
      "                              Source  \\\n",
      "0                   who directed <e>   \n",
      "1  what jurisdiction does <e> govern   \n",
      "2              what color is a <e> ?   \n",
      "3                 who produced <e> ?   \n",
      "4     which 1983 plays were in <e> ?   \n",
      "\n",
      "                                      Target  \\\n",
      "0              tv/tv_series_episode/director   \n",
      "1  government/governmental_body/jurisdiction   \n",
      "2              biology/animal_breed/coloring   \n",
      "3                   music/recording/producer   \n",
      "4     theater/theater_company/plays_produced   \n",
      "\n",
      "                                          Prediction  \n",
      "0                              film/film/directed_by  \n",
      "1  government/governmental_jurisdiction/governmen...  \n",
      "2              medicine/manufactured_drug_form/color  \n",
      "3                              film/film/produced_by  \n",
      "4  base/rugby/type_of_rugby/players_of_this_type_...  \n",
      "\n",
      "Loss: 1.125\n",
      "2018-01-15 10:58:41,513 | INFO : Accuracy: 0.7708489857250188 [8208 of 10648]\n",
      "2018-01-15 10:58:41,812 | INFO : Accuracy Top 3: 0.903831705484598 [9624 of 10648]\n",
      "2018-01-15 10:58:42,105 | INFO : Accuracy Top 5: 0.9313486100676184 [9917 of 10648]\n",
      "\n",
      "Epoch 12\n"
     ]
    },
    {
     "data": {
      "application/vnd.jupyter.widget-view+json": {
       "model_id": "350c9d1a80d049d8b99b671220ea3eab",
       "version_major": 2,
       "version_minor": 0
      },
      "text/html": [
       "<p>Failed to display Jupyter Widget of type <code>HBox</code>.</p>\n",
       "<p>\n",
       "  If you're reading this message in the Jupyter Notebook or JupyterLab Notebook, it may mean\n",
       "  that the widgets JavaScript is still loading. If this message persists, it\n",
       "  likely means that the widgets JavaScript library is either not installed or\n",
       "  not enabled. See the <a href=\"https://ipywidgets.readthedocs.io/en/stable/user_install.html\">Jupyter\n",
       "  Widgets Documentation</a> for setup instructions.\n",
       "</p>\n",
       "<p>\n",
       "  If you're reading this message in another frontend (for example, a static\n",
       "  rendering on GitHub or <a href=\"https://nbviewer.jupyter.org/\">NBViewer</a>),\n",
       "  it may mean that your frontend doesn't currently support widgets.\n",
       "</p>\n"
      ],
      "text/plain": [
       "HBox(children=(IntProgress(value=0, max=4658), HTML(value='')))"
      ]
     },
     "metadata": {},
     "output_type": "display_data"
    },
    {
     "name": "stdout",
     "output_type": "stream",
     "text": [
      "\n",
      "2018-01-15 10:59:07,947 | INFO : Saving checkpoint 01m_15d_10h_59m_07s.pt\n"
     ]
    },
    {
     "data": {
      "application/vnd.jupyter.widget-view+json": {
       "model_id": "49668047d9c346da8bf004f66e8208a9",
       "version_major": 2,
       "version_minor": 0
      },
      "text/html": [
       "<p>Failed to display Jupyter Widget of type <code>HBox</code>.</p>\n",
       "<p>\n",
       "  If you're reading this message in the Jupyter Notebook or JupyterLab Notebook, it may mean\n",
       "  that the widgets JavaScript is still loading. If this message persists, it\n",
       "  likely means that the widgets JavaScript library is either not installed or\n",
       "  not enabled. See the <a href=\"https://ipywidgets.readthedocs.io/en/stable/user_install.html\">Jupyter\n",
       "  Widgets Documentation</a> for setup instructions.\n",
       "</p>\n",
       "<p>\n",
       "  If you're reading this message in another frontend (for example, a static\n",
       "  rendering on GitHub or <a href=\"https://nbviewer.jupyter.org/\">NBViewer</a>),\n",
       "  it may mean that your frontend doesn't currently support widgets.\n",
       "</p>\n"
      ],
      "text/plain": [
       "HBox(children=(IntProgress(value=0, max=84), HTML(value='')))"
      ]
     },
     "metadata": {},
     "output_type": "display_data"
    },
    {
     "name": "stdout",
     "output_type": "stream",
     "text": [
      "\n",
      "2018-01-15 10:59:08,529 | INFO : Random Sample:\n",
      "\n",
      "Positive Samples:\n",
      "                              Source                        Target  \\\n",
      "0    what school can be found in <e>    location/location/contains   \n",
      "1    what country is <e> filmed in ?             film/film/country   \n",
      "2           who made the album <e> ?            music/album/artist   \n",
      "3  which artist released <e> ? <pad>            music/album/artist   \n",
      "4    what is <e> 's place of birth ?  people/person/place_of_birth   \n",
      "\n",
      "                     Prediction  \n",
      "0    location/location/contains  \n",
      "1             film/film/country  \n",
      "2            music/album/artist  \n",
      "3            music/album/artist  \n",
      "4  people/person/place_of_birth  \n",
      "\n",
      "Negative Samples:\n",
      "                                Source  \\\n",
      "0        what type of college is <e> ?   \n",
      "1                    who developed <e>   \n",
      "2              what is a track off <e>   \n",
      "3                what is a town in <e>   \n",
      "4  who was the writer for the film <e>   \n",
      "\n",
      "                                              Target  \\\n",
      "0  base/schemastaging/non_profit_extra/classifica...   \n",
      "1                        computer/software/developer   \n",
      "2                        music/release_track/release   \n",
      "3            location/country/second_level_divisions   \n",
      "4                                   film/writer/film   \n",
      "\n",
      "                                      Prediction  \n",
      "0  education/educational_institution/school_type  \n",
      "1               cvg/computer_videogame/developer  \n",
      "2                       music/release/track_list  \n",
      "3                     location/location/contains  \n",
      "4                           film/film/written_by  \n",
      "\n",
      "Loss: 1.128\n",
      "2018-01-15 10:59:08,591 | INFO : Accuracy: 0.769534184823441 [8194 of 10648]\n",
      "2018-01-15 10:59:08,862 | INFO : Accuracy Top 3: 0.9062734785875282 [9650 of 10648]\n",
      "2018-01-15 10:59:09,139 | INFO : Accuracy Top 5: 0.9336964688204358 [9942 of 10648]\n",
      "\n",
      "Epoch 13\n"
     ]
    },
    {
     "data": {
      "application/vnd.jupyter.widget-view+json": {
       "model_id": "72caac9621514426b2d928ff24eca677",
       "version_major": 2,
       "version_minor": 0
      },
      "text/html": [
       "<p>Failed to display Jupyter Widget of type <code>HBox</code>.</p>\n",
       "<p>\n",
       "  If you're reading this message in the Jupyter Notebook or JupyterLab Notebook, it may mean\n",
       "  that the widgets JavaScript is still loading. If this message persists, it\n",
       "  likely means that the widgets JavaScript library is either not installed or\n",
       "  not enabled. See the <a href=\"https://ipywidgets.readthedocs.io/en/stable/user_install.html\">Jupyter\n",
       "  Widgets Documentation</a> for setup instructions.\n",
       "</p>\n",
       "<p>\n",
       "  If you're reading this message in another frontend (for example, a static\n",
       "  rendering on GitHub or <a href=\"https://nbviewer.jupyter.org/\">NBViewer</a>),\n",
       "  it may mean that your frontend doesn't currently support widgets.\n",
       "</p>\n"
      ],
      "text/plain": [
       "HBox(children=(IntProgress(value=0, max=4658), HTML(value='')))"
      ]
     },
     "metadata": {},
     "output_type": "display_data"
    },
    {
     "name": "stdout",
     "output_type": "stream",
     "text": [
      "\n",
      "2018-01-15 10:59:33,720 | INFO : Saving checkpoint 01m_15d_10h_59m_33s.pt\n"
     ]
    },
    {
     "data": {
      "application/vnd.jupyter.widget-view+json": {
       "model_id": "dae6ce1ad6284d9ca57186801e64485a",
       "version_major": 2,
       "version_minor": 0
      },
      "text/html": [
       "<p>Failed to display Jupyter Widget of type <code>HBox</code>.</p>\n",
       "<p>\n",
       "  If you're reading this message in the Jupyter Notebook or JupyterLab Notebook, it may mean\n",
       "  that the widgets JavaScript is still loading. If this message persists, it\n",
       "  likely means that the widgets JavaScript library is either not installed or\n",
       "  not enabled. See the <a href=\"https://ipywidgets.readthedocs.io/en/stable/user_install.html\">Jupyter\n",
       "  Widgets Documentation</a> for setup instructions.\n",
       "</p>\n",
       "<p>\n",
       "  If you're reading this message in another frontend (for example, a static\n",
       "  rendering on GitHub or <a href=\"https://nbviewer.jupyter.org/\">NBViewer</a>),\n",
       "  it may mean that your frontend doesn't currently support widgets.\n",
       "</p>\n"
      ],
      "text/plain": [
       "HBox(children=(IntProgress(value=0, max=84), HTML(value='')))"
      ]
     },
     "metadata": {},
     "output_type": "display_data"
    },
    {
     "name": "stdout",
     "output_type": "stream",
     "text": [
      "\n",
      "2018-01-15 10:59:34,395 | INFO : Random Sample:\n",
      "\n",
      "Positive Samples:\n",
      "                                              Source  \\\n",
      "0  who is the primary subject in the written work...   \n",
      "1                       what language does <e> speak   \n",
      "2                                   who composed <e>   \n",
      "3                    which book is written about <e>   \n",
      "4   what is the administrative route of the drug <e>   \n",
      "\n",
      "                             Target                        Prediction  \n",
      "0        book/written_work/subjects        book/written_work/subjects  \n",
      "1           people/person/languages           people/person/languages  \n",
      "2        music/composition/composer        music/composition/composer  \n",
      "3           book/book_subject/works           book/book_subject/works  \n",
      "4  medicine/drug_formulation/routes  medicine/drug_formulation/routes  \n",
      "\n",
      "Negative Samples:\n",
      "                                        Source  \\\n",
      "0           which military unit comes from <e>   \n",
      "1                   where is the <e> located ?   \n",
      "2  what is an active ingredient found in <e> ?   \n",
      "3                what is the category of <e> ?   \n",
      "4     who is an artist that specializes in <e>   \n",
      "\n",
      "                                              Target  \\\n",
      "0  military/military_unit_place_of_origin/militar...   \n",
      "1                         location/location/contains   \n",
      "2  medicine/drug_ingredient/active_moiety_of_form...   \n",
      "3            medicine/drug_formulation/drug_category   \n",
      "4                 visual_art/visual_art_form/artists   \n",
      "\n",
      "                                     Prediction  \n",
      "0            military/military_unit/armed_force  \n",
      "1                 location/location/containedby  \n",
      "2  medicine/drug_formulation/active_ingredients  \n",
      "3           astronomy/celestial_object/category  \n",
      "4                           music/genre/artists  \n",
      "\n",
      "Loss: 1.128\n",
      "2018-01-15 10:59:34,460 | INFO : Accuracy: 0.776671675432006 [8270 of 10648]\n",
      "2018-01-15 10:59:34,749 | INFO : Accuracy Top 3: 0.9065552216378663 [9653 of 10648]\n",
      "2018-01-15 10:59:35,040 | INFO : Accuracy Top 5: 0.9349173553719008 [9955 of 10648]\n",
      "\n",
      "Epoch 14\n"
     ]
    },
    {
     "data": {
      "application/vnd.jupyter.widget-view+json": {
       "model_id": "b70e9493879d414487f53bb4a9efd698",
       "version_major": 2,
       "version_minor": 0
      },
      "text/html": [
       "<p>Failed to display Jupyter Widget of type <code>HBox</code>.</p>\n",
       "<p>\n",
       "  If you're reading this message in the Jupyter Notebook or JupyterLab Notebook, it may mean\n",
       "  that the widgets JavaScript is still loading. If this message persists, it\n",
       "  likely means that the widgets JavaScript library is either not installed or\n",
       "  not enabled. See the <a href=\"https://ipywidgets.readthedocs.io/en/stable/user_install.html\">Jupyter\n",
       "  Widgets Documentation</a> for setup instructions.\n",
       "</p>\n",
       "<p>\n",
       "  If you're reading this message in another frontend (for example, a static\n",
       "  rendering on GitHub or <a href=\"https://nbviewer.jupyter.org/\">NBViewer</a>),\n",
       "  it may mean that your frontend doesn't currently support widgets.\n",
       "</p>\n"
      ],
      "text/plain": [
       "HBox(children=(IntProgress(value=0, max=4658), HTML(value='')))"
      ]
     },
     "metadata": {},
     "output_type": "display_data"
    },
    {
     "name": "stdout",
     "output_type": "stream",
     "text": [
      "\n",
      "2018-01-15 11:00:00,928 | INFO : Saving checkpoint 01m_15d_11h_00m_00s.pt\n"
     ]
    },
    {
     "data": {
      "application/vnd.jupyter.widget-view+json": {
       "model_id": "b55a0f2492ac463b918f6918f9baa360",
       "version_major": 2,
       "version_minor": 0
      },
      "text/html": [
       "<p>Failed to display Jupyter Widget of type <code>HBox</code>.</p>\n",
       "<p>\n",
       "  If you're reading this message in the Jupyter Notebook or JupyterLab Notebook, it may mean\n",
       "  that the widgets JavaScript is still loading. If this message persists, it\n",
       "  likely means that the widgets JavaScript library is either not installed or\n",
       "  not enabled. See the <a href=\"https://ipywidgets.readthedocs.io/en/stable/user_install.html\">Jupyter\n",
       "  Widgets Documentation</a> for setup instructions.\n",
       "</p>\n",
       "<p>\n",
       "  If you're reading this message in another frontend (for example, a static\n",
       "  rendering on GitHub or <a href=\"https://nbviewer.jupyter.org/\">NBViewer</a>),\n",
       "  it may mean that your frontend doesn't currently support widgets.\n",
       "</p>\n"
      ],
      "text/plain": [
       "HBox(children=(IntProgress(value=0, max=84), HTML(value='')))"
      ]
     },
     "metadata": {},
     "output_type": "display_data"
    },
    {
     "name": "stdout",
     "output_type": "stream",
     "text": [
      "\n",
      "2018-01-15 11:00:01,477 | INFO : Random Sample:\n",
      "\n",
      "Positive Samples:\n",
      "                                              Source  \\\n",
      "0  what is the name of the game that has a versio...   \n",
      "1                 is the sex of <e> male or female ?   \n",
      "2                   what is <e> a notable example of   \n",
      "3              what is an adaption of the work <e> ?   \n",
      "4                what album is from the artist <e> ?   \n",
      "\n",
      "                                  Target  \\\n",
      "0                  cvg/game_version/game   \n",
      "1                   people/person/gender   \n",
      "2             common/topic/notable_types   \n",
      "3  media_common/adapted_work/adaptations   \n",
      "4                     music/artist/album   \n",
      "\n",
      "                              Prediction  \n",
      "0                  cvg/game_version/game  \n",
      "1                   people/person/gender  \n",
      "2             common/topic/notable_types  \n",
      "3  media_common/adapted_work/adaptations  \n",
      "4                     music/artist/album  \n",
      "\n",
      "Negative Samples:\n",
      "                                    Source                             Target  \\\n",
      "0         what language does <e> belong to                 film/film/language   \n",
      "1     what is the name of a title of a <e>  media_common/netflix_genre/titles   \n",
      "2                  what 's a song from <e>             music/recording/tracks   \n",
      "3               what kind of film is <e> ?              film/film/film_format   \n",
      "4  what album was the song <e> featured on        music/release_track/release   \n",
      "\n",
      "                                Prediction  \n",
      "0  language/human_language/language_family  \n",
      "1      film/film_genre/films_in_this_genre  \n",
      "2                       music/artist/track  \n",
      "3                          film/film/genre  \n",
      "4                 music/recording/releases  \n",
      "\n",
      "Loss: 1.101\n",
      "2018-01-15 11:00:01,541 | INFO : Accuracy: 0.7762021036814425 [8265 of 10648]\n",
      "2018-01-15 11:00:01,814 | INFO : Accuracy Top 3: 0.9091848234410218 [9681 of 10648]\n",
      "2018-01-15 11:00:02,091 | INFO : Accuracy Top 5: 0.9373591284748309 [9981 of 10648]\n",
      "\n",
      "Epoch 15\n"
     ]
    },
    {
     "data": {
      "application/vnd.jupyter.widget-view+json": {
       "model_id": "47ab7fdf997943eda0604fdbfcc993f6",
       "version_major": 2,
       "version_minor": 0
      },
      "text/html": [
       "<p>Failed to display Jupyter Widget of type <code>HBox</code>.</p>\n",
       "<p>\n",
       "  If you're reading this message in the Jupyter Notebook or JupyterLab Notebook, it may mean\n",
       "  that the widgets JavaScript is still loading. If this message persists, it\n",
       "  likely means that the widgets JavaScript library is either not installed or\n",
       "  not enabled. See the <a href=\"https://ipywidgets.readthedocs.io/en/stable/user_install.html\">Jupyter\n",
       "  Widgets Documentation</a> for setup instructions.\n",
       "</p>\n",
       "<p>\n",
       "  If you're reading this message in another frontend (for example, a static\n",
       "  rendering on GitHub or <a href=\"https://nbviewer.jupyter.org/\">NBViewer</a>),\n",
       "  it may mean that your frontend doesn't currently support widgets.\n",
       "</p>\n"
      ],
      "text/plain": [
       "HBox(children=(IntProgress(value=0, max=4658), HTML(value='')))"
      ]
     },
     "metadata": {},
     "output_type": "display_data"
    },
    {
     "name": "stdout",
     "output_type": "stream",
     "text": [
      "\n",
      "2018-01-15 11:00:27,297 | INFO : Saving checkpoint 01m_15d_11h_00m_27s.pt\n"
     ]
    },
    {
     "data": {
      "application/vnd.jupyter.widget-view+json": {
       "model_id": "b2bcfe61b76543f48f95626291b7980c",
       "version_major": 2,
       "version_minor": 0
      },
      "text/html": [
       "<p>Failed to display Jupyter Widget of type <code>HBox</code>.</p>\n",
       "<p>\n",
       "  If you're reading this message in the Jupyter Notebook or JupyterLab Notebook, it may mean\n",
       "  that the widgets JavaScript is still loading. If this message persists, it\n",
       "  likely means that the widgets JavaScript library is either not installed or\n",
       "  not enabled. See the <a href=\"https://ipywidgets.readthedocs.io/en/stable/user_install.html\">Jupyter\n",
       "  Widgets Documentation</a> for setup instructions.\n",
       "</p>\n",
       "<p>\n",
       "  If you're reading this message in another frontend (for example, a static\n",
       "  rendering on GitHub or <a href=\"https://nbviewer.jupyter.org/\">NBViewer</a>),\n",
       "  it may mean that your frontend doesn't currently support widgets.\n",
       "</p>\n"
      ],
      "text/plain": [
       "HBox(children=(IntProgress(value=0, max=84), HTML(value='')))"
      ]
     },
     "metadata": {},
     "output_type": "display_data"
    },
    {
     "name": "stdout",
     "output_type": "stream",
     "text": [
      "\n",
      "2018-01-15 11:00:27,959 | INFO : Random Sample:\n",
      "\n",
      "Positive Samples:\n",
      "                              Source                            Target  \\\n",
      "0  what is the content type of <e> ?    music/album/album_content_type   \n",
      "1      what recording is <e> found ?     music/release_track/recording   \n",
      "2     what is the birth place of <e>      people/person/place_of_birth   \n",
      "3      who is the architect of <e> ?  architecture/structure/architect   \n",
      "4              is <e> male or female              people/person/gender   \n",
      "\n",
      "                         Prediction  \n",
      "0    music/album/album_content_type  \n",
      "1     music/release_track/recording  \n",
      "2      people/person/place_of_birth  \n",
      "3  architecture/structure/architect  \n",
      "4              people/person/gender  \n",
      "\n",
      "Negative Samples:\n",
      "                                     Source  \\\n",
      "0                        who produced <e> ?   \n",
      "1              what did <e> do for a living   \n",
      "2                    what is a track on <e>   \n",
      "3  what song is <e> a recorded version of ?   \n",
      "4  what <e> tamil film was released in 2004   \n",
      "\n",
      "                              Target                           Prediction  \n",
      "0            music/release/producers                film/film/produced_by  \n",
      "1           people/person/profession           common/topic/notable_types  \n",
      "2             music/recording/tracks                  music/release/track  \n",
      "3             music/recording/tracks                 music/recording/song  \n",
      "4  media_common/netflix_genre/titles  film/film_genre/films_in_this_genre  \n",
      "\n",
      "Loss: 1.081\n",
      "2018-01-15 11:00:28,023 | INFO : Accuracy: 0.7789256198347108 [8294 of 10648]\n",
      "2018-01-15 11:00:28,301 | INFO : Accuracy Top 3: 0.9097483095416979 [9687 of 10648]\n",
      "2018-01-15 11:00:28,580 | INFO : Accuracy Top 5: 0.9382982719759579 [9991 of 10648]\n",
      "\n",
      "Epoch 16\n"
     ]
    },
    {
     "data": {
      "application/vnd.jupyter.widget-view+json": {
       "model_id": "cb7cc869b45a4713ad921229c82a98b4",
       "version_major": 2,
       "version_minor": 0
      },
      "text/html": [
       "<p>Failed to display Jupyter Widget of type <code>HBox</code>.</p>\n",
       "<p>\n",
       "  If you're reading this message in the Jupyter Notebook or JupyterLab Notebook, it may mean\n",
       "  that the widgets JavaScript is still loading. If this message persists, it\n",
       "  likely means that the widgets JavaScript library is either not installed or\n",
       "  not enabled. See the <a href=\"https://ipywidgets.readthedocs.io/en/stable/user_install.html\">Jupyter\n",
       "  Widgets Documentation</a> for setup instructions.\n",
       "</p>\n",
       "<p>\n",
       "  If you're reading this message in another frontend (for example, a static\n",
       "  rendering on GitHub or <a href=\"https://nbviewer.jupyter.org/\">NBViewer</a>),\n",
       "  it may mean that your frontend doesn't currently support widgets.\n",
       "</p>\n"
      ],
      "text/plain": [
       "HBox(children=(IntProgress(value=0, max=4658), HTML(value='')))"
      ]
     },
     "metadata": {},
     "output_type": "display_data"
    },
    {
     "name": "stdout",
     "output_type": "stream",
     "text": [
      "\n",
      "2018-01-15 11:00:54,208 | INFO : Saving checkpoint 01m_15d_11h_00m_54s.pt\n"
     ]
    },
    {
     "data": {
      "application/vnd.jupyter.widget-view+json": {
       "model_id": "234f626e9ccd4d03a2c03053f948875d",
       "version_major": 2,
       "version_minor": 0
      },
      "text/html": [
       "<p>Failed to display Jupyter Widget of type <code>HBox</code>.</p>\n",
       "<p>\n",
       "  If you're reading this message in the Jupyter Notebook or JupyterLab Notebook, it may mean\n",
       "  that the widgets JavaScript is still loading. If this message persists, it\n",
       "  likely means that the widgets JavaScript library is either not installed or\n",
       "  not enabled. See the <a href=\"https://ipywidgets.readthedocs.io/en/stable/user_install.html\">Jupyter\n",
       "  Widgets Documentation</a> for setup instructions.\n",
       "</p>\n",
       "<p>\n",
       "  If you're reading this message in another frontend (for example, a static\n",
       "  rendering on GitHub or <a href=\"https://nbviewer.jupyter.org/\">NBViewer</a>),\n",
       "  it may mean that your frontend doesn't currently support widgets.\n",
       "</p>\n"
      ],
      "text/plain": [
       "HBox(children=(IntProgress(value=0, max=84), HTML(value='')))"
      ]
     },
     "metadata": {},
     "output_type": "display_data"
    },
    {
     "name": "stdout",
     "output_type": "stream",
     "text": [
      "\n",
      "2018-01-15 11:00:54,752 | INFO : Random Sample:\n",
      "\n",
      "Positive Samples:\n",
      "                               Source                         Target  \\\n",
      "0  what type of book binding is <e> .      book/book_edition/binding   \n",
      "1       what time zone is used in <e>   location/location/time_zones   \n",
      "2           what is a <e> album <pad>             music/genre/albums   \n",
      "3       what county is <e> located in  location/location/containedby   \n",
      "4                   what is <e> about     book/written_work/subjects   \n",
      "\n",
      "                      Prediction  \n",
      "0      book/book_edition/binding  \n",
      "1   location/location/time_zones  \n",
      "2             music/genre/albums  \n",
      "3  location/location/containedby  \n",
      "4     book/written_work/subjects  \n",
      "\n",
      "Negative Samples:\n",
      "                         Source  \\\n",
      "0  what release format is <e> ?   \n",
      "1        what is orbited by <e>   \n",
      "2               name a 1999 <e>   \n",
      "3                   what is <e>   \n",
      "4       which form is <e> taken   \n",
      "\n",
      "                                              Target  \\\n",
      "0                           music/album/release_type   \n",
      "1              astronomy/orbital_relationship/orbits   \n",
      "2                    music/album_content_type/albums   \n",
      "3                astronomy/celestial_object/category   \n",
      "4  medicine/drug_ingredient/active_moiety_of_form...   \n",
      "\n",
      "                                      Prediction  \n",
      "0                           music/release/format  \n",
      "1      astronomy/orbital_relationship/orbited_by  \n",
      "2  people/profession/people_with_this_profession  \n",
      "3                     common/topic/notable_types  \n",
      "4          medicine/drug_formulation/dosage_form  \n",
      "\n",
      "Loss: 1.086\n",
      "2018-01-15 11:00:54,816 | INFO : Accuracy: 0.7772351615326822 [8276 of 10648]\n",
      "2018-01-15 11:00:55,093 | INFO : Accuracy Top 3: 0.9114387678437266 [9705 of 10648]\n",
      "2018-01-15 11:00:55,374 | INFO : Accuracy Top 5: 0.9379226145755072 [9987 of 10648]\n",
      "\n",
      "Epoch 17\n"
     ]
    },
    {
     "data": {
      "application/vnd.jupyter.widget-view+json": {
       "model_id": "efbf8ffcb2404830bc608d6cbcd47c49",
       "version_major": 2,
       "version_minor": 0
      },
      "text/html": [
       "<p>Failed to display Jupyter Widget of type <code>HBox</code>.</p>\n",
       "<p>\n",
       "  If you're reading this message in the Jupyter Notebook or JupyterLab Notebook, it may mean\n",
       "  that the widgets JavaScript is still loading. If this message persists, it\n",
       "  likely means that the widgets JavaScript library is either not installed or\n",
       "  not enabled. See the <a href=\"https://ipywidgets.readthedocs.io/en/stable/user_install.html\">Jupyter\n",
       "  Widgets Documentation</a> for setup instructions.\n",
       "</p>\n",
       "<p>\n",
       "  If you're reading this message in another frontend (for example, a static\n",
       "  rendering on GitHub or <a href=\"https://nbviewer.jupyter.org/\">NBViewer</a>),\n",
       "  it may mean that your frontend doesn't currently support widgets.\n",
       "</p>\n"
      ],
      "text/plain": [
       "HBox(children=(IntProgress(value=0, max=4658), HTML(value='')))"
      ]
     },
     "metadata": {},
     "output_type": "display_data"
    },
    {
     "name": "stdout",
     "output_type": "stream",
     "text": [
      "\n",
      "2018-01-15 11:01:20,568 | INFO : Saving checkpoint 01m_15d_11h_01m_20s.pt\n"
     ]
    },
    {
     "data": {
      "application/vnd.jupyter.widget-view+json": {
       "model_id": "048f265c1a5c49b99614c948fbc102b8",
       "version_major": 2,
       "version_minor": 0
      },
      "text/html": [
       "<p>Failed to display Jupyter Widget of type <code>HBox</code>.</p>\n",
       "<p>\n",
       "  If you're reading this message in the Jupyter Notebook or JupyterLab Notebook, it may mean\n",
       "  that the widgets JavaScript is still loading. If this message persists, it\n",
       "  likely means that the widgets JavaScript library is either not installed or\n",
       "  not enabled. See the <a href=\"https://ipywidgets.readthedocs.io/en/stable/user_install.html\">Jupyter\n",
       "  Widgets Documentation</a> for setup instructions.\n",
       "</p>\n",
       "<p>\n",
       "  If you're reading this message in another frontend (for example, a static\n",
       "  rendering on GitHub or <a href=\"https://nbviewer.jupyter.org/\">NBViewer</a>),\n",
       "  it may mean that your frontend doesn't currently support widgets.\n",
       "</p>\n"
      ],
      "text/plain": [
       "HBox(children=(IntProgress(value=0, max=84), HTML(value='')))"
      ]
     },
     "metadata": {},
     "output_type": "display_data"
    },
    {
     "name": "stdout",
     "output_type": "stream",
     "text": [
      "\n",
      "2018-01-15 11:01:21,147 | INFO : Random Sample:\n",
      "\n",
      "Positive Samples:\n",
      "                                              Source  \\\n",
      "0                               what tv genre is <e>   \n",
      "1                         who is the parent of <e> ?   \n",
      "2         what is a book from the <e> literary genre   \n",
      "3  who was one of the production companies listed...   \n",
      "4                  what is the color of the drug <e>   \n",
      "\n",
      "                                            Target  \\\n",
      "0                              tv/tv_program/genre   \n",
      "1                            people/person/parents   \n",
      "2  media_common/literary_genre/books_in_this_genre   \n",
      "3                   film/film/production_companies   \n",
      "4            medicine/manufactured_drug_form/color   \n",
      "\n",
      "                                        Prediction  \n",
      "0                              tv/tv_program/genre  \n",
      "1                            people/person/parents  \n",
      "2  media_common/literary_genre/books_in_this_genre  \n",
      "3                   film/film/production_companies  \n",
      "4            medicine/manufactured_drug_form/color  \n",
      "\n",
      "Negative Samples:\n",
      "                          Source  \\\n",
      "0  what genre best describes <e>   \n",
      "1    who is a famous <e> fighter   \n",
      "2             where is <e> found   \n",
      "3  what types of accident is <e>   \n",
      "4              what genre is <e>   \n",
      "\n",
      "                                              Target  \\\n",
      "0                                  music/album/genre   \n",
      "1  sports/boxing_weight_division/boxers_rated_at_...   \n",
      "2                      music/release_track/recording   \n",
      "3           aviation/airliner_accident/accident_type   \n",
      "4                                 music/artist/genre   \n",
      "\n",
      "                          Prediction  \n",
      "0                 music/artist/genre  \n",
      "1            people/ethnicity/people  \n",
      "2      location/location/containedby  \n",
      "3  automotive/model/automotive_class  \n",
      "4                  music/album/genre  \n",
      "\n",
      "Loss: 1.090\n",
      "2018-01-15 11:01:21,212 | INFO : Accuracy: 0.7810856498873028 [8317 of 10648]\n",
      "2018-01-15 11:01:21,495 | INFO : Accuracy Top 3: 0.9118144252441773 [9709 of 10648]\n",
      "2018-01-15 11:01:21,782 | INFO : Accuracy Top 5: 0.9398009015777611 [10007 of 10648]\n",
      "\n",
      "Epoch 18\n"
     ]
    },
    {
     "data": {
      "application/vnd.jupyter.widget-view+json": {
       "model_id": "a4a013d67cc243fe8f52dacb9c64f296",
       "version_major": 2,
       "version_minor": 0
      },
      "text/html": [
       "<p>Failed to display Jupyter Widget of type <code>HBox</code>.</p>\n",
       "<p>\n",
       "  If you're reading this message in the Jupyter Notebook or JupyterLab Notebook, it may mean\n",
       "  that the widgets JavaScript is still loading. If this message persists, it\n",
       "  likely means that the widgets JavaScript library is either not installed or\n",
       "  not enabled. See the <a href=\"https://ipywidgets.readthedocs.io/en/stable/user_install.html\">Jupyter\n",
       "  Widgets Documentation</a> for setup instructions.\n",
       "</p>\n",
       "<p>\n",
       "  If you're reading this message in another frontend (for example, a static\n",
       "  rendering on GitHub or <a href=\"https://nbviewer.jupyter.org/\">NBViewer</a>),\n",
       "  it may mean that your frontend doesn't currently support widgets.\n",
       "</p>\n"
      ],
      "text/plain": [
       "HBox(children=(IntProgress(value=0, max=4658), HTML(value='')))"
      ]
     },
     "metadata": {},
     "output_type": "display_data"
    },
    {
     "name": "stdout",
     "output_type": "stream",
     "text": [
      "\n",
      "2018-01-15 11:01:46,988 | INFO : Saving checkpoint 01m_15d_11h_01m_46s.pt\n"
     ]
    },
    {
     "data": {
      "application/vnd.jupyter.widget-view+json": {
       "model_id": "8a6dd8c69c6c44e993a7d0a6df7a72b3",
       "version_major": 2,
       "version_minor": 0
      },
      "text/html": [
       "<p>Failed to display Jupyter Widget of type <code>HBox</code>.</p>\n",
       "<p>\n",
       "  If you're reading this message in the Jupyter Notebook or JupyterLab Notebook, it may mean\n",
       "  that the widgets JavaScript is still loading. If this message persists, it\n",
       "  likely means that the widgets JavaScript library is either not installed or\n",
       "  not enabled. See the <a href=\"https://ipywidgets.readthedocs.io/en/stable/user_install.html\">Jupyter\n",
       "  Widgets Documentation</a> for setup instructions.\n",
       "</p>\n",
       "<p>\n",
       "  If you're reading this message in another frontend (for example, a static\n",
       "  rendering on GitHub or <a href=\"https://nbviewer.jupyter.org/\">NBViewer</a>),\n",
       "  it may mean that your frontend doesn't currently support widgets.\n",
       "</p>\n"
      ],
      "text/plain": [
       "HBox(children=(IntProgress(value=0, max=84), HTML(value='')))"
      ]
     },
     "metadata": {},
     "output_type": "display_data"
    },
    {
     "name": "stdout",
     "output_type": "stream",
     "text": [
      "\n",
      "2018-01-15 11:01:47,624 | INFO : Random Sample:\n",
      "\n",
      "Positive Samples:\n",
      "                                            Source  \\\n",
      "0              how is the drug <e> applied to body   \n",
      "1  name a <e> genre book written by kate elliott ?   \n",
      "2       which country came up with the tv show <e>   \n",
      "3                            what is a song by <e>   \n",
      "4       which movie has production designed by <e>   \n",
      "\n",
      "                                              Target  \\\n",
      "0                   medicine/drug_formulation/routes   \n",
      "1    media_common/literary_genre/books_in_this_genre   \n",
      "2                    tv/tv_program/country_of_origin   \n",
      "3                                 music/artist/track   \n",
      "4  film/film_production_designer/films_production...   \n",
      "\n",
      "                                          Prediction  \n",
      "0                   medicine/drug_formulation/routes  \n",
      "1    media_common/literary_genre/books_in_this_genre  \n",
      "2                    tv/tv_program/country_of_origin  \n",
      "3                                 music/artist/track  \n",
      "4  film/film_production_designer/films_production...  \n",
      "\n",
      "Negative Samples:\n",
      "                                   Source  \\\n",
      "0           what island is within the <e>   \n",
      "1  which district in scotland is <e> from   \n",
      "2     what campaign was the <e> a part of   \n",
      "3                       what treats a <e>   \n",
      "4            what is an attraction in <e>   \n",
      "\n",
      "                                    Target  \\\n",
      "0  geography/island_group/islands_in_group   \n",
      "1                      music/artist/origin   \n",
      "2    base/americancivilwar/battle/campaign   \n",
      "3              medicine/disease/treatments   \n",
      "4               location/location/contains   \n",
      "\n",
      "                                      Prediction  \n",
      "0                     location/location/contains  \n",
      "1                   people/person/place_of_birth  \n",
      "2                   time/event/included_in_event  \n",
      "3            film/film_genre/films_in_this_genre  \n",
      "4  travel/travel_destination/tourist_attractions  \n",
      "\n",
      "Loss: 1.101\n",
      "2018-01-15 11:01:47,688 | INFO : Accuracy: 0.7821187077385424 [8328 of 10648]\n",
      "2018-01-15 11:01:47,968 | INFO : Accuracy Top 3: 0.9135987978963186 [9728 of 10648]\n",
      "2018-01-15 11:01:48,249 | INFO : Accuracy Top 5: 0.9396130728775357 [10005 of 10648]\n",
      "\n",
      "Epoch 19\n"
     ]
    },
    {
     "data": {
      "application/vnd.jupyter.widget-view+json": {
       "model_id": "cdfc487bc0744e8890b26766533212b5",
       "version_major": 2,
       "version_minor": 0
      },
      "text/html": [
       "<p>Failed to display Jupyter Widget of type <code>HBox</code>.</p>\n",
       "<p>\n",
       "  If you're reading this message in the Jupyter Notebook or JupyterLab Notebook, it may mean\n",
       "  that the widgets JavaScript is still loading. If this message persists, it\n",
       "  likely means that the widgets JavaScript library is either not installed or\n",
       "  not enabled. See the <a href=\"https://ipywidgets.readthedocs.io/en/stable/user_install.html\">Jupyter\n",
       "  Widgets Documentation</a> for setup instructions.\n",
       "</p>\n",
       "<p>\n",
       "  If you're reading this message in another frontend (for example, a static\n",
       "  rendering on GitHub or <a href=\"https://nbviewer.jupyter.org/\">NBViewer</a>),\n",
       "  it may mean that your frontend doesn't currently support widgets.\n",
       "</p>\n"
      ],
      "text/plain": [
       "HBox(children=(IntProgress(value=0, max=4658), HTML(value='')))"
      ]
     },
     "metadata": {},
     "output_type": "display_data"
    },
    {
     "name": "stdout",
     "output_type": "stream",
     "text": [
      "\n",
      "2018-01-15 11:02:13,402 | INFO : Saving checkpoint 01m_15d_11h_02m_13s.pt\n"
     ]
    },
    {
     "data": {
      "application/vnd.jupyter.widget-view+json": {
       "model_id": "e4ced78aebb54828b7c9362394c381b6",
       "version_major": 2,
       "version_minor": 0
      },
      "text/html": [
       "<p>Failed to display Jupyter Widget of type <code>HBox</code>.</p>\n",
       "<p>\n",
       "  If you're reading this message in the Jupyter Notebook or JupyterLab Notebook, it may mean\n",
       "  that the widgets JavaScript is still loading. If this message persists, it\n",
       "  likely means that the widgets JavaScript library is either not installed or\n",
       "  not enabled. See the <a href=\"https://ipywidgets.readthedocs.io/en/stable/user_install.html\">Jupyter\n",
       "  Widgets Documentation</a> for setup instructions.\n",
       "</p>\n",
       "<p>\n",
       "  If you're reading this message in another frontend (for example, a static\n",
       "  rendering on GitHub or <a href=\"https://nbviewer.jupyter.org/\">NBViewer</a>),\n",
       "  it may mean that your frontend doesn't currently support widgets.\n",
       "</p>\n"
      ],
      "text/plain": [
       "HBox(children=(IntProgress(value=0, max=84), HTML(value='')))"
      ]
     },
     "metadata": {},
     "output_type": "display_data"
    },
    {
     "name": "stdout",
     "output_type": "stream",
     "text": [
      "\n",
      "2018-01-15 11:02:13,944 | INFO : Random Sample:\n",
      "\n",
      "Positive Samples:\n",
      "                                Source  \\\n",
      "0  <e> is a national of what country ?   \n",
      "1  what parisian suburb did <e> die in   \n",
      "2           who is a woman born in <e>   \n",
      "3   what asteroid group is <e> part of   \n",
      "4                is <e> male or female   \n",
      "\n",
      "                                        Target  \\\n",
      "0                    people/person/nationality   \n",
      "1        people/deceased_person/place_of_death   \n",
      "2           location/location/people_born_here   \n",
      "3  astronomy/asteroid/member_of_asteroid_group   \n",
      "4                         people/person/gender   \n",
      "\n",
      "                                    Prediction  \n",
      "0                    people/person/nationality  \n",
      "1        people/deceased_person/place_of_death  \n",
      "2           location/location/people_born_here  \n",
      "3  astronomy/asteroid/member_of_asteroid_group  \n",
      "4                         people/person/gender  \n",
      "\n",
      "Negative Samples:\n",
      "                                              Source  \\\n",
      "0                     which county is <e> located in   \n",
      "1                          what genre is <e> under ?   \n",
      "2               what is the name of a track from <e>   \n",
      "3  who is a fictional <e> character from the tele...   \n",
      "4  what is the name of a recurring competition th...   \n",
      "\n",
      "                                              Target  \\\n",
      "0                   location/hud_county_place/county   \n",
      "1                                    book/book/genre   \n",
      "2                             music/recording/tracks   \n",
      "3  fictional_universe/character_species/character...   \n",
      "4  award/competition/instance_of_recurring_compet...   \n",
      "\n",
      "                                          Prediction  \n",
      "0                      location/location/containedby  \n",
      "1                                    film/film/genre  \n",
      "2                                music/release/track  \n",
      "3  fictional_universe/character_gender/characters...  \n",
      "4                        tv/tv_program/spun_off_from  \n",
      "\n",
      "Loss: 1.073\n",
      "2018-01-15 11:02:14,006 | INFO : Accuracy: 0.7824004507888805 [8331 of 10648]\n",
      "2018-01-15 11:02:14,282 | INFO : Accuracy Top 3: 0.9144440270473329 [9737 of 10648]\n",
      "2018-01-15 11:02:14,563 | INFO : Accuracy Top 5: 0.9398009015777611 [10007 of 10648]\n",
      "\n",
      "Epoch 20\n"
     ]
    },
    {
     "data": {
      "application/vnd.jupyter.widget-view+json": {
       "model_id": "4d95795ba0214e7d8a1df91d2076e653",
       "version_major": 2,
       "version_minor": 0
      },
      "text/html": [
       "<p>Failed to display Jupyter Widget of type <code>HBox</code>.</p>\n",
       "<p>\n",
       "  If you're reading this message in the Jupyter Notebook or JupyterLab Notebook, it may mean\n",
       "  that the widgets JavaScript is still loading. If this message persists, it\n",
       "  likely means that the widgets JavaScript library is either not installed or\n",
       "  not enabled. See the <a href=\"https://ipywidgets.readthedocs.io/en/stable/user_install.html\">Jupyter\n",
       "  Widgets Documentation</a> for setup instructions.\n",
       "</p>\n",
       "<p>\n",
       "  If you're reading this message in another frontend (for example, a static\n",
       "  rendering on GitHub or <a href=\"https://nbviewer.jupyter.org/\">NBViewer</a>),\n",
       "  it may mean that your frontend doesn't currently support widgets.\n",
       "</p>\n"
      ],
      "text/plain": [
       "HBox(children=(IntProgress(value=0, max=4658), HTML(value='')))"
      ]
     },
     "metadata": {},
     "output_type": "display_data"
    },
    {
     "name": "stdout",
     "output_type": "stream",
     "text": [
      "\n",
      "2018-01-15 11:02:39,000 | INFO : Saving checkpoint 01m_15d_11h_02m_38s.pt\n"
     ]
    },
    {
     "data": {
      "application/vnd.jupyter.widget-view+json": {
       "model_id": "e4ffb9a78e5b4934ae8a766442aeb951",
       "version_major": 2,
       "version_minor": 0
      },
      "text/html": [
       "<p>Failed to display Jupyter Widget of type <code>HBox</code>.</p>\n",
       "<p>\n",
       "  If you're reading this message in the Jupyter Notebook or JupyterLab Notebook, it may mean\n",
       "  that the widgets JavaScript is still loading. If this message persists, it\n",
       "  likely means that the widgets JavaScript library is either not installed or\n",
       "  not enabled. See the <a href=\"https://ipywidgets.readthedocs.io/en/stable/user_install.html\">Jupyter\n",
       "  Widgets Documentation</a> for setup instructions.\n",
       "</p>\n",
       "<p>\n",
       "  If you're reading this message in another frontend (for example, a static\n",
       "  rendering on GitHub or <a href=\"https://nbviewer.jupyter.org/\">NBViewer</a>),\n",
       "  it may mean that your frontend doesn't currently support widgets.\n",
       "</p>\n"
      ],
      "text/plain": [
       "HBox(children=(IntProgress(value=0, max=84), HTML(value='')))"
      ]
     },
     "metadata": {},
     "output_type": "display_data"
    },
    {
     "name": "stdout",
     "output_type": "stream",
     "text": [
      "\n",
      "2018-01-15 11:02:39,646 | INFO : Random Sample:\n",
      "\n",
      "Positive Samples:\n",
      "                                      Source  \\\n",
      "0                     what film did <e> edit   \n",
      "1         name an active ingredient in <e> .   \n",
      "2                       where is <e> located   \n",
      "3  where was <e> originally released ? <pad>   \n",
      "4                where did <e> 's life start   \n",
      "\n",
      "                                              Target  \\\n",
      "0                                   film/editor/film   \n",
      "1  medicine/drug_formulation/active_ingredient_mo...   \n",
      "2                      location/location/containedby   \n",
      "3                               music/release/region   \n",
      "4                       people/person/place_of_birth   \n",
      "\n",
      "                                          Prediction  \n",
      "0                                   film/editor/film  \n",
      "1  medicine/drug_formulation/active_ingredient_mo...  \n",
      "2                      location/location/containedby  \n",
      "3                               music/release/region  \n",
      "4                       people/person/place_of_birth  \n",
      "\n",
      "Negative Samples:\n",
      "                            Source                                     Target  \\\n",
      "0         what sort of film is <e>  media_common/netflix_title/netflix_genres   \n",
      "1  which language is spoken in <e>        book/written_work/original_language   \n",
      "2                what genre is <e>                            book/book/genre   \n",
      "3   what is a work produced by <e>    theater/theater_producer/plays_produced   \n",
      "4    in which state is <e> located     military/military_unit/place_of_origin   \n",
      "\n",
      "                         Prediction  \n",
      "0                   film/film/genre  \n",
      "1                film/film/language  \n",
      "2                   film/film/genre  \n",
      "3  music/producer/releases_produced  \n",
      "4     location/location/containedby  \n",
      "\n",
      "Loss: 1.078\n",
      "2018-01-15 11:02:39,710 | INFO : Accuracy: 0.7843726521412472 [8352 of 10648]\n",
      "2018-01-15 11:02:39,984 | INFO : Accuracy Top 3: 0.9138805409466566 [9731 of 10648]\n",
      "2018-01-15 11:02:40,271 | INFO : Accuracy Top 5: 0.9403643876784372 [10013 of 10648]\n",
      "\n",
      "Epoch 21\n"
     ]
    },
    {
     "data": {
      "application/vnd.jupyter.widget-view+json": {
       "model_id": "7a6d41ae29414d01971666edef8cc7eb",
       "version_major": 2,
       "version_minor": 0
      },
      "text/html": [
       "<p>Failed to display Jupyter Widget of type <code>HBox</code>.</p>\n",
       "<p>\n",
       "  If you're reading this message in the Jupyter Notebook or JupyterLab Notebook, it may mean\n",
       "  that the widgets JavaScript is still loading. If this message persists, it\n",
       "  likely means that the widgets JavaScript library is either not installed or\n",
       "  not enabled. See the <a href=\"https://ipywidgets.readthedocs.io/en/stable/user_install.html\">Jupyter\n",
       "  Widgets Documentation</a> for setup instructions.\n",
       "</p>\n",
       "<p>\n",
       "  If you're reading this message in another frontend (for example, a static\n",
       "  rendering on GitHub or <a href=\"https://nbviewer.jupyter.org/\">NBViewer</a>),\n",
       "  it may mean that your frontend doesn't currently support widgets.\n",
       "</p>\n"
      ],
      "text/plain": [
       "HBox(children=(IntProgress(value=0, max=4658), HTML(value='')))"
      ]
     },
     "metadata": {},
     "output_type": "display_data"
    },
    {
     "name": "stdout",
     "output_type": "stream",
     "text": [
      "\n",
      "2018-01-15 11:03:05,350 | INFO : Saving checkpoint 01m_15d_11h_03m_05s.pt\n"
     ]
    },
    {
     "data": {
      "application/vnd.jupyter.widget-view+json": {
       "model_id": "0222563857cf4daaad08841aa00e9736",
       "version_major": 2,
       "version_minor": 0
      },
      "text/html": [
       "<p>Failed to display Jupyter Widget of type <code>HBox</code>.</p>\n",
       "<p>\n",
       "  If you're reading this message in the Jupyter Notebook or JupyterLab Notebook, it may mean\n",
       "  that the widgets JavaScript is still loading. If this message persists, it\n",
       "  likely means that the widgets JavaScript library is either not installed or\n",
       "  not enabled. See the <a href=\"https://ipywidgets.readthedocs.io/en/stable/user_install.html\">Jupyter\n",
       "  Widgets Documentation</a> for setup instructions.\n",
       "</p>\n",
       "<p>\n",
       "  If you're reading this message in another frontend (for example, a static\n",
       "  rendering on GitHub or <a href=\"https://nbviewer.jupyter.org/\">NBViewer</a>),\n",
       "  it may mean that your frontend doesn't currently support widgets.\n",
       "</p>\n"
      ],
      "text/plain": [
       "HBox(children=(IntProgress(value=0, max=84), HTML(value='')))"
      ]
     },
     "metadata": {},
     "output_type": "display_data"
    },
    {
     "name": "stdout",
     "output_type": "stream",
     "text": [
      "\n",
      "2018-01-15 11:03:05,908 | INFO : Random Sample:\n",
      "\n",
      "Positive Samples:\n",
      "                                     Source  \\\n",
      "0               who was <e> 's father <pad>   \n",
      "1                  which track contains <e>   \n",
      "2                what music does <e> make ?   \n",
      "3  what is the administrative parent of <e>   \n",
      "4                    which war included <e>   \n",
      "\n",
      "                                              Target  \\\n",
      "0                              people/person/parents   \n",
      "1                           music/release/track_list   \n",
      "2                                 music/artist/genre   \n",
      "3  base/aareas/schema/administrative_area/adminis...   \n",
      "4                       time/event/included_in_event   \n",
      "\n",
      "                                          Prediction  \n",
      "0                              people/person/parents  \n",
      "1                           music/release/track_list  \n",
      "2                                 music/artist/genre  \n",
      "3  base/aareas/schema/administrative_area/adminis...  \n",
      "4                       time/event/included_in_event  \n",
      "\n",
      "Negative Samples:\n",
      "                             Source                                    Target  \\\n",
      "0                     who plays <e>                       music/genre/artists   \n",
      "1     what types of accident is <e>  aviation/airliner_accident/accident_type   \n",
      "2      what is a classic car by <e>                        common/topic/image   \n",
      "3  what 's the radio version of <e>                     music/single/versions   \n",
      "4                what here is <e> ?                location/location/contains   \n",
      "\n",
      "                                          Prediction  \n",
      "0                  music/instrument/instrumentalists  \n",
      "1                  automotive/model/automotive_class  \n",
      "2  base/classiccars/vintage_car/body_styles_produced  \n",
      "3                  music/recording/canonical_version  \n",
      "4                         common/topic/notable_types  \n",
      "\n",
      "Loss: 1.084\n",
      "2018-01-15 11:03:05,970 | INFO : Accuracy: 0.7836213373403456 [8344 of 10648]\n",
      "2018-01-15 11:03:06,255 | INFO : Accuracy Top 3: 0.9130353117956423 [9722 of 10648]\n",
      "2018-01-15 11:03:06,549 | INFO : Accuracy Top 5: 0.9402704733283246 [10012 of 10648]\n",
      "\n",
      "Epoch 22\n"
     ]
    },
    {
     "data": {
      "application/vnd.jupyter.widget-view+json": {
       "model_id": "bec84a8f3e67494ba9d541be211001d2",
       "version_major": 2,
       "version_minor": 0
      },
      "text/html": [
       "<p>Failed to display Jupyter Widget of type <code>HBox</code>.</p>\n",
       "<p>\n",
       "  If you're reading this message in the Jupyter Notebook or JupyterLab Notebook, it may mean\n",
       "  that the widgets JavaScript is still loading. If this message persists, it\n",
       "  likely means that the widgets JavaScript library is either not installed or\n",
       "  not enabled. See the <a href=\"https://ipywidgets.readthedocs.io/en/stable/user_install.html\">Jupyter\n",
       "  Widgets Documentation</a> for setup instructions.\n",
       "</p>\n",
       "<p>\n",
       "  If you're reading this message in another frontend (for example, a static\n",
       "  rendering on GitHub or <a href=\"https://nbviewer.jupyter.org/\">NBViewer</a>),\n",
       "  it may mean that your frontend doesn't currently support widgets.\n",
       "</p>\n"
      ],
      "text/plain": [
       "HBox(children=(IntProgress(value=0, max=4658), HTML(value='')))"
      ]
     },
     "metadata": {},
     "output_type": "display_data"
    },
    {
     "name": "stdout",
     "output_type": "stream",
     "text": [
      "\n",
      "2018-01-15 11:03:31,559 | INFO : Saving checkpoint 01m_15d_11h_03m_31s.pt\n"
     ]
    },
    {
     "data": {
      "application/vnd.jupyter.widget-view+json": {
       "model_id": "3dc7a669ccba49e3beb7b5f79dcf2bff",
       "version_major": 2,
       "version_minor": 0
      },
      "text/html": [
       "<p>Failed to display Jupyter Widget of type <code>HBox</code>.</p>\n",
       "<p>\n",
       "  If you're reading this message in the Jupyter Notebook or JupyterLab Notebook, it may mean\n",
       "  that the widgets JavaScript is still loading. If this message persists, it\n",
       "  likely means that the widgets JavaScript library is either not installed or\n",
       "  not enabled. See the <a href=\"https://ipywidgets.readthedocs.io/en/stable/user_install.html\">Jupyter\n",
       "  Widgets Documentation</a> for setup instructions.\n",
       "</p>\n",
       "<p>\n",
       "  If you're reading this message in another frontend (for example, a static\n",
       "  rendering on GitHub or <a href=\"https://nbviewer.jupyter.org/\">NBViewer</a>),\n",
       "  it may mean that your frontend doesn't currently support widgets.\n",
       "</p>\n"
      ],
      "text/plain": [
       "HBox(children=(IntProgress(value=0, max=84), HTML(value='')))"
      ]
     },
     "metadata": {},
     "output_type": "display_data"
    },
    {
     "name": "stdout",
     "output_type": "stream",
     "text": [
      "\n",
      "2018-01-15 11:03:32,234 | INFO : Random Sample:\n",
      "\n",
      "Positive Samples:\n",
      "                                      Source  \\\n",
      "0                     where was <e> released   \n",
      "1                 who released the album <e>   \n",
      "2                 what genre of music is <e>   \n",
      "3        what is a tourist attraction in <e>   \n",
      "4  what language family does <e> belong to ?   \n",
      "\n",
      "                                          Target  \\\n",
      "0                           music/release/region   \n",
      "1                             music/album/artist   \n",
      "2                              music/album/genre   \n",
      "3  travel/travel_destination/tourist_attractions   \n",
      "4        language/human_language/language_family   \n",
      "\n",
      "                                      Prediction  \n",
      "0                           music/release/region  \n",
      "1                             music/album/artist  \n",
      "2                              music/album/genre  \n",
      "3  travel/travel_destination/tourist_attractions  \n",
      "4        language/human_language/language_family  \n",
      "\n",
      "Negative Samples:\n",
      "                                             Source  \\\n",
      "0                         what album style is <e> ?   \n",
      "1                      what type of animal is <e> ?   \n",
      "2  from what space agency is the astronaut <e> in ?   \n",
      "3                        name a competitor in <e> .   \n",
      "4                          what tracks are on <e> ?   \n",
      "\n",
      "                                           Target  \\\n",
      "0                               music/album/genre   \n",
      "1  fictional_universe/fictional_character/species   \n",
      "2              spaceflight/astronaut/space_agency   \n",
      "3                   award/competition/competitors   \n",
      "4                          music/recording/tracks   \n",
      "\n",
      "                                         Prediction  \n",
      "0                                music/genre/albums  \n",
      "1                    biology/organism/organism_type  \n",
      "2        sports/sports_championship_event/runner_up  \n",
      "3  award/competition_type/competitions_of_this_type  \n",
      "4                          music/release/track_list  \n",
      "\n",
      "Loss: 1.092\n",
      "2018-01-15 11:03:32,296 | INFO : Accuracy: 0.786626596543952 [8376 of 10648]\n",
      "2018-01-15 11:03:32,573 | INFO : Accuracy Top 3: 0.915946656649136 [9753 of 10648]\n",
      "2018-01-15 11:03:32,853 | INFO : Accuracy Top 5: 0.9420548459804658 [10031 of 10648]\n",
      "\n",
      "Epoch 23\n"
     ]
    },
    {
     "data": {
      "application/vnd.jupyter.widget-view+json": {
       "model_id": "4ed66cb531884d348e8bad6b389ebd34",
       "version_major": 2,
       "version_minor": 0
      },
      "text/html": [
       "<p>Failed to display Jupyter Widget of type <code>HBox</code>.</p>\n",
       "<p>\n",
       "  If you're reading this message in the Jupyter Notebook or JupyterLab Notebook, it may mean\n",
       "  that the widgets JavaScript is still loading. If this message persists, it\n",
       "  likely means that the widgets JavaScript library is either not installed or\n",
       "  not enabled. See the <a href=\"https://ipywidgets.readthedocs.io/en/stable/user_install.html\">Jupyter\n",
       "  Widgets Documentation</a> for setup instructions.\n",
       "</p>\n",
       "<p>\n",
       "  If you're reading this message in another frontend (for example, a static\n",
       "  rendering on GitHub or <a href=\"https://nbviewer.jupyter.org/\">NBViewer</a>),\n",
       "  it may mean that your frontend doesn't currently support widgets.\n",
       "</p>\n"
      ],
      "text/plain": [
       "HBox(children=(IntProgress(value=0, max=4658), HTML(value='')))"
      ]
     },
     "metadata": {},
     "output_type": "display_data"
    },
    {
     "name": "stdout",
     "output_type": "stream",
     "text": [
      "\n",
      "2018-01-15 11:03:58,688 | INFO : Saving checkpoint 01m_15d_11h_03m_58s.pt\n"
     ]
    },
    {
     "data": {
      "application/vnd.jupyter.widget-view+json": {
       "model_id": "01c33caa9b7e48dda13e5183a47f2106",
       "version_major": 2,
       "version_minor": 0
      },
      "text/html": [
       "<p>Failed to display Jupyter Widget of type <code>HBox</code>.</p>\n",
       "<p>\n",
       "  If you're reading this message in the Jupyter Notebook or JupyterLab Notebook, it may mean\n",
       "  that the widgets JavaScript is still loading. If this message persists, it\n",
       "  likely means that the widgets JavaScript library is either not installed or\n",
       "  not enabled. See the <a href=\"https://ipywidgets.readthedocs.io/en/stable/user_install.html\">Jupyter\n",
       "  Widgets Documentation</a> for setup instructions.\n",
       "</p>\n",
       "<p>\n",
       "  If you're reading this message in another frontend (for example, a static\n",
       "  rendering on GitHub or <a href=\"https://nbviewer.jupyter.org/\">NBViewer</a>),\n",
       "  it may mean that your frontend doesn't currently support widgets.\n",
       "</p>\n"
      ],
      "text/plain": [
       "HBox(children=(IntProgress(value=0, max=84), HTML(value='')))"
      ]
     },
     "metadata": {},
     "output_type": "display_data"
    },
    {
     "name": "stdout",
     "output_type": "stream",
     "text": [
      "\n",
      "2018-01-15 11:03:59,232 | INFO : Random Sample:\n",
      "\n",
      "Positive Samples:\n",
      "                                              Source  \\\n",
      "0  name a movie that <e> designed the costumes fo...   \n",
      "1                   which european city was <e> born   \n",
      "2                   what is the nationality of <e> ?   \n",
      "3                  what country is the film <e> from   \n",
      "4      what is the name of a park located in the <e>   \n",
      "\n",
      "                                              Target  \\\n",
      "0  film/film_costumer_designer/costume_design_for...   \n",
      "1                       people/person/place_of_birth   \n",
      "2                          people/person/nationality   \n",
      "3                                  film/film/country   \n",
      "4                         location/location/contains   \n",
      "\n",
      "                                          Prediction  \n",
      "0  film/film_costumer_designer/costume_design_for...  \n",
      "1                       people/person/place_of_birth  \n",
      "2                          people/person/nationality  \n",
      "3                                  film/film/country  \n",
      "4                         location/location/contains  \n",
      "\n",
      "Negative Samples:\n",
      "                                    Source                         Target  \\\n",
      "0        what kind of topic does <e> cover        broadcast/content/genre   \n",
      "1              what s the photo titled <e>     common/topic/notable_types   \n",
      "2                          what is a <e> ?           tv/tv_genre/programs   \n",
      "3  what is the release track of <e> called  music/release_track/recording   \n",
      "4            what music is composed by <e>             music/artist/label   \n",
      "\n",
      "                            Prediction  \n",
      "0           book/written_work/subjects  \n",
      "1                   common/topic/image  \n",
      "2  film/film_genre/films_in_this_genre  \n",
      "3          music/release_track/release  \n",
      "4          music/composer/compositions  \n",
      "\n",
      "Loss: 1.081\n",
      "2018-01-15 11:03:59,294 | INFO : Accuracy: 0.7847483095416979 [8356 of 10648]\n",
      "2018-01-15 11:03:59,563 | INFO : Accuracy Top 3: 0.9163223140495868 [9757 of 10648]\n",
      "2018-01-15 11:03:59,837 | INFO : Accuracy Top 5: 0.9422426746806912 [10033 of 10648]\n",
      "\n",
      "Epoch 24\n"
     ]
    },
    {
     "data": {
      "application/vnd.jupyter.widget-view+json": {
       "model_id": "4c99f304d8304d579879956b14221af4",
       "version_major": 2,
       "version_minor": 0
      },
      "text/html": [
       "<p>Failed to display Jupyter Widget of type <code>HBox</code>.</p>\n",
       "<p>\n",
       "  If you're reading this message in the Jupyter Notebook or JupyterLab Notebook, it may mean\n",
       "  that the widgets JavaScript is still loading. If this message persists, it\n",
       "  likely means that the widgets JavaScript library is either not installed or\n",
       "  not enabled. See the <a href=\"https://ipywidgets.readthedocs.io/en/stable/user_install.html\">Jupyter\n",
       "  Widgets Documentation</a> for setup instructions.\n",
       "</p>\n",
       "<p>\n",
       "  If you're reading this message in another frontend (for example, a static\n",
       "  rendering on GitHub or <a href=\"https://nbviewer.jupyter.org/\">NBViewer</a>),\n",
       "  it may mean that your frontend doesn't currently support widgets.\n",
       "</p>\n"
      ],
      "text/plain": [
       "HBox(children=(IntProgress(value=0, max=4658), HTML(value='')))"
      ]
     },
     "metadata": {},
     "output_type": "display_data"
    },
    {
     "name": "stdout",
     "output_type": "stream",
     "text": [
      "\n",
      "2018-01-15 11:04:26,246 | INFO : Saving checkpoint 01m_15d_11h_04m_26s.pt\n"
     ]
    },
    {
     "data": {
      "application/vnd.jupyter.widget-view+json": {
       "model_id": "9decbb5bb7624b2fb0ddd9513a4cbbec",
       "version_major": 2,
       "version_minor": 0
      },
      "text/html": [
       "<p>Failed to display Jupyter Widget of type <code>HBox</code>.</p>\n",
       "<p>\n",
       "  If you're reading this message in the Jupyter Notebook or JupyterLab Notebook, it may mean\n",
       "  that the widgets JavaScript is still loading. If this message persists, it\n",
       "  likely means that the widgets JavaScript library is either not installed or\n",
       "  not enabled. See the <a href=\"https://ipywidgets.readthedocs.io/en/stable/user_install.html\">Jupyter\n",
       "  Widgets Documentation</a> for setup instructions.\n",
       "</p>\n",
       "<p>\n",
       "  If you're reading this message in another frontend (for example, a static\n",
       "  rendering on GitHub or <a href=\"https://nbviewer.jupyter.org/\">NBViewer</a>),\n",
       "  it may mean that your frontend doesn't currently support widgets.\n",
       "</p>\n"
      ],
      "text/plain": [
       "HBox(children=(IntProgress(value=0, max=84), HTML(value='')))"
      ]
     },
     "metadata": {},
     "output_type": "display_data"
    },
    {
     "name": "stdout",
     "output_type": "stream",
     "text": [
      "\n",
      "2018-01-15 11:04:26,874 | INFO : Random Sample:\n",
      "\n",
      "Positive Samples:\n",
      "                            Source                               Target  \\\n",
      "0  which time zone is <e> apart of         location/location/time_zones   \n",
      "1      what is the gender of <e> ?                 people/person/gender   \n",
      "2   what type of album was <e> ...       music/album/album_content_type   \n",
      "3        where in the world is <e>        location/location/containedby   \n",
      "4  what film is in the genre <e> ?  film/film_genre/films_in_this_genre   \n",
      "\n",
      "                            Prediction  \n",
      "0         location/location/time_zones  \n",
      "1                 people/person/gender  \n",
      "2       music/album/album_content_type  \n",
      "3        location/location/containedby  \n",
      "4  film/film_genre/films_in_this_genre  \n",
      "\n",
      "Negative Samples:\n",
      "                                Source  \\\n",
      "0       what do member of <e> practice   \n",
      "1                 who manufactured <e>   \n",
      "2                       what wrote <e>   \n",
      "3  what tamil <e> was filmed in 2009 ?   \n",
      "4             what kind of film is <e>   \n",
      "\n",
      "                                      Target  \\\n",
      "0    religion/religious_practice/practice_of   \n",
      "1             computer/computer/manufacturer   \n",
      "2                   book/written_work/author   \n",
      "3        film/film_genre/films_in_this_genre   \n",
      "4  media_common/netflix_title/netflix_genres   \n",
      "\n",
      "                                     Prediction  \n",
      "0                        people/person/religion  \n",
      "1  medicine/manufactured_drug_form/manufacturer  \n",
      "2                     book/author/works_written  \n",
      "3          film/film_location/featured_in_films  \n",
      "4                               film/film/genre  \n",
      "\n",
      "Loss: 1.105\n",
      "2018-01-15 11:04:26,936 | INFO : Accuracy: 0.7842787377911344 [8351 of 10648]\n",
      "2018-01-15 11:04:27,205 | INFO : Accuracy Top 3: 0.915946656649136 [9753 of 10648]\n",
      "2018-01-15 11:04:27,479 | INFO : Accuracy Top 5: 0.9432757325319309 [10044 of 10648]\n",
      "\n",
      "Epoch 25\n"
     ]
    },
    {
     "data": {
      "application/vnd.jupyter.widget-view+json": {
       "model_id": "f50c5b913d5e4f8e9d5ffeca6512efdd",
       "version_major": 2,
       "version_minor": 0
      },
      "text/html": [
       "<p>Failed to display Jupyter Widget of type <code>HBox</code>.</p>\n",
       "<p>\n",
       "  If you're reading this message in the Jupyter Notebook or JupyterLab Notebook, it may mean\n",
       "  that the widgets JavaScript is still loading. If this message persists, it\n",
       "  likely means that the widgets JavaScript library is either not installed or\n",
       "  not enabled. See the <a href=\"https://ipywidgets.readthedocs.io/en/stable/user_install.html\">Jupyter\n",
       "  Widgets Documentation</a> for setup instructions.\n",
       "</p>\n",
       "<p>\n",
       "  If you're reading this message in another frontend (for example, a static\n",
       "  rendering on GitHub or <a href=\"https://nbviewer.jupyter.org/\">NBViewer</a>),\n",
       "  it may mean that your frontend doesn't currently support widgets.\n",
       "</p>\n"
      ],
      "text/plain": [
       "HBox(children=(IntProgress(value=0, max=4658), HTML(value='')))"
      ]
     },
     "metadata": {},
     "output_type": "display_data"
    },
    {
     "name": "stdout",
     "output_type": "stream",
     "text": [
      "\n",
      "2018-01-15 11:04:52,721 | INFO : Saving checkpoint 01m_15d_11h_04m_52s.pt\n"
     ]
    },
    {
     "data": {
      "application/vnd.jupyter.widget-view+json": {
       "model_id": "878f216f8b764ca3ba8fe1efc35f979f",
       "version_major": 2,
       "version_minor": 0
      },
      "text/html": [
       "<p>Failed to display Jupyter Widget of type <code>HBox</code>.</p>\n",
       "<p>\n",
       "  If you're reading this message in the Jupyter Notebook or JupyterLab Notebook, it may mean\n",
       "  that the widgets JavaScript is still loading. If this message persists, it\n",
       "  likely means that the widgets JavaScript library is either not installed or\n",
       "  not enabled. See the <a href=\"https://ipywidgets.readthedocs.io/en/stable/user_install.html\">Jupyter\n",
       "  Widgets Documentation</a> for setup instructions.\n",
       "</p>\n",
       "<p>\n",
       "  If you're reading this message in another frontend (for example, a static\n",
       "  rendering on GitHub or <a href=\"https://nbviewer.jupyter.org/\">NBViewer</a>),\n",
       "  it may mean that your frontend doesn't currently support widgets.\n",
       "</p>\n"
      ],
      "text/plain": [
       "HBox(children=(IntProgress(value=0, max=84), HTML(value='')))"
      ]
     },
     "metadata": {},
     "output_type": "display_data"
    },
    {
     "name": "stdout",
     "output_type": "stream",
     "text": [
      "\n",
      "2018-01-15 11:04:53,278 | INFO : Random Sample:\n",
      "\n",
      "Positive Samples:\n",
      "                                            Source  \\\n",
      "0                      where in france did <e> die   \n",
      "1  what is the label that <e> is signed to ? <pad>   \n",
      "2        which european city was <e> when they die   \n",
      "3                     what film has music by <e> ?   \n",
      "4                  which artist made the album <e>   \n",
      "\n",
      "                                  Target  \\\n",
      "0  people/deceased_person/place_of_death   \n",
      "1                     music/artist/label   \n",
      "2  people/deceased_person/place_of_death   \n",
      "3            film/music_contributor/film   \n",
      "4                     music/album/artist   \n",
      "\n",
      "                              Prediction  \n",
      "0  people/deceased_person/place_of_death  \n",
      "1                     music/artist/label  \n",
      "2  people/deceased_person/place_of_death  \n",
      "3            film/music_contributor/film  \n",
      "4                     music/album/artist  \n",
      "\n",
      "Negative Samples:\n",
      "                                            Source  \\\n",
      "0  name the modern science fiction author of <e> .   \n",
      "1                              name a track on <e>   \n",
      "2                    what song was released on <e>   \n",
      "3                      what position does <e> play   \n",
      "4             what is the active ingredient in <e>   \n",
      "\n",
      "                                              Target  \\\n",
      "0                    book/book_edition/author_editor   \n",
      "1                             music/recording/tracks   \n",
      "2                           music/release/track_list   \n",
      "3       american_football/football_player/position_s   \n",
      "4  medicine/drug_ingredient/active_ingredient_of_...   \n",
      "\n",
      "                                     Prediction  \n",
      "0                       book/book_subject/works  \n",
      "1                           music/release/track  \n",
      "2                           music/release/track  \n",
      "3             soccer/football_player/position_s  \n",
      "4  medicine/drug_formulation/active_ingredients  \n",
      "\n",
      "Loss: 1.089\n",
      "2018-01-15 11:04:53,341 | INFO : Accuracy: 0.7881292261457551 [8392 of 10648]\n",
      "2018-01-15 11:04:53,621 | INFO : Accuracy Top 3: 0.9165101427498121 [9759 of 10648]\n",
      "2018-01-15 11:04:53,903 | INFO : Accuracy Top 5: 0.9425244177310294 [10036 of 10648]\n",
      "\n",
      "Epoch 26\n"
     ]
    },
    {
     "data": {
      "application/vnd.jupyter.widget-view+json": {
       "model_id": "4c789518f00c4709bf42700584075d7a",
       "version_major": 2,
       "version_minor": 0
      },
      "text/html": [
       "<p>Failed to display Jupyter Widget of type <code>HBox</code>.</p>\n",
       "<p>\n",
       "  If you're reading this message in the Jupyter Notebook or JupyterLab Notebook, it may mean\n",
       "  that the widgets JavaScript is still loading. If this message persists, it\n",
       "  likely means that the widgets JavaScript library is either not installed or\n",
       "  not enabled. See the <a href=\"https://ipywidgets.readthedocs.io/en/stable/user_install.html\">Jupyter\n",
       "  Widgets Documentation</a> for setup instructions.\n",
       "</p>\n",
       "<p>\n",
       "  If you're reading this message in another frontend (for example, a static\n",
       "  rendering on GitHub or <a href=\"https://nbviewer.jupyter.org/\">NBViewer</a>),\n",
       "  it may mean that your frontend doesn't currently support widgets.\n",
       "</p>\n"
      ],
      "text/plain": [
       "HBox(children=(IntProgress(value=0, max=4658), HTML(value='')))"
      ]
     },
     "metadata": {},
     "output_type": "display_data"
    },
    {
     "name": "stdout",
     "output_type": "stream",
     "text": [
      "\n",
      "2018-01-15 11:05:18,560 | INFO : Saving checkpoint 01m_15d_11h_05m_18s.pt\n"
     ]
    },
    {
     "data": {
      "application/vnd.jupyter.widget-view+json": {
       "model_id": "b9581030507e4526bf635a1a4d7f24d3",
       "version_major": 2,
       "version_minor": 0
      },
      "text/html": [
       "<p>Failed to display Jupyter Widget of type <code>HBox</code>.</p>\n",
       "<p>\n",
       "  If you're reading this message in the Jupyter Notebook or JupyterLab Notebook, it may mean\n",
       "  that the widgets JavaScript is still loading. If this message persists, it\n",
       "  likely means that the widgets JavaScript library is either not installed or\n",
       "  not enabled. See the <a href=\"https://ipywidgets.readthedocs.io/en/stable/user_install.html\">Jupyter\n",
       "  Widgets Documentation</a> for setup instructions.\n",
       "</p>\n",
       "<p>\n",
       "  If you're reading this message in another frontend (for example, a static\n",
       "  rendering on GitHub or <a href=\"https://nbviewer.jupyter.org/\">NBViewer</a>),\n",
       "  it may mean that your frontend doesn't currently support widgets.\n",
       "</p>\n"
      ],
      "text/plain": [
       "HBox(children=(IntProgress(value=0, max=84), HTML(value='')))"
      ]
     },
     "metadata": {},
     "output_type": "display_data"
    },
    {
     "name": "stdout",
     "output_type": "stream",
     "text": [
      "\n",
      "2018-01-15 11:05:19,097 | INFO : Random Sample:\n",
      "\n",
      "Positive Samples:\n",
      "                                         Source  \\\n",
      "0           which religion did <e> subscribe to   \n",
      "1  is <e> a studio album or a compilation album   \n",
      "2                           who was born in <e>   \n",
      "3                     what is <e> 's religion ?   \n",
      "4                      what time zone is <e> in   \n",
      "\n",
      "                               Target                          Prediction  \n",
      "0              people/person/religion              people/person/religion  \n",
      "1      music/album/album_content_type      music/album/album_content_type  \n",
      "2  location/location/people_born_here  location/location/people_born_here  \n",
      "3              people/person/religion              people/person/religion  \n",
      "4        location/location/time_zones        location/location/time_zones  \n",
      "\n",
      "Negative Samples:\n",
      "                                              Source  \\\n",
      "0      what is a song that came from the release <e>   \n",
      "1                           what is the topic of <e>   \n",
      "2                  what kind of music is made by <e>   \n",
      "3                 what kind of music does <e> played   \n",
      "4  what is an example of a book i the realm of <e...   \n",
      "\n",
      "                                            Target                  Prediction  \n",
      "0                              music/release/track    music/release/track_list  \n",
      "1                            common/topic/subjects  book/written_work/subjects  \n",
      "2                                music/album/genre          music/artist/genre  \n",
      "3                                music/album/genre          music/artist/genre  \n",
      "4  media_common/literary_genre/books_in_this_genre     book/book_subject/works  \n",
      "\n",
      "Loss: 1.077\n",
      "2018-01-15 11:05:19,159 | INFO : Accuracy: 0.7892561983471075 [8404 of 10648]\n",
      "2018-01-15 11:05:19,427 | INFO : Accuracy Top 3: 0.9165101427498121 [9759 of 10648]\n",
      "2018-01-15 11:05:19,708 | INFO : Accuracy Top 5: 0.9428061607813674 [10039 of 10648]\n",
      "\n",
      "Epoch 27\n"
     ]
    },
    {
     "data": {
      "application/vnd.jupyter.widget-view+json": {
       "model_id": "ae6e36946ec14e3f98873ece85604c6b",
       "version_major": 2,
       "version_minor": 0
      },
      "text/html": [
       "<p>Failed to display Jupyter Widget of type <code>HBox</code>.</p>\n",
       "<p>\n",
       "  If you're reading this message in the Jupyter Notebook or JupyterLab Notebook, it may mean\n",
       "  that the widgets JavaScript is still loading. If this message persists, it\n",
       "  likely means that the widgets JavaScript library is either not installed or\n",
       "  not enabled. See the <a href=\"https://ipywidgets.readthedocs.io/en/stable/user_install.html\">Jupyter\n",
       "  Widgets Documentation</a> for setup instructions.\n",
       "</p>\n",
       "<p>\n",
       "  If you're reading this message in another frontend (for example, a static\n",
       "  rendering on GitHub or <a href=\"https://nbviewer.jupyter.org/\">NBViewer</a>),\n",
       "  it may mean that your frontend doesn't currently support widgets.\n",
       "</p>\n"
      ],
      "text/plain": [
       "HBox(children=(IntProgress(value=0, max=4658), HTML(value='')))"
      ]
     },
     "metadata": {},
     "output_type": "display_data"
    },
    {
     "name": "stdout",
     "output_type": "stream",
     "text": [
      "\n",
      "2018-01-15 11:05:44,269 | INFO : Saving checkpoint 01m_15d_11h_05m_44s.pt\n"
     ]
    },
    {
     "data": {
      "application/vnd.jupyter.widget-view+json": {
       "model_id": "e0e9dc6c415f463686e54e9e395a1e66",
       "version_major": 2,
       "version_minor": 0
      },
      "text/html": [
       "<p>Failed to display Jupyter Widget of type <code>HBox</code>.</p>\n",
       "<p>\n",
       "  If you're reading this message in the Jupyter Notebook or JupyterLab Notebook, it may mean\n",
       "  that the widgets JavaScript is still loading. If this message persists, it\n",
       "  likely means that the widgets JavaScript library is either not installed or\n",
       "  not enabled. See the <a href=\"https://ipywidgets.readthedocs.io/en/stable/user_install.html\">Jupyter\n",
       "  Widgets Documentation</a> for setup instructions.\n",
       "</p>\n",
       "<p>\n",
       "  If you're reading this message in another frontend (for example, a static\n",
       "  rendering on GitHub or <a href=\"https://nbviewer.jupyter.org/\">NBViewer</a>),\n",
       "  it may mean that your frontend doesn't currently support widgets.\n",
       "</p>\n"
      ],
      "text/plain": [
       "HBox(children=(IntProgress(value=0, max=84), HTML(value='')))"
      ]
     },
     "metadata": {},
     "output_type": "display_data"
    },
    {
     "name": "stdout",
     "output_type": "stream",
     "text": [
      "\n",
      "2018-01-15 11:05:44,808 | INFO : Random Sample:\n",
      "\n",
      "Positive Samples:\n",
      "                                              Source  \\\n",
      "0  what is the name of a film that was written by...   \n",
      "1                                       name a <e> .   \n",
      "2                            what is <e> 's gender ?   \n",
      "3                         what kind of school is <e>   \n",
      "4                      what county is <e> located in   \n",
      "\n",
      "                                          Target  \\\n",
      "0                               film/writer/film   \n",
      "1  people/profession/people_with_this_profession   \n",
      "2                           people/person/gender   \n",
      "3  education/educational_institution/school_type   \n",
      "4                  location/location/containedby   \n",
      "\n",
      "                                      Prediction  \n",
      "0                               film/writer/film  \n",
      "1  people/profession/people_with_this_profession  \n",
      "2                           people/person/gender  \n",
      "3  education/educational_institution/school_type  \n",
      "4                  location/location/containedby  \n",
      "\n",
      "Negative Samples:\n",
      "                                Source  \\\n",
      "0         what 's an exhibition in <e>   \n",
      "1  what instrument was used in the <e>   \n",
      "2           <e> is known for what book   \n",
      "3              who is an artist on <e>   \n",
      "4                  who is <e> artist ?   \n",
      "\n",
      "                                         Target  \\\n",
      "0  exhibitions/exhibit/exhibitions_displayed_in   \n",
      "1                         common/topic/subjects   \n",
      "2                     book/author/works_written   \n",
      "3                     music/record_label/artist   \n",
      "4                           music/genre/artists   \n",
      "\n",
      "                                        Prediction  \n",
      "0                         location/location/events  \n",
      "1            music/group_member/instruments_played  \n",
      "2  media_common/literary_genre/books_in_this_genre  \n",
      "3                         broadcast/content/artist  \n",
      "4                               music/album/artist  \n",
      "\n",
      "Loss: 1.078\n",
      "2018-01-15 11:05:44,870 | INFO : Accuracy: 0.78690833959429 [8379 of 10648]\n",
      "2018-01-15 11:05:45,148 | INFO : Accuracy Top 3: 0.9169797145003756 [9764 of 10648]\n",
      "2018-01-15 11:05:45,431 | INFO : Accuracy Top 5: 0.9428061607813674 [10039 of 10648]\n",
      "\n",
      "Epoch 28\n"
     ]
    },
    {
     "data": {
      "application/vnd.jupyter.widget-view+json": {
       "model_id": "66fe84eb7564492791cdbdfd12faa031",
       "version_major": 2,
       "version_minor": 0
      },
      "text/html": [
       "<p>Failed to display Jupyter Widget of type <code>HBox</code>.</p>\n",
       "<p>\n",
       "  If you're reading this message in the Jupyter Notebook or JupyterLab Notebook, it may mean\n",
       "  that the widgets JavaScript is still loading. If this message persists, it\n",
       "  likely means that the widgets JavaScript library is either not installed or\n",
       "  not enabled. See the <a href=\"https://ipywidgets.readthedocs.io/en/stable/user_install.html\">Jupyter\n",
       "  Widgets Documentation</a> for setup instructions.\n",
       "</p>\n",
       "<p>\n",
       "  If you're reading this message in another frontend (for example, a static\n",
       "  rendering on GitHub or <a href=\"https://nbviewer.jupyter.org/\">NBViewer</a>),\n",
       "  it may mean that your frontend doesn't currently support widgets.\n",
       "</p>\n"
      ],
      "text/plain": [
       "HBox(children=(IntProgress(value=0, max=4658), HTML(value='')))"
      ]
     },
     "metadata": {},
     "output_type": "display_data"
    },
    {
     "name": "stdout",
     "output_type": "stream",
     "text": [
      "\n",
      "2018-01-15 11:06:09,434 | INFO : Saving checkpoint 01m_15d_11h_06m_09s.pt\n"
     ]
    },
    {
     "data": {
      "application/vnd.jupyter.widget-view+json": {
       "model_id": "d5f02696f34d4c3f9a6618f45355ca6c",
       "version_major": 2,
       "version_minor": 0
      },
      "text/html": [
       "<p>Failed to display Jupyter Widget of type <code>HBox</code>.</p>\n",
       "<p>\n",
       "  If you're reading this message in the Jupyter Notebook or JupyterLab Notebook, it may mean\n",
       "  that the widgets JavaScript is still loading. If this message persists, it\n",
       "  likely means that the widgets JavaScript library is either not installed or\n",
       "  not enabled. See the <a href=\"https://ipywidgets.readthedocs.io/en/stable/user_install.html\">Jupyter\n",
       "  Widgets Documentation</a> for setup instructions.\n",
       "</p>\n",
       "<p>\n",
       "  If you're reading this message in another frontend (for example, a static\n",
       "  rendering on GitHub or <a href=\"https://nbviewer.jupyter.org/\">NBViewer</a>),\n",
       "  it may mean that your frontend doesn't currently support widgets.\n",
       "</p>\n"
      ],
      "text/plain": [
       "HBox(children=(IntProgress(value=0, max=84), HTML(value='')))"
      ]
     },
     "metadata": {},
     "output_type": "display_data"
    },
    {
     "name": "stdout",
     "output_type": "stream",
     "text": [
      "\n",
      "2018-01-15 11:06:09,968 | INFO : Random Sample:\n",
      "\n",
      "Positive Samples:\n",
      "                          Source                                  Target  \\\n",
      "0  what does <e> do for a living                people/person/profession   \n",
      "1          what is <e> known for              common/topic/notable_types   \n",
      "2             who influenced <e>  influence/influence_node/influenced_by   \n",
      "3   what was <e> 's profession ?                people/person/profession   \n",
      "4      which country locates <e>           location/location/containedby   \n",
      "\n",
      "                               Prediction  \n",
      "0                people/person/profession  \n",
      "1              common/topic/notable_types  \n",
      "2  influence/influence_node/influenced_by  \n",
      "3                people/person/profession  \n",
      "4           location/location/containedby  \n",
      "\n",
      "Negative Samples:\n",
      "                                     Source  \\\n",
      "0                    what country is <e> in   \n",
      "1                      where is <e> located   \n",
      "2              what 's the <e> for s.cry.ed   \n",
      "3                        name a <e> . <pad>   \n",
      "4  about what country is the <e> film about   \n",
      "\n",
      "                                              Target  \\\n",
      "0              base/biblioness/bibs_location/country   \n",
      "1                   location/hud_county_place/county   \n",
      "2                    music/album_content_type/albums   \n",
      "3  base/schemastaging/non_profit_classification/o...   \n",
      "4          media_common/netflix_title/netflix_genres   \n",
      "\n",
      "                                      Prediction  \n",
      "0                  location/location/containedby  \n",
      "1                  location/location/containedby  \n",
      "2                     common/topic/notable_types  \n",
      "3  people/profession/people_with_this_profession  \n",
      "4                             film/film/subjects  \n",
      "\n",
      "Loss: 1.098\n",
      "2018-01-15 11:06:10,029 | INFO : Accuracy: 0.78690833959429 [8379 of 10648]\n",
      "2018-01-15 11:06:10,295 | INFO : Accuracy Top 3: 0.9175432006010519 [9770 of 10648]\n",
      "2018-01-15 11:06:10,567 | INFO : Accuracy Top 5: 0.9425244177310294 [10036 of 10648]\n",
      "\n",
      "Epoch 29\n"
     ]
    },
    {
     "data": {
      "application/vnd.jupyter.widget-view+json": {
       "model_id": "44d896d85f1c4267a4242742812ae9e3",
       "version_major": 2,
       "version_minor": 0
      },
      "text/html": [
       "<p>Failed to display Jupyter Widget of type <code>HBox</code>.</p>\n",
       "<p>\n",
       "  If you're reading this message in the Jupyter Notebook or JupyterLab Notebook, it may mean\n",
       "  that the widgets JavaScript is still loading. If this message persists, it\n",
       "  likely means that the widgets JavaScript library is either not installed or\n",
       "  not enabled. See the <a href=\"https://ipywidgets.readthedocs.io/en/stable/user_install.html\">Jupyter\n",
       "  Widgets Documentation</a> for setup instructions.\n",
       "</p>\n",
       "<p>\n",
       "  If you're reading this message in another frontend (for example, a static\n",
       "  rendering on GitHub or <a href=\"https://nbviewer.jupyter.org/\">NBViewer</a>),\n",
       "  it may mean that your frontend doesn't currently support widgets.\n",
       "</p>\n"
      ],
      "text/plain": [
       "HBox(children=(IntProgress(value=0, max=4658), HTML(value='')))"
      ]
     },
     "metadata": {},
     "output_type": "display_data"
    },
    {
     "name": "stdout",
     "output_type": "stream",
     "text": [
      "\n",
      "2018-01-15 11:06:34,219 | INFO : Saving checkpoint 01m_15d_11h_06m_34s.pt\n"
     ]
    },
    {
     "data": {
      "application/vnd.jupyter.widget-view+json": {
       "model_id": "872cd4d6985540a6846497c6222abc93",
       "version_major": 2,
       "version_minor": 0
      },
      "text/html": [
       "<p>Failed to display Jupyter Widget of type <code>HBox</code>.</p>\n",
       "<p>\n",
       "  If you're reading this message in the Jupyter Notebook or JupyterLab Notebook, it may mean\n",
       "  that the widgets JavaScript is still loading. If this message persists, it\n",
       "  likely means that the widgets JavaScript library is either not installed or\n",
       "  not enabled. See the <a href=\"https://ipywidgets.readthedocs.io/en/stable/user_install.html\">Jupyter\n",
       "  Widgets Documentation</a> for setup instructions.\n",
       "</p>\n",
       "<p>\n",
       "  If you're reading this message in another frontend (for example, a static\n",
       "  rendering on GitHub or <a href=\"https://nbviewer.jupyter.org/\">NBViewer</a>),\n",
       "  it may mean that your frontend doesn't currently support widgets.\n",
       "</p>\n"
      ],
      "text/plain": [
       "HBox(children=(IntProgress(value=0, max=84), HTML(value='')))"
      ]
     },
     "metadata": {},
     "output_type": "display_data"
    },
    {
     "name": "stdout",
     "output_type": "stream",
     "text": [
      "\n",
      "2018-01-15 11:06:34,835 | INFO : Random Sample:\n",
      "\n",
      "Positive Samples:\n",
      "                                    Source                            Target  \\\n",
      "0         what kind of music does <e> play                music/artist/genre   \n",
      "1                  is <e> a male or female              people/person/gender   \n",
      "2                   what album is by <e> ?                music/artist/album   \n",
      "3              what genre of film is <e> ?                   film/film/genre   \n",
      "4  which school district is <e> apart of ?  education/school/school_district   \n",
      "\n",
      "                         Prediction  \n",
      "0                music/artist/genre  \n",
      "1              people/person/gender  \n",
      "2                music/artist/album  \n",
      "3                   film/film/genre  \n",
      "4  education/school/school_district  \n",
      "\n",
      "Negative Samples:\n",
      "                                     Source  \\\n",
      "0          what gender does <e> identify as   \n",
      "1  what genre of music does <e> represent ?   \n",
      "2                  what is the genre of <e>   \n",
      "3                      name a parent of <e>   \n",
      "4            what 's an example of an <e> ?   \n",
      "\n",
      "                                          Target  \\\n",
      "0  fictional_universe/fictional_character/gender   \n",
      "1                              music/album/genre   \n",
      "2      media_common/netflix_title/netflix_genres   \n",
      "3                       biology/organism/parents   \n",
      "4    astronomy/celestial_object_category/objects   \n",
      "\n",
      "                            Prediction  \n",
      "0                 people/person/gender  \n",
      "1                   music/artist/genre  \n",
      "2                      film/film/genre  \n",
      "3                people/person/parents  \n",
      "4  film/film_genre/films_in_this_genre  \n",
      "\n",
      "Loss: 1.088\n",
      "2018-01-15 11:06:34,897 | INFO : Accuracy: 0.7874718256949662 [8385 of 10648]\n",
      "2018-01-15 11:06:35,175 | INFO : Accuracy Top 3: 0.9185762584522915 [9781 of 10648]\n",
      "2018-01-15 11:06:35,455 | INFO : Accuracy Top 5: 0.9431818181818182 [10043 of 10648]\n",
      "\n",
      "Epoch 30\n"
     ]
    },
    {
     "data": {
      "application/vnd.jupyter.widget-view+json": {
       "model_id": "5697c5ae84984919b9f218685080eee9",
       "version_major": 2,
       "version_minor": 0
      },
      "text/html": [
       "<p>Failed to display Jupyter Widget of type <code>HBox</code>.</p>\n",
       "<p>\n",
       "  If you're reading this message in the Jupyter Notebook or JupyterLab Notebook, it may mean\n",
       "  that the widgets JavaScript is still loading. If this message persists, it\n",
       "  likely means that the widgets JavaScript library is either not installed or\n",
       "  not enabled. See the <a href=\"https://ipywidgets.readthedocs.io/en/stable/user_install.html\">Jupyter\n",
       "  Widgets Documentation</a> for setup instructions.\n",
       "</p>\n",
       "<p>\n",
       "  If you're reading this message in another frontend (for example, a static\n",
       "  rendering on GitHub or <a href=\"https://nbviewer.jupyter.org/\">NBViewer</a>),\n",
       "  it may mean that your frontend doesn't currently support widgets.\n",
       "</p>\n"
      ],
      "text/plain": [
       "HBox(children=(IntProgress(value=0, max=4658), HTML(value='')))"
      ]
     },
     "metadata": {},
     "output_type": "display_data"
    },
    {
     "name": "stdout",
     "output_type": "stream",
     "text": [
      "\n",
      "2018-01-15 11:06:59,958 | INFO : Saving checkpoint 01m_15d_11h_06m_59s.pt\n"
     ]
    },
    {
     "data": {
      "application/vnd.jupyter.widget-view+json": {
       "model_id": "0adb62730c88483bb57a93494b8b98b0",
       "version_major": 2,
       "version_minor": 0
      },
      "text/html": [
       "<p>Failed to display Jupyter Widget of type <code>HBox</code>.</p>\n",
       "<p>\n",
       "  If you're reading this message in the Jupyter Notebook or JupyterLab Notebook, it may mean\n",
       "  that the widgets JavaScript is still loading. If this message persists, it\n",
       "  likely means that the widgets JavaScript library is either not installed or\n",
       "  not enabled. See the <a href=\"https://ipywidgets.readthedocs.io/en/stable/user_install.html\">Jupyter\n",
       "  Widgets Documentation</a> for setup instructions.\n",
       "</p>\n",
       "<p>\n",
       "  If you're reading this message in another frontend (for example, a static\n",
       "  rendering on GitHub or <a href=\"https://nbviewer.jupyter.org/\">NBViewer</a>),\n",
       "  it may mean that your frontend doesn't currently support widgets.\n",
       "</p>\n"
      ],
      "text/plain": [
       "HBox(children=(IntProgress(value=0, max=84), HTML(value='')))"
      ]
     },
     "metadata": {},
     "output_type": "display_data"
    },
    {
     "name": "stdout",
     "output_type": "stream",
     "text": [
      "\n",
      "2018-01-15 11:07:00,491 | INFO : Random Sample:\n",
      "\n",
      "Positive Samples:\n",
      "                                            Source  \\\n",
      "0    what 's a piece of music written by <e> <pad>   \n",
      "1         which film falls under the <e> ( genre )   \n",
      "2  what is the title of a netflix <e> film ? <pad>   \n",
      "3                      which artist recorded <e> ?   \n",
      "4                         is <e> pop music or rock   \n",
      "\n",
      "                                Target                           Prediction  \n",
      "0          music/composer/compositions          music/composer/compositions  \n",
      "1  film/film_genre/films_in_this_genre  film/film_genre/films_in_this_genre  \n",
      "2    media_common/netflix_genre/titles    media_common/netflix_genre/titles  \n",
      "3               music/recording/artist               music/recording/artist  \n",
      "4                    music/album/genre                    music/album/genre  \n",
      "\n",
      "Negative Samples:\n",
      "                                             Source  \\\n",
      "0                  what is a iso setting on a <e> ?   \n",
      "1                        what is <e> best known for   \n",
      "2                     what album does <e> appear on   \n",
      "3                              where is <e> located   \n",
      "4  from what space agency is the astronaut <e> in ?   \n",
      "\n",
      "                                Target  \\\n",
      "0  digicams/digital_camera/iso_setting   \n",
      "1             people/person/profession   \n",
      "2             music/recording/releases   \n",
      "3      geography/river/basin_countries   \n",
      "4   spaceflight/astronaut/space_agency   \n",
      "\n",
      "                                        Prediction  \n",
      "0  digicams/camera_storage_type/compatible_cameras  \n",
      "1                       common/topic/notable_types  \n",
      "2                      music/release_track/release  \n",
      "3                    location/location/containedby  \n",
      "4               spaceflight/space_program/missions  \n",
      "\n",
      "Loss: 1.099\n",
      "2018-01-15 11:07:00,552 | INFO : Accuracy: 0.7915101427498121 [8428 of 10648]\n",
      "2018-01-15 11:07:00,821 | INFO : Accuracy Top 3: 0.917167543200601 [9766 of 10648]\n",
      "2018-01-15 11:07:01,093 | INFO : Accuracy Top 5: 0.9431818181818182 [10043 of 10648]\n",
      "\n",
      "Epoch 31\n"
     ]
    },
    {
     "data": {
      "application/vnd.jupyter.widget-view+json": {
       "model_id": "77152c46a11f4f48862489cea0a8ca78",
       "version_major": 2,
       "version_minor": 0
      },
      "text/html": [
       "<p>Failed to display Jupyter Widget of type <code>HBox</code>.</p>\n",
       "<p>\n",
       "  If you're reading this message in the Jupyter Notebook or JupyterLab Notebook, it may mean\n",
       "  that the widgets JavaScript is still loading. If this message persists, it\n",
       "  likely means that the widgets JavaScript library is either not installed or\n",
       "  not enabled. See the <a href=\"https://ipywidgets.readthedocs.io/en/stable/user_install.html\">Jupyter\n",
       "  Widgets Documentation</a> for setup instructions.\n",
       "</p>\n",
       "<p>\n",
       "  If you're reading this message in another frontend (for example, a static\n",
       "  rendering on GitHub or <a href=\"https://nbviewer.jupyter.org/\">NBViewer</a>),\n",
       "  it may mean that your frontend doesn't currently support widgets.\n",
       "</p>\n"
      ],
      "text/plain": [
       "HBox(children=(IntProgress(value=0, max=4658), HTML(value='')))"
      ]
     },
     "metadata": {},
     "output_type": "display_data"
    },
    {
     "name": "stdout",
     "output_type": "stream",
     "text": [
      "\n",
      "2018-01-15 11:07:26,340 | INFO : Saving checkpoint 01m_15d_11h_07m_26s.pt\n"
     ]
    },
    {
     "data": {
      "application/vnd.jupyter.widget-view+json": {
       "model_id": "f62b04976a8c424b97e0054dad7e2857",
       "version_major": 2,
       "version_minor": 0
      },
      "text/html": [
       "<p>Failed to display Jupyter Widget of type <code>HBox</code>.</p>\n",
       "<p>\n",
       "  If you're reading this message in the Jupyter Notebook or JupyterLab Notebook, it may mean\n",
       "  that the widgets JavaScript is still loading. If this message persists, it\n",
       "  likely means that the widgets JavaScript library is either not installed or\n",
       "  not enabled. See the <a href=\"https://ipywidgets.readthedocs.io/en/stable/user_install.html\">Jupyter\n",
       "  Widgets Documentation</a> for setup instructions.\n",
       "</p>\n",
       "<p>\n",
       "  If you're reading this message in another frontend (for example, a static\n",
       "  rendering on GitHub or <a href=\"https://nbviewer.jupyter.org/\">NBViewer</a>),\n",
       "  it may mean that your frontend doesn't currently support widgets.\n",
       "</p>\n"
      ],
      "text/plain": [
       "HBox(children=(IntProgress(value=0, max=84), HTML(value='')))"
      ]
     },
     "metadata": {},
     "output_type": "display_data"
    },
    {
     "name": "stdout",
     "output_type": "stream",
     "text": [
      "\n",
      "2018-01-15 11:07:26,983 | INFO : Random Sample:\n",
      "\n",
      "Positive Samples:\n",
      "                          Source                                 Target  \\\n",
      "0      where in the world is <e>          location/location/containedby   \n",
      "1      is <e> a male of a female                   people/person/gender   \n",
      "2          what did <e> die from  people/deceased_person/cause_of_death   \n",
      "3      what is a type of cvg <e>                    cvg/cvg_genre/games   \n",
      "4  where does <e> originate from                    music/artist/origin   \n",
      "\n",
      "                              Prediction  \n",
      "0          location/location/containedby  \n",
      "1                   people/person/gender  \n",
      "2  people/deceased_person/cause_of_death  \n",
      "3                    cvg/cvg_genre/games  \n",
      "4                    music/artist/origin  \n",
      "\n",
      "Negative Samples:\n",
      "                               Source  \\\n",
      "0                     name a <e> drug   \n",
      "1             what is <e> ( album ) ?   \n",
      "2                 where is <e> born ?   \n",
      "3  what release did <e> come off of ?   \n",
      "4               who did <e> work with   \n",
      "\n",
      "                                              Target  \\\n",
      "0  medicine/drug_dosage_form/formulations_availab...   \n",
      "1                         common/topic/notable_types   \n",
      "2                          people/person/nationality   \n",
      "3                           music/recording/releases   \n",
      "4  user/lindenb/default_domain/scientist/worked_with   \n",
      "\n",
      "                                          Prediction  \n",
      "0  medicine/drug_formulation_category/drug_formul...  \n",
      "1                                 music/artist/album  \n",
      "2                       people/person/place_of_birth  \n",
      "3                        music/release_track/release  \n",
      "4                influence/influence_node/influenced  \n",
      "\n",
      "Loss: 1.086\n",
      "2018-01-15 11:07:27,046 | INFO : Accuracy: 0.7890683696468821 [8402 of 10648]\n",
      "2018-01-15 11:07:27,330 | INFO : Accuracy Top 3: 0.9157588279489106 [9751 of 10648]\n",
      "2018-01-15 11:07:27,618 | INFO : Accuracy Top 5: 0.9423365890308039 [10034 of 10648]\n",
      "\n",
      "Epoch 32\n"
     ]
    },
    {
     "data": {
      "application/vnd.jupyter.widget-view+json": {
       "model_id": "4c40ae8f7e4145289e8ed378847d5088",
       "version_major": 2,
       "version_minor": 0
      },
      "text/html": [
       "<p>Failed to display Jupyter Widget of type <code>HBox</code>.</p>\n",
       "<p>\n",
       "  If you're reading this message in the Jupyter Notebook or JupyterLab Notebook, it may mean\n",
       "  that the widgets JavaScript is still loading. If this message persists, it\n",
       "  likely means that the widgets JavaScript library is either not installed or\n",
       "  not enabled. See the <a href=\"https://ipywidgets.readthedocs.io/en/stable/user_install.html\">Jupyter\n",
       "  Widgets Documentation</a> for setup instructions.\n",
       "</p>\n",
       "<p>\n",
       "  If you're reading this message in another frontend (for example, a static\n",
       "  rendering on GitHub or <a href=\"https://nbviewer.jupyter.org/\">NBViewer</a>),\n",
       "  it may mean that your frontend doesn't currently support widgets.\n",
       "</p>\n"
      ],
      "text/plain": [
       "HBox(children=(IntProgress(value=0, max=4658), HTML(value='')))"
      ]
     },
     "metadata": {},
     "output_type": "display_data"
    },
    {
     "name": "stdout",
     "output_type": "stream",
     "text": [
      "\n",
      "2018-01-15 11:07:52,043 | INFO : Saving checkpoint 01m_15d_11h_07m_52s.pt\n"
     ]
    },
    {
     "data": {
      "application/vnd.jupyter.widget-view+json": {
       "model_id": "75d864e4b75c4db9aab0d3c00c17f417",
       "version_major": 2,
       "version_minor": 0
      },
      "text/html": [
       "<p>Failed to display Jupyter Widget of type <code>HBox</code>.</p>\n",
       "<p>\n",
       "  If you're reading this message in the Jupyter Notebook or JupyterLab Notebook, it may mean\n",
       "  that the widgets JavaScript is still loading. If this message persists, it\n",
       "  likely means that the widgets JavaScript library is either not installed or\n",
       "  not enabled. See the <a href=\"https://ipywidgets.readthedocs.io/en/stable/user_install.html\">Jupyter\n",
       "  Widgets Documentation</a> for setup instructions.\n",
       "</p>\n",
       "<p>\n",
       "  If you're reading this message in another frontend (for example, a static\n",
       "  rendering on GitHub or <a href=\"https://nbviewer.jupyter.org/\">NBViewer</a>),\n",
       "  it may mean that your frontend doesn't currently support widgets.\n",
       "</p>\n"
      ],
      "text/plain": [
       "HBox(children=(IntProgress(value=0, max=84), HTML(value='')))"
      ]
     },
     "metadata": {},
     "output_type": "display_data"
    },
    {
     "name": "stdout",
     "output_type": "stream",
     "text": [
      "\n",
      "2018-01-15 11:07:52,576 | INFO : Random Sample:\n",
      "\n",
      "Positive Samples:\n",
      "                                              Source  \\\n",
      "0  what 's an example of a piece of art made usin...   \n",
      "1                       what is <e> famous for being   \n",
      "2                what type of album content is <e> ?   \n",
      "3                       which italian dj plays <e> ?   \n",
      "4                     what kind of cancer killed <e>   \n",
      "\n",
      "                                  Target  \\\n",
      "0  visual_art/visual_art_medium/artworks   \n",
      "1             common/topic/notable_types   \n",
      "2         music/album/album_content_type   \n",
      "3                    music/genre/artists   \n",
      "4  people/deceased_person/cause_of_death   \n",
      "\n",
      "                              Prediction  \n",
      "0  visual_art/visual_art_medium/artworks  \n",
      "1             common/topic/notable_types  \n",
      "2         music/album/album_content_type  \n",
      "3                    music/genre/artists  \n",
      "4  people/deceased_person/cause_of_death  \n",
      "\n",
      "Negative Samples:\n",
      "                               Source                   Target  \\\n",
      "0  what is <e> 's country of origin ?     music/release/region   \n",
      "1                        who is <e> ?  people/ethnicity/people   \n",
      "2            what country is <e> from      music/artist/origin   \n",
      "3       what is an example of a <e> ?       music/genre/albums   \n",
      "4               which track is on <e>   music/recording/tracks   \n",
      "\n",
      "                            Prediction  \n",
      "0            people/person/nationality  \n",
      "1           common/topic/notable_types  \n",
      "2            people/person/nationality  \n",
      "3  film/film_genre/films_in_this_genre  \n",
      "4                  music/release/track  \n",
      "\n",
      "Loss: 1.097\n",
      "2018-01-15 11:07:52,638 | INFO : Accuracy: 0.7884109691960932 [8395 of 10648]\n",
      "2018-01-15 11:07:52,913 | INFO : Accuracy Top 3: 0.916885800150263 [9763 of 10648]\n",
      "2018-01-15 11:07:53,192 | INFO : Accuracy Top 5: 0.9434635612321562 [10046 of 10648]\n",
      "\n",
      "Epoch 33\n"
     ]
    },
    {
     "data": {
      "application/vnd.jupyter.widget-view+json": {
       "model_id": "174e1ebf5da944909e01f917262ee3f0",
       "version_major": 2,
       "version_minor": 0
      },
      "text/html": [
       "<p>Failed to display Jupyter Widget of type <code>HBox</code>.</p>\n",
       "<p>\n",
       "  If you're reading this message in the Jupyter Notebook or JupyterLab Notebook, it may mean\n",
       "  that the widgets JavaScript is still loading. If this message persists, it\n",
       "  likely means that the widgets JavaScript library is either not installed or\n",
       "  not enabled. See the <a href=\"https://ipywidgets.readthedocs.io/en/stable/user_install.html\">Jupyter\n",
       "  Widgets Documentation</a> for setup instructions.\n",
       "</p>\n",
       "<p>\n",
       "  If you're reading this message in another frontend (for example, a static\n",
       "  rendering on GitHub or <a href=\"https://nbviewer.jupyter.org/\">NBViewer</a>),\n",
       "  it may mean that your frontend doesn't currently support widgets.\n",
       "</p>\n"
      ],
      "text/plain": [
       "HBox(children=(IntProgress(value=0, max=4658), HTML(value='')))"
      ]
     },
     "metadata": {},
     "output_type": "display_data"
    },
    {
     "name": "stdout",
     "output_type": "stream",
     "text": [
      "\n",
      "2018-01-15 11:08:16,844 | INFO : Saving checkpoint 01m_15d_11h_08m_16s.pt\n"
     ]
    },
    {
     "data": {
      "application/vnd.jupyter.widget-view+json": {
       "model_id": "edac9d5e46e242b5a304de5429a78844",
       "version_major": 2,
       "version_minor": 0
      },
      "text/html": [
       "<p>Failed to display Jupyter Widget of type <code>HBox</code>.</p>\n",
       "<p>\n",
       "  If you're reading this message in the Jupyter Notebook or JupyterLab Notebook, it may mean\n",
       "  that the widgets JavaScript is still loading. If this message persists, it\n",
       "  likely means that the widgets JavaScript library is either not installed or\n",
       "  not enabled. See the <a href=\"https://ipywidgets.readthedocs.io/en/stable/user_install.html\">Jupyter\n",
       "  Widgets Documentation</a> for setup instructions.\n",
       "</p>\n",
       "<p>\n",
       "  If you're reading this message in another frontend (for example, a static\n",
       "  rendering on GitHub or <a href=\"https://nbviewer.jupyter.org/\">NBViewer</a>),\n",
       "  it may mean that your frontend doesn't currently support widgets.\n",
       "</p>\n"
      ],
      "text/plain": [
       "HBox(children=(IntProgress(value=0, max=84), HTML(value='')))"
      ]
     },
     "metadata": {},
     "output_type": "display_data"
    },
    {
     "name": "stdout",
     "output_type": "stream",
     "text": [
      "\n",
      "2018-01-15 11:08:17,373 | INFO : Random Sample:\n",
      "\n",
      "Positive Samples:\n",
      "                                    Source  \\\n",
      "0  what position does <e> have in football   \n",
      "1         what language family is <e> in ?   \n",
      "2           what was <e> 's place of birth   \n",
      "3                        where is <e> from   \n",
      "4                   which city did <e> die   \n",
      "\n",
      "                                    Target  \\\n",
      "0        soccer/football_player/position_s   \n",
      "1  language/human_language/language_family   \n",
      "2             people/person/place_of_birth   \n",
      "3                people/person/nationality   \n",
      "4    people/deceased_person/place_of_death   \n",
      "\n",
      "                                Prediction  \n",
      "0        soccer/football_player/position_s  \n",
      "1  language/human_language/language_family  \n",
      "2             people/person/place_of_birth  \n",
      "3                people/person/nationality  \n",
      "4    people/deceased_person/place_of_death  \n",
      "\n",
      "Negative Samples:\n",
      "                                   Source  \\\n",
      "0               what is a song from <e> ?   \n",
      "1          what county does <e> belong to   \n",
      "2  being a <e> can lead to what disease ?   \n",
      "3          what book was written by <e> ?   \n",
      "4      what genre is <e> considered <pad>   \n",
      "\n",
      "                                Target                     Prediction  \n",
      "0                   music/artist/track       music/release/track_list  \n",
      "1     location/hud_county_place/county  location/location/containedby  \n",
      "2        medicine/risk_factor/diseases    medicine/symptom/symptom_of  \n",
      "3  book/author/book_editions_published      book/author/works_written  \n",
      "4                  tv/tv_program/genre                film/film/genre  \n",
      "\n",
      "Loss: 1.094\n",
      "2018-01-15 11:08:17,435 | INFO : Accuracy: 0.7917918858001503 [8431 of 10648]\n",
      "2018-01-15 11:08:17,702 | INFO : Accuracy Top 3: 0.9166979714500376 [9761 of 10648]\n",
      "2018-01-15 11:08:17,974 | INFO : Accuracy Top 5: 0.9419609316303531 [10030 of 10648]\n",
      "\n",
      "Epoch 34\n"
     ]
    },
    {
     "data": {
      "application/vnd.jupyter.widget-view+json": {
       "model_id": "2d2bb5f09a3a4c1382dc4fa3485fa2c6",
       "version_major": 2,
       "version_minor": 0
      },
      "text/html": [
       "<p>Failed to display Jupyter Widget of type <code>HBox</code>.</p>\n",
       "<p>\n",
       "  If you're reading this message in the Jupyter Notebook or JupyterLab Notebook, it may mean\n",
       "  that the widgets JavaScript is still loading. If this message persists, it\n",
       "  likely means that the widgets JavaScript library is either not installed or\n",
       "  not enabled. See the <a href=\"https://ipywidgets.readthedocs.io/en/stable/user_install.html\">Jupyter\n",
       "  Widgets Documentation</a> for setup instructions.\n",
       "</p>\n",
       "<p>\n",
       "  If you're reading this message in another frontend (for example, a static\n",
       "  rendering on GitHub or <a href=\"https://nbviewer.jupyter.org/\">NBViewer</a>),\n",
       "  it may mean that your frontend doesn't currently support widgets.\n",
       "</p>\n"
      ],
      "text/plain": [
       "HBox(children=(IntProgress(value=0, max=4658), HTML(value='')))"
      ]
     },
     "metadata": {},
     "output_type": "display_data"
    },
    {
     "name": "stdout",
     "output_type": "stream",
     "text": [
      "\n",
      "2018-01-15 11:08:41,770 | INFO : Saving checkpoint 01m_15d_11h_08m_41s.pt\n"
     ]
    },
    {
     "data": {
      "application/vnd.jupyter.widget-view+json": {
       "model_id": "3f6c109b2ddb406b9e19b50ec8ef2de3",
       "version_major": 2,
       "version_minor": 0
      },
      "text/html": [
       "<p>Failed to display Jupyter Widget of type <code>HBox</code>.</p>\n",
       "<p>\n",
       "  If you're reading this message in the Jupyter Notebook or JupyterLab Notebook, it may mean\n",
       "  that the widgets JavaScript is still loading. If this message persists, it\n",
       "  likely means that the widgets JavaScript library is either not installed or\n",
       "  not enabled. See the <a href=\"https://ipywidgets.readthedocs.io/en/stable/user_install.html\">Jupyter\n",
       "  Widgets Documentation</a> for setup instructions.\n",
       "</p>\n",
       "<p>\n",
       "  If you're reading this message in another frontend (for example, a static\n",
       "  rendering on GitHub or <a href=\"https://nbviewer.jupyter.org/\">NBViewer</a>),\n",
       "  it may mean that your frontend doesn't currently support widgets.\n",
       "</p>\n"
      ],
      "text/plain": [
       "HBox(children=(IntProgress(value=0, max=84), HTML(value='')))"
      ]
     },
     "metadata": {},
     "output_type": "display_data"
    },
    {
     "name": "stdout",
     "output_type": "stream",
     "text": [
      "\n",
      "2018-01-15 11:08:42,302 | INFO : Random Sample:\n",
      "\n",
      "Positive Samples:\n",
      "                                              Source  \\\n",
      "0                               where was <e> born ?   \n",
      "1                    what is the profession of <e> ?   \n",
      "2             what industry does <e> media belong to   \n",
      "3                          who directed the film <e>   \n",
      "4  what 's the name of that 1993 sean connery <e>...   \n",
      "\n",
      "                                 Target                            Prediction  \n",
      "0          people/person/place_of_birth          people/person/place_of_birth  \n",
      "1              people/person/profession              people/person/profession  \n",
      "2  business/business_operation/industry  business/business_operation/industry  \n",
      "3                 film/film/directed_by                 film/film/directed_by  \n",
      "4   film/film_genre/films_in_this_genre   film/film_genre/films_in_this_genre  \n",
      "\n",
      "Negative Samples:\n",
      "                            Source  \\\n",
      "0   which album is the song <e> on   \n",
      "1                what genre is <e>   \n",
      "2      what position does <e> play   \n",
      "3  what are songs of the <e> album   \n",
      "4          which country is <e> in   \n",
      "\n",
      "                                         Target  \\\n",
      "0                   music/release_track/release   \n",
      "1                           tv/tv_program/genre   \n",
      "2  american_football/football_player/position_s   \n",
      "3                      music/release/track_list   \n",
      "4       location/location/partially_containedby   \n",
      "\n",
      "                          Prediction  \n",
      "0           music/recording/releases  \n",
      "1                    film/film/genre  \n",
      "2  soccer/football_player/position_s  \n",
      "3             music/recording/tracks  \n",
      "4      location/location/containedby  \n",
      "\n",
      "Loss: 1.116\n",
      "2018-01-15 11:08:42,363 | INFO : Accuracy: 0.7879413974455297 [8390 of 10648]\n",
      "2018-01-15 11:08:42,630 | INFO : Accuracy Top 3: 0.9157588279489106 [9751 of 10648]\n",
      "2018-01-15 11:08:42,901 | INFO : Accuracy Top 5: 0.9433696468820436 [10045 of 10648]\n",
      "\n",
      "Epoch 35\n"
     ]
    },
    {
     "data": {
      "application/vnd.jupyter.widget-view+json": {
       "model_id": "321338a04c00447a84aab5088c8f96e2",
       "version_major": 2,
       "version_minor": 0
      },
      "text/html": [
       "<p>Failed to display Jupyter Widget of type <code>HBox</code>.</p>\n",
       "<p>\n",
       "  If you're reading this message in the Jupyter Notebook or JupyterLab Notebook, it may mean\n",
       "  that the widgets JavaScript is still loading. If this message persists, it\n",
       "  likely means that the widgets JavaScript library is either not installed or\n",
       "  not enabled. See the <a href=\"https://ipywidgets.readthedocs.io/en/stable/user_install.html\">Jupyter\n",
       "  Widgets Documentation</a> for setup instructions.\n",
       "</p>\n",
       "<p>\n",
       "  If you're reading this message in another frontend (for example, a static\n",
       "  rendering on GitHub or <a href=\"https://nbviewer.jupyter.org/\">NBViewer</a>),\n",
       "  it may mean that your frontend doesn't currently support widgets.\n",
       "</p>\n"
      ],
      "text/plain": [
       "HBox(children=(IntProgress(value=0, max=4658), HTML(value='')))"
      ]
     },
     "metadata": {},
     "output_type": "display_data"
    },
    {
     "name": "stdout",
     "output_type": "stream",
     "text": [
      "\n",
      "2018-01-15 11:09:07,029 | INFO : Saving checkpoint 01m_15d_11h_09m_07s.pt\n"
     ]
    },
    {
     "data": {
      "application/vnd.jupyter.widget-view+json": {
       "model_id": "d26d9af543ae40d5a3664f90e21e2f72",
       "version_major": 2,
       "version_minor": 0
      },
      "text/html": [
       "<p>Failed to display Jupyter Widget of type <code>HBox</code>.</p>\n",
       "<p>\n",
       "  If you're reading this message in the Jupyter Notebook or JupyterLab Notebook, it may mean\n",
       "  that the widgets JavaScript is still loading. If this message persists, it\n",
       "  likely means that the widgets JavaScript library is either not installed or\n",
       "  not enabled. See the <a href=\"https://ipywidgets.readthedocs.io/en/stable/user_install.html\">Jupyter\n",
       "  Widgets Documentation</a> for setup instructions.\n",
       "</p>\n",
       "<p>\n",
       "  If you're reading this message in another frontend (for example, a static\n",
       "  rendering on GitHub or <a href=\"https://nbviewer.jupyter.org/\">NBViewer</a>),\n",
       "  it may mean that your frontend doesn't currently support widgets.\n",
       "</p>\n"
      ],
      "text/plain": [
       "HBox(children=(IntProgress(value=0, max=84), HTML(value='')))"
      ]
     },
     "metadata": {},
     "output_type": "display_data"
    },
    {
     "name": "stdout",
     "output_type": "stream",
     "text": [
      "\n",
      "2018-01-15 11:09:07,561 | INFO : Random Sample:\n",
      "\n",
      "Positive Samples:\n",
      "                             Source  \\\n",
      "0  what genre is the tv program <e>   \n",
      "1                   what orbits <e>   \n",
      "2    what asian country is <e> from   \n",
      "3            where is <e> located ?   \n",
      "4       what is <e> 's profession ?   \n",
      "\n",
      "                                      Target  \\\n",
      "0                        tv/tv_program/genre   \n",
      "1  astronomy/orbital_relationship/orbited_by   \n",
      "2                  people/person/nationality   \n",
      "3              location/location/containedby   \n",
      "4                   people/person/profession   \n",
      "\n",
      "                                  Prediction  \n",
      "0                        tv/tv_program/genre  \n",
      "1  astronomy/orbital_relationship/orbited_by  \n",
      "2                  people/person/nationality  \n",
      "3              location/location/containedby  \n",
      "4                   people/person/profession  \n",
      "\n",
      "Negative Samples:\n",
      "                                 Source  \\\n",
      "0      <e> is what type of work piece ?   \n",
      "1         what is the category of <e> ?   \n",
      "2              what is a <e> in wyoming   \n",
      "3  what is the soundtrack to <e> called   \n",
      "4             what language is <e> in ?   \n",
      "\n",
      "                                          Target  \\\n",
      "0                       music/album/release_type   \n",
      "1        medicine/drug_formulation/drug_category   \n",
      "2  protected_sites/iucn_category/protected_areas   \n",
      "3                           music/album/releases   \n",
      "4                        tv/tv_program/languages   \n",
      "\n",
      "                                       Prediction  \n",
      "0              visual_art/visual_artist/art_forms  \n",
      "1             astronomy/celestial_object/category  \n",
      "2  education/school_category/schools_of_this_kind  \n",
      "3                            film/film/soundtrack  \n",
      "4                              film/film/language  \n",
      "\n",
      "Loss: 1.109\n",
      "2018-01-15 11:09:07,622 | INFO : Accuracy: 0.7870022539444027 [8380 of 10648]\n",
      "2018-01-15 11:09:07,899 | INFO : Accuracy Top 3: 0.9191397445529677 [9787 of 10648]\n",
      "2018-01-15 11:09:08,179 | INFO : Accuracy Top 5: 0.9429939894815927 [10041 of 10648]\n",
      "\n",
      "Epoch 36\n"
     ]
    },
    {
     "data": {
      "application/vnd.jupyter.widget-view+json": {
       "model_id": "0a51145806404e3fb14dbd3c363a9301",
       "version_major": 2,
       "version_minor": 0
      },
      "text/html": [
       "<p>Failed to display Jupyter Widget of type <code>HBox</code>.</p>\n",
       "<p>\n",
       "  If you're reading this message in the Jupyter Notebook or JupyterLab Notebook, it may mean\n",
       "  that the widgets JavaScript is still loading. If this message persists, it\n",
       "  likely means that the widgets JavaScript library is either not installed or\n",
       "  not enabled. See the <a href=\"https://ipywidgets.readthedocs.io/en/stable/user_install.html\">Jupyter\n",
       "  Widgets Documentation</a> for setup instructions.\n",
       "</p>\n",
       "<p>\n",
       "  If you're reading this message in another frontend (for example, a static\n",
       "  rendering on GitHub or <a href=\"https://nbviewer.jupyter.org/\">NBViewer</a>),\n",
       "  it may mean that your frontend doesn't currently support widgets.\n",
       "</p>\n"
      ],
      "text/plain": [
       "HBox(children=(IntProgress(value=0, max=4658), HTML(value='')))"
      ]
     },
     "metadata": {},
     "output_type": "display_data"
    },
    {
     "name": "stdout",
     "output_type": "stream",
     "text": [
      "\n",
      "2018-01-15 11:09:31,692 | INFO : Saving checkpoint 01m_15d_11h_09m_31s.pt\n"
     ]
    },
    {
     "data": {
      "application/vnd.jupyter.widget-view+json": {
       "model_id": "36988f0713ea420f8267ca55a4e2602c",
       "version_major": 2,
       "version_minor": 0
      },
      "text/html": [
       "<p>Failed to display Jupyter Widget of type <code>HBox</code>.</p>\n",
       "<p>\n",
       "  If you're reading this message in the Jupyter Notebook or JupyterLab Notebook, it may mean\n",
       "  that the widgets JavaScript is still loading. If this message persists, it\n",
       "  likely means that the widgets JavaScript library is either not installed or\n",
       "  not enabled. See the <a href=\"https://ipywidgets.readthedocs.io/en/stable/user_install.html\">Jupyter\n",
       "  Widgets Documentation</a> for setup instructions.\n",
       "</p>\n",
       "<p>\n",
       "  If you're reading this message in another frontend (for example, a static\n",
       "  rendering on GitHub or <a href=\"https://nbviewer.jupyter.org/\">NBViewer</a>),\n",
       "  it may mean that your frontend doesn't currently support widgets.\n",
       "</p>\n"
      ],
      "text/plain": [
       "HBox(children=(IntProgress(value=0, max=84), HTML(value='')))"
      ]
     },
     "metadata": {},
     "output_type": "display_data"
    },
    {
     "name": "stdout",
     "output_type": "stream",
     "text": [
      "\n",
      "2018-01-15 11:09:32,311 | INFO : Random Sample:\n",
      "\n",
      "Positive Samples:\n",
      "                                        Source  \\\n",
      "0           what artist produced the album <e>   \n",
      "1  which genre of music is <e> associated with   \n",
      "2                     what is song is from <e>   \n",
      "3                        who was born in <e> ?   \n",
      "4             what album is the track <e> from   \n",
      "\n",
      "                               Target                          Prediction  \n",
      "0                  music/album/artist                  music/album/artist  \n",
      "1                  music/artist/genre                  music/artist/genre  \n",
      "2                 music/release/track                 music/release/track  \n",
      "3  location/location/people_born_here  location/location/people_born_here  \n",
      "4         music/release_track/release         music/release_track/release  \n",
      "\n",
      "Negative Samples:\n",
      "                               Source  \\\n",
      "0             how is a <e> classified   \n",
      "1                   who published <e>   \n",
      "2                where is <e> located   \n",
      "3  what 's a song released off of <e>   \n",
      "4  which company created the <e> game   \n",
      "\n",
      "                                    Target  \\\n",
      "0  medicine/drug_formulation/drug_category   \n",
      "1               cvg/game_version/publisher   \n",
      "2          location/hud_county_place/place   \n",
      "3                      music/release/track   \n",
      "4               cvg/game_version/publisher   \n",
      "\n",
      "                                          Prediction  \n",
      "0  biology/organism_classification/higher_classif...  \n",
      "1                   cvg/computer_videogame/publisher  \n",
      "2                      location/location/containedby  \n",
      "3                           music/release/track_list  \n",
      "4                   cvg/computer_videogame/publisher  \n",
      "\n",
      "Loss: 1.088\n",
      "2018-01-15 11:09:32,373 | INFO : Accuracy: 0.7911344853493614 [8424 of 10648]\n",
      "2018-01-15 11:09:32,641 | INFO : Accuracy Top 3: 0.9167918858001503 [9762 of 10648]\n",
      "2018-01-15 11:09:32,914 | INFO : Accuracy Top 5: 0.9425244177310294 [10036 of 10648]\n",
      "\n",
      "Epoch 37\n"
     ]
    },
    {
     "data": {
      "application/vnd.jupyter.widget-view+json": {
       "model_id": "e6fa42c926d4430283a66fe8f17f72c8",
       "version_major": 2,
       "version_minor": 0
      },
      "text/html": [
       "<p>Failed to display Jupyter Widget of type <code>HBox</code>.</p>\n",
       "<p>\n",
       "  If you're reading this message in the Jupyter Notebook or JupyterLab Notebook, it may mean\n",
       "  that the widgets JavaScript is still loading. If this message persists, it\n",
       "  likely means that the widgets JavaScript library is either not installed or\n",
       "  not enabled. See the <a href=\"https://ipywidgets.readthedocs.io/en/stable/user_install.html\">Jupyter\n",
       "  Widgets Documentation</a> for setup instructions.\n",
       "</p>\n",
       "<p>\n",
       "  If you're reading this message in another frontend (for example, a static\n",
       "  rendering on GitHub or <a href=\"https://nbviewer.jupyter.org/\">NBViewer</a>),\n",
       "  it may mean that your frontend doesn't currently support widgets.\n",
       "</p>\n"
      ],
      "text/plain": [
       "HBox(children=(IntProgress(value=0, max=4658), HTML(value='')))"
      ]
     },
     "metadata": {},
     "output_type": "display_data"
    },
    {
     "name": "stdout",
     "output_type": "stream",
     "text": [
      "\n",
      "2018-01-15 11:09:56,572 | INFO : Saving checkpoint 01m_15d_11h_09m_56s.pt\n"
     ]
    },
    {
     "data": {
      "application/vnd.jupyter.widget-view+json": {
       "model_id": "cf2d42f0a640498a92a1618167af935d",
       "version_major": 2,
       "version_minor": 0
      },
      "text/html": [
       "<p>Failed to display Jupyter Widget of type <code>HBox</code>.</p>\n",
       "<p>\n",
       "  If you're reading this message in the Jupyter Notebook or JupyterLab Notebook, it may mean\n",
       "  that the widgets JavaScript is still loading. If this message persists, it\n",
       "  likely means that the widgets JavaScript library is either not installed or\n",
       "  not enabled. See the <a href=\"https://ipywidgets.readthedocs.io/en/stable/user_install.html\">Jupyter\n",
       "  Widgets Documentation</a> for setup instructions.\n",
       "</p>\n",
       "<p>\n",
       "  If you're reading this message in another frontend (for example, a static\n",
       "  rendering on GitHub or <a href=\"https://nbviewer.jupyter.org/\">NBViewer</a>),\n",
       "  it may mean that your frontend doesn't currently support widgets.\n",
       "</p>\n"
      ],
      "text/plain": [
       "HBox(children=(IntProgress(value=0, max=84), HTML(value='')))"
      ]
     },
     "metadata": {},
     "output_type": "display_data"
    },
    {
     "name": "stdout",
     "output_type": "stream",
     "text": [
      "\n",
      "2018-01-15 11:09:57,113 | INFO : Random Sample:\n",
      "\n",
      "Positive Samples:\n",
      "                                        Source  \\\n",
      "0                       who was <e> written by   \n",
      "1  which films did <e> provide the music for ?   \n",
      "2     which television actor was born in <e> ?   \n",
      "3             which religion does <e> practice   \n",
      "4               what genre of book is <e> in ?   \n",
      "\n",
      "                               Target                          Prediction  \n",
      "0                film/film/written_by                film/film/written_by  \n",
      "1         film/music_contributor/film         film/music_contributor/film  \n",
      "2  location/location/people_born_here  location/location/people_born_here  \n",
      "3              people/person/religion              people/person/religion  \n",
      "4                     book/book/genre                     book/book/genre  \n",
      "\n",
      "Negative Samples:\n",
      "                               Source  \\\n",
      "0         what track spawned from <e>   \n",
      "1     what schools are in <e> ? <pad>   \n",
      "2  which famous company published <e>   \n",
      "3                     what is the <e>   \n",
      "4                what gender is <e> ?   \n",
      "\n",
      "                                              Target  \\\n",
      "0                                music/release/track   \n",
      "1  education/educational_institution/subsidiary_o...   \n",
      "2                         cvg/game_version/publisher   \n",
      "3               base/rosetta/languoid/languoid_class   \n",
      "4      fictional_universe/fictional_character/gender   \n",
      "\n",
      "                    Prediction  \n",
      "0     music/release/track_list  \n",
      "1   location/location/contains  \n",
      "2  book/book_edition/publisher  \n",
      "3   common/topic/notable_types  \n",
      "4         people/person/gender  \n",
      "\n",
      "Loss: 1.128\n",
      "2018-01-15 11:09:57,174 | INFO : Accuracy: 0.7888805409466566 [8400 of 10648]\n",
      "2018-01-15 11:09:57,451 | INFO : Accuracy Top 3: 0.9179188580015026 [9774 of 10648]\n",
      "2018-01-15 11:09:57,730 | INFO : Accuracy Top 5: 0.9427122464312547 [10038 of 10648]\n",
      "\n",
      "Epoch 38\n"
     ]
    },
    {
     "data": {
      "application/vnd.jupyter.widget-view+json": {
       "model_id": "027cb5c485024860bc0cd4aedd1c6d30",
       "version_major": 2,
       "version_minor": 0
      },
      "text/html": [
       "<p>Failed to display Jupyter Widget of type <code>HBox</code>.</p>\n",
       "<p>\n",
       "  If you're reading this message in the Jupyter Notebook or JupyterLab Notebook, it may mean\n",
       "  that the widgets JavaScript is still loading. If this message persists, it\n",
       "  likely means that the widgets JavaScript library is either not installed or\n",
       "  not enabled. See the <a href=\"https://ipywidgets.readthedocs.io/en/stable/user_install.html\">Jupyter\n",
       "  Widgets Documentation</a> for setup instructions.\n",
       "</p>\n",
       "<p>\n",
       "  If you're reading this message in another frontend (for example, a static\n",
       "  rendering on GitHub or <a href=\"https://nbviewer.jupyter.org/\">NBViewer</a>),\n",
       "  it may mean that your frontend doesn't currently support widgets.\n",
       "</p>\n"
      ],
      "text/plain": [
       "HBox(children=(IntProgress(value=0, max=4658), HTML(value='')))"
      ]
     },
     "metadata": {},
     "output_type": "display_data"
    },
    {
     "name": "stdout",
     "output_type": "stream",
     "text": [
      "\n",
      "2018-01-15 11:10:21,500 | INFO : Saving checkpoint 01m_15d_11h_10m_21s.pt\n"
     ]
    },
    {
     "data": {
      "application/vnd.jupyter.widget-view+json": {
       "model_id": "cde73bbb6b01421583a766c4532b548e",
       "version_major": 2,
       "version_minor": 0
      },
      "text/html": [
       "<p>Failed to display Jupyter Widget of type <code>HBox</code>.</p>\n",
       "<p>\n",
       "  If you're reading this message in the Jupyter Notebook or JupyterLab Notebook, it may mean\n",
       "  that the widgets JavaScript is still loading. If this message persists, it\n",
       "  likely means that the widgets JavaScript library is either not installed or\n",
       "  not enabled. See the <a href=\"https://ipywidgets.readthedocs.io/en/stable/user_install.html\">Jupyter\n",
       "  Widgets Documentation</a> for setup instructions.\n",
       "</p>\n",
       "<p>\n",
       "  If you're reading this message in another frontend (for example, a static\n",
       "  rendering on GitHub or <a href=\"https://nbviewer.jupyter.org/\">NBViewer</a>),\n",
       "  it may mean that your frontend doesn't currently support widgets.\n",
       "</p>\n"
      ],
      "text/plain": [
       "HBox(children=(IntProgress(value=0, max=84), HTML(value='')))"
      ]
     },
     "metadata": {},
     "output_type": "display_data"
    },
    {
     "name": "stdout",
     "output_type": "stream",
     "text": [
      "\n",
      "2018-01-15 11:10:22,136 | INFO : Random Sample:\n",
      "\n",
      "Positive Samples:\n",
      "                                              Source  \\\n",
      "0                   which war did the <e> take place   \n",
      "1  what language can the composition <e> be heard...   \n",
      "2                     what district is <e> a part of   \n",
      "3                 what films were produced under <e>   \n",
      "4                          who produced the film <e>   \n",
      "\n",
      "                             Target                        Prediction  \n",
      "0      time/event/included_in_event      time/event/included_in_event  \n",
      "1        music/composition/language        music/composition/language  \n",
      "2  education/school/school_district  education/school/school_district  \n",
      "3     film/production_company/films     film/production_company/films  \n",
      "4             film/film/produced_by             film/film/produced_by  \n",
      "\n",
      "Negative Samples:\n",
      "                                      Source  \\\n",
      "0        where was <e> originally released ?   \n",
      "1     name someone who is well known for <e>   \n",
      "2  what is the album with the song <e> on it   \n",
      "3                             where uses <e>   \n",
      "4             what 's an example of an <e> ?   \n",
      "\n",
      "                                        Target  \\\n",
      "0                            film/film/country   \n",
      "1           visual_art/visual_art_form/artists   \n",
      "2                          music/release/track   \n",
      "3   time/time_zone/locations_in_this_time_zone   \n",
      "4  astronomy/celestial_object_category/objects   \n",
      "\n",
      "                                         Prediction  \n",
      "0                              music/release/region  \n",
      "1  martial_arts/martial_art/well_known_practitioner  \n",
      "2                          music/recording/releases  \n",
      "3                     location/location/containedby  \n",
      "4               film/film_genre/films_in_this_genre  \n",
      "\n",
      "Loss: 1.103\n",
      "2018-01-15 11:10:22,198 | INFO : Accuracy: 0.7891622839969947 [8403 of 10648]\n",
      "2018-01-15 11:10:22,471 | INFO : Accuracy Top 3: 0.9166979714500376 [9761 of 10648]\n",
      "2018-01-15 11:10:22,751 | INFO : Accuracy Top 5: 0.9440270473328325 [10052 of 10648]\n",
      "\n",
      "Epoch 39\n"
     ]
    },
    {
     "data": {
      "application/vnd.jupyter.widget-view+json": {
       "model_id": "c47bb60762014242a03fdf62bf85f526",
       "version_major": 2,
       "version_minor": 0
      },
      "text/html": [
       "<p>Failed to display Jupyter Widget of type <code>HBox</code>.</p>\n",
       "<p>\n",
       "  If you're reading this message in the Jupyter Notebook or JupyterLab Notebook, it may mean\n",
       "  that the widgets JavaScript is still loading. If this message persists, it\n",
       "  likely means that the widgets JavaScript library is either not installed or\n",
       "  not enabled. See the <a href=\"https://ipywidgets.readthedocs.io/en/stable/user_install.html\">Jupyter\n",
       "  Widgets Documentation</a> for setup instructions.\n",
       "</p>\n",
       "<p>\n",
       "  If you're reading this message in another frontend (for example, a static\n",
       "  rendering on GitHub or <a href=\"https://nbviewer.jupyter.org/\">NBViewer</a>),\n",
       "  it may mean that your frontend doesn't currently support widgets.\n",
       "</p>\n"
      ],
      "text/plain": [
       "HBox(children=(IntProgress(value=0, max=4658), HTML(value='')))"
      ]
     },
     "metadata": {},
     "output_type": "display_data"
    },
    {
     "name": "stdout",
     "output_type": "stream",
     "text": [
      "\n",
      "2018-01-15 11:10:46,500 | INFO : Saving checkpoint 01m_15d_11h_10m_46s.pt\n"
     ]
    },
    {
     "data": {
      "application/vnd.jupyter.widget-view+json": {
       "model_id": "f654a6b2ec624cc18022e3ba0741a6f4",
       "version_major": 2,
       "version_minor": 0
      },
      "text/html": [
       "<p>Failed to display Jupyter Widget of type <code>HBox</code>.</p>\n",
       "<p>\n",
       "  If you're reading this message in the Jupyter Notebook or JupyterLab Notebook, it may mean\n",
       "  that the widgets JavaScript is still loading. If this message persists, it\n",
       "  likely means that the widgets JavaScript library is either not installed or\n",
       "  not enabled. See the <a href=\"https://ipywidgets.readthedocs.io/en/stable/user_install.html\">Jupyter\n",
       "  Widgets Documentation</a> for setup instructions.\n",
       "</p>\n",
       "<p>\n",
       "  If you're reading this message in another frontend (for example, a static\n",
       "  rendering on GitHub or <a href=\"https://nbviewer.jupyter.org/\">NBViewer</a>),\n",
       "  it may mean that your frontend doesn't currently support widgets.\n",
       "</p>\n"
      ],
      "text/plain": [
       "HBox(children=(IntProgress(value=0, max=84), HTML(value='')))"
      ]
     },
     "metadata": {},
     "output_type": "display_data"
    },
    {
     "name": "stdout",
     "output_type": "stream",
     "text": [
      "\n",
      "2018-01-15 11:10:47,029 | INFO : Random Sample:\n",
      "\n",
      "Positive Samples:\n",
      "                               Source  \\\n",
      "0             where was <e> birthed ?   \n",
      "1                        name a <e> .   \n",
      "2  which games did <e> help develop ?   \n",
      "3              what is located in <e>   \n",
      "4                  name an <e> film .   \n",
      "\n",
      "                                          Target  \\\n",
      "0                   people/person/place_of_birth   \n",
      "1  people/profession/people_with_this_profession   \n",
      "2              cvg/cvg_developer/games_developed   \n",
      "3                     location/location/contains   \n",
      "4            film/film_genre/films_in_this_genre   \n",
      "\n",
      "                                      Prediction  \n",
      "0                   people/person/place_of_birth  \n",
      "1  people/profession/people_with_this_profession  \n",
      "2              cvg/cvg_developer/games_developed  \n",
      "3                     location/location/contains  \n",
      "4            film/film_genre/films_in_this_genre  \n",
      "\n",
      "Negative Samples:\n",
      "                                              Source  \\\n",
      "0                             what is an <e> title ?   \n",
      "1  under what title did netflix label the film <e> ?   \n",
      "2                          what is <e> 's profession   \n",
      "3                       what is an example of an <e>   \n",
      "4               what <e> a private or public company   \n",
      "\n",
      "                                      Target  \\\n",
      "0        film/film_genre/films_in_this_genre   \n",
      "1  media_common/netflix_title/netflix_genres   \n",
      "2                 common/topic/notable_types   \n",
      "3            music/album_release_type/albums   \n",
      "4  organization/organization/legal_structure   \n",
      "\n",
      "                            Prediction  \n",
      "0    media_common/netflix_genre/titles  \n",
      "1    media_common/netflix_genre/titles  \n",
      "2             people/person/profession  \n",
      "3  film/film_genre/films_in_this_genre  \n",
      "4          business/industry/companies  \n",
      "\n",
      "Loss: 1.098\n",
      "2018-01-15 11:10:47,090 | INFO : Accuracy: 0.7873779113448535 [8384 of 10648]\n",
      "2018-01-15 11:10:47,368 | INFO : Accuracy Top 3: 0.9166040570999249 [9760 of 10648]\n",
      "2018-01-15 11:10:47,647 | INFO : Accuracy Top 5: 0.9434635612321562 [10046 of 10648]\n",
      "\n",
      "Epoch 40\n"
     ]
    },
    {
     "data": {
      "application/vnd.jupyter.widget-view+json": {
       "model_id": "d72d8e79f120405e933b64fd4b8746b7",
       "version_major": 2,
       "version_minor": 0
      },
      "text/html": [
       "<p>Failed to display Jupyter Widget of type <code>HBox</code>.</p>\n",
       "<p>\n",
       "  If you're reading this message in the Jupyter Notebook or JupyterLab Notebook, it may mean\n",
       "  that the widgets JavaScript is still loading. If this message persists, it\n",
       "  likely means that the widgets JavaScript library is either not installed or\n",
       "  not enabled. See the <a href=\"https://ipywidgets.readthedocs.io/en/stable/user_install.html\">Jupyter\n",
       "  Widgets Documentation</a> for setup instructions.\n",
       "</p>\n",
       "<p>\n",
       "  If you're reading this message in another frontend (for example, a static\n",
       "  rendering on GitHub or <a href=\"https://nbviewer.jupyter.org/\">NBViewer</a>),\n",
       "  it may mean that your frontend doesn't currently support widgets.\n",
       "</p>\n"
      ],
      "text/plain": [
       "HBox(children=(IntProgress(value=0, max=4658), HTML(value='')))"
      ]
     },
     "metadata": {},
     "output_type": "display_data"
    },
    {
     "name": "stdout",
     "output_type": "stream",
     "text": [
      "\n",
      "2018-01-15 11:11:11,381 | INFO : Saving checkpoint 01m_15d_11h_11m_11s.pt\n"
     ]
    },
    {
     "data": {
      "application/vnd.jupyter.widget-view+json": {
       "model_id": "b37c7d0a311d465e86f129ed80a66089",
       "version_major": 2,
       "version_minor": 0
      },
      "text/html": [
       "<p>Failed to display Jupyter Widget of type <code>HBox</code>.</p>\n",
       "<p>\n",
       "  If you're reading this message in the Jupyter Notebook or JupyterLab Notebook, it may mean\n",
       "  that the widgets JavaScript is still loading. If this message persists, it\n",
       "  likely means that the widgets JavaScript library is either not installed or\n",
       "  not enabled. See the <a href=\"https://ipywidgets.readthedocs.io/en/stable/user_install.html\">Jupyter\n",
       "  Widgets Documentation</a> for setup instructions.\n",
       "</p>\n",
       "<p>\n",
       "  If you're reading this message in another frontend (for example, a static\n",
       "  rendering on GitHub or <a href=\"https://nbviewer.jupyter.org/\">NBViewer</a>),\n",
       "  it may mean that your frontend doesn't currently support widgets.\n",
       "</p>\n"
      ],
      "text/plain": [
       "HBox(children=(IntProgress(value=0, max=84), HTML(value='')))"
      ]
     },
     "metadata": {},
     "output_type": "display_data"
    },
    {
     "name": "stdout",
     "output_type": "stream",
     "text": [
      "\n",
      "2018-01-15 11:11:11,998 | INFO : Random Sample:\n",
      "\n",
      "Positive Samples:\n",
      "                                         Source  \\\n",
      "0             which city did <e> originate from   \n",
      "1                where is <e> ( metra ) lovated   \n",
      "2  what s the name of a <e> fictional character   \n",
      "3          what artist released the album <e> ?   \n",
      "4                                  where is <e>   \n",
      "\n",
      "                                              Target  \\\n",
      "0                                music/artist/origin   \n",
      "1                      location/location/containedby   \n",
      "2  fictional_universe/character_gender/characters...   \n",
      "3                                 music/album/artist   \n",
      "4                      location/location/containedby   \n",
      "\n",
      "                                          Prediction  \n",
      "0                                music/artist/origin  \n",
      "1                      location/location/containedby  \n",
      "2  fictional_universe/character_gender/characters...  \n",
      "3                                 music/album/artist  \n",
      "4                      location/location/containedby  \n",
      "\n",
      "Negative Samples:\n",
      "                                    Source  \\\n",
      "0  the release <e> stems from which region   \n",
      "1                          who wrote <e> ?   \n",
      "2             what did <e> do for a living   \n",
      "3            what types of accident is <e>   \n",
      "4            what position does <e> play ?   \n",
      "\n",
      "                                     Target                         Prediction  \n",
      "0                      music/release/region           music/recording/releases  \n",
      "1                music/composition/lyricist           book/written_work/author  \n",
      "2                  people/person/profession         common/topic/notable_types  \n",
      "3  aviation/airliner_accident/accident_type    event/disaster/type_of_disaster  \n",
      "4  ice_hockey/hockey_player/hockey_position  soccer/football_player/position_s  \n",
      "\n",
      "Loss: 1.115\n",
      "2018-01-15 11:11:12,060 | INFO : Accuracy: 0.7932945154019534 [8447 of 10648]\n",
      "2018-01-15 11:11:12,325 | INFO : Accuracy Top 3: 0.9186701728024043 [9782 of 10648]\n",
      "2018-01-15 11:11:12,595 | INFO : Accuracy Top 5: 0.9432757325319309 [10044 of 10648]\n",
      "\n",
      "Epoch 41\n"
     ]
    },
    {
     "data": {
      "application/vnd.jupyter.widget-view+json": {
       "model_id": "c945faf290b8447c8df12bcdd34a8aa7",
       "version_major": 2,
       "version_minor": 0
      },
      "text/html": [
       "<p>Failed to display Jupyter Widget of type <code>HBox</code>.</p>\n",
       "<p>\n",
       "  If you're reading this message in the Jupyter Notebook or JupyterLab Notebook, it may mean\n",
       "  that the widgets JavaScript is still loading. If this message persists, it\n",
       "  likely means that the widgets JavaScript library is either not installed or\n",
       "  not enabled. See the <a href=\"https://ipywidgets.readthedocs.io/en/stable/user_install.html\">Jupyter\n",
       "  Widgets Documentation</a> for setup instructions.\n",
       "</p>\n",
       "<p>\n",
       "  If you're reading this message in another frontend (for example, a static\n",
       "  rendering on GitHub or <a href=\"https://nbviewer.jupyter.org/\">NBViewer</a>),\n",
       "  it may mean that your frontend doesn't currently support widgets.\n",
       "</p>\n"
      ],
      "text/plain": [
       "HBox(children=(IntProgress(value=0, max=4658), HTML(value='')))"
      ]
     },
     "metadata": {},
     "output_type": "display_data"
    },
    {
     "name": "stdout",
     "output_type": "stream",
     "text": [
      "\n",
      "2018-01-15 11:11:36,222 | INFO : Saving checkpoint 01m_15d_11h_11m_36s.pt\n"
     ]
    },
    {
     "data": {
      "application/vnd.jupyter.widget-view+json": {
       "model_id": "715c6f228ee246868b2a8c49952a1328",
       "version_major": 2,
       "version_minor": 0
      },
      "text/html": [
       "<p>Failed to display Jupyter Widget of type <code>HBox</code>.</p>\n",
       "<p>\n",
       "  If you're reading this message in the Jupyter Notebook or JupyterLab Notebook, it may mean\n",
       "  that the widgets JavaScript is still loading. If this message persists, it\n",
       "  likely means that the widgets JavaScript library is either not installed or\n",
       "  not enabled. See the <a href=\"https://ipywidgets.readthedocs.io/en/stable/user_install.html\">Jupyter\n",
       "  Widgets Documentation</a> for setup instructions.\n",
       "</p>\n",
       "<p>\n",
       "  If you're reading this message in another frontend (for example, a static\n",
       "  rendering on GitHub or <a href=\"https://nbviewer.jupyter.org/\">NBViewer</a>),\n",
       "  it may mean that your frontend doesn't currently support widgets.\n",
       "</p>\n"
      ],
      "text/plain": [
       "HBox(children=(IntProgress(value=0, max=84), HTML(value='')))"
      ]
     },
     "metadata": {},
     "output_type": "display_data"
    },
    {
     "name": "stdout",
     "output_type": "stream",
     "text": [
      "\n",
      "2018-01-15 11:11:36,753 | INFO : Random Sample:\n",
      "\n",
      "Positive Samples:\n",
      "                                              Source  \\\n",
      "0                               where is <e> located   \n",
      "1              what city is located within the <e> ?   \n",
      "2          what is the name of a <e> 1992 book <pad>   \n",
      "3  which marketed formulation of the drug <e> is ...   \n",
      "4                  what style of music does <e> play   \n",
      "\n",
      "                                            Target  \\\n",
      "0                    location/location/containedby   \n",
      "1                       location/location/contains   \n",
      "2  media_common/literary_genre/books_in_this_genre   \n",
      "3              medicine/drug/marketed_formulations   \n",
      "4                               music/artist/genre   \n",
      "\n",
      "                                        Prediction  \n",
      "0                    location/location/containedby  \n",
      "1                       location/location/contains  \n",
      "2  media_common/literary_genre/books_in_this_genre  \n",
      "3              medicine/drug/marketed_formulations  \n",
      "4                               music/artist/genre  \n",
      "\n",
      "Negative Samples:\n",
      "                                  Source                      Target  \\\n",
      "0         what album was <e> released on    music/recording/releases   \n",
      "1  in which form was <e> album presented        music/release/format   \n",
      "2                      where is <e> from           film/film/country   \n",
      "3            what album is <e> a part of         music/release/album   \n",
      "4          what does <e> do for a living  common/topic/notable_types   \n",
      "\n",
      "                       Prediction  \n",
      "0     music/release_track/release  \n",
      "1  music/album/album_content_type  \n",
      "2       people/person/nationality  \n",
      "3        music/recording/releases  \n",
      "4        people/person/profession  \n",
      "\n",
      "Loss: 1.096\n",
      "2018-01-15 11:11:36,814 | INFO : Accuracy: 0.7938580015026296 [8453 of 10648]\n",
      "2018-01-15 11:11:37,088 | INFO : Accuracy Top 3: 0.9197032306536439 [9793 of 10648]\n",
      "2018-01-15 11:11:37,366 | INFO : Accuracy Top 5: 0.9438392186326071 [10050 of 10648]\n",
      "\n",
      "Epoch 42\n"
     ]
    },
    {
     "data": {
      "application/vnd.jupyter.widget-view+json": {
       "model_id": "e141e3188a484e29a8b3961ebfb1179c",
       "version_major": 2,
       "version_minor": 0
      },
      "text/html": [
       "<p>Failed to display Jupyter Widget of type <code>HBox</code>.</p>\n",
       "<p>\n",
       "  If you're reading this message in the Jupyter Notebook or JupyterLab Notebook, it may mean\n",
       "  that the widgets JavaScript is still loading. If this message persists, it\n",
       "  likely means that the widgets JavaScript library is either not installed or\n",
       "  not enabled. See the <a href=\"https://ipywidgets.readthedocs.io/en/stable/user_install.html\">Jupyter\n",
       "  Widgets Documentation</a> for setup instructions.\n",
       "</p>\n",
       "<p>\n",
       "  If you're reading this message in another frontend (for example, a static\n",
       "  rendering on GitHub or <a href=\"https://nbviewer.jupyter.org/\">NBViewer</a>),\n",
       "  it may mean that your frontend doesn't currently support widgets.\n",
       "</p>\n"
      ],
      "text/plain": [
       "HBox(children=(IntProgress(value=0, max=4658), HTML(value='')))"
      ]
     },
     "metadata": {},
     "output_type": "display_data"
    },
    {
     "name": "stdout",
     "output_type": "stream",
     "text": [
      "\n",
      "2018-01-15 11:12:01,064 | INFO : Saving checkpoint 01m_15d_11h_12m_01s.pt\n"
     ]
    },
    {
     "data": {
      "application/vnd.jupyter.widget-view+json": {
       "model_id": "57b418d573de41b08539f1a44d7a3d5b",
       "version_major": 2,
       "version_minor": 0
      },
      "text/html": [
       "<p>Failed to display Jupyter Widget of type <code>HBox</code>.</p>\n",
       "<p>\n",
       "  If you're reading this message in the Jupyter Notebook or JupyterLab Notebook, it may mean\n",
       "  that the widgets JavaScript is still loading. If this message persists, it\n",
       "  likely means that the widgets JavaScript library is either not installed or\n",
       "  not enabled. See the <a href=\"https://ipywidgets.readthedocs.io/en/stable/user_install.html\">Jupyter\n",
       "  Widgets Documentation</a> for setup instructions.\n",
       "</p>\n",
       "<p>\n",
       "  If you're reading this message in another frontend (for example, a static\n",
       "  rendering on GitHub or <a href=\"https://nbviewer.jupyter.org/\">NBViewer</a>),\n",
       "  it may mean that your frontend doesn't currently support widgets.\n",
       "</p>\n"
      ],
      "text/plain": [
       "HBox(children=(IntProgress(value=0, max=84), HTML(value='')))"
      ]
     },
     "metadata": {},
     "output_type": "display_data"
    },
    {
     "name": "stdout",
     "output_type": "stream",
     "text": [
      "\n",
      "2018-01-15 11:12:01,594 | INFO : Random Sample:\n",
      "\n",
      "Positive Samples:\n",
      "                              Source  \\\n",
      "0      what religion does <e> follow   \n",
      "1        what is a <e> album title ?   \n",
      "2         what s a <e> literary book   \n",
      "3       what song was produce by <e>   \n",
      "4  is <e> a public or private school   \n",
      "\n",
      "                                            Target  \\\n",
      "0                           people/person/religion   \n",
      "1                               music/genre/albums   \n",
      "2  media_common/literary_genre/books_in_this_genre   \n",
      "3                   music/producer/tracks_produced   \n",
      "4    education/educational_institution/school_type   \n",
      "\n",
      "                                        Prediction  \n",
      "0                           people/person/religion  \n",
      "1                               music/genre/albums  \n",
      "2  media_common/literary_genre/books_in_this_genre  \n",
      "3                   music/producer/tracks_produced  \n",
      "4    education/educational_institution/school_type  \n",
      "\n",
      "Negative Samples:\n",
      "                                  Source  \\\n",
      "0                 where can <e> be found   \n",
      "1                            what is <e>   \n",
      "2    what album has <e> as its content ?   \n",
      "3         what does <e> do for a living÷   \n",
      "4  in which form was <e> album presented   \n",
      "\n",
      "                                   Target                      Prediction  \n",
      "0  astronomy/star_system_body/star_system   location/location/containedby  \n",
      "1                music/album/release_type      common/topic/notable_types  \n",
      "2         music/album_content_type/albums              music/genre/albums  \n",
      "3                people/person/profession      common/topic/notable_types  \n",
      "4                    music/release/format  music/album/album_content_type  \n",
      "\n",
      "Loss: 1.107\n",
      "2018-01-15 11:12:01,655 | INFO : Accuracy: 0.7916040570999249 [8429 of 10648]\n",
      "2018-01-15 11:12:01,931 | INFO : Accuracy Top 3: 0.9188580015026296 [9784 of 10648]\n",
      "2018-01-15 11:12:02,212 | INFO : Accuracy Top 5: 0.9444027047332832 [10056 of 10648]\n",
      "\n",
      "Epoch 43\n"
     ]
    },
    {
     "data": {
      "application/vnd.jupyter.widget-view+json": {
       "model_id": "56d0ab256ff647cdaf888faf22ab024f",
       "version_major": 2,
       "version_minor": 0
      },
      "text/html": [
       "<p>Failed to display Jupyter Widget of type <code>HBox</code>.</p>\n",
       "<p>\n",
       "  If you're reading this message in the Jupyter Notebook or JupyterLab Notebook, it may mean\n",
       "  that the widgets JavaScript is still loading. If this message persists, it\n",
       "  likely means that the widgets JavaScript library is either not installed or\n",
       "  not enabled. See the <a href=\"https://ipywidgets.readthedocs.io/en/stable/user_install.html\">Jupyter\n",
       "  Widgets Documentation</a> for setup instructions.\n",
       "</p>\n",
       "<p>\n",
       "  If you're reading this message in another frontend (for example, a static\n",
       "  rendering on GitHub or <a href=\"https://nbviewer.jupyter.org/\">NBViewer</a>),\n",
       "  it may mean that your frontend doesn't currently support widgets.\n",
       "</p>\n"
      ],
      "text/plain": [
       "HBox(children=(IntProgress(value=0, max=4658), HTML(value='')))"
      ]
     },
     "metadata": {},
     "output_type": "display_data"
    },
    {
     "name": "stdout",
     "output_type": "stream",
     "text": [
      "\n",
      "2018-01-15 11:12:25,902 | INFO : Saving checkpoint 01m_15d_11h_12m_25s.pt\n"
     ]
    },
    {
     "data": {
      "application/vnd.jupyter.widget-view+json": {
       "model_id": "173e24b782244ae1ab59cb4da93791b3",
       "version_major": 2,
       "version_minor": 0
      },
      "text/html": [
       "<p>Failed to display Jupyter Widget of type <code>HBox</code>.</p>\n",
       "<p>\n",
       "  If you're reading this message in the Jupyter Notebook or JupyterLab Notebook, it may mean\n",
       "  that the widgets JavaScript is still loading. If this message persists, it\n",
       "  likely means that the widgets JavaScript library is either not installed or\n",
       "  not enabled. See the <a href=\"https://ipywidgets.readthedocs.io/en/stable/user_install.html\">Jupyter\n",
       "  Widgets Documentation</a> for setup instructions.\n",
       "</p>\n",
       "<p>\n",
       "  If you're reading this message in another frontend (for example, a static\n",
       "  rendering on GitHub or <a href=\"https://nbviewer.jupyter.org/\">NBViewer</a>),\n",
       "  it may mean that your frontend doesn't currently support widgets.\n",
       "</p>\n"
      ],
      "text/plain": [
       "HBox(children=(IntProgress(value=0, max=84), HTML(value='')))"
      ]
     },
     "metadata": {},
     "output_type": "display_data"
    },
    {
     "name": "stdout",
     "output_type": "stream",
     "text": [
      "\n",
      "2018-01-15 11:12:26,530 | INFO : Random Sample:\n",
      "\n",
      "Positive Samples:\n",
      "                                       Source  \\\n",
      "0              what kind of tv program is <e>   \n",
      "1       what is an active ingredient in <e> ?   \n",
      "2                   where was <e> given birth   \n",
      "3                      where is <e> contained   \n",
      "4  who was the author of the written work <e>   \n",
      "\n",
      "                                              Target  \\\n",
      "0                                tv/tv_program/genre   \n",
      "1  medicine/drug_formulation/active_ingredient_mo...   \n",
      "2                       people/person/place_of_birth   \n",
      "3                      location/location/containedby   \n",
      "4                           book/written_work/author   \n",
      "\n",
      "                                          Prediction  \n",
      "0                                tv/tv_program/genre  \n",
      "1  medicine/drug_formulation/active_ingredient_mo...  \n",
      "2                       people/person/place_of_birth  \n",
      "3                      location/location/containedby  \n",
      "4                           book/written_work/author  \n",
      "\n",
      "Negative Samples:\n",
      "                                              Source  \\\n",
      "0              what is the genre associated with <e>   \n",
      "1                                        what is <e>   \n",
      "2                          what language is <e> in ?   \n",
      "3              in which form was <e> album presented   \n",
      "4  which military commander was involved in the <...   \n",
      "\n",
      "                                     Target  \\\n",
      "0                           film/film/genre   \n",
      "1                  music/album/release_type   \n",
      "2                music/composition/language   \n",
      "3                      music/release/format   \n",
      "4  base/culturalevent/event/entity_involved   \n",
      "\n",
      "                                          Prediction  \n",
      "0                                 music/artist/genre  \n",
      "1                         common/topic/notable_types  \n",
      "2                                 film/film/language  \n",
      "3                     music/album/album_content_type  \n",
      "4  military/military_conflict/military_personnel_...  \n",
      "\n",
      "Loss: 1.125\n",
      "2018-01-15 11:12:26,593 | INFO : Accuracy: 0.7904770848985725 [8417 of 10648]\n",
      "2018-01-15 11:12:26,873 | INFO : Accuracy Top 3: 0.9196093163035312 [9792 of 10648]\n",
      "2018-01-15 11:12:27,153 | INFO : Accuracy Top 5: 0.9436513899323816 [10048 of 10648]\n",
      "\n",
      "Epoch 44\n"
     ]
    },
    {
     "data": {
      "application/vnd.jupyter.widget-view+json": {
       "model_id": "c09f62079fbd46a994db807e50488cdf",
       "version_major": 2,
       "version_minor": 0
      },
      "text/html": [
       "<p>Failed to display Jupyter Widget of type <code>HBox</code>.</p>\n",
       "<p>\n",
       "  If you're reading this message in the Jupyter Notebook or JupyterLab Notebook, it may mean\n",
       "  that the widgets JavaScript is still loading. If this message persists, it\n",
       "  likely means that the widgets JavaScript library is either not installed or\n",
       "  not enabled. See the <a href=\"https://ipywidgets.readthedocs.io/en/stable/user_install.html\">Jupyter\n",
       "  Widgets Documentation</a> for setup instructions.\n",
       "</p>\n",
       "<p>\n",
       "  If you're reading this message in another frontend (for example, a static\n",
       "  rendering on GitHub or <a href=\"https://nbviewer.jupyter.org/\">NBViewer</a>),\n",
       "  it may mean that your frontend doesn't currently support widgets.\n",
       "</p>\n"
      ],
      "text/plain": [
       "HBox(children=(IntProgress(value=0, max=4658), HTML(value='')))"
      ]
     },
     "metadata": {},
     "output_type": "display_data"
    },
    {
     "name": "stdout",
     "output_type": "stream",
     "text": [
      "\n",
      "2018-01-15 11:12:51,405 | INFO : Saving checkpoint 01m_15d_11h_12m_51s.pt\n"
     ]
    },
    {
     "data": {
      "application/vnd.jupyter.widget-view+json": {
       "model_id": "910523ab14ea486da54c1686feb56257",
       "version_major": 2,
       "version_minor": 0
      },
      "text/html": [
       "<p>Failed to display Jupyter Widget of type <code>HBox</code>.</p>\n",
       "<p>\n",
       "  If you're reading this message in the Jupyter Notebook or JupyterLab Notebook, it may mean\n",
       "  that the widgets JavaScript is still loading. If this message persists, it\n",
       "  likely means that the widgets JavaScript library is either not installed or\n",
       "  not enabled. See the <a href=\"https://ipywidgets.readthedocs.io/en/stable/user_install.html\">Jupyter\n",
       "  Widgets Documentation</a> for setup instructions.\n",
       "</p>\n",
       "<p>\n",
       "  If you're reading this message in another frontend (for example, a static\n",
       "  rendering on GitHub or <a href=\"https://nbviewer.jupyter.org/\">NBViewer</a>),\n",
       "  it may mean that your frontend doesn't currently support widgets.\n",
       "</p>\n"
      ],
      "text/plain": [
       "HBox(children=(IntProgress(value=0, max=84), HTML(value='')))"
      ]
     },
     "metadata": {},
     "output_type": "display_data"
    },
    {
     "name": "stdout",
     "output_type": "stream",
     "text": [
      "\n",
      "2018-01-15 11:12:51,941 | INFO : Random Sample:\n",
      "\n",
      "Positive Samples:\n",
      "                         Source                              Target  \\\n",
      "0  which person was born in <e>  location/location/people_born_here   \n",
      "1     what kind of movie is <e>                     film/film/genre   \n",
      "2                where is <e> ?       location/location/containedby   \n",
      "3            where was <e> born        people/person/place_of_birth   \n",
      "4       <e> is what nationality           people/person/nationality   \n",
      "\n",
      "                           Prediction  \n",
      "0  location/location/people_born_here  \n",
      "1                     film/film/genre  \n",
      "2       location/location/containedby  \n",
      "3        people/person/place_of_birth  \n",
      "4           people/person/nationality  \n",
      "\n",
      "Negative Samples:\n",
      "                                       Source  \\\n",
      "0                   what language is <e> in ?   \n",
      "1              what theme is in the piece <e>   \n",
      "2                                  name a <e>   \n",
      "3                    what was <e> 's position   \n",
      "4  <e> is a football position played by who ?   \n",
      "\n",
      "                                    Target  \\\n",
      "0                  tv/tv_program/languages   \n",
      "1               book/written_work/subjects   \n",
      "2          music/album_release_type/albums   \n",
      "3  basketball/basketball_player/position_s   \n",
      "4         soccer/football_position/players   \n",
      "\n",
      "                                      Prediction  \n",
      "0                             film/film/language  \n",
      "1                     location/location/contains  \n",
      "2  people/profession/people_with_this_profession  \n",
      "3              soccer/football_player/position_s  \n",
      "4              soccer/football_player/position_s  \n",
      "\n",
      "Loss: 1.125\n",
      "2018-01-15 11:12:52,002 | INFO : Accuracy: 0.7884109691960932 [8395 of 10648]\n",
      "2018-01-15 11:12:52,278 | INFO : Accuracy Top 3: 0.9188580015026296 [9784 of 10648]\n",
      "2018-01-15 11:12:52,557 | INFO : Accuracy Top 5: 0.9438392186326071 [10050 of 10648]\n",
      "\n",
      "Epoch 45\n"
     ]
    },
    {
     "data": {
      "application/vnd.jupyter.widget-view+json": {
       "model_id": "269d7a5306a74d18b5ab67d6849251bb",
       "version_major": 2,
       "version_minor": 0
      },
      "text/html": [
       "<p>Failed to display Jupyter Widget of type <code>HBox</code>.</p>\n",
       "<p>\n",
       "  If you're reading this message in the Jupyter Notebook or JupyterLab Notebook, it may mean\n",
       "  that the widgets JavaScript is still loading. If this message persists, it\n",
       "  likely means that the widgets JavaScript library is either not installed or\n",
       "  not enabled. See the <a href=\"https://ipywidgets.readthedocs.io/en/stable/user_install.html\">Jupyter\n",
       "  Widgets Documentation</a> for setup instructions.\n",
       "</p>\n",
       "<p>\n",
       "  If you're reading this message in another frontend (for example, a static\n",
       "  rendering on GitHub or <a href=\"https://nbviewer.jupyter.org/\">NBViewer</a>),\n",
       "  it may mean that your frontend doesn't currently support widgets.\n",
       "</p>\n"
      ],
      "text/plain": [
       "HBox(children=(IntProgress(value=0, max=4658), HTML(value='')))"
      ]
     },
     "metadata": {},
     "output_type": "display_data"
    },
    {
     "name": "stdout",
     "output_type": "stream",
     "text": [
      "\n",
      "2018-01-15 11:13:16,208 | INFO : Saving checkpoint 01m_15d_11h_13m_16s.pt\n"
     ]
    },
    {
     "data": {
      "application/vnd.jupyter.widget-view+json": {
       "model_id": "7ea3f5725f4343028b6164b22468e776",
       "version_major": 2,
       "version_minor": 0
      },
      "text/html": [
       "<p>Failed to display Jupyter Widget of type <code>HBox</code>.</p>\n",
       "<p>\n",
       "  If you're reading this message in the Jupyter Notebook or JupyterLab Notebook, it may mean\n",
       "  that the widgets JavaScript is still loading. If this message persists, it\n",
       "  likely means that the widgets JavaScript library is either not installed or\n",
       "  not enabled. See the <a href=\"https://ipywidgets.readthedocs.io/en/stable/user_install.html\">Jupyter\n",
       "  Widgets Documentation</a> for setup instructions.\n",
       "</p>\n",
       "<p>\n",
       "  If you're reading this message in another frontend (for example, a static\n",
       "  rendering on GitHub or <a href=\"https://nbviewer.jupyter.org/\">NBViewer</a>),\n",
       "  it may mean that your frontend doesn't currently support widgets.\n",
       "</p>\n"
      ],
      "text/plain": [
       "HBox(children=(IntProgress(value=0, max=84), HTML(value='')))"
      ]
     },
     "metadata": {},
     "output_type": "display_data"
    },
    {
     "name": "stdout",
     "output_type": "stream",
     "text": [
      "\n",
      "2018-01-15 11:13:16,823 | INFO : Random Sample:\n",
      "\n",
      "Positive Samples:\n",
      "                                         Source  \\\n",
      "0                   what neighborhood is in <e>   \n",
      "1         what type of media does <e> broadcast   \n",
      "2                      which industry is <e> in   \n",
      "3  which lyricist worked on the composition <e>   \n",
      "4    who is the artist from the album <e> <pad>   \n",
      "\n",
      "                                            Target  \\\n",
      "0  location/place_with_neighborhoods/neighborhoods   \n",
      "1                   broadcast/radio_station/format   \n",
      "2             business/business_operation/industry   \n",
      "3                       music/composition/lyricist   \n",
      "4                               music/album/artist   \n",
      "\n",
      "                                        Prediction  \n",
      "0  location/place_with_neighborhoods/neighborhoods  \n",
      "1                   broadcast/radio_station/format  \n",
      "2             business/business_operation/industry  \n",
      "3                       music/composition/lyricist  \n",
      "4                               music/album/artist  \n",
      "\n",
      "Negative Samples:\n",
      "                                              Source  \\\n",
      "0                           what is contained by <e>   \n",
      "1  which military commander was involved in the <...   \n",
      "2                 where in texas does <e> serve in ?   \n",
      "3               what kind of field of study is <e> ?   \n",
      "4                    what wine was produced in <e> ?   \n",
      "\n",
      "                                              Target  \\\n",
      "0                         location/location/contains   \n",
      "1           base/culturalevent/event/entity_involved   \n",
      "2                broadcast/radio_station/serves_area   \n",
      "3  education/field_of_study/journals_in_this_disc...   \n",
      "4                             wine/wine_region/wines   \n",
      "\n",
      "                                          Prediction  \n",
      "0                      location/location/containedby  \n",
      "1  military/military_conflict/military_personnel_...  \n",
      "2                   book/newspaper/circulation_areas  \n",
      "3                         common/topic/notable_types  \n",
      "4                         wine/wine_sub_region/wines  \n",
      "\n",
      "Loss: 1.130\n",
      "2018-01-15 11:13:16,885 | INFO : Accuracy: 0.7907588279489106 [8420 of 10648]\n",
      "2018-01-15 11:13:17,158 | INFO : Accuracy Top 3: 0.9193275732531931 [9789 of 10648]\n",
      "2018-01-15 11:13:17,437 | INFO : Accuracy Top 5: 0.943557475582269 [10047 of 10648]\n",
      "\n",
      "Epoch 46\n"
     ]
    },
    {
     "data": {
      "application/vnd.jupyter.widget-view+json": {
       "model_id": "42e711f3103046a98b2415e2eed35f74",
       "version_major": 2,
       "version_minor": 0
      },
      "text/html": [
       "<p>Failed to display Jupyter Widget of type <code>HBox</code>.</p>\n",
       "<p>\n",
       "  If you're reading this message in the Jupyter Notebook or JupyterLab Notebook, it may mean\n",
       "  that the widgets JavaScript is still loading. If this message persists, it\n",
       "  likely means that the widgets JavaScript library is either not installed or\n",
       "  not enabled. See the <a href=\"https://ipywidgets.readthedocs.io/en/stable/user_install.html\">Jupyter\n",
       "  Widgets Documentation</a> for setup instructions.\n",
       "</p>\n",
       "<p>\n",
       "  If you're reading this message in another frontend (for example, a static\n",
       "  rendering on GitHub or <a href=\"https://nbviewer.jupyter.org/\">NBViewer</a>),\n",
       "  it may mean that your frontend doesn't currently support widgets.\n",
       "</p>\n"
      ],
      "text/plain": [
       "HBox(children=(IntProgress(value=0, max=4658), HTML(value='')))"
      ]
     },
     "metadata": {},
     "output_type": "display_data"
    },
    {
     "name": "stdout",
     "output_type": "stream",
     "text": [
      "\n",
      "2018-01-15 11:13:41,035 | INFO : Saving checkpoint 01m_15d_11h_13m_41s.pt\n"
     ]
    },
    {
     "data": {
      "application/vnd.jupyter.widget-view+json": {
       "model_id": "11f299d6e9c1471291a0f4ea0a7a12de",
       "version_major": 2,
       "version_minor": 0
      },
      "text/html": [
       "<p>Failed to display Jupyter Widget of type <code>HBox</code>.</p>\n",
       "<p>\n",
       "  If you're reading this message in the Jupyter Notebook or JupyterLab Notebook, it may mean\n",
       "  that the widgets JavaScript is still loading. If this message persists, it\n",
       "  likely means that the widgets JavaScript library is either not installed or\n",
       "  not enabled. See the <a href=\"https://ipywidgets.readthedocs.io/en/stable/user_install.html\">Jupyter\n",
       "  Widgets Documentation</a> for setup instructions.\n",
       "</p>\n",
       "<p>\n",
       "  If you're reading this message in another frontend (for example, a static\n",
       "  rendering on GitHub or <a href=\"https://nbviewer.jupyter.org/\">NBViewer</a>),\n",
       "  it may mean that your frontend doesn't currently support widgets.\n",
       "</p>\n"
      ],
      "text/plain": [
       "HBox(children=(IntProgress(value=0, max=84), HTML(value='')))"
      ]
     },
     "metadata": {},
     "output_type": "display_data"
    },
    {
     "name": "stdout",
     "output_type": "stream",
     "text": [
      "\n",
      "2018-01-15 11:13:41,572 | INFO : Random Sample:\n",
      "\n",
      "Positive Samples:\n",
      "                                             Source  \\\n",
      "0                        which <e> was made in 1959   \n",
      "1  which films did <e> provide the cinematography ?   \n",
      "2           which language does <e> ( actor ) speak   \n",
      "3      what kind of film is <e> listed in netflix ?   \n",
      "4                     in which country is <e> found   \n",
      "\n",
      "                                      Target  \\\n",
      "0        film/film_genre/films_in_this_genre   \n",
      "1                  film/cinematographer/film   \n",
      "2                    people/person/languages   \n",
      "3  media_common/netflix_title/netflix_genres   \n",
      "4              location/location/containedby   \n",
      "\n",
      "                                  Prediction  \n",
      "0        film/film_genre/films_in_this_genre  \n",
      "1                  film/cinematographer/film  \n",
      "2                    people/person/languages  \n",
      "3  media_common/netflix_title/netflix_genres  \n",
      "4              location/location/containedby  \n",
      "\n",
      "Negative Samples:\n",
      "                                  Source  \\\n",
      "0                    what is a <e> title   \n",
      "1      what is <e> 's adminitrative type   \n",
      "2           what films did <e> work on ?   \n",
      "3               what 's an <e> from 1982   \n",
      "4  <e> mostly talks about what subject ?   \n",
      "\n",
      "                                              Target  \\\n",
      "0                    music/album_content_type/albums   \n",
      "1  base/aareas/schema/administrative_area/adminis...   \n",
      "2                        film/music_contributor/film   \n",
      "3                film/film_genre/films_in_this_genre   \n",
      "4                            broadcast/content/genre   \n",
      "\n",
      "                            Prediction  \n",
      "0  film/film_genre/films_in_this_genre  \n",
      "1  astronomy/celestial_object/category  \n",
      "2                     film/editor/film  \n",
      "3      music/album_release_type/albums  \n",
      "4           book/written_work/subjects  \n",
      "\n",
      "Loss: 1.141\n",
      "2018-01-15 11:13:41,634 | INFO : Accuracy: 0.7908527422990232 [8421 of 10648]\n",
      "2018-01-15 11:13:41,908 | INFO : Accuracy Top 3: 0.9178249436513899 [9773 of 10648]\n",
      "2018-01-15 11:13:42,184 | INFO : Accuracy Top 5: 0.9436513899323816 [10048 of 10648]\n",
      "\n",
      "Epoch 47\n"
     ]
    },
    {
     "data": {
      "application/vnd.jupyter.widget-view+json": {
       "model_id": "6ce54244ada94047ad433233bcb09fb1",
       "version_major": 2,
       "version_minor": 0
      },
      "text/html": [
       "<p>Failed to display Jupyter Widget of type <code>HBox</code>.</p>\n",
       "<p>\n",
       "  If you're reading this message in the Jupyter Notebook or JupyterLab Notebook, it may mean\n",
       "  that the widgets JavaScript is still loading. If this message persists, it\n",
       "  likely means that the widgets JavaScript library is either not installed or\n",
       "  not enabled. See the <a href=\"https://ipywidgets.readthedocs.io/en/stable/user_install.html\">Jupyter\n",
       "  Widgets Documentation</a> for setup instructions.\n",
       "</p>\n",
       "<p>\n",
       "  If you're reading this message in another frontend (for example, a static\n",
       "  rendering on GitHub or <a href=\"https://nbviewer.jupyter.org/\">NBViewer</a>),\n",
       "  it may mean that your frontend doesn't currently support widgets.\n",
       "</p>\n"
      ],
      "text/plain": [
       "HBox(children=(IntProgress(value=0, max=4658), HTML(value='')))"
      ]
     },
     "metadata": {},
     "output_type": "display_data"
    },
    {
     "name": "stdout",
     "output_type": "stream",
     "text": [
      "\n",
      "2018-01-15 11:14:05,742 | INFO : Saving checkpoint 01m_15d_11h_14m_05s.pt\n"
     ]
    },
    {
     "data": {
      "application/vnd.jupyter.widget-view+json": {
       "model_id": "edfafd53b834487f9af41646b4b1b06b",
       "version_major": 2,
       "version_minor": 0
      },
      "text/html": [
       "<p>Failed to display Jupyter Widget of type <code>HBox</code>.</p>\n",
       "<p>\n",
       "  If you're reading this message in the Jupyter Notebook or JupyterLab Notebook, it may mean\n",
       "  that the widgets JavaScript is still loading. If this message persists, it\n",
       "  likely means that the widgets JavaScript library is either not installed or\n",
       "  not enabled. See the <a href=\"https://ipywidgets.readthedocs.io/en/stable/user_install.html\">Jupyter\n",
       "  Widgets Documentation</a> for setup instructions.\n",
       "</p>\n",
       "<p>\n",
       "  If you're reading this message in another frontend (for example, a static\n",
       "  rendering on GitHub or <a href=\"https://nbviewer.jupyter.org/\">NBViewer</a>),\n",
       "  it may mean that your frontend doesn't currently support widgets.\n",
       "</p>\n"
      ],
      "text/plain": [
       "HBox(children=(IntProgress(value=0, max=84), HTML(value='')))"
      ]
     },
     "metadata": {},
     "output_type": "display_data"
    },
    {
     "name": "stdout",
     "output_type": "stream",
     "text": [
      "\n",
      "2018-01-15 11:14:06,357 | INFO : Random Sample:\n",
      "\n",
      "Positive Samples:\n",
      "                                              Source  \\\n",
      "0  which season of what show is the episode <e> from   \n",
      "1                     what asian country is <e> from   \n",
      "2                  what politic party supports <e> ?   \n",
      "3                       what is <e> 's nationality ?   \n",
      "4                  what is a place in colorado , <e>   \n",
      "\n",
      "                                            Target  \\\n",
      "0                      tv/tv_series_episode/season   \n",
      "1                        people/person/nationality   \n",
      "2  government/political_ideology/political_parties   \n",
      "3                        people/person/nationality   \n",
      "4                       location/location/contains   \n",
      "\n",
      "                                        Prediction  \n",
      "0                      tv/tv_series_episode/season  \n",
      "1                        people/person/nationality  \n",
      "2  government/political_ideology/political_parties  \n",
      "3                        people/person/nationality  \n",
      "4                       location/location/contains  \n",
      "\n",
      "Negative Samples:\n",
      "                           Source  \\\n",
      "0  what was a song written by <e>   \n",
      "1          where can you find <e>   \n",
      "2     what city is the <e> within   \n",
      "3      what kind of film is <e> ?   \n",
      "4                      name a <e>   \n",
      "\n",
      "                                              Target  \\\n",
      "0                        music/composer/compositions   \n",
      "1                                 common/topic/image   \n",
      "2  travel/tourist_attraction/near_travel_destination   \n",
      "3          media_common/netflix_title/netflix_genres   \n",
      "4              music/compositional_form/compositions   \n",
      "\n",
      "                                      Prediction  \n",
      "0                  music/lyricist/lyrics_written  \n",
      "1                  location/location/containedby  \n",
      "2                  location/location/containedby  \n",
      "3                                film/film/genre  \n",
      "4  people/profession/people_with_this_profession  \n",
      "\n",
      "Loss: 1.137\n",
      "2018-01-15 11:14:06,420 | INFO : Accuracy: 0.7882231404958677 [8393 of 10648]\n",
      "2018-01-15 11:14:06,687 | INFO : Accuracy Top 3: 0.916885800150263 [9763 of 10648]\n",
      "2018-01-15 11:14:06,957 | INFO : Accuracy Top 5: 0.9437453042824944 [10049 of 10648]\n",
      "\n",
      "Epoch 48\n"
     ]
    },
    {
     "data": {
      "application/vnd.jupyter.widget-view+json": {
       "model_id": "549b1649e15f438dbb88a208a45edadc",
       "version_major": 2,
       "version_minor": 0
      },
      "text/html": [
       "<p>Failed to display Jupyter Widget of type <code>HBox</code>.</p>\n",
       "<p>\n",
       "  If you're reading this message in the Jupyter Notebook or JupyterLab Notebook, it may mean\n",
       "  that the widgets JavaScript is still loading. If this message persists, it\n",
       "  likely means that the widgets JavaScript library is either not installed or\n",
       "  not enabled. See the <a href=\"https://ipywidgets.readthedocs.io/en/stable/user_install.html\">Jupyter\n",
       "  Widgets Documentation</a> for setup instructions.\n",
       "</p>\n",
       "<p>\n",
       "  If you're reading this message in another frontend (for example, a static\n",
       "  rendering on GitHub or <a href=\"https://nbviewer.jupyter.org/\">NBViewer</a>),\n",
       "  it may mean that your frontend doesn't currently support widgets.\n",
       "</p>\n"
      ],
      "text/plain": [
       "HBox(children=(IntProgress(value=0, max=4658), HTML(value='')))"
      ]
     },
     "metadata": {},
     "output_type": "display_data"
    },
    {
     "name": "stdout",
     "output_type": "stream",
     "text": [
      "\n",
      "2018-01-15 11:14:30,329 | INFO : Saving checkpoint 01m_15d_11h_14m_30s.pt\n"
     ]
    },
    {
     "data": {
      "application/vnd.jupyter.widget-view+json": {
       "model_id": "958bae4afc394f55a9f928409a443f89",
       "version_major": 2,
       "version_minor": 0
      },
      "text/html": [
       "<p>Failed to display Jupyter Widget of type <code>HBox</code>.</p>\n",
       "<p>\n",
       "  If you're reading this message in the Jupyter Notebook or JupyterLab Notebook, it may mean\n",
       "  that the widgets JavaScript is still loading. If this message persists, it\n",
       "  likely means that the widgets JavaScript library is either not installed or\n",
       "  not enabled. See the <a href=\"https://ipywidgets.readthedocs.io/en/stable/user_install.html\">Jupyter\n",
       "  Widgets Documentation</a> for setup instructions.\n",
       "</p>\n",
       "<p>\n",
       "  If you're reading this message in another frontend (for example, a static\n",
       "  rendering on GitHub or <a href=\"https://nbviewer.jupyter.org/\">NBViewer</a>),\n",
       "  it may mean that your frontend doesn't currently support widgets.\n",
       "</p>\n"
      ],
      "text/plain": [
       "HBox(children=(IntProgress(value=0, max=84), HTML(value='')))"
      ]
     },
     "metadata": {},
     "output_type": "display_data"
    },
    {
     "name": "stdout",
     "output_type": "stream",
     "text": [
      "\n",
      "2018-01-15 11:14:30,862 | INFO : Random Sample:\n",
      "\n",
      "Positive Samples:\n",
      "                                 Source                      Target  \\\n",
      "0             what film did <e> produce          film/producer/film   \n",
      "1    what artist produced the album <e>          music/album/artist   \n",
      "2           what is the gender of <e> ?        people/person/gender   \n",
      "3                           what is <e>  common/topic/notable_types   \n",
      "4  which country is <e> originally from   people/person/nationality   \n",
      "\n",
      "                   Prediction  \n",
      "0          film/producer/film  \n",
      "1          music/album/artist  \n",
      "2        people/person/gender  \n",
      "3  common/topic/notable_types  \n",
      "4   people/person/nationality  \n",
      "\n",
      "Negative Samples:\n",
      "                                           Source  \\\n",
      "0                         what language is <e> in   \n",
      "1  <e> is considered a part of what genre ? <pad>   \n",
      "2                         where play <e> 's music   \n",
      "3                        which group released <e>   \n",
      "4                 what is a song written by <e> ?   \n",
      "\n",
      "                        Target                     Prediction  \n",
      "0      tv/tv_program/languages             film/film/language  \n",
      "1              film/film/genre              music/album/genre  \n",
      "2     broadcast/artist/content            music/genre/artists  \n",
      "3    music/record_label/artist             music/album/artist  \n",
      "4  music/composer/compositions  music/lyricist/lyrics_written  \n",
      "\n",
      "Loss: 1.151\n",
      "2018-01-15 11:14:30,923 | INFO : Accuracy: 0.7894440270473329 [8406 of 10648]\n",
      "2018-01-15 11:14:31,196 | INFO : Accuracy Top 3: 0.9174492862509391 [9769 of 10648]\n",
      "2018-01-15 11:14:31,474 | INFO : Accuracy Top 5: 0.9429939894815927 [10041 of 10648]\n",
      "\n",
      "Epoch 49\n"
     ]
    },
    {
     "data": {
      "application/vnd.jupyter.widget-view+json": {
       "model_id": "e8847e36f5474cf8a23409f9d0fb9fac",
       "version_major": 2,
       "version_minor": 0
      },
      "text/html": [
       "<p>Failed to display Jupyter Widget of type <code>HBox</code>.</p>\n",
       "<p>\n",
       "  If you're reading this message in the Jupyter Notebook or JupyterLab Notebook, it may mean\n",
       "  that the widgets JavaScript is still loading. If this message persists, it\n",
       "  likely means that the widgets JavaScript library is either not installed or\n",
       "  not enabled. See the <a href=\"https://ipywidgets.readthedocs.io/en/stable/user_install.html\">Jupyter\n",
       "  Widgets Documentation</a> for setup instructions.\n",
       "</p>\n",
       "<p>\n",
       "  If you're reading this message in another frontend (for example, a static\n",
       "  rendering on GitHub or <a href=\"https://nbviewer.jupyter.org/\">NBViewer</a>),\n",
       "  it may mean that your frontend doesn't currently support widgets.\n",
       "</p>\n"
      ],
      "text/plain": [
       "HBox(children=(IntProgress(value=0, max=4658), HTML(value='')))"
      ]
     },
     "metadata": {},
     "output_type": "display_data"
    },
    {
     "name": "stdout",
     "output_type": "stream",
     "text": [
      "\n",
      "2018-01-15 11:14:55,104 | INFO : Saving checkpoint 01m_15d_11h_14m_55s.pt\n"
     ]
    },
    {
     "data": {
      "application/vnd.jupyter.widget-view+json": {
       "model_id": "91472a2cc0a04d1d82e978931e26c7a9",
       "version_major": 2,
       "version_minor": 0
      },
      "text/html": [
       "<p>Failed to display Jupyter Widget of type <code>HBox</code>.</p>\n",
       "<p>\n",
       "  If you're reading this message in the Jupyter Notebook or JupyterLab Notebook, it may mean\n",
       "  that the widgets JavaScript is still loading. If this message persists, it\n",
       "  likely means that the widgets JavaScript library is either not installed or\n",
       "  not enabled. See the <a href=\"https://ipywidgets.readthedocs.io/en/stable/user_install.html\">Jupyter\n",
       "  Widgets Documentation</a> for setup instructions.\n",
       "</p>\n",
       "<p>\n",
       "  If you're reading this message in another frontend (for example, a static\n",
       "  rendering on GitHub or <a href=\"https://nbviewer.jupyter.org/\">NBViewer</a>),\n",
       "  it may mean that your frontend doesn't currently support widgets.\n",
       "</p>\n"
      ],
      "text/plain": [
       "HBox(children=(IntProgress(value=0, max=84), HTML(value='')))"
      ]
     },
     "metadata": {},
     "output_type": "display_data"
    },
    {
     "name": "stdout",
     "output_type": "stream",
     "text": [
      "\n",
      "2018-01-15 11:14:55,634 | INFO : Random Sample:\n",
      "\n",
      "Positive Samples:\n",
      "                                           Source  \\\n",
      "0  who uploaded the content about <e> to freebase   \n",
      "1                  what was involved in the <e> ?   \n",
      "2               which country was <e> released in   \n",
      "3         what is a musician that plays <e> music   \n",
      "4               what language was in the film <e>   \n",
      "\n",
      "                                     Target  \\\n",
      "0                  type/content/uploaded_by   \n",
      "1  base/culturalevent/event/entity_involved   \n",
      "2                      music/release/region   \n",
      "3                       music/genre/artists   \n",
      "4                        film/film/language   \n",
      "\n",
      "                                 Prediction  \n",
      "0                  type/content/uploaded_by  \n",
      "1  base/culturalevent/event/entity_involved  \n",
      "2                      music/release/region  \n",
      "3                       music/genre/artists  \n",
      "4                        film/film/language  \n",
      "\n",
      "Negative Samples:\n",
      "                                              Source  \\\n",
      "0          what area does <e> radio station play for   \n",
      "1                                 where was <e> in ?   \n",
      "2             where can i find information about <e>   \n",
      "3  in which community does the <e> confluence wit...   \n",
      "4                  in what format was <e> released ?   \n",
      "\n",
      "                                Target                       Prediction  \n",
      "0  broadcast/radio_station/serves_area  broadcast/broadcast/area_served  \n",
      "1         people/person/place_of_birth    location/location/containedby  \n",
      "2           common/topic/notable_types       book/written_work/subjects  \n",
      "3               geography/river/cities       location/location/contains  \n",
      "4             music/album/release_type             music/release/format  \n",
      "\n",
      "Loss: 1.169\n",
      "2018-01-15 11:14:55,695 | INFO : Accuracy: 0.7881292261457551 [8392 of 10648]\n",
      "2018-01-15 11:14:55,969 | INFO : Accuracy Top 3: 0.9182945154019534 [9778 of 10648]\n",
      "2018-01-15 11:14:56,247 | INFO : Accuracy Top 5: 0.9430879038317055 [10042 of 10648]\n",
      "\n"
     ]
    }
   ],
   "source": [
    "from tqdm import tqdm_notebook\n",
    "\n",
    "from torch.utils.data import DataLoader\n",
    "from functools import partial\n",
    "\n",
    "from lib.metrics import get_accuracy\n",
    "from lib.metrics import get_accuracy_top_k\n",
    "from lib.metrics import print_random_sample\n",
    "from lib.checkpoint import Checkpoint\n",
    "\n",
    "# TODO: Try to concat multiple templated questions together and do a multi label classifier.\n",
    "\n",
    "\n",
    "# Train!\n",
    "for epoch in range(epochs):\n",
    "    print('Epoch %d' % epoch)\n",
    "    \n",
    "    # Iterate over the training data\n",
    "    model.train(mode=True)\n",
    "    train_iterator = get_train_iterator()\n",
    "    for text, text_lengths, relation in tqdm_notebook(train_iterator):\n",
    "        optimizer.zero_grad()\n",
    "        relation = cuda_async(relation)\n",
    "        output = model(cuda_async(text), cuda_async(text_lengths))\n",
    "        loss = criterion(output, relation)\n",
    "\n",
    "        # Backward propagation\n",
    "        loss.backward()\n",
    "        optimizer.step()\n",
    "\n",
    "    # Save checkpoint\n",
    "    Checkpoint.save(\n",
    "        log_directory,\n",
    "        {\n",
    "            'model': model,\n",
    "            'optimizer': optimizer,\n",
    "            'relation_encoder': relation_encoder,\n",
    "            'text_encoder': text_encoder\n",
    "        },\n",
    "        device=device)\n",
    "\n",
    "    # Evaluate\n",
    "    model.train(mode=False)\n",
    "    texts, relations, outputs = [], [], []\n",
    "    total_loss = 0\n",
    "    dev_iterator = get_dev_iterator()\n",
    "    for text, text_lengths, relation in tqdm_notebook(dev_iterator):\n",
    "        relation = cuda_async(relation)\n",
    "        output = model(cuda_async(text), cuda_async(text_lengths))\n",
    "        \n",
    "        # Compute metrics\n",
    "        total_loss += criterion(output, relation).data[0] * relation.size()[0]\n",
    "        # Prevent memory leak by moving output from variable to tensor\n",
    "        texts.extend(text.data.cpu().transpose(0, 1).split(split_size=1, dim=0))\n",
    "        relations.extend(relation.data.cpu().split(split_size=1, dim=0))\n",
    "        outputs.extend(output.data.cpu().split(split_size=1, dim=0))\n",
    "\n",
    "    # Print metrics\n",
    "    optimizer.update(total_loss / len(dev_dataset), epoch)\n",
    "    print_random_sample(texts, relations, outputs, text_encoder, relation_encoder, n_samples=5)\n",
    "    print('Loss: %.03f' % (total_loss / len(dev_dataset)))\n",
    "    get_accuracy(relations, outputs, print_=True) # TODO: These should be the same function\n",
    "    get_accuracy_top_k(relations, outputs, k=3, print_=True)\n",
    "    get_accuracy_top_k(relations, outputs, k=5, print_=True)\n",
    "    print()"
   ]
  }
 ],
 "metadata": {
  "kernelspec": {
   "display_name": "Python 3",
   "language": "python",
   "name": "python3"
  },
  "language_info": {
   "codemirror_mode": {
    "name": "ipython",
    "version": 3
   },
   "file_extension": ".py",
   "mimetype": "text/x-python",
   "name": "python",
   "nbconvert_exporter": "python",
   "pygments_lexer": "ipython3",
   "version": "3.6.4"
  }
 },
 "nbformat": 4,
 "nbformat_minor": 2
}
