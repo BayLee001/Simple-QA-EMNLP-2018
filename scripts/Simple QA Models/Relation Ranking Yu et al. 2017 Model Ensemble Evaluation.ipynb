{
 "cells": [
  {
   "cell_type": "markdown",
   "metadata": {},
   "source": [
    "# Relation Ranking Yu et al. 2017 Model Ensemble Evaluation\n",
    "\n",
    "Here we evaluate an ensemble strategy with the same ordering as Step 3 in our end to end process."
   ]
  },
  {
   "cell_type": "code",
   "execution_count": 1,
   "metadata": {},
   "outputs": [
    {
     "name": "stdout",
     "output_type": "stream",
     "text": [
      "Python Version: 3.6.4 (default, Dec 19 2017, 17:29:45) \n",
      "[GCC 5.4.0 20160609]\n"
     ]
    }
   ],
   "source": [
    "import sys\n",
    "print('Python Version:', sys.version)\n",
    "import pandas as pd\n",
    "import logging\n",
    "sys.path.insert(0, '../../')\n",
    "\n",
    "from lib.utils import setup_training\n",
    "logging.basicConfig(format='%(asctime)s | %(levelname)s : %(message)s',\n",
    "                     level=logging.INFO, stream=sys.stdout)\n"
   ]
  },
  {
   "cell_type": "code",
   "execution_count": 16,
   "metadata": {},
   "outputs": [
    {
     "name": "stdout",
     "output_type": "stream",
     "text": [
      "Ensemble: ['logs/6885.01-29_15:03:41.yu_relation_model/01m_29d_16h_43m_01s.pt', 'logs/6223.01-29_13:18:52.yu_relation_model/01m_29d_15h_00m_22s.pt', 'logs/yu_relation_model.01-29_17:00:01/7196.pt', 'logs/yu_relation_model.01-29_17:00:01/1308.pt']\n"
     ]
    },
    {
     "data": {
      "text/html": [
       "<div>\n",
       "<style scoped>\n",
       "    .dataframe tbody tr th:only-of-type {\n",
       "        vertical-align: middle;\n",
       "    }\n",
       "\n",
       "    .dataframe tbody tr th {\n",
       "        vertical-align: top;\n",
       "    }\n",
       "\n",
       "    .dataframe thead th {\n",
       "        text-align: right;\n",
       "    }\n",
       "</style>\n",
       "<table border=\"1\" class=\"dataframe\">\n",
       "  <thead>\n",
       "    <tr style=\"text-align: right;\">\n",
       "      <th></th>\n",
       "      <th>True Relation</th>\n",
       "      <th>Relation Pool</th>\n",
       "      <th>Question</th>\n",
       "      <th>Entity</th>\n",
       "    </tr>\n",
       "  </thead>\n",
       "  <tbody>\n",
       "    <tr>\n",
       "      <th>0</th>\n",
       "      <td>biology/organism_classification/organisms_of_t...</td>\n",
       "      <td>dining/cuisine/ingredients dataworld/gardening...</td>\n",
       "      <td>name an &lt;e&gt; thoroughbread racehorse</td>\n",
       "      <td>american</td>\n",
       "    </tr>\n",
       "    <tr>\n",
       "      <th>1</th>\n",
       "      <td>cvg/computer_videogame/cvg_genre</td>\n",
       "      <td>cvg/computer_videogame/cvg_genre cvg/computer_...</td>\n",
       "      <td>what kind of game is &lt;e&gt; ?</td>\n",
       "      <td>vision racing driving simulator</td>\n",
       "    </tr>\n",
       "    <tr>\n",
       "      <th>2</th>\n",
       "      <td>tv/tv_genre/programs</td>\n",
       "      <td>media_common/media_genre/child_genres film/fil...</td>\n",
       "      <td>what tv program is &lt;e&gt;</td>\n",
       "      <td>romance film</td>\n",
       "    </tr>\n",
       "    <tr>\n",
       "      <th>3</th>\n",
       "      <td>location/location/containedby</td>\n",
       "      <td>location/location/containedby</td>\n",
       "      <td>what state is &lt;e&gt; located in</td>\n",
       "      <td>polaski</td>\n",
       "    </tr>\n",
       "    <tr>\n",
       "      <th>4</th>\n",
       "      <td>people/deceased_person/cause_of_death</td>\n",
       "      <td>people/deceased_person/cause_of_death people/p...</td>\n",
       "      <td>what disease claimed the life of &lt;e&gt;</td>\n",
       "      <td>fern emmett</td>\n",
       "    </tr>\n",
       "  </tbody>\n",
       "</table>\n",
       "</div>"
      ],
      "text/plain": [
       "                                       True Relation  \\\n",
       "0  biology/organism_classification/organisms_of_t...   \n",
       "1                   cvg/computer_videogame/cvg_genre   \n",
       "2                               tv/tv_genre/programs   \n",
       "3                      location/location/containedby   \n",
       "4              people/deceased_person/cause_of_death   \n",
       "\n",
       "                                       Relation Pool  \\\n",
       "0  dining/cuisine/ingredients dataworld/gardening...   \n",
       "1  cvg/computer_videogame/cvg_genre cvg/computer_...   \n",
       "2  media_common/media_genre/child_genres film/fil...   \n",
       "3                      location/location/containedby   \n",
       "4  people/deceased_person/cause_of_death people/p...   \n",
       "\n",
       "                                Question                           Entity  \n",
       "0   name an <e> thoroughbread racehorse                          american  \n",
       "1            what kind of game is <e> ?   vision racing driving simulator  \n",
       "2                what tv program is <e>                      romance film  \n",
       "3          what state is <e> located in                           polaski  \n",
       "4  what disease claimed the life of <e>                       fern emmett  "
      ]
     },
     "execution_count": 16,
     "metadata": {},
     "output_type": "execute_result"
    }
   ],
   "source": [
    "import pandas as pd\n",
    "\n",
    "df = pd.read_table(\n",
    "    '../../data/relation_ranking/dev.txt',\n",
    "    header=None,\n",
    "    names=['True Relation', 'Relation Pool', 'Question', 'Entity'])\n",
    "\n",
    "ensemble = [\n",
    "    'logs/6885.01-29_15:03:41.yu_relation_model/01m_29d_16h_43m_01s.pt', # 88.39\n",
    "    'logs/6223.01-29_13:18:52.yu_relation_model/01m_29d_15h_00m_22s.pt', # 88.2\n",
    "    'logs/yu_relation_model.01-29_17:00:01/7196.pt', # 88.4\n",
    "    'logs/yu_relation_model.01-29_17:00:01/1308.pt' # 0.870018\n",
    "]\n",
    "print('Ensemble:', ensemble)\n",
    "df[:5]"
   ]
  },
  {
   "cell_type": "code",
   "execution_count": 17,
   "metadata": {},
   "outputs": [],
   "source": [
    "import torch\n",
    "from torch.autograd import Variable\n",
    "from lib.utils import pad_batch\n",
    "import re\n",
    "\n",
    "cuda = lambda t: t.cuda(device=0) if torch.cuda.is_available() else t\n",
    "to_variable = lambda b: cuda(Variable(torch.stack(b).t_().contiguous(), volatile=True))\n",
    "\n",
    "def get_relation_scores(checkpoint, question, relations):\n",
    "    # Get scores for relations given a question\n",
    "    questions = [question for _ in range(len(relations))]\n",
    "    questions_encoded, _ = pad_batch([checkpoint.text_encoder.encode(q) for q in questions])\n",
    "    relations_encoded, _ = pad_batch([checkpoint.relation_encoder.encode(r) for r in relations])\n",
    "    relations_word_encoded, _ = pad_batch(\n",
    "        [checkpoint.relation_word_encoder.encode(r) for r in relations])\n",
    "\n",
    "    questions_encoded = to_variable(questions_encoded)\n",
    "    relations_encoded = to_variable(relations_encoded)\n",
    "    relations_word_encoded = to_variable(relations_word_encoded)\n",
    "\n",
    "    output = checkpoint.model(questions_encoded, relations_encoded, relations_word_encoded)\n",
    "    ret = output.data.cpu().tolist()\n",
    "    output = None\n",
    "    questions_encoded = None\n",
    "    relations_encoded = None\n",
    "    relations_word_encoded = None\n",
    "    return ret"
   ]
  },
  {
   "cell_type": "code",
   "execution_count": 18,
   "metadata": {},
   "outputs": [],
   "source": [
    "from lib.checkpoint import Checkpoint\n",
    "\n",
    "def load_checkpoint_path(path):\n",
    "    checkpoint = Checkpoint(path)\n",
    "    cuda(checkpoint.model)\n",
    "    checkpoint.model.relation_word_rnn.flatten_parameters()\n",
    "    checkpoint.model.text_rnn_layer_one.flatten_parameters()\n",
    "    checkpoint.model.text_rnn_layer_two.flatten_parameters()\n",
    "    checkpoint.model.relation_rnn.flatten_parameters()\n",
    "    return checkpoint"
   ]
  },
  {
   "cell_type": "markdown",
   "metadata": {},
   "source": [
    "## Score Relations Given Question \n",
    "\n",
    "Save the score every model in the ensemble gives each relation given the question."
   ]
  },
  {
   "cell_type": "code",
   "execution_count": 19,
   "metadata": {},
   "outputs": [
    {
     "name": "stdout",
     "output_type": "stream",
     "text": [
      "Model Path logs/6885.01-29_15:03:41.yu_relation_model/01m_29d_16h_43m_01s.pt\n",
      "2018-01-29 22:40:11,728 | INFO : Loading checkpoints from logs/6885.01-29_15:03:41.yu_relation_model/01m_29d_16h_43m_01s.pt onto device 0\n"
     ]
    },
    {
     "data": {
      "application/vnd.jupyter.widget-view+json": {
       "model_id": "95c18f156d6e42e9a9c01475c8b6cfd6",
       "version_major": 2,
       "version_minor": 0
      },
      "text/html": [
       "<p>Failed to display Jupyter Widget of type <code>HBox</code>.</p>\n",
       "<p>\n",
       "  If you're reading this message in the Jupyter Notebook or JupyterLab Notebook, it may mean\n",
       "  that the widgets JavaScript is still loading. If this message persists, it\n",
       "  likely means that the widgets JavaScript library is either not installed or\n",
       "  not enabled. See the <a href=\"https://ipywidgets.readthedocs.io/en/stable/user_install.html\">Jupyter\n",
       "  Widgets Documentation</a> for setup instructions.\n",
       "</p>\n",
       "<p>\n",
       "  If you're reading this message in another frontend (for example, a static\n",
       "  rendering on GitHub or <a href=\"https://nbviewer.jupyter.org/\">NBViewer</a>),\n",
       "  it may mean that your frontend doesn't currently support widgets.\n",
       "</p>\n"
      ],
      "text/plain": [
       "HBox(children=(IntProgress(value=0, max=10840), HTML(value='')))"
      ]
     },
     "metadata": {},
     "output_type": "display_data"
    },
    {
     "name": "stdout",
     "output_type": "stream",
     "text": [
      "\n",
      "[logs/6885.01-29_15:03:41.yu_relation_model/01m_29d_16h_43m_01s.pt] Relation Accuracy: 0.876107 [9497 of 10840]\n",
      "Model Path logs/6223.01-29_13:18:52.yu_relation_model/01m_29d_15h_00m_22s.pt\n",
      "2018-01-29 22:41:02,995 | INFO : Loading checkpoints from logs/6223.01-29_13:18:52.yu_relation_model/01m_29d_15h_00m_22s.pt onto device 0\n"
     ]
    },
    {
     "data": {
      "application/vnd.jupyter.widget-view+json": {
       "model_id": "3077ca7c491f4e429cd72e5fdc4da313",
       "version_major": 2,
       "version_minor": 0
      },
      "text/html": [
       "<p>Failed to display Jupyter Widget of type <code>HBox</code>.</p>\n",
       "<p>\n",
       "  If you're reading this message in the Jupyter Notebook or JupyterLab Notebook, it may mean\n",
       "  that the widgets JavaScript is still loading. If this message persists, it\n",
       "  likely means that the widgets JavaScript library is either not installed or\n",
       "  not enabled. See the <a href=\"https://ipywidgets.readthedocs.io/en/stable/user_install.html\">Jupyter\n",
       "  Widgets Documentation</a> for setup instructions.\n",
       "</p>\n",
       "<p>\n",
       "  If you're reading this message in another frontend (for example, a static\n",
       "  rendering on GitHub or <a href=\"https://nbviewer.jupyter.org/\">NBViewer</a>),\n",
       "  it may mean that your frontend doesn't currently support widgets.\n",
       "</p>\n"
      ],
      "text/plain": [
       "HBox(children=(IntProgress(value=0, max=10840), HTML(value='')))"
      ]
     },
     "metadata": {},
     "output_type": "display_data"
    },
    {
     "name": "stdout",
     "output_type": "stream",
     "text": [
      "\n",
      "[logs/6223.01-29_13:18:52.yu_relation_model/01m_29d_15h_00m_22s.pt] Relation Accuracy: 0.880351 [9543 of 10840]\n",
      "Model Path logs/yu_relation_model.01-29_17:00:01/7196.pt\n",
      "2018-01-29 22:41:53,928 | INFO : Loading checkpoints from logs/yu_relation_model.01-29_17:00:01/7196.pt onto device 0\n"
     ]
    },
    {
     "data": {
      "application/vnd.jupyter.widget-view+json": {
       "model_id": "f6b0c3fb73ca4b28a0fb998e47003380",
       "version_major": 2,
       "version_minor": 0
      },
      "text/html": [
       "<p>Failed to display Jupyter Widget of type <code>HBox</code>.</p>\n",
       "<p>\n",
       "  If you're reading this message in the Jupyter Notebook or JupyterLab Notebook, it may mean\n",
       "  that the widgets JavaScript is still loading. If this message persists, it\n",
       "  likely means that the widgets JavaScript library is either not installed or\n",
       "  not enabled. See the <a href=\"https://ipywidgets.readthedocs.io/en/stable/user_install.html\">Jupyter\n",
       "  Widgets Documentation</a> for setup instructions.\n",
       "</p>\n",
       "<p>\n",
       "  If you're reading this message in another frontend (for example, a static\n",
       "  rendering on GitHub or <a href=\"https://nbviewer.jupyter.org/\">NBViewer</a>),\n",
       "  it may mean that your frontend doesn't currently support widgets.\n",
       "</p>\n"
      ],
      "text/plain": [
       "HBox(children=(IntProgress(value=0, max=10840), HTML(value='')))"
      ]
     },
     "metadata": {},
     "output_type": "display_data"
    },
    {
     "name": "stdout",
     "output_type": "stream",
     "text": [
      "\n",
      "[logs/yu_relation_model.01-29_17:00:01/7196.pt] Relation Accuracy: 0.881458 [9555 of 10840]\n",
      "Model Path logs/yu_relation_model.01-29_17:00:01/1308.pt\n",
      "2018-01-29 22:42:48,277 | INFO : Loading checkpoints from logs/yu_relation_model.01-29_17:00:01/1308.pt onto device 0\n"
     ]
    },
    {
     "data": {
      "application/vnd.jupyter.widget-view+json": {
       "model_id": "4e3b4f7ba0f24aca93d634899c448fd7",
       "version_major": 2,
       "version_minor": 0
      },
      "text/html": [
       "<p>Failed to display Jupyter Widget of type <code>HBox</code>.</p>\n",
       "<p>\n",
       "  If you're reading this message in the Jupyter Notebook or JupyterLab Notebook, it may mean\n",
       "  that the widgets JavaScript is still loading. If this message persists, it\n",
       "  likely means that the widgets JavaScript library is either not installed or\n",
       "  not enabled. See the <a href=\"https://ipywidgets.readthedocs.io/en/stable/user_install.html\">Jupyter\n",
       "  Widgets Documentation</a> for setup instructions.\n",
       "</p>\n",
       "<p>\n",
       "  If you're reading this message in another frontend (for example, a static\n",
       "  rendering on GitHub or <a href=\"https://nbviewer.jupyter.org/\">NBViewer</a>),\n",
       "  it may mean that your frontend doesn't currently support widgets.\n",
       "</p>\n"
      ],
      "text/plain": [
       "HBox(children=(IntProgress(value=0, max=10840), HTML(value='')))"
      ]
     },
     "metadata": {},
     "output_type": "display_data"
    },
    {
     "name": "stdout",
     "output_type": "stream",
     "text": [
      "\n",
      "[logs/yu_relation_model.01-29_17:00:01/1308.pt] Relation Accuracy: 0.870756 [9439 of 10840]\n"
     ]
    }
   ],
   "source": [
    "from tqdm import tqdm_notebook\n",
    "import pandas as pd\n",
    "import random\n",
    "\n",
    "scores = [[] for _ in range(df.shape[0])]\n",
    "for model_path in ensemble:\n",
    "    print('Model Path', model_path)\n",
    "    checkpoint = load_checkpoint_path(model_path)\n",
    "    \n",
    "    relation_correct = 0\n",
    "    for i, (_, row) in tqdm_notebook(enumerate(df.iterrows()), total=df.shape[0]):\n",
    "        candidate_relations = set(row['Relation Pool'].split())\n",
    "        question = row['Question'].strip()\n",
    "        scores[i].append(get_relation_scores(checkpoint, question, candidate_relations))\n",
    "        \n",
    "        max_score = max(scores[i][-1])\n",
    "        top_relations = [r for j, r in enumerate(candidate_relations) if scores[i][-1][j] == max_score]\n",
    "        predicted_relation = random.choice(top_relations)\n",
    "        if predicted_relation == row['True Relation']:\n",
    "            relation_correct += 1\n",
    "\n",
    "    print('Relation Accuracy: %f [%d of %d]' % (relation_correct / df.shape[0],\n",
    "                                                     relation_correct, df.shape[0]))\n",
    "    checkpoint = None\n",
    "    torch.cuda.empty_cache()\n",
    "    print('------------------------------------------------------------------------------')"
   ]
  },
  {
   "cell_type": "markdown",
   "metadata": {},
   "source": [
    "## Ensemble Stratigies\n",
    "\n",
    "Test different strategies for combining the models. \n",
    "\n",
    "### Ensemble Version: Sum Scores\n",
    "\n",
    "Just sum the scores..."
   ]
  },
  {
   "cell_type": "code",
   "execution_count": 20,
   "metadata": {},
   "outputs": [
    {
     "data": {
      "application/vnd.jupyter.widget-view+json": {
       "model_id": "3851d7769665474dbd314a2e48e7a5a6",
       "version_major": 2,
       "version_minor": 0
      },
      "text/html": [
       "<p>Failed to display Jupyter Widget of type <code>HBox</code>.</p>\n",
       "<p>\n",
       "  If you're reading this message in the Jupyter Notebook or JupyterLab Notebook, it may mean\n",
       "  that the widgets JavaScript is still loading. If this message persists, it\n",
       "  likely means that the widgets JavaScript library is either not installed or\n",
       "  not enabled. See the <a href=\"https://ipywidgets.readthedocs.io/en/stable/user_install.html\">Jupyter\n",
       "  Widgets Documentation</a> for setup instructions.\n",
       "</p>\n",
       "<p>\n",
       "  If you're reading this message in another frontend (for example, a static\n",
       "  rendering on GitHub or <a href=\"https://nbviewer.jupyter.org/\">NBViewer</a>),\n",
       "  it may mean that your frontend doesn't currently support widgets.\n",
       "</p>\n"
      ],
      "text/plain": [
       "HBox(children=(IntProgress(value=0, max=10840), HTML(value='')))"
      ]
     },
     "metadata": {},
     "output_type": "display_data"
    },
    {
     "name": "stdout",
     "output_type": "stream",
     "text": [
      "\n",
      "Ensemble Relation Accuracy: 0.883303 [9575 of 10840]\n"
     ]
    }
   ],
   "source": [
    "# Ensemble Relation Accuracy: 0.883303 [9575 of 10840]\n",
    "\n",
    "from tqdm import tqdm_notebook\n",
    "\n",
    "relation_correct = 0\n",
    "\n",
    "for i, (_, row) in tqdm_notebook(enumerate(df.iterrows()), total=df.shape[0]):\n",
    "    sum_scores = [0] * len(scores[i][0])\n",
    "    for j in range(len(scores[i])):\n",
    "        for k in range(len(scores[i][j])):\n",
    "            sum_scores[k] += scores[i][j][k]\n",
    "\n",
    "    candidate_relations = set(row['Relation Pool'].split())\n",
    "    max_score = max(sum_scores)\n",
    "    top_relations = [relation for i, relation in enumerate(candidate_relations) if sum_scores[i] == max_score]\n",
    "    predicted_relation = random.choice(top_relations)\n",
    "\n",
    "    if predicted_relation == row['True Relation']:\n",
    "        relation_correct += 1\n",
    "\n",
    "print('Ensemble Relation Accuracy: %f [%d of %d]' % (relation_correct / df.shape[0],\n",
    "                                                     relation_correct, df.shape[0]))"
   ]
  },
  {
   "cell_type": "markdown",
   "metadata": {},
   "source": [
    "### Ensemble Version: Sum Rank\n",
    "\n",
    "Figure out how each model ranked each relation and sum the rankings."
   ]
  },
  {
   "cell_type": "code",
   "execution_count": 21,
   "metadata": {},
   "outputs": [
    {
     "data": {
      "application/vnd.jupyter.widget-view+json": {
       "model_id": "cf638ef54c894ea085567b0c1f61d6c7",
       "version_major": 2,
       "version_minor": 0
      },
      "text/html": [
       "<p>Failed to display Jupyter Widget of type <code>HBox</code>.</p>\n",
       "<p>\n",
       "  If you're reading this message in the Jupyter Notebook or JupyterLab Notebook, it may mean\n",
       "  that the widgets JavaScript is still loading. If this message persists, it\n",
       "  likely means that the widgets JavaScript library is either not installed or\n",
       "  not enabled. See the <a href=\"https://ipywidgets.readthedocs.io/en/stable/user_install.html\">Jupyter\n",
       "  Widgets Documentation</a> for setup instructions.\n",
       "</p>\n",
       "<p>\n",
       "  If you're reading this message in another frontend (for example, a static\n",
       "  rendering on GitHub or <a href=\"https://nbviewer.jupyter.org/\">NBViewer</a>),\n",
       "  it may mean that your frontend doesn't currently support widgets.\n",
       "</p>\n"
      ],
      "text/plain": [
       "HBox(children=(IntProgress(value=0, max=10840), HTML(value='')))"
      ]
     },
     "metadata": {},
     "output_type": "display_data"
    },
    {
     "name": "stdout",
     "output_type": "stream",
     "text": [
      "\n",
      "Ensemble Relation Accuracy: 0.880812 [9548 of 10840]\n"
     ]
    }
   ],
   "source": [
    "from tqdm import tqdm_notebook\n",
    "\n",
    "relation_correct = 0\n",
    "\n",
    "for i, (_, row) in tqdm_notebook(enumerate(df.iterrows()), total=df.shape[0]):\n",
    "    candidate_relations = set(row['Relation Pool'].split())\n",
    "    sum_scores = [0] * len(scores[i][0])\n",
    "    for j in range(len(scores[i])):\n",
    "        normalized_scores = [(i, score) for i, score in enumerate(scores[i][j])]\n",
    "        normalized_scores = sorted(normalized_scores, key=lambda k: k[1], reverse=True)\n",
    "        normalized_scores = [(i, rank) for rank, (i, score) in enumerate(normalized_scores)]\n",
    "        normalized_scores = sorted(normalized_scores, key=lambda k: k[0])\n",
    "        normalized_scores = [rank for (i, rank) in normalized_scores]\n",
    "        for k in range(len(scores[i][j])):\n",
    "            sum_scores[k] += normalized_scores[k]\n",
    "\n",
    "    min_score = min(sum_scores)\n",
    "    top_relations = [relation for i, relation in enumerate(candidate_relations) if sum_scores[i] == min_score]\n",
    "    predicted_relation = random.choice(top_relations)\n",
    "\n",
    "    if predicted_relation == row['True Relation']:\n",
    "        relation_correct += 1\n",
    "\n",
    "print('Ensemble Relation Accuracy: %f [%d of %d]' % (relation_correct / df.shape[0],\n",
    "                                                     relation_correct, df.shape[0]))"
   ]
  },
  {
   "cell_type": "markdown",
   "metadata": {},
   "source": [
    "### Ensemble Version: Sum Scores w/ Normalize Minimum\n",
    "\n",
    "Sum the scores and normalize the minimum. The distance by the model is a consine distance; therefore, if we normalize the minimum we should be invariant of rotations."
   ]
  },
  {
   "cell_type": "code",
   "execution_count": 23,
   "metadata": {},
   "outputs": [
    {
     "data": {
      "application/vnd.jupyter.widget-view+json": {
       "model_id": "fbaa39cfd2324412834dc87275918701",
       "version_major": 2,
       "version_minor": 0
      },
      "text/html": [
       "<p>Failed to display Jupyter Widget of type <code>HBox</code>.</p>\n",
       "<p>\n",
       "  If you're reading this message in the Jupyter Notebook or JupyterLab Notebook, it may mean\n",
       "  that the widgets JavaScript is still loading. If this message persists, it\n",
       "  likely means that the widgets JavaScript library is either not installed or\n",
       "  not enabled. See the <a href=\"https://ipywidgets.readthedocs.io/en/stable/user_install.html\">Jupyter\n",
       "  Widgets Documentation</a> for setup instructions.\n",
       "</p>\n",
       "<p>\n",
       "  If you're reading this message in another frontend (for example, a static\n",
       "  rendering on GitHub or <a href=\"https://nbviewer.jupyter.org/\">NBViewer</a>),\n",
       "  it may mean that your frontend doesn't currently support widgets.\n",
       "</p>\n"
      ],
      "text/plain": [
       "HBox(children=(IntProgress(value=0, max=10840), HTML(value='')))"
      ]
     },
     "metadata": {},
     "output_type": "display_data"
    },
    {
     "name": "stdout",
     "output_type": "stream",
     "text": [
      "\n",
      "Ensemble Relation Accuracy: 0.883303 [9575 of 10840]\n"
     ]
    }
   ],
   "source": [
    "# Ensemble Relation Accuracy: 0.883303 [9575 of 10840]\n",
    "\n",
    "from tqdm import tqdm_notebook\n",
    "\n",
    "relation_correct = 0\n",
    "\n",
    "for i, (_, row) in tqdm_notebook(enumerate(df.iterrows()), total=df.shape[0]):\n",
    "    sum_scores = [0] * len(scores[i][0])\n",
    "    for j in range(len(scores[i])):\n",
    "        min_score = min(scores[i][j])\n",
    "        assert min_score >= -1\n",
    "        difference = min_score - (-1)\n",
    "        normalized_scores = [s - difference for s in scores[i][j]]\n",
    "        for k in range(len(scores[i][j])):\n",
    "            sum_scores[k] += normalized_scores[k]\n",
    "\n",
    "    candidate_relations = set(row['Relation Pool'].split())\n",
    "    max_score = max(sum_scores)\n",
    "    top_relations = [relation for i, relation in enumerate(candidate_relations) if sum_scores[i] == max_score]\n",
    "    predicted_relation = random.choice(top_relations)\n",
    "\n",
    "    if predicted_relation == row['True Relation']:\n",
    "        relation_correct += 1\n",
    "\n",
    "print('Ensemble Relation Accuracy: %f [%d of %d]' % (relation_correct / df.shape[0],\n",
    "                                                     relation_correct, df.shape[0]))"
   ]
  },
  {
   "cell_type": "markdown",
   "metadata": {},
   "source": [
    "### Ensemble Version: Top Vote\n",
    "\n",
    "Figure out the max_relation for all models. Then vote for that relation."
   ]
  },
  {
   "cell_type": "code",
   "execution_count": 24,
   "metadata": {},
   "outputs": [
    {
     "data": {
      "application/vnd.jupyter.widget-view+json": {
       "model_id": "18ba7e1495ab4850b245be60e81aa9d0",
       "version_major": 2,
       "version_minor": 0
      },
      "text/html": [
       "<p>Failed to display Jupyter Widget of type <code>HBox</code>.</p>\n",
       "<p>\n",
       "  If you're reading this message in the Jupyter Notebook or JupyterLab Notebook, it may mean\n",
       "  that the widgets JavaScript is still loading. If this message persists, it\n",
       "  likely means that the widgets JavaScript library is either not installed or\n",
       "  not enabled. See the <a href=\"https://ipywidgets.readthedocs.io/en/stable/user_install.html\">Jupyter\n",
       "  Widgets Documentation</a> for setup instructions.\n",
       "</p>\n",
       "<p>\n",
       "  If you're reading this message in another frontend (for example, a static\n",
       "  rendering on GitHub or <a href=\"https://nbviewer.jupyter.org/\">NBViewer</a>),\n",
       "  it may mean that your frontend doesn't currently support widgets.\n",
       "</p>\n"
      ],
      "text/plain": [
       "HBox(children=(IntProgress(value=0, max=10840), HTML(value='')))"
      ]
     },
     "metadata": {},
     "output_type": "display_data"
    },
    {
     "name": "stdout",
     "output_type": "stream",
     "text": [
      "\n",
      "Ensemble Relation Accuracy: 0.880904 [9549 of 10840]\n"
     ]
    }
   ],
   "source": [
    "from tqdm import tqdm_notebook\n",
    "import random\n",
    "\n",
    "relation_correct = 0\n",
    "\n",
    "for i, (_, row) in tqdm_notebook(enumerate(df.iterrows()), total=df.shape[0]):\n",
    "    candidate_relations = set(row['Relation Pool'].split())\n",
    "    votes = [0] * len(scores[i][0])\n",
    "    for j in range(len(scores[i])):\n",
    "        vote_relation = max(list(enumerate(candidate_relations)), key=lambda k: scores[i][j][k[0]])\n",
    "        votes[vote_relation[0]] += 1\n",
    "\n",
    "    max_score = max(votes)\n",
    "    top_relations = [relation for i, relation in enumerate(candidate_relations) if votes[i] == max_score]\n",
    "    predicted_relation = random.choice(top_relations)\n",
    "\n",
    "    if predicted_relation == row['True Relation']:\n",
    "        relation_correct += 1\n",
    "\n",
    "print('Ensemble Relation Accuracy: %f [%d of %d]' % (relation_correct / df.shape[0],\n",
    "                                                     relation_correct, df.shape[0]))"
   ]
  }
 ],
 "metadata": {
  "kernelspec": {
   "display_name": "Python 3",
   "language": "python",
   "name": "python3"
  },
  "language_info": {
   "codemirror_mode": {
    "name": "ipython",
    "version": 3
   },
   "file_extension": ".py",
   "mimetype": "text/x-python",
   "name": "python",
   "nbconvert_exporter": "python",
   "pygments_lexer": "ipython3",
   "version": "3.6.4"
  }
 },
 "nbformat": 4,
 "nbformat_minor": 2
}
