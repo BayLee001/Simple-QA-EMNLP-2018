{
 "cells": [
  {
   "cell_type": "markdown",
   "metadata": {},
   "source": [
    "# Relation Ranking Yu et al. 2017 Model\n",
    "\n",
    "Our goal here to to reimplement Yu et al. 2017 93% relation model. \n",
    "\n",
    "First things first, set up the initial configuration."
   ]
  },
  {
   "cell_type": "code",
   "execution_count": null,
   "metadata": {},
   "outputs": [],
   "source": [
    "import sys\n",
    "sys.path.insert(0, '../../')"
   ]
  },
  {
   "cell_type": "code",
   "execution_count": null,
   "metadata": {},
   "outputs": [],
   "source": [
    "from tqdm import tqdm_notebook\n",
    "from functools import partial\n",
    "tqdm_notebook = partial(tqdm_notebook, leave=False)\n",
    "tqdm_notebook().pandas()"
   ]
  },
  {
   "cell_type": "code",
   "execution_count": null,
   "metadata": {},
   "outputs": [],
   "source": [
    "import logging\n",
    "\n",
    "from lib.utils import config_logging\n",
    "from lib.utils import new_experiment_folder\n",
    "from lib.utils import seed\n",
    "from lib.utils import save_standard_streams\n",
    "from lib.utils import device_default\n",
    "\n",
    "experiment_folder = new_experiment_folder(label='relation_ranking', parent_directory='../../experiments/')\n",
    "print('Experiment Folder: %s' % experiment_folder)\n",
    "save_standard_streams(experiment_folder) # Copy Stdout and Stderr to experiments folder\n",
    "\n",
    "config_logging()\n",
    "logger = logging.getLogger(__name__)\n",
    "\n",
    "device = device_default()\n",
    "logger.info('Device: %d', device)\n",
    "is_cuda = device >= 0\n",
    "cuda = lambda t: t.cuda(device=device) if is_cuda else t\n",
    "\n",
    "random_seed = 1212212\n",
    "seed(random_seed, is_cuda=is_cuda)\n",
    "\n",
    "# Async minibatch allocation for speed\n",
    "# Reference: http://timdettmers.com/2015/03/09/deep-learning-hardware-guide/\n",
    "cuda_async = lambda t: t.cuda(device=device, async=True) if is_cuda else t"
   ]
  },
  {
   "cell_type": "markdown",
   "metadata": {},
   "source": [
    "## Dataset\n",
    "\n",
    "Load our dataset. Log a couple rows."
   ]
  },
  {
   "cell_type": "code",
   "execution_count": null,
   "metadata": {},
   "outputs": [],
   "source": [
    "import os\n",
    "from tqdm import tqdm_notebook\n",
    "\n",
    "from lib.datasets.dataset import Dataset\n",
    "\n",
    "def yu_dataset(directory='../../data/yu/',\n",
    "               train=False,\n",
    "               dev=False,\n",
    "               test=False,\n",
    "               train_filename='train.replace_ne.withpool',\n",
    "               dev_filename='valid.replace_ne.withpool',\n",
    "               test_filename='test.replace_ne.withpool',\n",
    "               vocab_filename='relation.2M.list'):\n",
    "    \"\"\"\n",
    "    Example line example: 40\t61 40 117\twhich genre of album is #head_entity# ?\n",
    "    Vocab example: /film/film/genre\n",
    "    \n",
    "    Sample Data:\n",
    "        Question: 'which genre of album is #head_entity# ?'\n",
    "        True Relation: '/music/album/genre'\n",
    "        False Relation Pool: ['/music/album/release_type', '/music/album/genre', '/music/album/artist']\n",
    "    \"\"\"\n",
    "    vocab_path = os.path.join(directory, vocab_filename)\n",
    "    vocab = [l.strip() for l in open(vocab_path, 'r')]\n",
    "    \n",
    "    ret = []\n",
    "    datasets = [(train, train_filename), (dev, dev_filename), (test, test_filename)]\n",
    "    for is_requested, filename in datasets:\n",
    "        if not is_requested:\n",
    "            continue\n",
    "            \n",
    "        file_path = os.path.join(directory, filename)\n",
    "        data = pd.read_table(file_path, header=None, names=['True Relation', 'Relation Pool', 'Question'])\n",
    "        rows = []\n",
    "        for i, row in tqdm_notebook(data.iterrows(), total=data.shape[0]):\n",
    "            if row['Relation Pool'].strip() == 'noNegativeAnswer':\n",
    "                continue\n",
    "            relation_pool = [vocab[int(i) - 1].strip('/') for i in row['Relation Pool'].split()]\n",
    "            true_relation = vocab[int(row['True Relation']) - 1].strip('/')\n",
    "            question = row['Question'].strip()\n",
    "            # Development and test set may or may not have the True relation based on our predicted pool\n",
    "            if filename == train_filename:\n",
    "                assert true_relation not in relation_pool\n",
    "                \n",
    "            for relation in relation_pool:\n",
    "                if filename == train_filename:\n",
    "                    rows.append({'Question': question,\n",
    "                                 'True Relation': true_relation,\n",
    "                                 'False Relation': relation,\n",
    "                                 'Example ID': i})\n",
    "                else:\n",
    "                    rows.append({'Question': question,\n",
    "                                 'True Relation': true_relation,\n",
    "                                 'Relation': relation,\n",
    "                                 'Example ID': i})\n",
    "        ret.append(Dataset(rows))\n",
    "\n",
    "    if len(ret) == 1:\n",
    "        return ret[0]\n",
    "    else:\n",
    "        return tuple(ret)"
   ]
  },
  {
   "cell_type": "code",
   "execution_count": null,
   "metadata": {},
   "outputs": [],
   "source": [
    "import os\n",
    "from tqdm import tqdm_notebook\n",
    "\n",
    "from lib.datasets.dataset import Dataset\n",
    "\n",
    "def relation_ranking_dataset(directory='../../data/relation_ranking/',\n",
    "               train=False,\n",
    "               dev=False,\n",
    "               test=False,\n",
    "               train_filename='train.txt',\n",
    "               dev_filename='dev.txt',\n",
    "               test_filename=''):\n",
    "    \"\"\"\n",
    "    Example line example: \n",
    "        film/film/country\tfilm/film/country film/film/genre film/film/language\twhat country is <e> from ?\n",
    "    Vocab example: \n",
    "        /film/film/genre\n",
    "    \n",
    "    Sample Data:\n",
    "        Question: 'which genre of album is #head_entity# ?'\n",
    "        True Relation: '/music/album/genre'\n",
    "        False Relation Pool: ['/music/album/release_type', '/music/album/genre', '/music/album/artist']\n",
    "    \"\"\"\n",
    "    ret = []\n",
    "    datasets = [(train, train_filename), (dev, dev_filename), (test, test_filename)]\n",
    "    for is_requested, filename in datasets:\n",
    "        if not is_requested:\n",
    "            continue\n",
    "            \n",
    "        file_path = os.path.join(directory, filename)\n",
    "        data = pd.read_table(file_path, header=None, names=['True Relation', 'Relation Pool', 'Question', 'Entity'])\n",
    "        rows = []\n",
    "        for i, row in tqdm_notebook(data.iterrows(), total=data.shape[0]):\n",
    "            relation_pool = list(set(row['Relation Pool'].split()))\n",
    "            true_relation = row['True Relation']\n",
    "            question = row['Question'].strip()\n",
    "            entity = row['Entity'].strip()\n",
    "                \n",
    "            for relation in relation_pool:\n",
    "                if filename == train_filename:\n",
    "                    rows.append({'Question': question,\n",
    "                                 'Entity': entity,\n",
    "                                 'True Relation': true_relation,\n",
    "                                 'False Relation': relation,\n",
    "                                 'Example ID': i})\n",
    "                else:\n",
    "                    rows.append({'Question': question,\n",
    "                                 'Entity': entity,\n",
    "                                 'True Relation': true_relation,\n",
    "                                 'Relation': relation,\n",
    "                                 'Example ID': i})\n",
    "        ret.append(Dataset(rows))\n",
    "\n",
    "    if len(ret) == 1:\n",
    "        return ret[0]\n",
    "    else:\n",
    "        return tuple(ret)"
   ]
  },
  {
   "cell_type": "code",
   "execution_count": null,
   "metadata": {},
   "outputs": [],
   "source": [
    "from IPython.display import display\n",
    "import pandas as pd\n",
    "\n",
    "train_dataset, dev_dataset = relation_ranking_dataset(train=True, dev=True)\n",
    "\n",
    "print('Num Training Data: %d' % len(train_dataset))\n",
    "print('Train Sample:')\n",
    "display(pd.DataFrame(train_dataset[:5]))\n",
    "print('\\nNum Development Data: %d' % len(dev_dataset))\n",
    "print('Development Sample:')\n",
    "display(pd.DataFrame(dev_dataset[:5]))"
   ]
  },
  {
   "cell_type": "markdown",
   "metadata": {},
   "source": [
    "## Encode Text\n",
    "\n",
    "Here we encode our data into a numerical format. "
   ]
  },
  {
   "cell_type": "code",
   "execution_count": null,
   "metadata": {},
   "outputs": [],
   "source": [
    "from IPython.display import display\n",
    "from tqdm import tqdm_notebook\n",
    "import re\n",
    "\n",
    "from lib.text_encoders import StaticTokenizerEncoder\n",
    "from lib.text_encoders import DelimiterEncoder\n",
    "from lib.text_encoders import WordEncoder\n",
    "\n",
    "# We add development dataset to text_encoder for embeddings\n",
    "# We make sure not to use the the development dataset to provide us with any vocab optimizations or learning\n",
    "text_encoder = WordEncoder(train_dataset['Question'] + dev_dataset['Question'], lower=True, append_eos=False)\n",
    "print('Text encoder vocab size: %d' % text_encoder.vocab_size)\n",
    "\n",
    "relations = set(train_dataset['True Relation'] + train_dataset['False Relation'])\n",
    "relation_word_encoder = StaticTokenizerEncoder(relations, tokenize=lambda s: re.split('/|_', s))\n",
    "print('Relation word encoder vocab size: %d' % relation_word_encoder.vocab_size)\n",
    "\n",
    "relation_encoder = DelimiterEncoder('/', relations)\n",
    "print('Relation encoder vocab size: %d' % relation_encoder.vocab_size)\n",
    "relations = None # Clear memory\n",
    "\n",
    "# TODO: Lots of repeat computations... do this at the level of the dataset before it's split apart?\n",
    "for dataset in [train_dataset, dev_dataset]:\n",
    "    for row in tqdm_notebook(dataset):\n",
    "        row['Question'] = text_encoder.encode(row['Question'])\n",
    "        row['True Relation Word'] = relation_word_encoder.encode(row['True Relation'])\n",
    "        row['True Relation'] = relation_encoder.encode(row['True Relation'])\n",
    "        \n",
    "        if 'False Relation' in row:\n",
    "            row['False Relation Word'] = relation_word_encoder.encode(row['False Relation'])\n",
    "            row['False Relation'] = relation_encoder.encode(row['False Relation'])\n",
    "\n",
    "        if 'Relation' in row:\n",
    "            row['Relation Word'] = relation_word_encoder.encode(row['Relation'])\n",
    "            row['Relation'] = relation_encoder.encode(row['Relation'])\n",
    "            \n",
    "\n",
    "print('Train Sample:')\n",
    "display(pd.DataFrame(train_dataset[:5]))\n",
    "print('Development Sample:')\n",
    "display(pd.DataFrame(dev_dataset[:5]))"
   ]
  },
  {
   "cell_type": "markdown",
   "metadata": {},
   "source": [
    "## Dataset Iterators\n",
    "\n",
    "Define functions to create iterators over the development and the train dataset for each epoch."
   ]
  },
  {
   "cell_type": "code",
   "execution_count": null,
   "metadata": {},
   "outputs": [],
   "source": [
    "import torch\n",
    "from torch.autograd import Variable\n",
    "from lib.utils import pad_batch\n",
    "\n",
    "# Defines how to combine a batch of rows into a tensor\n",
    "def collate_fn(batch, train=True):\n",
    "    \"\"\" list of tensors to a batch variable \"\"\"\n",
    "    question_batch, _ = pad_batch([row['Question'] for row in batch])\n",
    "\n",
    "    # PyTorch RNN requires batches to be transposed for speed and integration with CUDA\n",
    "    to_variable = (lambda b: Variable(torch.stack(b).t_().contiguous(), volatile=not train))\n",
    "\n",
    "    if train:\n",
    "        true_relation_word_batch, _ = pad_batch([row['True Relation Word'] for row in batch])\n",
    "        true_relation_batch, _ = pad_batch([row['True Relation'] for row in batch])\n",
    "        false_relation_word_batch, _ = pad_batch([row['False Relation Word'] for row in batch])\n",
    "        false_relation_batch, _ = pad_batch([row['False Relation'] for row in batch])\n",
    "        return (to_variable(question_batch), to_variable(true_relation_batch),\n",
    "                to_variable(true_relation_word_batch), to_variable(false_relation_batch),\n",
    "                to_variable(false_relation_word_batch))\n",
    "    else:\n",
    "        relation_word_batch, _ = pad_batch([row['Relation Word'] for row in batch])\n",
    "        relation_batch, _ = pad_batch([row['Relation'] for row in batch])\n",
    "        return (to_variable(question_batch), to_variable(relation_batch),\n",
    "                to_variable(relation_word_batch), batch)"
   ]
  },
  {
   "cell_type": "code",
   "execution_count": null,
   "metadata": {},
   "outputs": [],
   "source": [
    "from functools import partial\n",
    "\n",
    "from torch.utils.data import DataLoader\n",
    "\n",
    "from lib.samplers import BucketBatchSampler\n",
    "from lib.samplers import SortedSampler\n",
    "\n",
    "sort_key = lambda r: r['Question'].size()[0]\n",
    "\n",
    "def get_iterator(dataset, batch_size, train=False):\n",
    "    # Use bucket sampling to group similar sized text but with noise + random\n",
    "    batch_sampler = BucketBatchSampler(dataset, sort_key, batch_size, sort_key_noise=0.5)\n",
    "    return DataLoader(\n",
    "        dataset,\n",
    "        batch_sampler=batch_sampler,\n",
    "        collate_fn=partial(collate_fn, train=train),\n",
    "        pin_memory=is_cuda,\n",
    "        num_workers=0)"
   ]
  },
  {
   "cell_type": "markdown",
   "metadata": {},
   "source": [
    "# Model\n",
    "\n",
    "Instantiate the model."
   ]
  },
  {
   "cell_type": "code",
   "execution_count": null,
   "metadata": {},
   "outputs": [],
   "source": [
    "import torch\n",
    "from lib.pretrained_embeddings import FastText\n",
    "\n",
    "unk_init = lambda t: torch.FloatTensor(t).uniform_(-0.1, 0.1)\n",
    "pretrained_embedding = FastText(language='en', cache='./../../.pretrained_embeddings_cache')\n",
    "text_embedding_weights = torch.Tensor(text_encoder.vocab_size, pretrained_embedding.dim)\n",
    "for i, token in enumerate(text_encoder.vocab):\n",
    "    text_embedding_weights[i] = pretrained_embedding[token]\n",
    "pretrained_embedding = None # Clear memory"
   ]
  },
  {
   "cell_type": "code",
   "execution_count": null,
   "metadata": {},
   "outputs": [],
   "source": [
    "import copy\n",
    "from lib.nn import YuModel\n",
    "\n",
    "def make_model(**kwargs):\n",
    "    model = YuModel(relation_encoder.vocab_size, relation_word_encoder.vocab_size,\n",
    "                    text_encoder.vocab_size, **kwargs)\n",
    "    for param in model.parameters():\n",
    "        param.data.uniform_(-0.1, 0.1)\n",
    "\n",
    "    freeze_embeddings = True\n",
    "    model.text_embedding.weight.data.copy_(text_embedding_weights)\n",
    "    model.text_embedding.weight.requires_grad = not freeze_embeddings\n",
    "\n",
    "    cuda(model)\n",
    "    return model"
   ]
  },
  {
   "cell_type": "markdown",
   "metadata": {},
   "source": [
    "## Evaluate"
   ]
  },
  {
   "cell_type": "code",
   "execution_count": 12,
   "metadata": {},
   "outputs": [],
   "source": [
    "from collections import defaultdict \n",
    "\n",
    "def evaluate(dataset, model, batch_size=1):\n",
    "    model.train(mode=False)\n",
    "    examples = defaultdict(list)\n",
    "    iterator = get_iterator(dataset, batch_size)\n",
    "    for (question, relation, relation_word, batch) in tqdm_notebook(iterator):\n",
    "        output = model(cuda_async(question), cuda_async(relation), cuda_async(relation_word))\n",
    "        output = output.data.cpu()\n",
    "\n",
    "        for i, row in enumerate(batch):\n",
    "            examples[row['Example ID']].append({\n",
    "                'Score': output[i],\n",
    "                'Question': row['Question'],\n",
    "                'True Relation': row['True Relation'],\n",
    "                'Relation': row['Relation']\n",
    "            })\n",
    "    model.train(True) # No side affects\n",
    "\n",
    "    # Print metrics\n",
    "    correct = 0\n",
    "    for pool in examples.values():\n",
    "        max_relation = max(pool, key=lambda p: p['Score'])\n",
    "        if max_relation['Relation'].tolist() == max_relation['True Relation'].tolist():\n",
    "            correct += 1\n",
    "    accuracy = correct / len(examples)\n",
    "    logger.info('Accuracy: %.03f', accuracy)\n",
    "    return accuracy"
   ]
  },
  {
   "cell_type": "markdown",
   "metadata": {},
   "source": [
    "## Hyperparameters"
   ]
  },
  {
   "cell_type": "code",
   "execution_count": 13,
   "metadata": {},
   "outputs": [
    {
     "name": "stdout",
     "output_type": "stream",
     "text": [
      "[2018-02-12 08:44:55,985][MainProcess][lib.configurable][INFO] Checking configuration...\n",
      "[2018-02-12 08:44:55,987][MainProcess][lib.configurable][INFO] Configuration checked.\n",
      "[2018-02-12 08:44:55,988][MainProcess][lib.configurable][INFO] Global configuration:\n",
      "[2018-02-12 08:44:55,989][MainProcess][root][INFO] {   'lib': {   'nn': {   'yu_model': {   'YuModel': {   '__init__': {   'dropout_relation': 0.25,\n",
      "                                                                        'dropout_text': 0.25,\n",
      "                                                                        'embedding_size': 300,\n",
      "                                                                        'hidden_size': 200,\n",
      "                                                                        'n_layers_relation': 1}}}},\n",
      "               'optim': {'adam': {'Adam': {'__init__': {'amsgrad': True}}}},\n",
      "               'optimizer': {'Optimizer': {'__init__': {'max_grad_norm': 1}}}}}\n"
     ]
    }
   ],
   "source": [
    "from lib.optim import Adam\n",
    "from lib.configurable import configurable\n",
    "from lib.configurable import add_config\n",
    "from lib.configurable import log_config\n",
    "\n",
    "Adam.__init__ = configurable(Adam.__init__)\n",
    "\n",
    "add_config({\n",
    "    'lib': {\n",
    "        'nn.yu_model.YuModel.__init__': {\n",
    "            'embedding_size': 300,\n",
    "            'hidden_size': 200,\n",
    "            'dropout_relation': 0.25,\n",
    "            'dropout_text': 0.25,\n",
    "            'n_layers_relation': 1\n",
    "        },\n",
    "        'optimizer.Optimizer.__init__.max_grad_norm': 1,\n",
    "    },\n",
    "    'lib.optim.adam.Adam.__init__': {\n",
    "        'amsgrad': True\n",
    "    }\n",
    "})\n",
    "\n",
    "log_config()"
   ]
  },
  {
   "cell_type": "markdown",
   "metadata": {},
   "source": [
    "## Training Loop\n",
    "\n",
    "Below here, we do a training loop over a number of epochs."
   ]
  },
  {
   "cell_type": "code",
   "execution_count": 14,
   "metadata": {
    "scrolled": false
   },
   "outputs": [],
   "source": [
    "from tqdm import tqdm_notebook\n",
    "import random\n",
    "\n",
    "from torch.utils.data import DataLoader\n",
    "from torch.nn.modules.loss import MarginRankingLoss\n",
    "from lib.optim import Adam\n",
    "from functools import partial\n",
    "\n",
    "from lib.checkpoint import Checkpoint\n",
    "from lib.utils import get_total_parameters\n",
    "from lib.utils import resplit_datasets\n",
    "from lib.optimizer import Optimizer\n",
    "\n",
    "def train(resources=30, checkpoint=None, margin=0.5, **kwargs):\n",
    "    \n",
    "    if isinstance(checkpoint, str):\n",
    "        checkpoint = Checkpoint(checkpoint)\n",
    "        model = checkpoint.model\n",
    "        train_batch_size = checkpoint.train_batch_size\n",
    "        optimizer = checkpoint.optimizer\n",
    "        n_bad_epochs = checkpoint.n_bad_epochs\n",
    "        max_score = checkpoint.max_score\n",
    "    else:\n",
    "        model = make_model()\n",
    "        train_batch_size = 512\n",
    "        # NOTE: https://github.com/pytorch/pytorch/issues/679\n",
    "        params = filter(lambda p: p.requires_grad, model.parameters())\n",
    "        optimizer = Optimizer(Adam(params=params))\n",
    "        n_bad_epochs = 0\n",
    "        max_score = 0\n",
    "\n",
    "    # NOTE: Because the training dataset was used to train the subject recongition, its better; therefore,\n",
    "    # we cannot mix them\n",
    "    epochs = max(round(resources), 1)\n",
    "    train_max_batch_size = 2048\n",
    "    patience = 3\n",
    "    criterion = cuda(MarginRankingLoss(margin=margin))\n",
    "    logger.info('Epochs: %d', epochs)\n",
    "    logger.info('Train Dataset Size: %d', len(train_dataset))\n",
    "    logger.info('Dev Dataset Size: %d', len(dev_dataset))\n",
    "    logger.info('Train Batch Size: %d', train_batch_size)\n",
    "    logger.info('Train Max Batch Size: %d', train_max_batch_size)\n",
    "    logger.info('Total Parameters: %d', get_total_parameters(model))\n",
    "    logger.info('Model:\\n%s' % model)\n",
    "    \n",
    "    # Train!\n",
    "    for epoch in range(epochs):\n",
    "        print('Epoch %d' % epoch)\n",
    "\n",
    "        # Iterate over the training data\n",
    "        model.train(mode=True)\n",
    "        train_iterator = get_iterator(train_dataset, train_batch_size, True)\n",
    "        for (question, true_relation, true_relation_word, false_relation,\n",
    "             false_relation_word) in tqdm_notebook(train_iterator):\n",
    "            optimizer.zero_grad()\n",
    "            output_true = model(\n",
    "                cuda_async(question), cuda_async(true_relation), cuda_async(true_relation_word))\n",
    "            output_false = model(\n",
    "                cuda_async(question), cuda_async(false_relation), cuda_async(false_relation_word))\n",
    "            labels = cuda(Variable(torch.ones(output_true.size()[0])))\n",
    "            loss = criterion(output_true, output_false, labels)\n",
    "\n",
    "            # Backward propagation\n",
    "            loss.backward()\n",
    "            optimizer.step()\n",
    "\n",
    "        # Save checkpoint\n",
    "        checkpoint_path = Checkpoint.save(\n",
    "            experiment_folder, {\n",
    "                'model': model,\n",
    "                'optimizer': optimizer,\n",
    "                'relation_word_encoder': relation_word_encoder,\n",
    "                'relation_encoder': relation_encoder,\n",
    "                'text_encoder': text_encoder,\n",
    "                'train_batch_size': train_batch_size,\n",
    "                'n_bad_epochs': n_bad_epochs,\n",
    "                'max_score': max_score\n",
    "            },\n",
    "            device=device)\n",
    "\n",
    "        # Evaluate\n",
    "        score = evaluate(dev_dataset, model, 4096)\n",
    "\n",
    "        # Scheduler for increasing batch_size inspired by this paper:\n",
    "        # https://openreview.net/forum?id=B1Yy1BxCZ\n",
    "        if max_score > score:\n",
    "            n_bad_epochs += 1\n",
    "        else:\n",
    "            n_bad_epochs = 0\n",
    "            max_score = score\n",
    "\n",
    "        if n_bad_epochs >= patience:\n",
    "            train_batch_size = min(train_max_batch_size, train_batch_size * 2)\n",
    "            logger.info('Ran out of patience, increasing train batch size to: %d', train_batch_size)\n",
    "            \n",
    "        print('–' * 100)\n",
    "        \n",
    "    return -max_score, checkpoint_path"
   ]
  },
  {
   "cell_type": "code",
   "execution_count": 15,
   "metadata": {},
   "outputs": [
    {
     "name": "stdout",
     "output_type": "stream",
     "text": [
      "[2018-02-12 08:44:56,168][MainProcess][lib.configurable][INFO] yu_model.YuModel.__init__ was configured with:\n",
      "{   'dropout_relation': 0.25,\n",
      "    'dropout_text': 0.25,\n",
      "    'embedding_size': 300,\n",
      "    'hidden_size': 200,\n",
      "    'n_layers_relation': 1,\n",
      "    'relation_vocab_size': 5267,\n",
      "    'relation_word_vocab_size': 3386,\n",
      "    'text_vocab_size': 6693}\n",
      "[2018-02-12 08:44:58,667][MainProcess][lib.configurable][INFO] adam.Adam.__init__ was configured with:\n",
      "{'amsgrad': True, 'params': <filter object at 0x7f26e1848588>}\n",
      "[2018-02-12 08:44:58,669][MainProcess][lib.configurable][INFO] optimizer.Optimizer.__init__ was configured with:\n",
      "{'max_grad_norm': 1, 'optim': <lib.optim.adam.Adam object at 0x7f26e1848208>}\n",
      "[2018-02-12 08:44:58,670][MainProcess][__main__][INFO] Epochs: 30\n",
      "[2018-02-12 08:44:58,671][MainProcess][__main__][INFO] Train Dataset Size: 1378892\n",
      "[2018-02-12 08:44:58,673][MainProcess][__main__][INFO] Dev Dataset Size: 194798\n",
      "[2018-02-12 08:44:58,675][MainProcess][__main__][INFO] Train Batch Size: 512\n",
      "[2018-02-12 08:44:58,675][MainProcess][__main__][INFO] Train Max Batch Size: 2048\n",
      "[2018-02-12 08:44:58,676][MainProcess][__main__][INFO] Total Parameters: 5968700\n",
      "[2018-02-12 08:44:58,676][MainProcess][__main__][INFO] Model:\n",
      "YuModel(\n",
      "  (relation_embedding): Embedding(5267, 300, padding_idx=0)\n",
      "  (relation_word_embedding): Embedding(3386, 300, padding_idx=0)\n",
      "  (relation_word_rnn): LSTM(300, 200, dropout=0.25, bidirectional=True)\n",
      "  (relation_rnn): LSTM(300, 200, dropout=0.25, bidirectional=True)\n",
      "  (text_embedding): Embedding(6693, 300, padding_idx=0)\n",
      "  (text_rnn_layer_one): LSTM(300, 200, dropout=0.25, bidirectional=True)\n",
      "  (text_rnn_layer_two): LSTM(400, 200, dropout=0.25, bidirectional=True)\n",
      "  (distance): CosineSimilarity(\n",
      "  )\n",
      ")\n",
      "Epoch 0\n"
     ]
    },
    {
     "data": {
      "application/vnd.jupyter.widget-view+json": {
       "model_id": "14a5c91968644c889f08fb8ea923f38f",
       "version_major": 2,
       "version_minor": 0
      },
      "text/html": [
       "<p>Failed to display Jupyter Widget of type <code>HBox</code>.</p>\n",
       "<p>\n",
       "  If you're reading this message in the Jupyter Notebook or JupyterLab Notebook, it may mean\n",
       "  that the widgets JavaScript is still loading. If this message persists, it\n",
       "  likely means that the widgets JavaScript library is either not installed or\n",
       "  not enabled. See the <a href=\"https://ipywidgets.readthedocs.io/en/stable/user_install.html\">Jupyter\n",
       "  Widgets Documentation</a> for setup instructions.\n",
       "</p>\n",
       "<p>\n",
       "  If you're reading this message in another frontend (for example, a static\n",
       "  rendering on GitHub or <a href=\"https://nbviewer.jupyter.org/\">NBViewer</a>),\n",
       "  it may mean that your frontend doesn't currently support widgets.\n",
       "</p>\n"
      ],
      "text/plain": [
       "HBox(children=(IntProgress(value=0, max=2694), HTML(value='')))"
      ]
     },
     "metadata": {},
     "output_type": "display_data"
    },
    {
     "name": "stdout",
     "output_type": "stream",
     "text": [
      "\n",
      "[2018-02-12 08:47:28,977][MainProcess][lib.checkpoint][INFO] Saving checkpoint: ../../experiments/relation_ranking.02_12_08:43:59/152.pt\n"
     ]
    },
    {
     "data": {
      "application/vnd.jupyter.widget-view+json": {
       "model_id": "b15abf0a3b2e485bbc87d8804723b6e7",
       "version_major": 2,
       "version_minor": 0
      },
      "text/html": [
       "<p>Failed to display Jupyter Widget of type <code>HBox</code>.</p>\n",
       "<p>\n",
       "  If you're reading this message in the Jupyter Notebook or JupyterLab Notebook, it may mean\n",
       "  that the widgets JavaScript is still loading. If this message persists, it\n",
       "  likely means that the widgets JavaScript library is either not installed or\n",
       "  not enabled. See the <a href=\"https://ipywidgets.readthedocs.io/en/stable/user_install.html\">Jupyter\n",
       "  Widgets Documentation</a> for setup instructions.\n",
       "</p>\n",
       "<p>\n",
       "  If you're reading this message in another frontend (for example, a static\n",
       "  rendering on GitHub or <a href=\"https://nbviewer.jupyter.org/\">NBViewer</a>),\n",
       "  it may mean that your frontend doesn't currently support widgets.\n",
       "</p>\n"
      ],
      "text/plain": [
       "HBox(children=(IntProgress(value=0, max=48), HTML(value='')))"
      ]
     },
     "metadata": {},
     "output_type": "display_data"
    },
    {
     "name": "stdout",
     "output_type": "stream",
     "text": [
      "\n",
      "[2018-02-12 08:47:52,073][MainProcess][__main__][INFO] Accuracy: 0.844\n",
      "––––––––––––––––––––––––––––––––––––––––––––––––––––––––––––––––––––––––––––––––––––––––––––––––––––\n",
      "Epoch 1\n"
     ]
    },
    {
     "data": {
      "application/vnd.jupyter.widget-view+json": {
       "model_id": "6fb752bef0524bb4b85e1b7916413387",
       "version_major": 2,
       "version_minor": 0
      },
      "text/html": [
       "<p>Failed to display Jupyter Widget of type <code>HBox</code>.</p>\n",
       "<p>\n",
       "  If you're reading this message in the Jupyter Notebook or JupyterLab Notebook, it may mean\n",
       "  that the widgets JavaScript is still loading. If this message persists, it\n",
       "  likely means that the widgets JavaScript library is either not installed or\n",
       "  not enabled. See the <a href=\"https://ipywidgets.readthedocs.io/en/stable/user_install.html\">Jupyter\n",
       "  Widgets Documentation</a> for setup instructions.\n",
       "</p>\n",
       "<p>\n",
       "  If you're reading this message in another frontend (for example, a static\n",
       "  rendering on GitHub or <a href=\"https://nbviewer.jupyter.org/\">NBViewer</a>),\n",
       "  it may mean that your frontend doesn't currently support widgets.\n",
       "</p>\n"
      ],
      "text/plain": [
       "HBox(children=(IntProgress(value=0, max=2694), HTML(value='')))"
      ]
     },
     "metadata": {},
     "output_type": "display_data"
    },
    {
     "name": "stdout",
     "output_type": "stream",
     "text": [
      "\n",
      "[2018-02-12 08:50:43,832][MainProcess][lib.checkpoint][INFO] Saving checkpoint: ../../experiments/relation_ranking.02_12_08:43:59/347.pt\n"
     ]
    },
    {
     "data": {
      "application/vnd.jupyter.widget-view+json": {
       "model_id": "93ec6adbde5c405ea6f59e437f6ab5ad",
       "version_major": 2,
       "version_minor": 0
      },
      "text/html": [
       "<p>Failed to display Jupyter Widget of type <code>HBox</code>.</p>\n",
       "<p>\n",
       "  If you're reading this message in the Jupyter Notebook or JupyterLab Notebook, it may mean\n",
       "  that the widgets JavaScript is still loading. If this message persists, it\n",
       "  likely means that the widgets JavaScript library is either not installed or\n",
       "  not enabled. See the <a href=\"https://ipywidgets.readthedocs.io/en/stable/user_install.html\">Jupyter\n",
       "  Widgets Documentation</a> for setup instructions.\n",
       "</p>\n",
       "<p>\n",
       "  If you're reading this message in another frontend (for example, a static\n",
       "  rendering on GitHub or <a href=\"https://nbviewer.jupyter.org/\">NBViewer</a>),\n",
       "  it may mean that your frontend doesn't currently support widgets.\n",
       "</p>\n"
      ],
      "text/plain": [
       "HBox(children=(IntProgress(value=0, max=48), HTML(value='')))"
      ]
     },
     "metadata": {},
     "output_type": "display_data"
    },
    {
     "name": "stdout",
     "output_type": "stream",
     "text": [
      "\n",
      "[2018-02-12 08:50:59,995][MainProcess][__main__][INFO] Accuracy: 0.862\n",
      "––––––––––––––––––––––––––––––––––––––––––––––––––––––––––––––––––––––––––––––––––––––––––––––––––––\n",
      "Epoch 2\n"
     ]
    },
    {
     "data": {
      "application/vnd.jupyter.widget-view+json": {
       "model_id": "8eca66c9568e43ed8960c9ed1c9e15af",
       "version_major": 2,
       "version_minor": 0
      },
      "text/html": [
       "<p>Failed to display Jupyter Widget of type <code>HBox</code>.</p>\n",
       "<p>\n",
       "  If you're reading this message in the Jupyter Notebook or JupyterLab Notebook, it may mean\n",
       "  that the widgets JavaScript is still loading. If this message persists, it\n",
       "  likely means that the widgets JavaScript library is either not installed or\n",
       "  not enabled. See the <a href=\"https://ipywidgets.readthedocs.io/en/stable/user_install.html\">Jupyter\n",
       "  Widgets Documentation</a> for setup instructions.\n",
       "</p>\n",
       "<p>\n",
       "  If you're reading this message in another frontend (for example, a static\n",
       "  rendering on GitHub or <a href=\"https://nbviewer.jupyter.org/\">NBViewer</a>),\n",
       "  it may mean that your frontend doesn't currently support widgets.\n",
       "</p>\n"
      ],
      "text/plain": [
       "HBox(children=(IntProgress(value=0, max=2694), HTML(value='')))"
      ]
     },
     "metadata": {},
     "output_type": "display_data"
    },
    {
     "name": "stdout",
     "output_type": "stream",
     "text": [
      "\n",
      "[2018-02-12 08:53:49,833][MainProcess][lib.checkpoint][INFO] Saving checkpoint: ../../experiments/relation_ranking.02_12_08:43:59/533.pt\n"
     ]
    },
    {
     "data": {
      "application/vnd.jupyter.widget-view+json": {
       "model_id": "8858a2c1942e4bd592175f00b8741c56",
       "version_major": 2,
       "version_minor": 0
      },
      "text/html": [
       "<p>Failed to display Jupyter Widget of type <code>HBox</code>.</p>\n",
       "<p>\n",
       "  If you're reading this message in the Jupyter Notebook or JupyterLab Notebook, it may mean\n",
       "  that the widgets JavaScript is still loading. If this message persists, it\n",
       "  likely means that the widgets JavaScript library is either not installed or\n",
       "  not enabled. See the <a href=\"https://ipywidgets.readthedocs.io/en/stable/user_install.html\">Jupyter\n",
       "  Widgets Documentation</a> for setup instructions.\n",
       "</p>\n",
       "<p>\n",
       "  If you're reading this message in another frontend (for example, a static\n",
       "  rendering on GitHub or <a href=\"https://nbviewer.jupyter.org/\">NBViewer</a>),\n",
       "  it may mean that your frontend doesn't currently support widgets.\n",
       "</p>\n"
      ],
      "text/plain": [
       "HBox(children=(IntProgress(value=0, max=48), HTML(value='')))"
      ]
     },
     "metadata": {},
     "output_type": "display_data"
    },
    {
     "name": "stdout",
     "output_type": "stream",
     "text": [
      "\n",
      "[2018-02-12 08:54:05,514][MainProcess][__main__][INFO] Accuracy: 0.855\n",
      "––––––––––––––––––––––––––––––––––––––––––––––––––––––––––––––––––––––––––––––––––––––––––––––––––––\n",
      "Epoch 3\n"
     ]
    },
    {
     "data": {
      "application/vnd.jupyter.widget-view+json": {
       "model_id": "5eb4d922982549888200ded950680c86",
       "version_major": 2,
       "version_minor": 0
      },
      "text/html": [
       "<p>Failed to display Jupyter Widget of type <code>HBox</code>.</p>\n",
       "<p>\n",
       "  If you're reading this message in the Jupyter Notebook or JupyterLab Notebook, it may mean\n",
       "  that the widgets JavaScript is still loading. If this message persists, it\n",
       "  likely means that the widgets JavaScript library is either not installed or\n",
       "  not enabled. See the <a href=\"https://ipywidgets.readthedocs.io/en/stable/user_install.html\">Jupyter\n",
       "  Widgets Documentation</a> for setup instructions.\n",
       "</p>\n",
       "<p>\n",
       "  If you're reading this message in another frontend (for example, a static\n",
       "  rendering on GitHub or <a href=\"https://nbviewer.jupyter.org/\">NBViewer</a>),\n",
       "  it may mean that your frontend doesn't currently support widgets.\n",
       "</p>\n"
      ],
      "text/plain": [
       "HBox(children=(IntProgress(value=0, max=2694), HTML(value='')))"
      ]
     },
     "metadata": {},
     "output_type": "display_data"
    },
    {
     "name": "stdout",
     "output_type": "stream",
     "text": [
      "\n",
      "[2018-02-12 08:56:54,579][MainProcess][lib.checkpoint][INFO] Saving checkpoint: ../../experiments/relation_ranking.02_12_08:43:59/718.pt\n"
     ]
    },
    {
     "data": {
      "application/vnd.jupyter.widget-view+json": {
       "model_id": "d6f26d050cd443af81c13470b7e0fa3d",
       "version_major": 2,
       "version_minor": 0
      },
      "text/html": [
       "<p>Failed to display Jupyter Widget of type <code>HBox</code>.</p>\n",
       "<p>\n",
       "  If you're reading this message in the Jupyter Notebook or JupyterLab Notebook, it may mean\n",
       "  that the widgets JavaScript is still loading. If this message persists, it\n",
       "  likely means that the widgets JavaScript library is either not installed or\n",
       "  not enabled. See the <a href=\"https://ipywidgets.readthedocs.io/en/stable/user_install.html\">Jupyter\n",
       "  Widgets Documentation</a> for setup instructions.\n",
       "</p>\n",
       "<p>\n",
       "  If you're reading this message in another frontend (for example, a static\n",
       "  rendering on GitHub or <a href=\"https://nbviewer.jupyter.org/\">NBViewer</a>),\n",
       "  it may mean that your frontend doesn't currently support widgets.\n",
       "</p>\n"
      ],
      "text/plain": [
       "HBox(children=(IntProgress(value=0, max=48), HTML(value='')))"
      ]
     },
     "metadata": {},
     "output_type": "display_data"
    },
    {
     "name": "stdout",
     "output_type": "stream",
     "text": [
      "\n",
      "[2018-02-12 08:57:09,948][MainProcess][__main__][INFO] Accuracy: 0.867\n",
      "––––––––––––––––––––––––––––––––––––––––––––––––––––––––––––––––––––––––––––––––––––––––––––––––––––\n",
      "Epoch 4\n"
     ]
    },
    {
     "data": {
      "application/vnd.jupyter.widget-view+json": {
       "model_id": "1010509881aa42aabc72904cff9c0f73",
       "version_major": 2,
       "version_minor": 0
      },
      "text/html": [
       "<p>Failed to display Jupyter Widget of type <code>HBox</code>.</p>\n",
       "<p>\n",
       "  If you're reading this message in the Jupyter Notebook or JupyterLab Notebook, it may mean\n",
       "  that the widgets JavaScript is still loading. If this message persists, it\n",
       "  likely means that the widgets JavaScript library is either not installed or\n",
       "  not enabled. See the <a href=\"https://ipywidgets.readthedocs.io/en/stable/user_install.html\">Jupyter\n",
       "  Widgets Documentation</a> for setup instructions.\n",
       "</p>\n",
       "<p>\n",
       "  If you're reading this message in another frontend (for example, a static\n",
       "  rendering on GitHub or <a href=\"https://nbviewer.jupyter.org/\">NBViewer</a>),\n",
       "  it may mean that your frontend doesn't currently support widgets.\n",
       "</p>\n"
      ],
      "text/plain": [
       "HBox(children=(IntProgress(value=0, max=2694), HTML(value='')))"
      ]
     },
     "metadata": {},
     "output_type": "display_data"
    },
    {
     "name": "stdout",
     "output_type": "stream",
     "text": [
      "\n",
      "[2018-02-12 08:59:59,633][MainProcess][lib.checkpoint][INFO] Saving checkpoint: ../../experiments/relation_ranking.02_12_08:43:59/903.pt\n"
     ]
    },
    {
     "data": {
      "application/vnd.jupyter.widget-view+json": {
       "model_id": "05d7f4d28e8e4acd86a35410c8856bef",
       "version_major": 2,
       "version_minor": 0
      },
      "text/html": [
       "<p>Failed to display Jupyter Widget of type <code>HBox</code>.</p>\n",
       "<p>\n",
       "  If you're reading this message in the Jupyter Notebook or JupyterLab Notebook, it may mean\n",
       "  that the widgets JavaScript is still loading. If this message persists, it\n",
       "  likely means that the widgets JavaScript library is either not installed or\n",
       "  not enabled. See the <a href=\"https://ipywidgets.readthedocs.io/en/stable/user_install.html\">Jupyter\n",
       "  Widgets Documentation</a> for setup instructions.\n",
       "</p>\n",
       "<p>\n",
       "  If you're reading this message in another frontend (for example, a static\n",
       "  rendering on GitHub or <a href=\"https://nbviewer.jupyter.org/\">NBViewer</a>),\n",
       "  it may mean that your frontend doesn't currently support widgets.\n",
       "</p>\n"
      ],
      "text/plain": [
       "HBox(children=(IntProgress(value=0, max=48), HTML(value='')))"
      ]
     },
     "metadata": {},
     "output_type": "display_data"
    },
    {
     "name": "stdout",
     "output_type": "stream",
     "text": [
      "\n",
      "[2018-02-12 09:00:14,626][MainProcess][__main__][INFO] Accuracy: 0.864\n",
      "––––––––––––––––––––––––––––––––––––––––––––––––––––––––––––––––––––––––––––––––––––––––––––––––––––\n",
      "Epoch 5\n"
     ]
    },
    {
     "data": {
      "application/vnd.jupyter.widget-view+json": {
       "model_id": "adc5365dbbdc4eefa19cecb7bd64bb21",
       "version_major": 2,
       "version_minor": 0
      },
      "text/html": [
       "<p>Failed to display Jupyter Widget of type <code>HBox</code>.</p>\n",
       "<p>\n",
       "  If you're reading this message in the Jupyter Notebook or JupyterLab Notebook, it may mean\n",
       "  that the widgets JavaScript is still loading. If this message persists, it\n",
       "  likely means that the widgets JavaScript library is either not installed or\n",
       "  not enabled. See the <a href=\"https://ipywidgets.readthedocs.io/en/stable/user_install.html\">Jupyter\n",
       "  Widgets Documentation</a> for setup instructions.\n",
       "</p>\n",
       "<p>\n",
       "  If you're reading this message in another frontend (for example, a static\n",
       "  rendering on GitHub or <a href=\"https://nbviewer.jupyter.org/\">NBViewer</a>),\n",
       "  it may mean that your frontend doesn't currently support widgets.\n",
       "</p>\n"
      ],
      "text/plain": [
       "HBox(children=(IntProgress(value=0, max=2694), HTML(value='')))"
      ]
     },
     "metadata": {},
     "output_type": "display_data"
    },
    {
     "name": "stdout",
     "output_type": "stream",
     "text": [
      "\n",
      "[2018-02-12 09:03:00,759][MainProcess][lib.checkpoint][INFO] Saving checkpoint: ../../experiments/relation_ranking.02_12_08:43:59/1084.pt\n"
     ]
    },
    {
     "data": {
      "application/vnd.jupyter.widget-view+json": {
       "model_id": "22dc11eaa0354ce0a01f00f902ffbc2f",
       "version_major": 2,
       "version_minor": 0
      },
      "text/html": [
       "<p>Failed to display Jupyter Widget of type <code>HBox</code>.</p>\n",
       "<p>\n",
       "  If you're reading this message in the Jupyter Notebook or JupyterLab Notebook, it may mean\n",
       "  that the widgets JavaScript is still loading. If this message persists, it\n",
       "  likely means that the widgets JavaScript library is either not installed or\n",
       "  not enabled. See the <a href=\"https://ipywidgets.readthedocs.io/en/stable/user_install.html\">Jupyter\n",
       "  Widgets Documentation</a> for setup instructions.\n",
       "</p>\n",
       "<p>\n",
       "  If you're reading this message in another frontend (for example, a static\n",
       "  rendering on GitHub or <a href=\"https://nbviewer.jupyter.org/\">NBViewer</a>),\n",
       "  it may mean that your frontend doesn't currently support widgets.\n",
       "</p>\n"
      ],
      "text/plain": [
       "HBox(children=(IntProgress(value=0, max=48), HTML(value='')))"
      ]
     },
     "metadata": {},
     "output_type": "display_data"
    },
    {
     "name": "stdout",
     "output_type": "stream",
     "text": [
      "\n",
      "[2018-02-12 09:03:16,472][MainProcess][__main__][INFO] Accuracy: 0.865\n",
      "––––––––––––––––––––––––––––––––––––––––––––––––––––––––––––––––––––––––––––––––––––––––––––––––––––\n",
      "Epoch 6\n"
     ]
    },
    {
     "data": {
      "application/vnd.jupyter.widget-view+json": {
       "model_id": "68dc1e9d8a04463db3374ed1a39f548d",
       "version_major": 2,
       "version_minor": 0
      },
      "text/html": [
       "<p>Failed to display Jupyter Widget of type <code>HBox</code>.</p>\n",
       "<p>\n",
       "  If you're reading this message in the Jupyter Notebook or JupyterLab Notebook, it may mean\n",
       "  that the widgets JavaScript is still loading. If this message persists, it\n",
       "  likely means that the widgets JavaScript library is either not installed or\n",
       "  not enabled. See the <a href=\"https://ipywidgets.readthedocs.io/en/stable/user_install.html\">Jupyter\n",
       "  Widgets Documentation</a> for setup instructions.\n",
       "</p>\n",
       "<p>\n",
       "  If you're reading this message in another frontend (for example, a static\n",
       "  rendering on GitHub or <a href=\"https://nbviewer.jupyter.org/\">NBViewer</a>),\n",
       "  it may mean that your frontend doesn't currently support widgets.\n",
       "</p>\n"
      ],
      "text/plain": [
       "HBox(children=(IntProgress(value=0, max=2694), HTML(value='')))"
      ]
     },
     "metadata": {},
     "output_type": "display_data"
    },
    {
     "name": "stdout",
     "output_type": "stream",
     "text": [
      "\n",
      "[2018-02-12 09:06:03,267][MainProcess][lib.checkpoint][INFO] Saving checkpoint: ../../experiments/relation_ranking.02_12_08:43:59/1267.pt\n"
     ]
    },
    {
     "data": {
      "application/vnd.jupyter.widget-view+json": {
       "model_id": "ce0e00d693c54687aa99ac55a3049f2b",
       "version_major": 2,
       "version_minor": 0
      },
      "text/html": [
       "<p>Failed to display Jupyter Widget of type <code>HBox</code>.</p>\n",
       "<p>\n",
       "  If you're reading this message in the Jupyter Notebook or JupyterLab Notebook, it may mean\n",
       "  that the widgets JavaScript is still loading. If this message persists, it\n",
       "  likely means that the widgets JavaScript library is either not installed or\n",
       "  not enabled. See the <a href=\"https://ipywidgets.readthedocs.io/en/stable/user_install.html\">Jupyter\n",
       "  Widgets Documentation</a> for setup instructions.\n",
       "</p>\n",
       "<p>\n",
       "  If you're reading this message in another frontend (for example, a static\n",
       "  rendering on GitHub or <a href=\"https://nbviewer.jupyter.org/\">NBViewer</a>),\n",
       "  it may mean that your frontend doesn't currently support widgets.\n",
       "</p>\n"
      ],
      "text/plain": [
       "HBox(children=(IntProgress(value=0, max=48), HTML(value='')))"
      ]
     },
     "metadata": {},
     "output_type": "display_data"
    },
    {
     "name": "stdout",
     "output_type": "stream",
     "text": [
      "\n",
      "[2018-02-12 09:06:17,915][MainProcess][__main__][INFO] Accuracy: 0.860\n",
      "[2018-02-12 09:06:19,170][MainProcess][__main__][INFO] Ran out of patience, increasing train batch size to: 1024\n",
      "––––––––––––––––––––––––––––––––––––––––––––––––––––––––––––––––––––––––––––––––––––––––––––––––––––\n",
      "Epoch 7\n"
     ]
    },
    {
     "data": {
      "application/vnd.jupyter.widget-view+json": {
       "model_id": "f429c1c44ef04869beb5c262b0da0c34",
       "version_major": 2,
       "version_minor": 0
      },
      "text/html": [
       "<p>Failed to display Jupyter Widget of type <code>HBox</code>.</p>\n",
       "<p>\n",
       "  If you're reading this message in the Jupyter Notebook or JupyterLab Notebook, it may mean\n",
       "  that the widgets JavaScript is still loading. If this message persists, it\n",
       "  likely means that the widgets JavaScript library is either not installed or\n",
       "  not enabled. See the <a href=\"https://ipywidgets.readthedocs.io/en/stable/user_install.html\">Jupyter\n",
       "  Widgets Documentation</a> for setup instructions.\n",
       "</p>\n",
       "<p>\n",
       "  If you're reading this message in another frontend (for example, a static\n",
       "  rendering on GitHub or <a href=\"https://nbviewer.jupyter.org/\">NBViewer</a>),\n",
       "  it may mean that your frontend doesn't currently support widgets.\n",
       "</p>\n"
      ],
      "text/plain": [
       "HBox(children=(IntProgress(value=0, max=1347), HTML(value='')))"
      ]
     },
     "metadata": {},
     "output_type": "display_data"
    },
    {
     "name": "stdout",
     "output_type": "stream",
     "text": [
      "\n",
      "[2018-02-12 09:09:04,694][MainProcess][lib.checkpoint][INFO] Saving checkpoint: ../../experiments/relation_ranking.02_12_08:43:59/1448.pt\n"
     ]
    },
    {
     "data": {
      "application/vnd.jupyter.widget-view+json": {
       "model_id": "eafe7839c1db404cb070433bc5669409",
       "version_major": 2,
       "version_minor": 0
      },
      "text/html": [
       "<p>Failed to display Jupyter Widget of type <code>HBox</code>.</p>\n",
       "<p>\n",
       "  If you're reading this message in the Jupyter Notebook or JupyterLab Notebook, it may mean\n",
       "  that the widgets JavaScript is still loading. If this message persists, it\n",
       "  likely means that the widgets JavaScript library is either not installed or\n",
       "  not enabled. See the <a href=\"https://ipywidgets.readthedocs.io/en/stable/user_install.html\">Jupyter\n",
       "  Widgets Documentation</a> for setup instructions.\n",
       "</p>\n",
       "<p>\n",
       "  If you're reading this message in another frontend (for example, a static\n",
       "  rendering on GitHub or <a href=\"https://nbviewer.jupyter.org/\">NBViewer</a>),\n",
       "  it may mean that your frontend doesn't currently support widgets.\n",
       "</p>\n"
      ],
      "text/plain": [
       "HBox(children=(IntProgress(value=0, max=48), HTML(value='')))"
      ]
     },
     "metadata": {},
     "output_type": "display_data"
    },
    {
     "name": "stdout",
     "output_type": "stream",
     "text": [
      "\n",
      "[2018-02-12 09:09:19,758][MainProcess][__main__][INFO] Accuracy: 0.859\n",
      "[2018-02-12 09:09:20,953][MainProcess][__main__][INFO] Ran out of patience, increasing train batch size to: 2048\n",
      "––––––––––––––––––––––––––––––––––––––––––––––––––––––––––––––––––––––––––––––––––––––––––––––––––––\n",
      "Epoch 8\n"
     ]
    },
    {
     "data": {
      "application/vnd.jupyter.widget-view+json": {
       "model_id": "cb148997b9b04636ba46dd782dda7e7e",
       "version_major": 2,
       "version_minor": 0
      },
      "text/html": [
       "<p>Failed to display Jupyter Widget of type <code>HBox</code>.</p>\n",
       "<p>\n",
       "  If you're reading this message in the Jupyter Notebook or JupyterLab Notebook, it may mean\n",
       "  that the widgets JavaScript is still loading. If this message persists, it\n",
       "  likely means that the widgets JavaScript library is either not installed or\n",
       "  not enabled. See the <a href=\"https://ipywidgets.readthedocs.io/en/stable/user_install.html\">Jupyter\n",
       "  Widgets Documentation</a> for setup instructions.\n",
       "</p>\n",
       "<p>\n",
       "  If you're reading this message in another frontend (for example, a static\n",
       "  rendering on GitHub or <a href=\"https://nbviewer.jupyter.org/\">NBViewer</a>),\n",
       "  it may mean that your frontend doesn't currently support widgets.\n",
       "</p>\n"
      ],
      "text/plain": [
       "HBox(children=(IntProgress(value=0, max=674), HTML(value='')))"
      ]
     },
     "metadata": {},
     "output_type": "display_data"
    },
    {
     "name": "stdout",
     "output_type": "stream",
     "text": [
      "\n",
      "[2018-02-12 09:12:02,867][MainProcess][lib.checkpoint][INFO] Saving checkpoint: ../../experiments/relation_ranking.02_12_08:43:59/1626.pt\n"
     ]
    },
    {
     "data": {
      "application/vnd.jupyter.widget-view+json": {
       "model_id": "751a7ae41d234314bdcb654642c578e9",
       "version_major": 2,
       "version_minor": 0
      },
      "text/html": [
       "<p>Failed to display Jupyter Widget of type <code>HBox</code>.</p>\n",
       "<p>\n",
       "  If you're reading this message in the Jupyter Notebook or JupyterLab Notebook, it may mean\n",
       "  that the widgets JavaScript is still loading. If this message persists, it\n",
       "  likely means that the widgets JavaScript library is either not installed or\n",
       "  not enabled. See the <a href=\"https://ipywidgets.readthedocs.io/en/stable/user_install.html\">Jupyter\n",
       "  Widgets Documentation</a> for setup instructions.\n",
       "</p>\n",
       "<p>\n",
       "  If you're reading this message in another frontend (for example, a static\n",
       "  rendering on GitHub or <a href=\"https://nbviewer.jupyter.org/\">NBViewer</a>),\n",
       "  it may mean that your frontend doesn't currently support widgets.\n",
       "</p>\n"
      ],
      "text/plain": [
       "HBox(children=(IntProgress(value=0, max=48), HTML(value='')))"
      ]
     },
     "metadata": {},
     "output_type": "display_data"
    },
    {
     "name": "stdout",
     "output_type": "stream",
     "text": [
      "\n",
      "[2018-02-12 09:12:18,605][MainProcess][__main__][INFO] Accuracy: 0.863\n",
      "[2018-02-12 09:12:19,878][MainProcess][__main__][INFO] Ran out of patience, increasing train batch size to: 2048\n",
      "––––––––––––––––––––––––––––––––––––––––––––––––––––––––––––––––––––––––––––––––––––––––––––––––––––\n",
      "Epoch 9\n"
     ]
    },
    {
     "data": {
      "application/vnd.jupyter.widget-view+json": {
       "model_id": "5abb5f0f32da4526a45e7dd9fe653ca3",
       "version_major": 2,
       "version_minor": 0
      },
      "text/html": [
       "<p>Failed to display Jupyter Widget of type <code>HBox</code>.</p>\n",
       "<p>\n",
       "  If you're reading this message in the Jupyter Notebook or JupyterLab Notebook, it may mean\n",
       "  that the widgets JavaScript is still loading. If this message persists, it\n",
       "  likely means that the widgets JavaScript library is either not installed or\n",
       "  not enabled. See the <a href=\"https://ipywidgets.readthedocs.io/en/stable/user_install.html\">Jupyter\n",
       "  Widgets Documentation</a> for setup instructions.\n",
       "</p>\n",
       "<p>\n",
       "  If you're reading this message in another frontend (for example, a static\n",
       "  rendering on GitHub or <a href=\"https://nbviewer.jupyter.org/\">NBViewer</a>),\n",
       "  it may mean that your frontend doesn't currently support widgets.\n",
       "</p>\n"
      ],
      "text/plain": [
       "HBox(children=(IntProgress(value=0, max=674), HTML(value='')))"
      ]
     },
     "metadata": {},
     "output_type": "display_data"
    },
    {
     "name": "stdout",
     "output_type": "stream",
     "text": [
      "\n",
      "[2018-02-12 09:14:59,826][MainProcess][lib.checkpoint][INFO] Saving checkpoint: ../../experiments/relation_ranking.02_12_08:43:59/1803.pt\n"
     ]
    },
    {
     "data": {
      "application/vnd.jupyter.widget-view+json": {
       "model_id": "f8e63475fabf40349475a5d75b73cd04",
       "version_major": 2,
       "version_minor": 0
      },
      "text/html": [
       "<p>Failed to display Jupyter Widget of type <code>HBox</code>.</p>\n",
       "<p>\n",
       "  If you're reading this message in the Jupyter Notebook or JupyterLab Notebook, it may mean\n",
       "  that the widgets JavaScript is still loading. If this message persists, it\n",
       "  likely means that the widgets JavaScript library is either not installed or\n",
       "  not enabled. See the <a href=\"https://ipywidgets.readthedocs.io/en/stable/user_install.html\">Jupyter\n",
       "  Widgets Documentation</a> for setup instructions.\n",
       "</p>\n",
       "<p>\n",
       "  If you're reading this message in another frontend (for example, a static\n",
       "  rendering on GitHub or <a href=\"https://nbviewer.jupyter.org/\">NBViewer</a>),\n",
       "  it may mean that your frontend doesn't currently support widgets.\n",
       "</p>\n"
      ],
      "text/plain": [
       "HBox(children=(IntProgress(value=0, max=48), HTML(value='')))"
      ]
     },
     "metadata": {},
     "output_type": "display_data"
    },
    {
     "name": "stdout",
     "output_type": "stream",
     "text": [
      "\n",
      "[2018-02-12 09:15:15,012][MainProcess][__main__][INFO] Accuracy: 0.858\n",
      "[2018-02-12 09:15:16,160][MainProcess][__main__][INFO] Ran out of patience, increasing train batch size to: 2048\n",
      "––––––––––––––––––––––––––––––––––––––––––––––––––––––––––––––––––––––––––––––––––––––––––––––––––––\n",
      "Epoch 10\n"
     ]
    },
    {
     "data": {
      "application/vnd.jupyter.widget-view+json": {
       "model_id": "6ebca348188f40c19d74aba0ced5e68c",
       "version_major": 2,
       "version_minor": 0
      },
      "text/html": [
       "<p>Failed to display Jupyter Widget of type <code>HBox</code>.</p>\n",
       "<p>\n",
       "  If you're reading this message in the Jupyter Notebook or JupyterLab Notebook, it may mean\n",
       "  that the widgets JavaScript is still loading. If this message persists, it\n",
       "  likely means that the widgets JavaScript library is either not installed or\n",
       "  not enabled. See the <a href=\"https://ipywidgets.readthedocs.io/en/stable/user_install.html\">Jupyter\n",
       "  Widgets Documentation</a> for setup instructions.\n",
       "</p>\n",
       "<p>\n",
       "  If you're reading this message in another frontend (for example, a static\n",
       "  rendering on GitHub or <a href=\"https://nbviewer.jupyter.org/\">NBViewer</a>),\n",
       "  it may mean that your frontend doesn't currently support widgets.\n",
       "</p>\n"
      ],
      "text/plain": [
       "HBox(children=(IntProgress(value=0, max=674), HTML(value='')))"
      ]
     },
     "metadata": {},
     "output_type": "display_data"
    },
    {
     "name": "stdout",
     "output_type": "stream",
     "text": [
      "\n",
      "[2018-02-12 09:17:57,309][MainProcess][lib.checkpoint][INFO] Saving checkpoint: ../../experiments/relation_ranking.02_12_08:43:59/1981.pt\n"
     ]
    },
    {
     "data": {
      "application/vnd.jupyter.widget-view+json": {
       "model_id": "8d8e62e89a2e43f89358f6be8977763e",
       "version_major": 2,
       "version_minor": 0
      },
      "text/html": [
       "<p>Failed to display Jupyter Widget of type <code>HBox</code>.</p>\n",
       "<p>\n",
       "  If you're reading this message in the Jupyter Notebook or JupyterLab Notebook, it may mean\n",
       "  that the widgets JavaScript is still loading. If this message persists, it\n",
       "  likely means that the widgets JavaScript library is either not installed or\n",
       "  not enabled. See the <a href=\"https://ipywidgets.readthedocs.io/en/stable/user_install.html\">Jupyter\n",
       "  Widgets Documentation</a> for setup instructions.\n",
       "</p>\n",
       "<p>\n",
       "  If you're reading this message in another frontend (for example, a static\n",
       "  rendering on GitHub or <a href=\"https://nbviewer.jupyter.org/\">NBViewer</a>),\n",
       "  it may mean that your frontend doesn't currently support widgets.\n",
       "</p>\n"
      ],
      "text/plain": [
       "HBox(children=(IntProgress(value=0, max=48), HTML(value='')))"
      ]
     },
     "metadata": {},
     "output_type": "display_data"
    },
    {
     "name": "stdout",
     "output_type": "stream",
     "text": [
      "\n",
      "[2018-02-12 09:18:12,821][MainProcess][__main__][INFO] Accuracy: 0.853\n",
      "[2018-02-12 09:18:14,520][MainProcess][__main__][INFO] Ran out of patience, increasing train batch size to: 2048\n",
      "––––––––––––––––––––––––––––––––––––––––––––––––––––––––––––––––––––––––––––––––––––––––––––––––––––\n",
      "Epoch 11\n"
     ]
    },
    {
     "data": {
      "application/vnd.jupyter.widget-view+json": {
       "model_id": "a4e7393eea4f4cea8a1cf4910f46dfcd",
       "version_major": 2,
       "version_minor": 0
      },
      "text/html": [
       "<p>Failed to display Jupyter Widget of type <code>HBox</code>.</p>\n",
       "<p>\n",
       "  If you're reading this message in the Jupyter Notebook or JupyterLab Notebook, it may mean\n",
       "  that the widgets JavaScript is still loading. If this message persists, it\n",
       "  likely means that the widgets JavaScript library is either not installed or\n",
       "  not enabled. See the <a href=\"https://ipywidgets.readthedocs.io/en/stable/user_install.html\">Jupyter\n",
       "  Widgets Documentation</a> for setup instructions.\n",
       "</p>\n",
       "<p>\n",
       "  If you're reading this message in another frontend (for example, a static\n",
       "  rendering on GitHub or <a href=\"https://nbviewer.jupyter.org/\">NBViewer</a>),\n",
       "  it may mean that your frontend doesn't currently support widgets.\n",
       "</p>\n"
      ],
      "text/plain": [
       "HBox(children=(IntProgress(value=0, max=674), HTML(value='')))"
      ]
     },
     "metadata": {},
     "output_type": "display_data"
    },
    {
     "name": "stdout",
     "output_type": "stream",
     "text": [
      "\n",
      "[2018-02-12 09:20:54,509][MainProcess][lib.checkpoint][INFO] Saving checkpoint: ../../experiments/relation_ranking.02_12_08:43:59/2158.pt\n"
     ]
    },
    {
     "data": {
      "application/vnd.jupyter.widget-view+json": {
       "model_id": "2328fe409e6047199c15d3fcda8d671c",
       "version_major": 2,
       "version_minor": 0
      },
      "text/html": [
       "<p>Failed to display Jupyter Widget of type <code>HBox</code>.</p>\n",
       "<p>\n",
       "  If you're reading this message in the Jupyter Notebook or JupyterLab Notebook, it may mean\n",
       "  that the widgets JavaScript is still loading. If this message persists, it\n",
       "  likely means that the widgets JavaScript library is either not installed or\n",
       "  not enabled. See the <a href=\"https://ipywidgets.readthedocs.io/en/stable/user_install.html\">Jupyter\n",
       "  Widgets Documentation</a> for setup instructions.\n",
       "</p>\n",
       "<p>\n",
       "  If you're reading this message in another frontend (for example, a static\n",
       "  rendering on GitHub or <a href=\"https://nbviewer.jupyter.org/\">NBViewer</a>),\n",
       "  it may mean that your frontend doesn't currently support widgets.\n",
       "</p>\n"
      ],
      "text/plain": [
       "HBox(children=(IntProgress(value=0, max=48), HTML(value='')))"
      ]
     },
     "metadata": {},
     "output_type": "display_data"
    },
    {
     "name": "stdout",
     "output_type": "stream",
     "text": [
      "\n",
      "[2018-02-12 09:21:09,807][MainProcess][__main__][INFO] Accuracy: 0.853\n",
      "[2018-02-12 09:21:10,972][MainProcess][__main__][INFO] Ran out of patience, increasing train batch size to: 2048\n",
      "––––––––––––––––––––––––––––––––––––––––––––––––––––––––––––––––––––––––––––––––––––––––––––––––––––\n",
      "Epoch 12\n"
     ]
    },
    {
     "data": {
      "application/vnd.jupyter.widget-view+json": {
       "model_id": "e1ce671369674d8fbb3ca3a4b0e4ffaa",
       "version_major": 2,
       "version_minor": 0
      },
      "text/html": [
       "<p>Failed to display Jupyter Widget of type <code>HBox</code>.</p>\n",
       "<p>\n",
       "  If you're reading this message in the Jupyter Notebook or JupyterLab Notebook, it may mean\n",
       "  that the widgets JavaScript is still loading. If this message persists, it\n",
       "  likely means that the widgets JavaScript library is either not installed or\n",
       "  not enabled. See the <a href=\"https://ipywidgets.readthedocs.io/en/stable/user_install.html\">Jupyter\n",
       "  Widgets Documentation</a> for setup instructions.\n",
       "</p>\n",
       "<p>\n",
       "  If you're reading this message in another frontend (for example, a static\n",
       "  rendering on GitHub or <a href=\"https://nbviewer.jupyter.org/\">NBViewer</a>),\n",
       "  it may mean that your frontend doesn't currently support widgets.\n",
       "</p>\n"
      ],
      "text/plain": [
       "HBox(children=(IntProgress(value=0, max=674), HTML(value='')))"
      ]
     },
     "metadata": {},
     "output_type": "display_data"
    },
    {
     "name": "stdout",
     "output_type": "stream",
     "text": [
      "\n",
      "[2018-02-12 09:23:52,005][MainProcess][lib.checkpoint][INFO] Saving checkpoint: ../../experiments/relation_ranking.02_12_08:43:59/2335.pt\n"
     ]
    },
    {
     "data": {
      "application/vnd.jupyter.widget-view+json": {
       "model_id": "e1f0782fe688424a962e639c5bb2955b",
       "version_major": 2,
       "version_minor": 0
      },
      "text/html": [
       "<p>Failed to display Jupyter Widget of type <code>HBox</code>.</p>\n",
       "<p>\n",
       "  If you're reading this message in the Jupyter Notebook or JupyterLab Notebook, it may mean\n",
       "  that the widgets JavaScript is still loading. If this message persists, it\n",
       "  likely means that the widgets JavaScript library is either not installed or\n",
       "  not enabled. See the <a href=\"https://ipywidgets.readthedocs.io/en/stable/user_install.html\">Jupyter\n",
       "  Widgets Documentation</a> for setup instructions.\n",
       "</p>\n",
       "<p>\n",
       "  If you're reading this message in another frontend (for example, a static\n",
       "  rendering on GitHub or <a href=\"https://nbviewer.jupyter.org/\">NBViewer</a>),\n",
       "  it may mean that your frontend doesn't currently support widgets.\n",
       "</p>\n"
      ],
      "text/plain": [
       "HBox(children=(IntProgress(value=0, max=48), HTML(value='')))"
      ]
     },
     "metadata": {},
     "output_type": "display_data"
    },
    {
     "name": "stdout",
     "output_type": "stream",
     "text": [
      "\n",
      "[2018-02-12 09:24:07,676][MainProcess][__main__][INFO] Accuracy: 0.864\n",
      "[2018-02-12 09:24:08,839][MainProcess][__main__][INFO] Ran out of patience, increasing train batch size to: 2048\n",
      "––––––––––––––––––––––––––––––––––––––––––––––––––––––––––––––––––––––––––––––––––––––––––––––––––––\n",
      "Epoch 13\n"
     ]
    },
    {
     "data": {
      "application/vnd.jupyter.widget-view+json": {
       "model_id": "a25e127e939c4a79953936208a3f5dce",
       "version_major": 2,
       "version_minor": 0
      },
      "text/html": [
       "<p>Failed to display Jupyter Widget of type <code>HBox</code>.</p>\n",
       "<p>\n",
       "  If you're reading this message in the Jupyter Notebook or JupyterLab Notebook, it may mean\n",
       "  that the widgets JavaScript is still loading. If this message persists, it\n",
       "  likely means that the widgets JavaScript library is either not installed or\n",
       "  not enabled. See the <a href=\"https://ipywidgets.readthedocs.io/en/stable/user_install.html\">Jupyter\n",
       "  Widgets Documentation</a> for setup instructions.\n",
       "</p>\n",
       "<p>\n",
       "  If you're reading this message in another frontend (for example, a static\n",
       "  rendering on GitHub or <a href=\"https://nbviewer.jupyter.org/\">NBViewer</a>),\n",
       "  it may mean that your frontend doesn't currently support widgets.\n",
       "</p>\n"
      ],
      "text/plain": [
       "HBox(children=(IntProgress(value=0, max=674), HTML(value='')))"
      ]
     },
     "metadata": {},
     "output_type": "display_data"
    },
    {
     "name": "stdout",
     "output_type": "stream",
     "text": [
      "\n",
      "[2018-02-12 09:26:49,442][MainProcess][lib.checkpoint][INFO] Saving checkpoint: ../../experiments/relation_ranking.02_12_08:43:59/2513.pt\n"
     ]
    },
    {
     "data": {
      "application/vnd.jupyter.widget-view+json": {
       "model_id": "f9832b9b429a447e9a2c100f14df0c34",
       "version_major": 2,
       "version_minor": 0
      },
      "text/html": [
       "<p>Failed to display Jupyter Widget of type <code>HBox</code>.</p>\n",
       "<p>\n",
       "  If you're reading this message in the Jupyter Notebook or JupyterLab Notebook, it may mean\n",
       "  that the widgets JavaScript is still loading. If this message persists, it\n",
       "  likely means that the widgets JavaScript library is either not installed or\n",
       "  not enabled. See the <a href=\"https://ipywidgets.readthedocs.io/en/stable/user_install.html\">Jupyter\n",
       "  Widgets Documentation</a> for setup instructions.\n",
       "</p>\n",
       "<p>\n",
       "  If you're reading this message in another frontend (for example, a static\n",
       "  rendering on GitHub or <a href=\"https://nbviewer.jupyter.org/\">NBViewer</a>),\n",
       "  it may mean that your frontend doesn't currently support widgets.\n",
       "</p>\n"
      ],
      "text/plain": [
       "HBox(children=(IntProgress(value=0, max=48), HTML(value='')))"
      ]
     },
     "metadata": {},
     "output_type": "display_data"
    },
    {
     "name": "stdout",
     "output_type": "stream",
     "text": [
      "\n",
      "[2018-02-12 09:27:04,660][MainProcess][__main__][INFO] Accuracy: 0.859\n",
      "[2018-02-12 09:27:05,821][MainProcess][__main__][INFO] Ran out of patience, increasing train batch size to: 2048\n",
      "––––––––––––––––––––––––––––––––––––––––––––––––––––––––––––––––––––––––––––––––––––––––––––––––––––\n",
      "Epoch 14\n"
     ]
    },
    {
     "data": {
      "application/vnd.jupyter.widget-view+json": {
       "model_id": "72d5968cc1524210bd9343585c754f4b",
       "version_major": 2,
       "version_minor": 0
      },
      "text/html": [
       "<p>Failed to display Jupyter Widget of type <code>HBox</code>.</p>\n",
       "<p>\n",
       "  If you're reading this message in the Jupyter Notebook or JupyterLab Notebook, it may mean\n",
       "  that the widgets JavaScript is still loading. If this message persists, it\n",
       "  likely means that the widgets JavaScript library is either not installed or\n",
       "  not enabled. See the <a href=\"https://ipywidgets.readthedocs.io/en/stable/user_install.html\">Jupyter\n",
       "  Widgets Documentation</a> for setup instructions.\n",
       "</p>\n",
       "<p>\n",
       "  If you're reading this message in another frontend (for example, a static\n",
       "  rendering on GitHub or <a href=\"https://nbviewer.jupyter.org/\">NBViewer</a>),\n",
       "  it may mean that your frontend doesn't currently support widgets.\n",
       "</p>\n"
      ],
      "text/plain": [
       "HBox(children=(IntProgress(value=0, max=674), HTML(value='')))"
      ]
     },
     "metadata": {},
     "output_type": "display_data"
    },
    {
     "name": "stdout",
     "output_type": "stream",
     "text": [
      "\n",
      "[2018-02-12 09:29:47,018][MainProcess][lib.checkpoint][INFO] Saving checkpoint: ../../experiments/relation_ranking.02_12_08:43:59/2690.pt\n"
     ]
    },
    {
     "data": {
      "application/vnd.jupyter.widget-view+json": {
       "model_id": "c989ce7de3534803ac96158b849885c2",
       "version_major": 2,
       "version_minor": 0
      },
      "text/html": [
       "<p>Failed to display Jupyter Widget of type <code>HBox</code>.</p>\n",
       "<p>\n",
       "  If you're reading this message in the Jupyter Notebook or JupyterLab Notebook, it may mean\n",
       "  that the widgets JavaScript is still loading. If this message persists, it\n",
       "  likely means that the widgets JavaScript library is either not installed or\n",
       "  not enabled. See the <a href=\"https://ipywidgets.readthedocs.io/en/stable/user_install.html\">Jupyter\n",
       "  Widgets Documentation</a> for setup instructions.\n",
       "</p>\n",
       "<p>\n",
       "  If you're reading this message in another frontend (for example, a static\n",
       "  rendering on GitHub or <a href=\"https://nbviewer.jupyter.org/\">NBViewer</a>),\n",
       "  it may mean that your frontend doesn't currently support widgets.\n",
       "</p>\n"
      ],
      "text/plain": [
       "HBox(children=(IntProgress(value=0, max=48), HTML(value='')))"
      ]
     },
     "metadata": {},
     "output_type": "display_data"
    },
    {
     "name": "stdout",
     "output_type": "stream",
     "text": [
      "\n",
      "[2018-02-12 09:30:02,638][MainProcess][__main__][INFO] Accuracy: 0.855\n",
      "[2018-02-12 09:30:03,853][MainProcess][__main__][INFO] Ran out of patience, increasing train batch size to: 2048\n",
      "––––––––––––––––––––––––––––––––––––––––––––––––––––––––––––––––––––––––––––––––––––––––––––––––––––\n",
      "Epoch 15\n"
     ]
    },
    {
     "data": {
      "application/vnd.jupyter.widget-view+json": {
       "model_id": "1c8f59f919424dcc8830d92bc26da0c0",
       "version_major": 2,
       "version_minor": 0
      },
      "text/html": [
       "<p>Failed to display Jupyter Widget of type <code>HBox</code>.</p>\n",
       "<p>\n",
       "  If you're reading this message in the Jupyter Notebook or JupyterLab Notebook, it may mean\n",
       "  that the widgets JavaScript is still loading. If this message persists, it\n",
       "  likely means that the widgets JavaScript library is either not installed or\n",
       "  not enabled. See the <a href=\"https://ipywidgets.readthedocs.io/en/stable/user_install.html\">Jupyter\n",
       "  Widgets Documentation</a> for setup instructions.\n",
       "</p>\n",
       "<p>\n",
       "  If you're reading this message in another frontend (for example, a static\n",
       "  rendering on GitHub or <a href=\"https://nbviewer.jupyter.org/\">NBViewer</a>),\n",
       "  it may mean that your frontend doesn't currently support widgets.\n",
       "</p>\n"
      ],
      "text/plain": [
       "HBox(children=(IntProgress(value=0, max=674), HTML(value='')))"
      ]
     },
     "metadata": {},
     "output_type": "display_data"
    },
    {
     "name": "stdout",
     "output_type": "stream",
     "text": [
      "\n",
      "[2018-02-12 09:32:47,035][MainProcess][lib.checkpoint][INFO] Saving checkpoint: ../../experiments/relation_ranking.02_12_08:43:59/2870.pt\n"
     ]
    },
    {
     "data": {
      "application/vnd.jupyter.widget-view+json": {
       "model_id": "ef9f444e13384e0682835bd3aabe0caf",
       "version_major": 2,
       "version_minor": 0
      },
      "text/html": [
       "<p>Failed to display Jupyter Widget of type <code>HBox</code>.</p>\n",
       "<p>\n",
       "  If you're reading this message in the Jupyter Notebook or JupyterLab Notebook, it may mean\n",
       "  that the widgets JavaScript is still loading. If this message persists, it\n",
       "  likely means that the widgets JavaScript library is either not installed or\n",
       "  not enabled. See the <a href=\"https://ipywidgets.readthedocs.io/en/stable/user_install.html\">Jupyter\n",
       "  Widgets Documentation</a> for setup instructions.\n",
       "</p>\n",
       "<p>\n",
       "  If you're reading this message in another frontend (for example, a static\n",
       "  rendering on GitHub or <a href=\"https://nbviewer.jupyter.org/\">NBViewer</a>),\n",
       "  it may mean that your frontend doesn't currently support widgets.\n",
       "</p>\n"
      ],
      "text/plain": [
       "HBox(children=(IntProgress(value=0, max=48), HTML(value='')))"
      ]
     },
     "metadata": {},
     "output_type": "display_data"
    },
    {
     "name": "stdout",
     "output_type": "stream",
     "text": [
      "\n",
      "[2018-02-12 09:33:02,442][MainProcess][__main__][INFO] Accuracy: 0.856\n",
      "[2018-02-12 09:33:03,608][MainProcess][__main__][INFO] Ran out of patience, increasing train batch size to: 2048\n",
      "––––––––––––––––––––––––––––––––––––––––––––––––––––––––––––––––––––––––––––––––––––––––––––––––––––\n",
      "Epoch 16\n"
     ]
    },
    {
     "data": {
      "application/vnd.jupyter.widget-view+json": {
       "model_id": "4baa28fb115244d09986c659bdb41d54",
       "version_major": 2,
       "version_minor": 0
      },
      "text/html": [
       "<p>Failed to display Jupyter Widget of type <code>HBox</code>.</p>\n",
       "<p>\n",
       "  If you're reading this message in the Jupyter Notebook or JupyterLab Notebook, it may mean\n",
       "  that the widgets JavaScript is still loading. If this message persists, it\n",
       "  likely means that the widgets JavaScript library is either not installed or\n",
       "  not enabled. See the <a href=\"https://ipywidgets.readthedocs.io/en/stable/user_install.html\">Jupyter\n",
       "  Widgets Documentation</a> for setup instructions.\n",
       "</p>\n",
       "<p>\n",
       "  If you're reading this message in another frontend (for example, a static\n",
       "  rendering on GitHub or <a href=\"https://nbviewer.jupyter.org/\">NBViewer</a>),\n",
       "  it may mean that your frontend doesn't currently support widgets.\n",
       "</p>\n"
      ],
      "text/plain": [
       "HBox(children=(IntProgress(value=0, max=674), HTML(value='')))"
      ]
     },
     "metadata": {},
     "output_type": "display_data"
    },
    {
     "ename": "KeyboardInterrupt",
     "evalue": "",
     "output_type": "error",
     "traceback": [
      "\u001b[0;31m---------------------------------------------------------------------------\u001b[0m",
      "\u001b[0;31mKeyboardInterrupt\u001b[0m                         Traceback (most recent call last)",
      "\u001b[0;32m<ipython-input-15-2da0ffaf5447>\u001b[0m in \u001b[0;36m<module>\u001b[0;34m()\u001b[0m\n\u001b[0;32m----> 1\u001b[0;31m \u001b[0mtrain\u001b[0m\u001b[0;34m(\u001b[0m\u001b[0;34m)\u001b[0m\u001b[0;34m\u001b[0m\u001b[0m\n\u001b[0m",
      "\u001b[0;32m<ipython-input-14-764305ca21b2>\u001b[0m in \u001b[0;36mtrain\u001b[0;34m(resources, checkpoint, margin, **kwargs)\u001b[0m\n\u001b[1;32m     62\u001b[0m \u001b[0;34m\u001b[0m\u001b[0m\n\u001b[1;32m     63\u001b[0m             \u001b[0;31m# Backward propagation\u001b[0m\u001b[0;34m\u001b[0m\u001b[0;34m\u001b[0m\u001b[0m\n\u001b[0;32m---> 64\u001b[0;31m             \u001b[0mloss\u001b[0m\u001b[0;34m.\u001b[0m\u001b[0mbackward\u001b[0m\u001b[0;34m(\u001b[0m\u001b[0;34m)\u001b[0m\u001b[0;34m\u001b[0m\u001b[0m\n\u001b[0m\u001b[1;32m     65\u001b[0m             \u001b[0moptimizer\u001b[0m\u001b[0;34m.\u001b[0m\u001b[0mstep\u001b[0m\u001b[0;34m(\u001b[0m\u001b[0;34m)\u001b[0m\u001b[0;34m\u001b[0m\u001b[0m\n\u001b[1;32m     66\u001b[0m \u001b[0;34m\u001b[0m\u001b[0m\n",
      "\u001b[0;32m/usr/local/lib/python3.6/dist-packages/torch/autograd/variable.py\u001b[0m in \u001b[0;36mbackward\u001b[0;34m(self, gradient, retain_graph, create_graph, retain_variables)\u001b[0m\n\u001b[1;32m    165\u001b[0m                 \u001b[0mVariable\u001b[0m\u001b[0;34m.\u001b[0m\u001b[0;34m\u001b[0m\u001b[0m\n\u001b[1;32m    166\u001b[0m         \"\"\"\n\u001b[0;32m--> 167\u001b[0;31m         \u001b[0mtorch\u001b[0m\u001b[0;34m.\u001b[0m\u001b[0mautograd\u001b[0m\u001b[0;34m.\u001b[0m\u001b[0mbackward\u001b[0m\u001b[0;34m(\u001b[0m\u001b[0mself\u001b[0m\u001b[0;34m,\u001b[0m \u001b[0mgradient\u001b[0m\u001b[0;34m,\u001b[0m \u001b[0mretain_graph\u001b[0m\u001b[0;34m,\u001b[0m \u001b[0mcreate_graph\u001b[0m\u001b[0;34m,\u001b[0m \u001b[0mretain_variables\u001b[0m\u001b[0;34m)\u001b[0m\u001b[0;34m\u001b[0m\u001b[0m\n\u001b[0m\u001b[1;32m    168\u001b[0m \u001b[0;34m\u001b[0m\u001b[0m\n\u001b[1;32m    169\u001b[0m     \u001b[0;32mdef\u001b[0m \u001b[0mregister_hook\u001b[0m\u001b[0;34m(\u001b[0m\u001b[0mself\u001b[0m\u001b[0;34m,\u001b[0m \u001b[0mhook\u001b[0m\u001b[0;34m)\u001b[0m\u001b[0;34m:\u001b[0m\u001b[0;34m\u001b[0m\u001b[0m\n",
      "\u001b[0;32m/usr/local/lib/python3.6/dist-packages/torch/autograd/__init__.py\u001b[0m in \u001b[0;36mbackward\u001b[0;34m(variables, grad_variables, retain_graph, create_graph, retain_variables)\u001b[0m\n\u001b[1;32m     97\u001b[0m \u001b[0;34m\u001b[0m\u001b[0m\n\u001b[1;32m     98\u001b[0m     Variable._execution_engine.run_backward(\n\u001b[0;32m---> 99\u001b[0;31m         variables, grad_variables, retain_graph)\n\u001b[0m\u001b[1;32m    100\u001b[0m \u001b[0;34m\u001b[0m\u001b[0m\n\u001b[1;32m    101\u001b[0m \u001b[0;34m\u001b[0m\u001b[0m\n",
      "\u001b[0;31mKeyboardInterrupt\u001b[0m: "
     ]
    }
   ],
   "source": [
    "train()"
   ]
  },
  {
   "cell_type": "markdown",
   "metadata": {},
   "source": [
    "## Hyperparameter Optimization"
   ]
  },
  {
   "cell_type": "code",
   "execution_count": null,
   "metadata": {},
   "outputs": [],
   "source": [
    "import torch\n",
    "import random\n",
    "\n",
    "from skopt.space import Real, Integer, Categorical\n",
    "\n",
    "from lib.hyperparameter_optimization import hyperband\n",
    "from lib.configurable import add_config\n",
    "from lib.configurable import log_config\n",
    "\n",
    "space  = [Real(0, 0.9, name='dropout_text'),\n",
    "          Real(0, 0.9, name='dropout_relation'),\n",
    "          Real(0.1, 1.9, name='margin'), # 1 == 90 degrees in consine distance\n",
    "          Integer(50, 250, name='hidden_size'), # We multiply this hyperparameter by two to allow for bidirectional\n",
    "          Real(0, 5, name='max_grad_norm')]\n",
    "\n",
    "def objective(hidden_size, dropout_relation, dropout_text, max_grad_norm, margin, \n",
    "              *args, **kwargs):\n",
    "\n",
    "    add_config({\n",
    "        'lib': {\n",
    "            'nn.yu_model.YuModel.__init__': {\n",
    "                'embedding_size': 300,\n",
    "                'hidden_size': int(hidden_size * 2),\n",
    "                'dropout_relation': float(dropout_relation),\n",
    "                'dropout_text': float(dropout_text),\n",
    "                'n_layers_relation': 1\n",
    "            },\n",
    "            'optimizer.Optimizer.__init__.max_grad_norm': max_grad_norm,\n",
    "        },\n",
    "        'lib.optim.adam.Adam.__init__': {\n",
    "            'amsgrad': True\n",
    "        }\n",
    "    })\n",
    "\n",
    "    ret = train(margin=margin, *args, **kwargs)\n",
    "    print('=' * 100)\n",
    "    torch.cuda.empty_cache()\n",
    "    return ret\n",
    "\n",
    "scores, hyperparameters = hyperband(objective, space, max_resources_per_model=10, total_resources=150)\n",
    "print('Best Accuracy: %.4f' % min(scores))"
   ]
  }
 ],
 "metadata": {
  "kernelspec": {
   "display_name": "Python 3",
   "language": "python",
   "name": "python3"
  },
  "language_info": {
   "codemirror_mode": {
    "name": "ipython",
    "version": 3
   },
   "file_extension": ".py",
   "mimetype": "text/x-python",
   "name": "python",
   "nbconvert_exporter": "python",
   "pygments_lexer": "ipython3",
   "version": "3.6.4"
  }
 },
 "nbformat": 4,
 "nbformat_minor": 2
}
