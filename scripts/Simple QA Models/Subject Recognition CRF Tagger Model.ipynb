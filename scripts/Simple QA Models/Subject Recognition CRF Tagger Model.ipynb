{
 "cells": [
  {
   "cell_type": "markdown",
   "metadata": {},
   "source": [
    "# Subject Recognition CRF Tagger Model"
   ]
  },
  {
   "cell_type": "code",
   "execution_count": 1,
   "metadata": {},
   "outputs": [],
   "source": [
    "import sys\n",
    "sys.path.insert(0, '../../../allennlp')\n",
    "sys.path.insert(0, '../../')"
   ]
  },
  {
   "cell_type": "code",
   "execution_count": 2,
   "metadata": {},
   "outputs": [],
   "source": [
    "import os\n",
    "from allennlp.common.params import Params\n",
    "\n",
    "crf_tagger = {\n",
    "    \"dataset_reader\": {\n",
    "        \"type\": \"sequence_tagging\",\n",
    "        \"word_tag_delimiter\": \"/\",\n",
    "        \"token_indexers\": {\n",
    "            \"tokens\": {\n",
    "                \"type\": \"single_id\",\n",
    "                \"lowercase_tokens\": True\n",
    "            },\n",
    "            \"token_characters\": {\n",
    "                \"type\": \"characters\",\n",
    "                \"character_tokenizer\": {\n",
    "                    \"end_tokens\": [\n",
    "                        \"@@PADDING@@\",\n",
    "                        \"@@PADDING@@\",\n",
    "                        \"@@PADDING@@\",\n",
    "                        \"@@PADDING@@\"\n",
    "                    ]\n",
    "                }\n",
    "            }\n",
    "        }\n",
    "    },\n",
    "    # TODO: Update this to the location for subject name recognition training data\n",
    "    \"train_data_path\": './../../data/subject_recognition/train.txt', \n",
    "    \"validation_data_path\": './../../data/subject_recognition/dev.txt',\n",
    "    \"model\": {\n",
    "        \"type\": \"crf_tagger\",\n",
    "        \"text_field_embedder\": {\n",
    "            \"tokens\": {\n",
    "                \"type\": \"embedding\",\n",
    "                \"pretrained_file\": \"https://s3-us-west-2.amazonaws.com/allennlp/datasets/glove/glove.6B.100d.txt.gz\",\n",
    "                \"embedding_dim\": 100,\n",
    "                \"trainable\": False\n",
    "            },\n",
    "            \"token_characters\": {\n",
    "                \"type\": \"character_encoding\",\n",
    "                \"embedding\": {\n",
    "                    \"embedding_dim\": 16\n",
    "                },\n",
    "                \"encoder\": {\n",
    "                    \"type\": \"cnn\",\n",
    "                    \"embedding_dim\": 16,\n",
    "                    \"num_filters\": 100,\n",
    "                    \"ngram_filter_sizes\": [\n",
    "                        5\n",
    "                    ]\n",
    "                },\n",
    "                \"dropout\": 0.6\n",
    "            }\n",
    "        },\n",
    "        \"encoder\": {\n",
    "            \"type\": \"lstm\",\n",
    "            \"input_size\": 200,\n",
    "            \"hidden_size\": 300,\n",
    "            \"num_layers\": 3,\n",
    "            \"dropout\": 0.2,\n",
    "            \"bidirectional\": True\n",
    "        }\n",
    "    },\n",
    "    \"iterator\": {\n",
    "        \"type\": \"bucket\",\n",
    "        \"sorting_keys\": [\n",
    "            [\n",
    "                \"tokens\",\n",
    "                \"num_tokens\"\n",
    "            ]\n",
    "        ],\n",
    "        \"batch_size\": 16,\n",
    "    },\n",
    "    \"trainer\": {\n",
    "        \"optimizer\": \"adam\",\n",
    "        \"num_epochs\": 30,\n",
    "        \"grad_norm\": 1.0,\n",
    "        \"cuda_device\": 0,\n",
    "        \"patience\": 10,\n",
    "        \"validation_metric\": \"+accuracy\",\n",
    "        \"learning_rate_scheduler\":  {\n",
    "          \"type\": \"reduce_on_plateau\",\n",
    "          \"factor\": 0.5,\n",
    "          \"mode\": \"max\",\n",
    "          \"patience\": 2,\n",
    "        },\n",
    "        \"optimizer\": {\n",
    "          \"type\": \"adam\",\n",
    "        }\n",
    "    }\n",
    "}"
   ]
  },
  {
   "cell_type": "code",
   "execution_count": 3,
   "metadata": {},
   "outputs": [
    {
     "name": "stdout",
     "output_type": "stream",
     "text": [
      "Serialization Directory: ../../experiments/subject_recognition.02_01_19:36:36\n",
      "[2018-02-01 19:36:36,418][MainProcess][allennlp.common.params][INFO] random_seed = 13370\n",
      "[2018-02-01 19:36:36,418][MainProcess][allennlp.common.params][INFO] numpy_seed = 1337\n",
      "[2018-02-01 19:36:36,419][MainProcess][allennlp.common.params][INFO] pytorch_seed = 133\n",
      "[2018-02-01 19:36:36,420][MainProcess][allennlp.common.checks][INFO] Pytorch version: 0.3.0.post4\n",
      "[2018-02-01 19:36:36,422][MainProcess][allennlp.common.params][INFO] dataset_reader.type = sequence_tagging\n",
      "[2018-02-01 19:36:36,423][MainProcess][allennlp.common.params][INFO] dataset_reader.token_indexers.tokens.type = single_id\n",
      "[2018-02-01 19:36:36,424][MainProcess][allennlp.common.params][INFO] dataset_reader.token_indexers.tokens.namespace = tokens\n",
      "[2018-02-01 19:36:36,424][MainProcess][allennlp.common.params][INFO] dataset_reader.token_indexers.tokens.lowercase_tokens = True\n",
      "[2018-02-01 19:36:36,425][MainProcess][allennlp.common.params][INFO] dataset_reader.token_indexers.token_characters.type = characters\n",
      "[2018-02-01 19:36:36,425][MainProcess][allennlp.common.params][INFO] dataset_reader.token_indexers.token_characters.namespace = token_characters\n",
      "[2018-02-01 19:36:36,426][MainProcess][allennlp.common.params][INFO] dataset_reader.token_indexers.token_characters.character_tokenizer.byte_encoding = None\n",
      "[2018-02-01 19:36:36,426][MainProcess][allennlp.common.params][INFO] dataset_reader.token_indexers.token_characters.character_tokenizer.lowercase_characters = False\n",
      "[2018-02-01 19:36:36,427][MainProcess][allennlp.common.params][INFO] dataset_reader.token_indexers.token_characters.character_tokenizer.start_tokens = None\n",
      "[2018-02-01 19:36:36,428][MainProcess][allennlp.common.params][INFO] dataset_reader.token_indexers.token_characters.character_tokenizer.end_tokens = ['@@PADDING@@', '@@PADDING@@', '@@PADDING@@', '@@PADDING@@']\n",
      "[2018-02-01 19:36:36,428][MainProcess][allennlp.common.params][INFO] dataset_reader.word_tag_delimiter = /\n",
      "[2018-02-01 19:36:36,429][MainProcess][allennlp.common.params][INFO] dataset_reader.token_delimiter = None\n",
      "[2018-02-01 19:36:36,430][MainProcess][allennlp.common.params][INFO] train_data_path = ./../../data/subject_recognition/train.txt\n",
      "[2018-02-01 19:36:36,430][MainProcess][allennlp.commands.train][INFO] Reading training data from ./../../data/subject_recognition/train.txt\n",
      "[2018-02-01 19:36:36,431][MainProcess][allennlp.data.dataset_readers.sequence_tagging][INFO] Reading instances from lines in file at: ./../../data/subject_recognition/train.txt\n"
     ]
    },
    {
     "name": "stderr",
     "output_type": "stream",
     "text": [
      "74520it [00:02, 31022.92it/s]"
     ]
    },
    {
     "name": "stdout",
     "output_type": "stream",
     "text": [
      "[2018-02-01 19:36:38,909][MainProcess][allennlp.common.params][INFO] validation_data_path = ./../../data/subject_recognition/dev.txt\n",
      "[2018-02-01 19:36:38,910][MainProcess][allennlp.commands.train][INFO] Reading validation data from ./../../data/subject_recognition/dev.txt\n",
      "[2018-02-01 19:36:38,911][MainProcess][allennlp.data.dataset_readers.sequence_tagging][INFO] Reading instances from lines in file at: ./../../data/subject_recognition/dev.txt\n"
     ]
    },
    {
     "name": "stderr",
     "output_type": "stream",
     "text": [
      "\n",
      "10648it [00:00, 49433.40it/s]"
     ]
    },
    {
     "name": "stdout",
     "output_type": "stream",
     "text": [
      "[2018-02-01 19:36:39,140][MainProcess][allennlp.common.params][INFO] test_data_path = None\n",
      "[2018-02-01 19:36:39,140][MainProcess][allennlp.commands.train][INFO] Creating a vocabulary using train, validation data.\n"
     ]
    },
    {
     "name": "stderr",
     "output_type": "stream",
     "text": [
      "\n"
     ]
    },
    {
     "name": "stdout",
     "output_type": "stream",
     "text": [
      "[2018-02-01 19:36:39,243][MainProcess][allennlp.common.params][INFO] vocabulary.directory_path = None\n",
      "[2018-02-01 19:36:39,244][MainProcess][allennlp.common.params][INFO] vocabulary.min_count = 1\n",
      "[2018-02-01 19:36:39,244][MainProcess][allennlp.common.params][INFO] vocabulary.max_vocab_size = None\n",
      "[2018-02-01 19:36:39,245][MainProcess][allennlp.common.params][INFO] vocabulary.non_padded_namespaces = ('*tags', '*labels')\n",
      "[2018-02-01 19:36:39,246][MainProcess][allennlp.common.params][INFO] vocabulary.only_include_pretrained_words = False\n",
      "[2018-02-01 19:36:39,246][MainProcess][allennlp.data.vocabulary][INFO] Fitting token dictionary from dataset.\n"
     ]
    },
    {
     "name": "stderr",
     "output_type": "stream",
     "text": [
      "100%|##########| 85168/85168 [00:06<00:00, 12671.65it/s]\n"
     ]
    },
    {
     "name": "stdout",
     "output_type": "stream",
     "text": [
      "[2018-02-01 19:36:46,146][MainProcess][allennlp.common.params][INFO] model.type = crf_tagger\n",
      "[2018-02-01 19:36:46,147][MainProcess][allennlp.common.params][INFO] model.text_field_embedder.type = basic\n",
      "[2018-02-01 19:36:46,147][MainProcess][allennlp.common.params][INFO] model.text_field_embedder.tokens.type = embedding\n",
      "[2018-02-01 19:36:46,148][MainProcess][allennlp.common.params][INFO] model.text_field_embedder.tokens.num_embeddings = None\n",
      "[2018-02-01 19:36:46,149][MainProcess][allennlp.common.params][INFO] model.text_field_embedder.tokens.vocab_namespace = tokens\n",
      "[2018-02-01 19:36:46,149][MainProcess][allennlp.common.params][INFO] model.text_field_embedder.tokens.embedding_dim = 100\n",
      "[2018-02-01 19:36:46,150][MainProcess][allennlp.common.params][INFO] model.text_field_embedder.tokens.pretrained_file = https://s3-us-west-2.amazonaws.com/allennlp/datasets/glove/glove.6B.100d.txt.gz\n",
      "[2018-02-01 19:36:46,150][MainProcess][allennlp.common.params][INFO] model.text_field_embedder.tokens.projection_dim = None\n",
      "[2018-02-01 19:36:46,151][MainProcess][allennlp.common.params][INFO] model.text_field_embedder.tokens.trainable = False\n",
      "[2018-02-01 19:36:46,151][MainProcess][allennlp.common.params][INFO] model.text_field_embedder.tokens.padding_index = None\n",
      "[2018-02-01 19:36:46,152][MainProcess][allennlp.common.params][INFO] model.text_field_embedder.tokens.max_norm = None\n",
      "[2018-02-01 19:36:46,153][MainProcess][allennlp.common.params][INFO] model.text_field_embedder.tokens.norm_type = 2.0\n",
      "[2018-02-01 19:36:46,153][MainProcess][allennlp.common.params][INFO] model.text_field_embedder.tokens.scale_grad_by_freq = False\n",
      "[2018-02-01 19:36:46,154][MainProcess][allennlp.common.params][INFO] model.text_field_embedder.tokens.sparse = False\n",
      "[2018-02-01 19:36:46,158][MainProcess][allennlp.modules.token_embedders.embedding][INFO] Reading embeddings from file\n",
      "[2018-02-01 19:36:51,468][MainProcess][allennlp.modules.token_embedders.embedding][INFO] Initializing pre-trained embedding layer\n",
      "[2018-02-01 19:36:51,905][MainProcess][allennlp.common.params][INFO] model.text_field_embedder.token_characters.type = character_encoding\n",
      "[2018-02-01 19:36:51,906][MainProcess][allennlp.common.params][INFO] model.text_field_embedder.token_characters.embedding.num_embeddings = None\n",
      "[2018-02-01 19:36:51,906][MainProcess][allennlp.common.params][INFO] model.text_field_embedder.token_characters.embedding.vocab_namespace = token_characters\n",
      "[2018-02-01 19:36:51,907][MainProcess][allennlp.common.params][INFO] model.text_field_embedder.token_characters.embedding.embedding_dim = 16\n",
      "[2018-02-01 19:36:51,908][MainProcess][allennlp.common.params][INFO] model.text_field_embedder.token_characters.embedding.pretrained_file = None\n",
      "[2018-02-01 19:36:51,908][MainProcess][allennlp.common.params][INFO] model.text_field_embedder.token_characters.embedding.projection_dim = None\n",
      "[2018-02-01 19:36:51,909][MainProcess][allennlp.common.params][INFO] model.text_field_embedder.token_characters.embedding.trainable = True\n",
      "[2018-02-01 19:36:51,909][MainProcess][allennlp.common.params][INFO] model.text_field_embedder.token_characters.embedding.padding_index = None\n",
      "[2018-02-01 19:36:51,909][MainProcess][allennlp.common.params][INFO] model.text_field_embedder.token_characters.embedding.max_norm = None\n",
      "[2018-02-01 19:36:51,910][MainProcess][allennlp.common.params][INFO] model.text_field_embedder.token_characters.embedding.norm_type = 2.0\n",
      "[2018-02-01 19:36:51,910][MainProcess][allennlp.common.params][INFO] model.text_field_embedder.token_characters.embedding.scale_grad_by_freq = False\n",
      "[2018-02-01 19:36:51,911][MainProcess][allennlp.common.params][INFO] model.text_field_embedder.token_characters.embedding.sparse = False\n",
      "[2018-02-01 19:36:51,911][MainProcess][allennlp.common.params][INFO] model.text_field_embedder.token_characters.encoder.type = cnn\n",
      "[2018-02-01 19:36:51,912][MainProcess][allennlp.common.params][INFO] model.text_field_embedder.token_characters.encoder.embedding_dim = 16\n",
      "[2018-02-01 19:36:51,912][MainProcess][allennlp.common.params][INFO] model.text_field_embedder.token_characters.encoder.output_dim = None\n",
      "[2018-02-01 19:36:51,913][MainProcess][allennlp.common.params][INFO] model.text_field_embedder.token_characters.encoder.num_filters = 100\n",
      "[2018-02-01 19:36:51,913][MainProcess][allennlp.common.params][INFO] model.text_field_embedder.token_characters.encoder.conv_layer_activation = relu\n",
      "[2018-02-01 19:36:51,913][MainProcess][allennlp.common.params][INFO] model.text_field_embedder.token_characters.encoder.ngram_filter_sizes = [5]\n",
      "[2018-02-01 19:36:51,915][MainProcess][allennlp.common.params][INFO] model.text_field_embedder.token_characters.dropout = 0.6\n",
      "[2018-02-01 19:36:51,917][MainProcess][allennlp.common.params][INFO] model.encoder.type = lstm\n",
      "[2018-02-01 19:36:51,917][MainProcess][allennlp.common.params][INFO] model.encoder.batch_first = True\n",
      "[2018-02-01 19:36:51,926][MainProcess][allennlp.common.params][INFO] Converting Params object to dict; logging of default values will not occur when dictionary parameters are used subsequently.\n",
      "[2018-02-01 19:36:51,927][MainProcess][allennlp.common.params][INFO] CURRENTLY DEFINED PARAMETERS: \n",
      "[2018-02-01 19:36:51,928][MainProcess][allennlp.common.params][INFO] model.encoder.input_size = 200\n",
      "[2018-02-01 19:36:51,928][MainProcess][allennlp.common.params][INFO] model.encoder.hidden_size = 300\n",
      "[2018-02-01 19:36:51,929][MainProcess][allennlp.common.params][INFO] model.encoder.num_layers = 3\n",
      "[2018-02-01 19:36:51,929][MainProcess][allennlp.common.params][INFO] model.encoder.dropout = 0.2\n",
      "[2018-02-01 19:36:51,930][MainProcess][allennlp.common.params][INFO] model.encoder.bidirectional = True\n",
      "[2018-02-01 19:36:51,930][MainProcess][allennlp.common.params][INFO] model.encoder.batch_first = True\n",
      "[2018-02-01 19:36:51,960][MainProcess][allennlp.common.params][INFO] model.label_namespace = labels\n",
      "[2018-02-01 19:36:51,960][MainProcess][allennlp.common.params][INFO] model.initializer = []\n",
      "[2018-02-01 19:36:51,961][MainProcess][allennlp.common.params][INFO] model.regularizer = []\n",
      "[2018-02-01 19:36:51,962][MainProcess][allennlp.nn.initializers][INFO] Initializing parameters\n",
      "[2018-02-01 19:36:51,962][MainProcess][allennlp.nn.initializers][INFO] Done initializing parameters; the following parameters are using their default initialization from their code\n",
      "[2018-02-01 19:36:51,963][MainProcess][allennlp.nn.initializers][INFO]    crf.end_transitions\n",
      "[2018-02-01 19:36:51,963][MainProcess][allennlp.nn.initializers][INFO]    crf.start_transitions\n",
      "[2018-02-01 19:36:51,964][MainProcess][allennlp.nn.initializers][INFO]    crf.transitions\n",
      "[2018-02-01 19:36:51,964][MainProcess][allennlp.nn.initializers][INFO]    encoder._module.bias_hh_l0\n",
      "[2018-02-01 19:36:51,965][MainProcess][allennlp.nn.initializers][INFO]    encoder._module.bias_hh_l0_reverse\n",
      "[2018-02-01 19:36:51,966][MainProcess][allennlp.nn.initializers][INFO]    encoder._module.bias_hh_l1\n",
      "[2018-02-01 19:36:51,967][MainProcess][allennlp.nn.initializers][INFO]    encoder._module.bias_hh_l1_reverse\n",
      "[2018-02-01 19:36:51,967][MainProcess][allennlp.nn.initializers][INFO]    encoder._module.bias_hh_l2\n",
      "[2018-02-01 19:36:51,968][MainProcess][allennlp.nn.initializers][INFO]    encoder._module.bias_hh_l2_reverse\n",
      "[2018-02-01 19:36:51,968][MainProcess][allennlp.nn.initializers][INFO]    encoder._module.bias_ih_l0\n",
      "[2018-02-01 19:36:51,969][MainProcess][allennlp.nn.initializers][INFO]    encoder._module.bias_ih_l0_reverse\n",
      "[2018-02-01 19:36:51,969][MainProcess][allennlp.nn.initializers][INFO]    encoder._module.bias_ih_l1\n",
      "[2018-02-01 19:36:51,970][MainProcess][allennlp.nn.initializers][INFO]    encoder._module.bias_ih_l1_reverse\n",
      "[2018-02-01 19:36:51,971][MainProcess][allennlp.nn.initializers][INFO]    encoder._module.bias_ih_l2\n",
      "[2018-02-01 19:36:51,971][MainProcess][allennlp.nn.initializers][INFO]    encoder._module.bias_ih_l2_reverse\n",
      "[2018-02-01 19:36:51,972][MainProcess][allennlp.nn.initializers][INFO]    encoder._module.weight_hh_l0\n",
      "[2018-02-01 19:36:51,972][MainProcess][allennlp.nn.initializers][INFO]    encoder._module.weight_hh_l0_reverse\n",
      "[2018-02-01 19:36:51,973][MainProcess][allennlp.nn.initializers][INFO]    encoder._module.weight_hh_l1\n",
      "[2018-02-01 19:36:51,973][MainProcess][allennlp.nn.initializers][INFO]    encoder._module.weight_hh_l1_reverse\n"
     ]
    },
    {
     "name": "stdout",
     "output_type": "stream",
     "text": [
      "[2018-02-01 19:36:51,974][MainProcess][allennlp.nn.initializers][INFO]    encoder._module.weight_hh_l2\n",
      "[2018-02-01 19:36:51,974][MainProcess][allennlp.nn.initializers][INFO]    encoder._module.weight_hh_l2_reverse\n",
      "[2018-02-01 19:36:51,975][MainProcess][allennlp.nn.initializers][INFO]    encoder._module.weight_ih_l0\n",
      "[2018-02-01 19:36:51,975][MainProcess][allennlp.nn.initializers][INFO]    encoder._module.weight_ih_l0_reverse\n",
      "[2018-02-01 19:36:51,976][MainProcess][allennlp.nn.initializers][INFO]    encoder._module.weight_ih_l1\n",
      "[2018-02-01 19:36:51,976][MainProcess][allennlp.nn.initializers][INFO]    encoder._module.weight_ih_l1_reverse\n",
      "[2018-02-01 19:36:51,977][MainProcess][allennlp.nn.initializers][INFO]    encoder._module.weight_ih_l2\n",
      "[2018-02-01 19:36:51,977][MainProcess][allennlp.nn.initializers][INFO]    encoder._module.weight_ih_l2_reverse\n",
      "[2018-02-01 19:36:51,977][MainProcess][allennlp.nn.initializers][INFO]    tag_projection_layer._module.bias\n",
      "[2018-02-01 19:36:51,978][MainProcess][allennlp.nn.initializers][INFO]    tag_projection_layer._module.weight\n",
      "[2018-02-01 19:36:51,978][MainProcess][allennlp.nn.initializers][INFO]    text_field_embedder.token_embedder_token_characters._embedding._module.weight\n",
      "[2018-02-01 19:36:51,979][MainProcess][allennlp.nn.initializers][INFO]    text_field_embedder.token_embedder_token_characters._encoder._module.conv_layer_0.bias\n",
      "[2018-02-01 19:36:51,980][MainProcess][allennlp.nn.initializers][INFO]    text_field_embedder.token_embedder_token_characters._encoder._module.conv_layer_0.weight\n",
      "[2018-02-01 19:36:51,980][MainProcess][allennlp.nn.initializers][INFO]    text_field_embedder.token_embedder_tokens.weight\n",
      "[2018-02-01 19:36:51,980][MainProcess][allennlp.common.params][INFO] iterator.type = bucket\n",
      "[2018-02-01 19:36:51,981][MainProcess][allennlp.common.params][INFO] iterator.sorting_keys = [['tokens', 'num_tokens']]\n",
      "[2018-02-01 19:36:51,981][MainProcess][allennlp.common.params][INFO] iterator.padding_noise = 0.1\n",
      "[2018-02-01 19:36:51,982][MainProcess][allennlp.common.params][INFO] iterator.biggest_batch_first = False\n",
      "[2018-02-01 19:36:51,982][MainProcess][allennlp.common.params][INFO] iterator.batch_size = 16\n",
      "[2018-02-01 19:36:51,983][MainProcess][allennlp.data.dataset][INFO] Indexing dataset\n"
     ]
    },
    {
     "name": "stderr",
     "output_type": "stream",
     "text": [
      "100%|##########| 74520/74520 [00:09<00:00, 7835.26it/s]"
     ]
    },
    {
     "name": "stdout",
     "output_type": "stream",
     "text": [
      "[2018-02-01 19:37:01,495][MainProcess][allennlp.data.dataset][INFO] Indexing dataset\n"
     ]
    },
    {
     "name": "stderr",
     "output_type": "stream",
     "text": [
      "\n",
      "100%|##########| 10648/10648 [00:01<00:00, 8632.04it/s]"
     ]
    },
    {
     "name": "stdout",
     "output_type": "stream",
     "text": [
      "[2018-02-01 19:37:02,731][MainProcess][allennlp.common.params][INFO] trainer.patience = 10\n",
      "[2018-02-01 19:37:02,731][MainProcess][allennlp.common.params][INFO] trainer.validation_metric = +accuracy\n",
      "[2018-02-01 19:37:02,732][MainProcess][allennlp.common.params][INFO] trainer.num_epochs = 30\n",
      "[2018-02-01 19:37:02,732][MainProcess][allennlp.common.params][INFO] trainer.cuda_device = 0\n",
      "[2018-02-01 19:37:02,733][MainProcess][allennlp.common.params][INFO] trainer.grad_norm = 1.0\n",
      "[2018-02-01 19:37:02,733][MainProcess][allennlp.common.params][INFO] trainer.grad_clipping = None\n"
     ]
    },
    {
     "name": "stderr",
     "output_type": "stream",
     "text": [
      "\n"
     ]
    },
    {
     "name": "stdout",
     "output_type": "stream",
     "text": [
      "[2018-02-01 19:37:04,783][MainProcess][allennlp.common.params][INFO] trainer.optimizer = adam\n",
      "[2018-02-01 19:37:04,783][MainProcess][allennlp.common.params][INFO] Converting Params object to dict; logging of default values will not occur when dictionary parameters are used subsequently.\n",
      "[2018-02-01 19:37:04,784][MainProcess][allennlp.common.params][INFO] CURRENTLY DEFINED PARAMETERS: \n",
      "[2018-02-01 19:37:04,784][MainProcess][allennlp.common.params][INFO] trainer.learning_rate_scheduler.type = reduce_on_plateau\n",
      "[2018-02-01 19:37:04,785][MainProcess][allennlp.common.params][INFO] Converting Params object to dict; logging of default values will not occur when dictionary parameters are used subsequently.\n",
      "[2018-02-01 19:37:04,785][MainProcess][allennlp.common.params][INFO] CURRENTLY DEFINED PARAMETERS: \n",
      "[2018-02-01 19:37:04,786][MainProcess][allennlp.common.params][INFO] trainer.learning_rate_scheduler.factor = 0.5\n",
      "[2018-02-01 19:37:04,786][MainProcess][allennlp.common.params][INFO] trainer.learning_rate_scheduler.mode = max\n",
      "[2018-02-01 19:37:04,787][MainProcess][allennlp.common.params][INFO] trainer.learning_rate_scheduler.patience = 2\n",
      "[2018-02-01 19:37:04,787][MainProcess][allennlp.common.params][INFO] trainer.no_tqdm = False\n",
      "[2018-02-01 19:37:04,792][MainProcess][allennlp.common.params][INFO] evaluate_on_test = False\n",
      "[2018-02-01 19:37:04,792][MainProcess][allennlp.training.trainer][INFO] Beginning training.\n",
      "[2018-02-01 19:37:04,793][MainProcess][allennlp.training.trainer][INFO] Epoch 0/29\n"
     ]
    },
    {
     "name": "stderr",
     "output_type": "stream",
     "text": [
      "\r",
      "  0%|          | 0/4658 [00:00<?, ?it/s]"
     ]
    },
    {
     "name": "stdout",
     "output_type": "stream",
     "text": [
      "[2018-02-01 19:37:04,794][MainProcess][allennlp.training.trainer][INFO] Training\n"
     ]
    },
    {
     "name": "stderr",
     "output_type": "stream",
     "text": [
      "token_accuracy: 0.96, accuracy: 0.85, loss: 12.49 ||: 100%|##########| 4658/4658 [01:50<00:00, 42.09it/s]"
     ]
    },
    {
     "name": "stdout",
     "output_type": "stream",
     "text": [
      "[2018-02-01 19:38:55,459][MainProcess][allennlp.training.trainer][INFO] Validating\n"
     ]
    },
    {
     "name": "stderr",
     "output_type": "stream",
     "text": [
      "\n",
      "token_accuracy: 0.98, accuracy: 0.92, loss: 6.27 ||: 100%|##########| 666/666 [00:08<00:00, 79.03it/s]\n"
     ]
    },
    {
     "name": "stdout",
     "output_type": "stream",
     "text": [
      "[2018-02-01 19:39:03,957][MainProcess][allennlp.training.trainer][INFO] Best validation performance so far. Copying weights to '../../experiments/subject_recognition.02_01_19:36:36/best.th'.\n",
      "[2018-02-01 19:39:03,988][MainProcess][allennlp.training.trainer][INFO] Training token_accuracy : 0.964132    Validation token_accuracy : 0.978543 \n",
      "[2018-02-01 19:39:03,989][MainProcess][allennlp.training.trainer][INFO] Training accuracy : 0.848484    Validation accuracy : 0.916886 \n",
      "[2018-02-01 19:39:03,989][MainProcess][allennlp.training.trainer][INFO] Training loss : 12.488431    Validation loss : 6.266428 \n",
      "[2018-02-01 19:39:03,990][MainProcess][allennlp.training.trainer][INFO] Epoch duration: 00:01:59\n",
      "[2018-02-01 19:39:03,990][MainProcess][allennlp.training.trainer][INFO] Estimated training time remaining: 00:57:36\n",
      "[2018-02-01 19:39:03,991][MainProcess][allennlp.training.trainer][INFO] Epoch 1/29\n"
     ]
    },
    {
     "name": "stderr",
     "output_type": "stream",
     "text": [
      "\r",
      "  0%|          | 0/4658 [00:00<?, ?it/s]"
     ]
    },
    {
     "name": "stdout",
     "output_type": "stream",
     "text": [
      "[2018-02-01 19:39:03,994][MainProcess][allennlp.training.trainer][INFO] Training\n"
     ]
    },
    {
     "name": "stderr",
     "output_type": "stream",
     "text": [
      "token_accuracy: 0.98, accuracy: 0.93, loss: 5.37 ||: 100%|##########| 4658/4658 [01:51<00:00, 41.85it/s]\n"
     ]
    },
    {
     "name": "stdout",
     "output_type": "stream",
     "text": [
      "[2018-02-01 19:40:55,303][MainProcess][allennlp.training.trainer][INFO] Validating\n"
     ]
    },
    {
     "name": "stderr",
     "output_type": "stream",
     "text": [
      "token_accuracy: 0.97, accuracy: 0.93, loss: 5.34 ||: 100%|##########| 666/666 [00:08<00:00, 79.04it/s]\n"
     ]
    },
    {
     "name": "stdout",
     "output_type": "stream",
     "text": [
      "[2018-02-01 19:41:03,790][MainProcess][allennlp.training.trainer][INFO] Best validation performance so far. Copying weights to '../../experiments/subject_recognition.02_01_19:36:36/best.th'.\n",
      "[2018-02-01 19:41:03,854][MainProcess][allennlp.training.trainer][INFO] Training token_accuracy : 0.976097    Validation token_accuracy : 0.974500 \n",
      "[2018-02-01 19:41:03,858][MainProcess][allennlp.training.trainer][INFO] Training accuracy : 0.929522    Validation accuracy : 0.932945 \n",
      "[2018-02-01 19:41:03,861][MainProcess][allennlp.training.trainer][INFO] Training loss : 5.367102    Validation loss : 5.338620 \n",
      "[2018-02-01 19:41:03,863][MainProcess][allennlp.training.trainer][INFO] Epoch duration: 00:01:59\n",
      "[2018-02-01 19:41:03,866][MainProcess][allennlp.training.trainer][INFO] Estimated training time remaining: 00:55:47\n",
      "[2018-02-01 19:41:03,868][MainProcess][allennlp.training.trainer][INFO] Epoch 2/29\n"
     ]
    },
    {
     "name": "stderr",
     "output_type": "stream",
     "text": [
      "\r",
      "  0%|          | 0/4658 [00:00<?, ?it/s]"
     ]
    },
    {
     "name": "stdout",
     "output_type": "stream",
     "text": [
      "[2018-02-01 19:41:03,876][MainProcess][allennlp.training.trainer][INFO] Training\n"
     ]
    },
    {
     "name": "stderr",
     "output_type": "stream",
     "text": [
      "token_accuracy: 0.98, accuracy: 0.95, loss: 4.16 ||: 100%|##########| 4658/4658 [01:50<00:00, 42.20it/s]"
     ]
    },
    {
     "name": "stdout",
     "output_type": "stream",
     "text": [
      "[2018-02-01 19:42:54,266][MainProcess][allennlp.training.trainer][INFO] Validating\n"
     ]
    },
    {
     "name": "stderr",
     "output_type": "stream",
     "text": [
      "\n",
      "token_accuracy: 0.98, accuracy: 0.94, loss: 5.61 ||: 100%|##########| 666/666 [00:08<00:00, 79.40it/s]\n"
     ]
    },
    {
     "name": "stdout",
     "output_type": "stream",
     "text": [
      "[2018-02-01 19:43:02,715][MainProcess][allennlp.training.trainer][INFO] Best validation performance so far. Copying weights to '../../experiments/subject_recognition.02_01_19:36:36/best.th'.\n",
      "[2018-02-01 19:43:02,783][MainProcess][allennlp.training.trainer][INFO] Training token_accuracy : 0.975567    Validation token_accuracy : 0.975134 \n",
      "[2018-02-01 19:43:02,787][MainProcess][allennlp.training.trainer][INFO] Training accuracy : 0.947048    Validation accuracy : 0.943088 \n",
      "[2018-02-01 19:43:02,789][MainProcess][allennlp.training.trainer][INFO] Training loss : 4.164048    Validation loss : 5.606210 \n",
      "[2018-02-01 19:43:02,792][MainProcess][allennlp.training.trainer][INFO] Epoch duration: 00:01:58\n",
      "[2018-02-01 19:43:02,794][MainProcess][allennlp.training.trainer][INFO] Estimated training time remaining: 00:53:42\n",
      "[2018-02-01 19:43:02,796][MainProcess][allennlp.training.trainer][INFO] Epoch 3/29\n"
     ]
    },
    {
     "name": "stderr",
     "output_type": "stream",
     "text": [
      "\r",
      "  0%|          | 0/4658 [00:00<?, ?it/s]"
     ]
    },
    {
     "name": "stdout",
     "output_type": "stream",
     "text": [
      "[2018-02-01 19:43:02,801][MainProcess][allennlp.training.trainer][INFO] Training\n"
     ]
    },
    {
     "name": "stderr",
     "output_type": "stream",
     "text": [
      "token_accuracy: 0.97, accuracy: 0.96, loss: 3.36 ||: 100%|##########| 4658/4658 [01:50<00:00, 42.06it/s]\n"
     ]
    },
    {
     "name": "stdout",
     "output_type": "stream",
     "text": [
      "[2018-02-01 19:44:53,537][MainProcess][allennlp.training.trainer][INFO] Validating\n"
     ]
    },
    {
     "name": "stderr",
     "output_type": "stream",
     "text": [
      "token_accuracy: 0.97, accuracy: 0.95, loss: 5.24 ||: 100%|##########| 666/666 [00:08<00:00, 74.88it/s]\n"
     ]
    },
    {
     "name": "stdout",
     "output_type": "stream",
     "text": [
      "[2018-02-01 19:45:02,492][MainProcess][allennlp.training.trainer][INFO] Best validation performance so far. Copying weights to '../../experiments/subject_recognition.02_01_19:36:36/best.th'.\n",
      "[2018-02-01 19:45:02,560][MainProcess][allennlp.training.trainer][INFO] Training token_accuracy : 0.974038    Validation token_accuracy : 0.967555 \n",
      "[2018-02-01 19:45:02,564][MainProcess][allennlp.training.trainer][INFO] Training accuracy : 0.959447    Validation accuracy : 0.947878 \n",
      "[2018-02-01 19:45:02,566][MainProcess][allennlp.training.trainer][INFO] Training loss : 3.358983    Validation loss : 5.239469 \n",
      "[2018-02-01 19:45:02,568][MainProcess][allennlp.training.trainer][INFO] Epoch duration: 00:01:59\n",
      "[2018-02-01 19:45:02,571][MainProcess][allennlp.training.trainer][INFO] Estimated training time remaining: 00:51:45\n",
      "[2018-02-01 19:45:02,573][MainProcess][allennlp.training.trainer][INFO] Epoch 4/29\n"
     ]
    },
    {
     "name": "stderr",
     "output_type": "stream",
     "text": [
      "\r",
      "  0%|          | 0/4658 [00:00<?, ?it/s]"
     ]
    },
    {
     "name": "stdout",
     "output_type": "stream",
     "text": [
      "[2018-02-01 19:45:02,578][MainProcess][allennlp.training.trainer][INFO] Training\n"
     ]
    },
    {
     "name": "stderr",
     "output_type": "stream",
     "text": [
      "token_accuracy: 0.98, accuracy: 0.97, loss: 2.74 ||: 100%|##########| 4658/4658 [01:51<00:00, 41.90it/s]"
     ]
    },
    {
     "name": "stdout",
     "output_type": "stream",
     "text": [
      "[2018-02-01 19:46:53,750][MainProcess][allennlp.training.trainer][INFO] Validating\n"
     ]
    },
    {
     "name": "stderr",
     "output_type": "stream",
     "text": [
      "\n",
      "token_accuracy: 0.97, accuracy: 0.95, loss: 5.38 ||: 100%|##########| 666/666 [00:08<00:00, 79.12it/s]\n"
     ]
    },
    {
     "name": "stdout",
     "output_type": "stream",
     "text": [
      "[2018-02-01 19:47:02,232][MainProcess][allennlp.training.trainer][INFO] Best validation performance so far. Copying weights to '../../experiments/subject_recognition.02_01_19:36:36/best.th'.\n",
      "[2018-02-01 19:47:02,292][MainProcess][allennlp.training.trainer][INFO] Training token_accuracy : 0.975547    Validation token_accuracy : 0.968914 \n",
      "[2018-02-01 19:47:02,296][MainProcess][allennlp.training.trainer][INFO] Training accuracy : 0.967096    Validation accuracy : 0.948629 \n",
      "[2018-02-01 19:47:02,298][MainProcess][allennlp.training.trainer][INFO] Training loss : 2.736229    Validation loss : 5.381492 \n",
      "[2018-02-01 19:47:02,301][MainProcess][allennlp.training.trainer][INFO] Epoch duration: 00:01:59\n",
      "[2018-02-01 19:47:02,303][MainProcess][allennlp.training.trainer][INFO] Estimated training time remaining: 00:49:47\n",
      "[2018-02-01 19:47:02,305][MainProcess][allennlp.training.trainer][INFO] Epoch 5/29\n"
     ]
    },
    {
     "name": "stderr",
     "output_type": "stream",
     "text": [
      "\r",
      "  0%|          | 0/4658 [00:00<?, ?it/s]"
     ]
    },
    {
     "name": "stdout",
     "output_type": "stream",
     "text": [
      "[2018-02-01 19:47:02,309][MainProcess][allennlp.training.trainer][INFO] Training\n"
     ]
    },
    {
     "name": "stderr",
     "output_type": "stream",
     "text": [
      "token_accuracy: 0.98, accuracy: 0.97, loss: 2.21 ||: 100%|##########| 4658/4658 [01:51<00:00, 41.78it/s]"
     ]
    },
    {
     "name": "stdout",
     "output_type": "stream",
     "text": [
      "[2018-02-01 19:48:53,807][MainProcess][allennlp.training.trainer][INFO] Validating\n"
     ]
    },
    {
     "name": "stderr",
     "output_type": "stream",
     "text": [
      "\n",
      "token_accuracy: 0.97, accuracy: 0.95, loss: 6.41 ||: 100%|##########| 666/666 [00:08<00:00, 78.56it/s]\n"
     ]
    },
    {
     "name": "stdout",
     "output_type": "stream",
     "text": [
      "[2018-02-01 19:49:02,347][MainProcess][allennlp.training.trainer][INFO] Training token_accuracy : 0.980489    Validation token_accuracy : 0.974051 \n",
      "[2018-02-01 19:49:02,348][MainProcess][allennlp.training.trainer][INFO] Training accuracy : 0.974369    Validation accuracy : 0.947220 \n",
      "[2018-02-01 19:49:02,348][MainProcess][allennlp.training.trainer][INFO] Training loss : 2.212592    Validation loss : 6.409582 \n",
      "[2018-02-01 19:49:02,349][MainProcess][allennlp.training.trainer][INFO] Epoch duration: 00:02:00\n",
      "[2018-02-01 19:49:02,349][MainProcess][allennlp.training.trainer][INFO] Estimated training time remaining: 00:47:50\n",
      "[2018-02-01 19:49:02,350][MainProcess][allennlp.training.trainer][INFO] Epoch 6/29\n"
     ]
    },
    {
     "name": "stderr",
     "output_type": "stream",
     "text": [
      "\r",
      "  0%|          | 0/4658 [00:00<?, ?it/s]"
     ]
    },
    {
     "name": "stdout",
     "output_type": "stream",
     "text": [
      "[2018-02-01 19:49:02,354][MainProcess][allennlp.training.trainer][INFO] Training\n"
     ]
    },
    {
     "name": "stderr",
     "output_type": "stream",
     "text": [
      "token_accuracy: 0.98, accuracy: 0.98, loss: 1.84 ||: 100%|##########| 4658/4658 [01:51<00:00, 41.90it/s]"
     ]
    },
    {
     "name": "stdout",
     "output_type": "stream",
     "text": [
      "[2018-02-01 19:50:53,531][MainProcess][allennlp.training.trainer][INFO] Validating\n"
     ]
    },
    {
     "name": "stderr",
     "output_type": "stream",
     "text": [
      "\n",
      "token_accuracy: 0.97, accuracy: 0.95, loss: 6.52 ||: 100%|##########| 666/666 [00:08<00:00, 79.38it/s]\n"
     ]
    },
    {
     "name": "stdout",
     "output_type": "stream",
     "text": [
      "[2018-02-01 19:51:01,981][MainProcess][allennlp.training.trainer][INFO] Training token_accuracy : 0.984723    Validation token_accuracy : 0.973867 \n",
      "[2018-02-01 19:51:01,985][MainProcess][allennlp.training.trainer][INFO] Training accuracy : 0.978865    Validation accuracy : 0.946469 \n",
      "[2018-02-01 19:51:01,985][MainProcess][allennlp.training.trainer][INFO] Training loss : 1.838530    Validation loss : 6.515121 \n",
      "[2018-02-01 19:51:01,987][MainProcess][allennlp.training.trainer][INFO] Epoch duration: 00:01:59\n",
      "[2018-02-01 19:51:01,988][MainProcess][allennlp.training.trainer][INFO] Estimated training time remaining: 00:45:50\n",
      "[2018-02-01 19:51:01,988][MainProcess][allennlp.training.trainer][INFO] Epoch 7/29\n"
     ]
    },
    {
     "name": "stderr",
     "output_type": "stream",
     "text": [
      "\r",
      "  0%|          | 0/4658 [00:00<?, ?it/s]"
     ]
    },
    {
     "name": "stdout",
     "output_type": "stream",
     "text": [
      "[2018-02-01 19:51:01,990][MainProcess][allennlp.training.trainer][INFO] Training\n"
     ]
    },
    {
     "name": "stderr",
     "output_type": "stream",
     "text": [
      "token_accuracy: 0.99, accuracy: 0.98, loss: 1.58 ||: 100%|##########| 4658/4658 [01:51<00:00, 41.66it/s]"
     ]
    },
    {
     "name": "stdout",
     "output_type": "stream",
     "text": [
      "[2018-02-01 19:52:53,801][MainProcess][allennlp.training.trainer][INFO] Validating\n"
     ]
    },
    {
     "name": "stderr",
     "output_type": "stream",
     "text": [
      "\n",
      "token_accuracy: 0.98, accuracy: 0.95, loss: 7.82 ||: 100%|##########| 666/666 [00:08<00:00, 79.42it/s]\n"
     ]
    },
    {
     "name": "stdout",
     "output_type": "stream",
     "text": [
      "[2018-02-01 19:53:02,250][MainProcess][allennlp.training.trainer][INFO] Training token_accuracy : 0.986646    Validation token_accuracy : 0.981676 \n",
      "[2018-02-01 19:53:02,251][MainProcess][allennlp.training.trainer][INFO] Training accuracy : 0.982689    Validation accuracy : 0.946469 \n",
      "[2018-02-01 19:53:02,252][MainProcess][allennlp.training.trainer][INFO] Training loss : 1.580768    Validation loss : 7.819798 \n",
      "[2018-02-01 19:53:02,252][MainProcess][allennlp.training.trainer][INFO] Epoch duration: 00:02:00\n",
      "[2018-02-01 19:53:02,253][MainProcess][allennlp.training.trainer][INFO] Estimated training time remaining: 00:43:53\n",
      "[2018-02-01 19:53:02,253][MainProcess][allennlp.training.trainer][INFO] Epoch 8/29\n"
     ]
    },
    {
     "name": "stderr",
     "output_type": "stream",
     "text": [
      "\r",
      "  0%|          | 0/4658 [00:00<?, ?it/s]"
     ]
    },
    {
     "name": "stdout",
     "output_type": "stream",
     "text": [
      "[2018-02-01 19:53:02,254][MainProcess][allennlp.training.trainer][INFO] Training\n"
     ]
    },
    {
     "name": "stderr",
     "output_type": "stream",
     "text": [
      "token_accuracy: 0.99, accuracy: 0.99, loss: 0.78 ||: 100%|##########| 4658/4658 [01:51<00:00, 41.87it/s]"
     ]
    },
    {
     "name": "stdout",
     "output_type": "stream",
     "text": [
      "[2018-02-01 19:54:53,503][MainProcess][allennlp.training.trainer][INFO] Validating\n"
     ]
    },
    {
     "name": "stderr",
     "output_type": "stream",
     "text": [
      "\n",
      "token_accuracy: 0.98, accuracy: 0.95, loss: 9.55 ||: 100%|##########| 666/666 [00:08<00:00, 79.20it/s] \n"
     ]
    },
    {
     "name": "stdout",
     "output_type": "stream",
     "text": [
      "[2018-02-01 19:55:01,974][MainProcess][allennlp.training.trainer][INFO] Best validation performance so far. Copying weights to '../../experiments/subject_recognition.02_01_19:36:36/best.th'.\n",
      "[2018-02-01 19:55:02,041][MainProcess][allennlp.training.trainer][INFO] Training token_accuracy : 0.993278    Validation token_accuracy : 0.984140 \n",
      "[2018-02-01 19:55:02,045][MainProcess][allennlp.training.trainer][INFO] Training accuracy : 0.991210    Validation accuracy : 0.951258 \n",
      "[2018-02-01 19:55:02,047][MainProcess][allennlp.training.trainer][INFO] Training loss : 0.777203    Validation loss : 9.553459 \n",
      "[2018-02-01 19:55:02,049][MainProcess][allennlp.training.trainer][INFO] Epoch duration: 00:01:59\n",
      "[2018-02-01 19:55:02,052][MainProcess][allennlp.training.trainer][INFO] Estimated training time remaining: 00:41:53\n",
      "[2018-02-01 19:55:02,054][MainProcess][allennlp.training.trainer][INFO] Epoch 9/29\n"
     ]
    },
    {
     "name": "stderr",
     "output_type": "stream",
     "text": [
      "\r",
      "  0%|          | 0/4658 [00:00<?, ?it/s]"
     ]
    },
    {
     "name": "stdout",
     "output_type": "stream",
     "text": [
      "[2018-02-01 19:55:02,059][MainProcess][allennlp.training.trainer][INFO] Training\n"
     ]
    },
    {
     "name": "stderr",
     "output_type": "stream",
     "text": [
      "token_accuracy: 1.00, accuracy: 0.99, loss: 0.52 ||: 100%|##########| 4658/4658 [01:51<00:00, 41.87it/s]"
     ]
    },
    {
     "name": "stdout",
     "output_type": "stream",
     "text": [
      "[2018-02-01 19:56:53,312][MainProcess][allennlp.training.trainer][INFO] Validating\n"
     ]
    },
    {
     "name": "stderr",
     "output_type": "stream",
     "text": [
      "\n",
      "token_accuracy: 0.99, accuracy: 0.95, loss: 10.38 ||: 100%|##########| 666/666 [00:08<00:00, 79.52it/s]\n"
     ]
    },
    {
     "name": "stdout",
     "output_type": "stream",
     "text": [
      "[2018-02-01 19:57:01,748][MainProcess][allennlp.training.trainer][INFO] Training token_accuracy : 0.995916    Validation token_accuracy : 0.985730 \n",
      "[2018-02-01 19:57:01,749][MainProcess][allennlp.training.trainer][INFO] Training accuracy : 0.994122    Validation accuracy : 0.950789 \n",
      "[2018-02-01 19:57:01,750][MainProcess][allennlp.training.trainer][INFO] Training loss : 0.519372    Validation loss : 10.383048 \n",
      "[2018-02-01 19:57:01,751][MainProcess][allennlp.training.trainer][INFO] Epoch duration: 00:01:59\n",
      "[2018-02-01 19:57:01,751][MainProcess][allennlp.training.trainer][INFO] Estimated training time remaining: 00:39:53\n",
      "[2018-02-01 19:57:01,751][MainProcess][allennlp.training.trainer][INFO] Epoch 10/29\n"
     ]
    },
    {
     "name": "stderr",
     "output_type": "stream",
     "text": [
      "\r",
      "  0%|          | 0/4658 [00:00<?, ?it/s]"
     ]
    },
    {
     "name": "stdout",
     "output_type": "stream",
     "text": [
      "[2018-02-01 19:57:01,755][MainProcess][allennlp.training.trainer][INFO] Training\n"
     ]
    },
    {
     "name": "stderr",
     "output_type": "stream",
     "text": [
      "token_accuracy: 1.00, accuracy: 1.00, loss: 0.44 ||: 100%|##########| 4658/4658 [01:51<00:00, 41.85it/s]"
     ]
    },
    {
     "name": "stdout",
     "output_type": "stream",
     "text": [
      "[2018-02-01 19:58:53,071][MainProcess][allennlp.training.trainer][INFO] Validating\n"
     ]
    },
    {
     "name": "stderr",
     "output_type": "stream",
     "text": [
      "\n",
      "token_accuracy: 0.99, accuracy: 0.95, loss: 10.81 ||: 100%|##########| 666/666 [00:08<00:00, 79.37it/s]\n"
     ]
    },
    {
     "name": "stdout",
     "output_type": "stream",
     "text": [
      "[2018-02-01 19:59:01,524][MainProcess][allennlp.training.trainer][INFO] Best validation performance so far. Copying weights to '../../experiments/subject_recognition.02_01_19:36:36/best.th'.\n",
      "[2018-02-01 19:59:01,593][MainProcess][allennlp.training.trainer][INFO] Training token_accuracy : 0.997427    Validation token_accuracy : 0.987377 \n",
      "[2018-02-01 19:59:01,596][MainProcess][allennlp.training.trainer][INFO] Training accuracy : 0.995411    Validation accuracy : 0.951822 \n",
      "[2018-02-01 19:59:01,599][MainProcess][allennlp.training.trainer][INFO] Training loss : 0.439446    Validation loss : 10.808695 \n",
      "[2018-02-01 19:59:01,604][MainProcess][allennlp.training.trainer][INFO] Epoch duration: 00:01:59\n",
      "[2018-02-01 19:59:01,606][MainProcess][allennlp.training.trainer][INFO] Estimated training time remaining: 00:37:54\n",
      "[2018-02-01 19:59:01,608][MainProcess][allennlp.training.trainer][INFO] Epoch 11/29\n"
     ]
    },
    {
     "name": "stderr",
     "output_type": "stream",
     "text": [
      "\r",
      "  0%|          | 0/4658 [00:00<?, ?it/s]"
     ]
    },
    {
     "name": "stdout",
     "output_type": "stream",
     "text": [
      "[2018-02-01 19:59:01,613][MainProcess][allennlp.training.trainer][INFO] Training\n"
     ]
    },
    {
     "name": "stderr",
     "output_type": "stream",
     "text": [
      "token_accuracy: 1.00, accuracy: 1.00, loss: 0.40 ||: 100%|##########| 4658/4658 [01:49<00:00, 42.49it/s]"
     ]
    },
    {
     "name": "stdout",
     "output_type": "stream",
     "text": [
      "[2018-02-01 20:00:51,252][MainProcess][allennlp.training.trainer][INFO] Validating\n"
     ]
    },
    {
     "name": "stderr",
     "output_type": "stream",
     "text": [
      "\n",
      "token_accuracy: 0.99, accuracy: 0.95, loss: 11.09 ||: 100%|##########| 666/666 [00:08<00:00, 80.89it/s]\n"
     ]
    },
    {
     "name": "stdout",
     "output_type": "stream",
     "text": [
      "[2018-02-01 20:00:59,548][MainProcess][allennlp.training.trainer][INFO] Training token_accuracy : 0.997885    Validation token_accuracy : 0.985327 \n",
      "[2018-02-01 20:00:59,549][MainProcess][allennlp.training.trainer][INFO] Training accuracy : 0.995921    Validation accuracy : 0.950413 \n",
      "[2018-02-01 20:00:59,549][MainProcess][allennlp.training.trainer][INFO] Training loss : 0.402656    Validation loss : 11.085876 \n",
      "[2018-02-01 20:00:59,550][MainProcess][allennlp.training.trainer][INFO] Epoch duration: 00:01:57\n",
      "[2018-02-01 20:00:59,551][MainProcess][allennlp.training.trainer][INFO] Estimated training time remaining: 00:35:52\n",
      "[2018-02-01 20:00:59,551][MainProcess][allennlp.training.trainer][INFO] Epoch 12/29\n"
     ]
    },
    {
     "name": "stderr",
     "output_type": "stream",
     "text": [
      "\r",
      "  0%|          | 0/4658 [00:00<?, ?it/s]"
     ]
    },
    {
     "name": "stdout",
     "output_type": "stream",
     "text": [
      "[2018-02-01 20:00:59,556][MainProcess][allennlp.training.trainer][INFO] Training\n"
     ]
    },
    {
     "name": "stderr",
     "output_type": "stream",
     "text": [
      "token_accuracy: 1.00, accuracy: 1.00, loss: 0.36 ||: 100%|##########| 4658/4658 [01:50<00:00, 42.20it/s]"
     ]
    },
    {
     "name": "stdout",
     "output_type": "stream",
     "text": [
      "[2018-02-01 20:02:49,932][MainProcess][allennlp.training.trainer][INFO] Validating\n"
     ]
    },
    {
     "name": "stderr",
     "output_type": "stream",
     "text": [
      "\n",
      "token_accuracy: 0.99, accuracy: 0.95, loss: 12.65 ||: 100%|##########| 666/666 [00:08<00:00, 78.48it/s]\n"
     ]
    },
    {
     "name": "stdout",
     "output_type": "stream",
     "text": [
      "[2018-02-01 20:02:58,480][MainProcess][allennlp.training.trainer][INFO] Training token_accuracy : 0.998167    Validation token_accuracy : 0.987515 \n",
      "[2018-02-01 20:02:58,482][MainProcess][allennlp.training.trainer][INFO] Training accuracy : 0.996659    Validation accuracy : 0.951258 \n",
      "[2018-02-01 20:02:58,482][MainProcess][allennlp.training.trainer][INFO] Training loss : 0.357196    Validation loss : 12.650998 \n",
      "[2018-02-01 20:02:58,482][MainProcess][allennlp.training.trainer][INFO] Epoch duration: 00:01:58\n",
      "[2018-02-01 20:02:58,483][MainProcess][allennlp.training.trainer][INFO] Estimated training time remaining: 00:33:51\n",
      "[2018-02-01 20:02:58,483][MainProcess][allennlp.training.trainer][INFO] Epoch 13/29\n"
     ]
    },
    {
     "name": "stderr",
     "output_type": "stream",
     "text": [
      "\r",
      "  0%|          | 0/4658 [00:00<?, ?it/s]"
     ]
    },
    {
     "name": "stdout",
     "output_type": "stream",
     "text": [
      "[2018-02-01 20:02:58,488][MainProcess][allennlp.training.trainer][INFO] Training\n"
     ]
    },
    {
     "name": "stderr",
     "output_type": "stream",
     "text": [
      "token_accuracy: 1.00, accuracy: 1.00, loss: 0.35 ||: 100%|##########| 4658/4658 [01:51<00:00, 41.77it/s]"
     ]
    },
    {
     "name": "stdout",
     "output_type": "stream",
     "text": [
      "[2018-02-01 20:04:49,992][MainProcess][allennlp.training.trainer][INFO] Validating\n"
     ]
    },
    {
     "name": "stderr",
     "output_type": "stream",
     "text": [
      "\n",
      "token_accuracy: 0.99, accuracy: 0.95, loss: 12.22 ||: 100%|##########| 666/666 [00:08<00:00, 78.80it/s]\n"
     ]
    },
    {
     "name": "stdout",
     "output_type": "stream",
     "text": [
      "[2018-02-01 20:04:58,507][MainProcess][allennlp.training.trainer][INFO] Best validation performance so far. Copying weights to '../../experiments/subject_recognition.02_01_19:36:36/best.th'.\n",
      "[2018-02-01 20:04:58,587][MainProcess][allennlp.training.trainer][INFO] Training token_accuracy : 0.998582    Validation token_accuracy : 0.987768 \n",
      "[2018-02-01 20:04:58,592][MainProcess][allennlp.training.trainer][INFO] Training accuracy : 0.996873    Validation accuracy : 0.951916 \n",
      "[2018-02-01 20:04:58,594][MainProcess][allennlp.training.trainer][INFO] Training loss : 0.351361    Validation loss : 12.221972 \n",
      "[2018-02-01 20:04:58,597][MainProcess][allennlp.training.trainer][INFO] Epoch duration: 00:02:00\n",
      "[2018-02-01 20:04:58,599][MainProcess][allennlp.training.trainer][INFO] Estimated training time remaining: 00:31:52\n",
      "[2018-02-01 20:04:58,602][MainProcess][allennlp.training.trainer][INFO] Epoch 14/29\n"
     ]
    },
    {
     "name": "stderr",
     "output_type": "stream",
     "text": [
      "\r",
      "  0%|          | 0/4658 [00:00<?, ?it/s]"
     ]
    },
    {
     "name": "stdout",
     "output_type": "stream",
     "text": [
      "[2018-02-01 20:04:58,611][MainProcess][allennlp.training.trainer][INFO] Training\n"
     ]
    },
    {
     "name": "stderr",
     "output_type": "stream",
     "text": [
      "token_accuracy: 1.00, accuracy: 1.00, loss: 0.17 ||: 100%|##########| 4658/4658 [01:51<00:00, 41.92it/s]"
     ]
    },
    {
     "name": "stdout",
     "output_type": "stream",
     "text": [
      "[2018-02-01 20:06:49,740][MainProcess][allennlp.training.trainer][INFO] Validating\n"
     ]
    },
    {
     "name": "stderr",
     "output_type": "stream",
     "text": [
      "\n",
      "token_accuracy: 0.99, accuracy: 0.95, loss: 13.84 ||: 100%|##########| 666/666 [00:08<00:00, 78.99it/s]\n"
     ]
    },
    {
     "name": "stdout",
     "output_type": "stream",
     "text": [
      "[2018-02-01 20:06:58,234][MainProcess][allennlp.training.trainer][INFO] Best validation performance so far. Copying weights to '../../experiments/subject_recognition.02_01_19:36:36/best.th'.\n",
      "[2018-02-01 20:06:58,307][MainProcess][allennlp.training.trainer][INFO] Training token_accuracy : 0.999224    Validation token_accuracy : 0.987872 \n",
      "[2018-02-01 20:06:58,311][MainProcess][allennlp.training.trainer][INFO] Training accuracy : 0.998269    Validation accuracy : 0.952479 \n",
      "[2018-02-01 20:06:58,313][MainProcess][allennlp.training.trainer][INFO] Training loss : 0.171057    Validation loss : 13.843117 \n",
      "[2018-02-01 20:06:58,315][MainProcess][allennlp.training.trainer][INFO] Epoch duration: 00:01:59\n",
      "[2018-02-01 20:06:58,318][MainProcess][allennlp.training.trainer][INFO] Estimated training time remaining: 00:29:53\n",
      "[2018-02-01 20:06:58,320][MainProcess][allennlp.training.trainer][INFO] Epoch 15/29\n"
     ]
    },
    {
     "name": "stderr",
     "output_type": "stream",
     "text": [
      "\r",
      "  0%|          | 0/4658 [00:00<?, ?it/s]"
     ]
    },
    {
     "name": "stdout",
     "output_type": "stream",
     "text": [
      "[2018-02-01 20:06:58,325][MainProcess][allennlp.training.trainer][INFO] Training\n"
     ]
    },
    {
     "name": "stderr",
     "output_type": "stream",
     "text": [
      "token_accuracy: 1.00, accuracy: 1.00, loss: 0.10 ||: 100%|##########| 4658/4658 [01:49<00:00, 42.58it/s]"
     ]
    },
    {
     "name": "stdout",
     "output_type": "stream",
     "text": [
      "[2018-02-01 20:08:47,723][MainProcess][allennlp.training.trainer][INFO] Validating\n"
     ]
    },
    {
     "name": "stderr",
     "output_type": "stream",
     "text": [
      "\n",
      "token_accuracy: 0.99, accuracy: 0.95, loss: 15.07 ||: 100%|##########| 666/666 [00:08<00:00, 81.19it/s]\n"
     ]
    },
    {
     "name": "stdout",
     "output_type": "stream",
     "text": [
      "[2018-02-01 20:08:55,990][MainProcess][allennlp.training.trainer][INFO] Best validation performance so far. Copying weights to '../../experiments/subject_recognition.02_01_19:36:36/best.th'.\n",
      "[2018-02-01 20:08:56,064][MainProcess][allennlp.training.trainer][INFO] Training token_accuracy : 0.999493    Validation token_accuracy : 0.988655 \n",
      "[2018-02-01 20:08:56,068][MainProcess][allennlp.training.trainer][INFO] Training accuracy : 0.998994    Validation accuracy : 0.953794 \n",
      "[2018-02-01 20:08:56,070][MainProcess][allennlp.training.trainer][INFO] Training loss : 0.096500    Validation loss : 15.070860 \n",
      "[2018-02-01 20:08:56,073][MainProcess][allennlp.training.trainer][INFO] Epoch duration: 00:01:57\n",
      "[2018-02-01 20:08:56,075][MainProcess][allennlp.training.trainer][INFO] Estimated training time remaining: 00:27:52\n",
      "[2018-02-01 20:08:56,077][MainProcess][allennlp.training.trainer][INFO] Epoch 16/29\n"
     ]
    },
    {
     "name": "stderr",
     "output_type": "stream",
     "text": [
      "\r",
      "  0%|          | 0/4658 [00:00<?, ?it/s]"
     ]
    },
    {
     "name": "stdout",
     "output_type": "stream",
     "text": [
      "[2018-02-01 20:08:56,082][MainProcess][allennlp.training.trainer][INFO] Training\n"
     ]
    },
    {
     "name": "stderr",
     "output_type": "stream",
     "text": [
      "token_accuracy: 1.00, accuracy: 1.00, loss: 0.12 ||: 100%|##########| 4658/4658 [01:50<00:00, 42.26it/s]"
     ]
    },
    {
     "name": "stdout",
     "output_type": "stream",
     "text": [
      "[2018-02-01 20:10:46,309][MainProcess][allennlp.training.trainer][INFO] Validating\n"
     ]
    },
    {
     "name": "stderr",
     "output_type": "stream",
     "text": [
      "\n",
      "token_accuracy: 0.99, accuracy: 0.95, loss: 14.86 ||: 100%|##########| 666/666 [00:08<00:00, 81.07it/s]\n"
     ]
    },
    {
     "name": "stdout",
     "output_type": "stream",
     "text": [
      "[2018-02-01 20:10:54,585][MainProcess][allennlp.training.trainer][INFO] Training token_accuracy : 0.999593    Validation token_accuracy : 0.988183 \n",
      "[2018-02-01 20:10:54,587][MainProcess][allennlp.training.trainer][INFO] Training accuracy : 0.998900    Validation accuracy : 0.951634 \n",
      "[2018-02-01 20:10:54,587][MainProcess][allennlp.training.trainer][INFO] Training loss : 0.122575    Validation loss : 14.863470 \n",
      "[2018-02-01 20:10:54,588][MainProcess][allennlp.training.trainer][INFO] Epoch duration: 00:01:58\n",
      "[2018-02-01 20:10:54,588][MainProcess][allennlp.training.trainer][INFO] Estimated training time remaining: 00:25:52\n",
      "[2018-02-01 20:10:54,589][MainProcess][allennlp.training.trainer][INFO] Epoch 17/29\n"
     ]
    },
    {
     "name": "stderr",
     "output_type": "stream",
     "text": [
      "\r",
      "  0%|          | 0/4658 [00:00<?, ?it/s]"
     ]
    },
    {
     "name": "stdout",
     "output_type": "stream",
     "text": [
      "[2018-02-01 20:10:54,594][MainProcess][allennlp.training.trainer][INFO] Training\n"
     ]
    },
    {
     "name": "stderr",
     "output_type": "stream",
     "text": [
      "token_accuracy: 1.00, accuracy: 1.00, loss: 0.08 ||: 100%|##########| 4658/4658 [01:50<00:00, 42.17it/s]"
     ]
    },
    {
     "name": "stdout",
     "output_type": "stream",
     "text": [
      "[2018-02-01 20:12:45,052][MainProcess][allennlp.training.trainer][INFO] Validating\n"
     ]
    },
    {
     "name": "stderr",
     "output_type": "stream",
     "text": [
      "\n",
      "token_accuracy: 0.99, accuracy: 0.95, loss: 16.87 ||: 100%|##########| 666/666 [00:08<00:00, 80.82it/s]\n"
     ]
    },
    {
     "name": "stdout",
     "output_type": "stream",
     "text": [
      "[2018-02-01 20:12:53,356][MainProcess][allennlp.training.trainer][INFO] Training token_accuracy : 0.999734    Validation token_accuracy : 0.987918 \n",
      "[2018-02-01 20:12:53,357][MainProcess][allennlp.training.trainer][INFO] Training accuracy : 0.999356    Validation accuracy : 0.952292 \n",
      "[2018-02-01 20:12:53,357][MainProcess][allennlp.training.trainer][INFO] Training loss : 0.076070    Validation loss : 16.871218 \n",
      "[2018-02-01 20:12:53,358][MainProcess][allennlp.training.trainer][INFO] Epoch duration: 00:01:58\n",
      "[2018-02-01 20:12:53,358][MainProcess][allennlp.training.trainer][INFO] Estimated training time remaining: 00:23:52\n",
      "[2018-02-01 20:12:53,359][MainProcess][allennlp.training.trainer][INFO] Epoch 18/29\n"
     ]
    },
    {
     "name": "stderr",
     "output_type": "stream",
     "text": [
      "\r",
      "  0%|          | 0/4658 [00:00<?, ?it/s]"
     ]
    },
    {
     "name": "stdout",
     "output_type": "stream",
     "text": [
      "[2018-02-01 20:12:53,363][MainProcess][allennlp.training.trainer][INFO] Training\n"
     ]
    },
    {
     "name": "stderr",
     "output_type": "stream",
     "text": [
      "token_accuracy: 1.00, accuracy: 1.00, loss: 0.10 ||: 100%|##########| 4658/4658 [01:50<00:00, 42.19it/s]"
     ]
    },
    {
     "name": "stdout",
     "output_type": "stream",
     "text": [
      "[2018-02-01 20:14:43,763][MainProcess][allennlp.training.trainer][INFO] Validating\n"
     ]
    },
    {
     "name": "stderr",
     "output_type": "stream",
     "text": [
      "\n",
      "token_accuracy: 0.99, accuracy: 0.95, loss: 16.49 ||: 100%|##########| 666/666 [00:08<00:00, 80.91it/s]\n"
     ]
    },
    {
     "name": "stdout",
     "output_type": "stream",
     "text": [
      "[2018-02-01 20:14:52,056][MainProcess][allennlp.training.trainer][INFO] Training token_accuracy : 0.999729    Validation token_accuracy : 0.988482 \n",
      "[2018-02-01 20:14:52,057][MainProcess][allennlp.training.trainer][INFO] Training accuracy : 0.999181    Validation accuracy : 0.952292 \n",
      "[2018-02-01 20:14:52,057][MainProcess][allennlp.training.trainer][INFO] Training loss : 0.095510    Validation loss : 16.488811 \n",
      "[2018-02-01 20:14:52,058][MainProcess][allennlp.training.trainer][INFO] Epoch duration: 00:01:58\n",
      "[2018-02-01 20:14:52,058][MainProcess][allennlp.training.trainer][INFO] Estimated training time remaining: 00:21:52\n",
      "[2018-02-01 20:14:52,059][MainProcess][allennlp.training.trainer][INFO] Epoch 19/29\n"
     ]
    },
    {
     "name": "stderr",
     "output_type": "stream",
     "text": [
      "\r",
      "  0%|          | 0/4658 [00:00<?, ?it/s]"
     ]
    },
    {
     "name": "stdout",
     "output_type": "stream",
     "text": [
      "[2018-02-01 20:14:52,060][MainProcess][allennlp.training.trainer][INFO] Training\n"
     ]
    },
    {
     "name": "stderr",
     "output_type": "stream",
     "text": [
      "token_accuracy: 1.00, accuracy: 1.00, loss: 0.05 ||: 100%|##########| 4658/4658 [01:50<00:00, 42.01it/s]"
     ]
    },
    {
     "name": "stdout",
     "output_type": "stream",
     "text": [
      "[2018-02-01 20:16:42,945][MainProcess][allennlp.training.trainer][INFO] Validating\n"
     ]
    },
    {
     "name": "stderr",
     "output_type": "stream",
     "text": [
      "\n",
      "token_accuracy: 0.99, accuracy: 0.95, loss: 17.86 ||: 100%|##########| 666/666 [00:08<00:00, 80.76it/s]\n"
     ]
    },
    {
     "name": "stdout",
     "output_type": "stream",
     "text": [
      "[2018-02-01 20:16:51,255][MainProcess][allennlp.training.trainer][INFO] Training token_accuracy : 0.999821    Validation token_accuracy : 0.988402 \n",
      "[2018-02-01 20:16:51,256][MainProcess][allennlp.training.trainer][INFO] Training accuracy : 0.999410    Validation accuracy : 0.952667 \n",
      "[2018-02-01 20:16:51,257][MainProcess][allennlp.training.trainer][INFO] Training loss : 0.047140    Validation loss : 17.864882 \n",
      "[2018-02-01 20:16:51,257][MainProcess][allennlp.training.trainer][INFO] Epoch duration: 00:01:59\n",
      "[2018-02-01 20:16:51,258][MainProcess][allennlp.training.trainer][INFO] Estimated training time remaining: 00:19:53\n",
      "[2018-02-01 20:16:51,258][MainProcess][allennlp.training.trainer][INFO] Epoch 20/29\n"
     ]
    },
    {
     "name": "stderr",
     "output_type": "stream",
     "text": [
      "\r",
      "  0%|          | 0/4658 [00:00<?, ?it/s]"
     ]
    },
    {
     "name": "stdout",
     "output_type": "stream",
     "text": [
      "[2018-02-01 20:16:51,263][MainProcess][allennlp.training.trainer][INFO] Training\n"
     ]
    },
    {
     "name": "stderr",
     "output_type": "stream",
     "text": [
      "token_accuracy: 1.00, accuracy: 1.00, loss: 0.03 ||: 100%|##########| 4658/4658 [01:50<00:00, 42.17it/s]"
     ]
    },
    {
     "name": "stdout",
     "output_type": "stream",
     "text": [
      "[2018-02-01 20:18:41,715][MainProcess][allennlp.training.trainer][INFO] Validating\n"
     ]
    },
    {
     "name": "stderr",
     "output_type": "stream",
     "text": [
      "\n",
      "token_accuracy: 0.99, accuracy: 0.95, loss: 18.27 ||: 100%|##########| 666/666 [00:08<00:00, 80.82it/s]\n"
     ]
    },
    {
     "name": "stdout",
     "output_type": "stream",
     "text": [
      "[2018-02-01 20:18:50,016][MainProcess][allennlp.training.trainer][INFO] Training token_accuracy : 0.999872    Validation token_accuracy : 0.988747 \n",
      "[2018-02-01 20:18:50,017][MainProcess][allennlp.training.trainer][INFO] Training accuracy : 0.999705    Validation accuracy : 0.952667 \n",
      "[2018-02-01 20:18:50,018][MainProcess][allennlp.training.trainer][INFO] Training loss : 0.031871    Validation loss : 18.271238 \n",
      "[2018-02-01 20:18:50,018][MainProcess][allennlp.training.trainer][INFO] Epoch duration: 00:01:58\n",
      "[2018-02-01 20:18:50,019][MainProcess][allennlp.training.trainer][INFO] Estimated training time remaining: 00:17:53\n",
      "[2018-02-01 20:18:50,019][MainProcess][allennlp.training.trainer][INFO] Epoch 21/29\n"
     ]
    },
    {
     "name": "stderr",
     "output_type": "stream",
     "text": [
      "\r",
      "  0%|          | 0/4658 [00:00<?, ?it/s]"
     ]
    },
    {
     "name": "stdout",
     "output_type": "stream",
     "text": [
      "[2018-02-01 20:18:50,020][MainProcess][allennlp.training.trainer][INFO] Training\n"
     ]
    },
    {
     "name": "stderr",
     "output_type": "stream",
     "text": [
      "token_accuracy: 1.00, accuracy: 1.00, loss: 0.03 ||: 100%|##########| 4658/4658 [01:50<00:00, 42.20it/s]"
     ]
    },
    {
     "name": "stdout",
     "output_type": "stream",
     "text": [
      "[2018-02-01 20:20:40,396][MainProcess][allennlp.training.trainer][INFO] Validating\n"
     ]
    },
    {
     "name": "stderr",
     "output_type": "stream",
     "text": [
      "\n",
      "token_accuracy: 0.99, accuracy: 0.95, loss: 19.42 ||: 100%|##########| 666/666 [00:08<00:00, 81.09it/s]\n"
     ]
    },
    {
     "name": "stdout",
     "output_type": "stream",
     "text": [
      "[2018-02-01 20:20:48,669][MainProcess][allennlp.training.trainer][INFO] Training token_accuracy : 0.999902    Validation token_accuracy : 0.988690 \n",
      "[2018-02-01 20:20:48,671][MainProcess][allennlp.training.trainer][INFO] Training accuracy : 0.999785    Validation accuracy : 0.951728 \n",
      "[2018-02-01 20:20:48,671][MainProcess][allennlp.training.trainer][INFO] Training loss : 0.029147    Validation loss : 19.421829 \n",
      "[2018-02-01 20:20:48,672][MainProcess][allennlp.training.trainer][INFO] Epoch duration: 00:01:58\n",
      "[2018-02-01 20:20:48,672][MainProcess][allennlp.training.trainer][INFO] Estimated training time remaining: 00:15:54\n",
      "[2018-02-01 20:20:48,673][MainProcess][allennlp.training.trainer][INFO] Epoch 22/29\n"
     ]
    },
    {
     "name": "stderr",
     "output_type": "stream",
     "text": [
      "\r",
      "  0%|          | 0/4658 [00:00<?, ?it/s]"
     ]
    },
    {
     "name": "stdout",
     "output_type": "stream",
     "text": [
      "[2018-02-01 20:20:48,674][MainProcess][allennlp.training.trainer][INFO] Training\n"
     ]
    },
    {
     "name": "stderr",
     "output_type": "stream",
     "text": [
      "token_accuracy: 1.00, accuracy: 1.00, loss: 0.03 ||: 100%|##########| 4658/4658 [01:50<00:00, 42.16it/s]"
     ]
    },
    {
     "name": "stdout",
     "output_type": "stream",
     "text": [
      "[2018-02-01 20:22:39,166][MainProcess][allennlp.training.trainer][INFO] Validating\n"
     ]
    },
    {
     "name": "stderr",
     "output_type": "stream",
     "text": [
      "\n",
      "token_accuracy: 0.99, accuracy: 0.95, loss: 19.22 ||: 100%|##########| 666/666 [00:08<00:00, 80.71it/s]\n"
     ]
    },
    {
     "name": "stdout",
     "output_type": "stream",
     "text": [
      "[2018-02-01 20:22:47,481][MainProcess][allennlp.training.trainer][INFO] Training token_accuracy : 0.999926    Validation token_accuracy : 0.988943 \n",
      "[2018-02-01 20:22:47,483][MainProcess][allennlp.training.trainer][INFO] Training accuracy : 0.999705    Validation accuracy : 0.952761 \n",
      "[2018-02-01 20:22:47,483][MainProcess][allennlp.training.trainer][INFO] Training loss : 0.029869    Validation loss : 19.217722 \n",
      "[2018-02-01 20:22:47,484][MainProcess][allennlp.training.trainer][INFO] Epoch duration: 00:01:58\n",
      "[2018-02-01 20:22:47,484][MainProcess][allennlp.training.trainer][INFO] Estimated training time remaining: 00:13:54\n",
      "[2018-02-01 20:22:47,485][MainProcess][allennlp.training.trainer][INFO] Epoch 23/29\n"
     ]
    },
    {
     "name": "stderr",
     "output_type": "stream",
     "text": [
      "\r",
      "  0%|          | 0/4658 [00:00<?, ?it/s]"
     ]
    },
    {
     "name": "stdout",
     "output_type": "stream",
     "text": [
      "[2018-02-01 20:22:47,489][MainProcess][allennlp.training.trainer][INFO] Training\n"
     ]
    },
    {
     "name": "stderr",
     "output_type": "stream",
     "text": [
      "token_accuracy: 1.00, accuracy: 1.00, loss: 0.03 ||: 100%|##########| 4658/4658 [01:50<00:00, 42.10it/s]"
     ]
    },
    {
     "name": "stdout",
     "output_type": "stream",
     "text": [
      "[2018-02-01 20:24:38,126][MainProcess][allennlp.training.trainer][INFO] Validating\n"
     ]
    },
    {
     "name": "stderr",
     "output_type": "stream",
     "text": [
      "\n",
      "token_accuracy: 0.99, accuracy: 0.95, loss: 19.04 ||: 100%|##########| 666/666 [00:08<00:00, 80.87it/s]\n"
     ]
    },
    {
     "name": "stdout",
     "output_type": "stream",
     "text": [
      "[2018-02-01 20:24:46,425][MainProcess][allennlp.training.trainer][INFO] Training token_accuracy : 0.999923    Validation token_accuracy : 0.988816 \n",
      "[2018-02-01 20:24:46,426][MainProcess][allennlp.training.trainer][INFO] Training accuracy : 0.999745    Validation accuracy : 0.952385 \n",
      "[2018-02-01 20:24:46,427][MainProcess][allennlp.training.trainer][INFO] Training loss : 0.030397    Validation loss : 19.040520 \n",
      "[2018-02-01 20:24:46,427][MainProcess][allennlp.training.trainer][INFO] Epoch duration: 00:01:58\n",
      "[2018-02-01 20:24:46,428][MainProcess][allennlp.training.trainer][INFO] Estimated training time remaining: 00:11:55\n",
      "[2018-02-01 20:24:46,428][MainProcess][allennlp.training.trainer][INFO] Epoch 24/29\n"
     ]
    },
    {
     "name": "stderr",
     "output_type": "stream",
     "text": [
      "\r",
      "  0%|          | 0/4658 [00:00<?, ?it/s]"
     ]
    },
    {
     "name": "stdout",
     "output_type": "stream",
     "text": [
      "[2018-02-01 20:24:46,430][MainProcess][allennlp.training.trainer][INFO] Training\n"
     ]
    },
    {
     "name": "stderr",
     "output_type": "stream",
     "text": [
      "token_accuracy: 1.00, accuracy: 1.00, loss: 0.02 ||: 100%|##########| 4658/4658 [01:50<00:00, 42.25it/s]"
     ]
    },
    {
     "name": "stdout",
     "output_type": "stream",
     "text": [
      "[2018-02-01 20:26:36,677][MainProcess][allennlp.training.trainer][INFO] Validating\n"
     ]
    },
    {
     "name": "stderr",
     "output_type": "stream",
     "text": [
      "\n",
      "token_accuracy: 0.99, accuracy: 0.95, loss: 19.39 ||: 100%|##########| 666/666 [00:08<00:00, 81.03it/s]\n"
     ]
    },
    {
     "name": "stdout",
     "output_type": "stream",
     "text": [
      "[2018-02-01 20:26:44,959][MainProcess][allennlp.training.trainer][INFO] Training token_accuracy : 0.999959    Validation token_accuracy : 0.988943 \n",
      "[2018-02-01 20:26:44,960][MainProcess][allennlp.training.trainer][INFO] Training accuracy : 0.999839    Validation accuracy : 0.953325 \n",
      "[2018-02-01 20:26:44,961][MainProcess][allennlp.training.trainer][INFO] Training loss : 0.018592    Validation loss : 19.389219 \n",
      "[2018-02-01 20:26:44,961][MainProcess][allennlp.training.trainer][INFO] Epoch duration: 00:01:58\n",
      "[2018-02-01 20:26:44,962][MainProcess][allennlp.training.trainer][INFO] Estimated training time remaining: 00:09:56\n",
      "[2018-02-01 20:26:44,962][MainProcess][allennlp.training.trainer][INFO] Epoch 25/29\n"
     ]
    },
    {
     "name": "stderr",
     "output_type": "stream",
     "text": [
      "\r",
      "  0%|          | 0/4658 [00:00<?, ?it/s]"
     ]
    },
    {
     "name": "stdout",
     "output_type": "stream",
     "text": [
      "[2018-02-01 20:26:44,968][MainProcess][allennlp.training.trainer][INFO] Training\n"
     ]
    },
    {
     "name": "stderr",
     "output_type": "stream",
     "text": [
      "token_accuracy: 1.00, accuracy: 1.00, loss: 0.02 ||: 100%|##########| 4658/4658 [01:50<00:00, 42.25it/s]"
     ]
    },
    {
     "name": "stdout",
     "output_type": "stream",
     "text": [
      "[2018-02-01 20:28:35,205][MainProcess][allennlp.training.trainer][INFO] Validating\n"
     ]
    },
    {
     "name": "stderr",
     "output_type": "stream",
     "text": [
      "\n",
      "token_accuracy: 0.99, accuracy: 0.95, loss: 19.38 ||: 100%|##########| 666/666 [00:08<00:00, 81.13it/s]\n"
     ]
    },
    {
     "name": "stdout",
     "output_type": "stream",
     "text": [
      "[2018-02-01 20:28:43,416][MainProcess][allennlp.training.trainer][INFO] Ran out of patience.  Stopping training.\n",
      "[2018-02-01 20:28:43,417][MainProcess][allennlp.models.archival][INFO] archiving weights and vocabulary to ../../experiments/subject_recognition.02_01_19:36:36/model.tar.gz\n"
     ]
    },
    {
     "data": {
      "text/plain": [
       "CrfTagger(\n",
       "  (text_field_embedder): BasicTextFieldEmbedder(\n",
       "    (token_embedder_tokens): Embedding(\n",
       "    )\n",
       "    (token_embedder_token_characters): TokenCharactersEncoder(\n",
       "      (_embedding): TimeDistributed(\n",
       "        (_module): Embedding(\n",
       "        )\n",
       "      )\n",
       "      (_encoder): TimeDistributed(\n",
       "        (_module): CnnEncoder(\n",
       "          (_activation): ReLU()\n",
       "          (conv_layer_0): Conv1d (16, 100, kernel_size=(5,), stride=(1,))\n",
       "        )\n",
       "      )\n",
       "      (_dropout): Dropout(p=0.6)\n",
       "    )\n",
       "  )\n",
       "  (encoder): PytorchSeq2SeqWrapper(\n",
       "    (_module): LSTM(200, 300, num_layers=3, batch_first=True, dropout=0.2, bidirectional=True)\n",
       "  )\n",
       "  (tag_projection_layer): TimeDistributed(\n",
       "    (_module): Linear(in_features=600, out_features=2)\n",
       "  )\n",
       "  (crf): ConditionalRandomField(\n",
       "  )\n",
       ")"
      ]
     },
     "execution_count": 3,
     "metadata": {},
     "output_type": "execute_result"
    }
   ],
   "source": [
    "from lib.utils import config_logging\n",
    "from lib.utils import new_experiment_folder\n",
    "from allennlp.commands.train import train_model\n",
    "\n",
    "config_logging()\n",
    "experiment_folder = new_experiment_folder(label='subject_recognition', parent_directory='../../experiments/')\n",
    "params = Params(crf_tagger)\n",
    "print('Serialization Directory:', experiment_folder)\n",
    "train_model(params=params, serialization_dir=experiment_folder)"
   ]
  }
 ],
 "metadata": {
  "kernelspec": {
   "display_name": "Python 3",
   "language": "python",
   "name": "python3"
  },
  "language_info": {
   "codemirror_mode": {
    "name": "ipython",
    "version": 3
   },
   "file_extension": ".py",
   "mimetype": "text/x-python",
   "name": "python",
   "nbconvert_exporter": "python",
   "pygments_lexer": "ipython3",
   "version": "3.6.4"
  }
 },
 "nbformat": 4,
 "nbformat_minor": 2
}
