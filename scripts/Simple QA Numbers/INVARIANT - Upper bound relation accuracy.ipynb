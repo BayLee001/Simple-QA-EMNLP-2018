{
 "cells": [
  {
   "cell_type": "code",
   "execution_count": 1,
   "metadata": {},
   "outputs": [
    {
     "data": {
      "application/vnd.jupyter.widget-view+json": {
       "model_id": "a35ff28a809b447293449d44ff6b16d5",
       "version_major": 2,
       "version_minor": 0
      },
      "text/html": [
       "<p>Failed to display Jupyter Widget of type <code>HBox</code>.</p>\n",
       "<p>\n",
       "  If you're reading this message in the Jupyter Notebook or JupyterLab Notebook, it may mean\n",
       "  that the widgets JavaScript is still loading. If this message persists, it\n",
       "  likely means that the widgets JavaScript library is either not installed or\n",
       "  not enabled. See the <a href=\"https://ipywidgets.readthedocs.io/en/stable/user_install.html\">Jupyter\n",
       "  Widgets Documentation</a> for setup instructions.\n",
       "</p>\n",
       "<p>\n",
       "  If you're reading this message in another frontend (for example, a static\n",
       "  rendering on GitHub or <a href=\"https://nbviewer.jupyter.org/\">NBViewer</a>),\n",
       "  it may mean that your frontend doesn't currently support widgets.\n",
       "</p>\n"
      ],
      "text/plain": [
       "HBox(children=(IntProgress(value=1, bar_style='info', max=1), HTML(value='')))"
      ]
     },
     "metadata": {},
     "output_type": "display_data"
    },
    {
     "name": "stdout",
     "output_type": "stream",
     "text": [
      "\n"
     ]
    }
   ],
   "source": [
    "import sys\n",
    "sys.path.insert(0, '../../')\n",
    "import pandas as pd\n",
    "import random\n",
    "from tqdm import tqdm_notebook\n",
    "tqdm_notebook().pandas()\n",
    "from scripts.utils.data import FB5M_NAME_TABLE\n",
    "from scripts.utils.data import FB2M_NAME_TABLE\n",
    "from scripts.utils.data import FB2M_KG_TABLE\n",
    "from scripts.utils.connect import get_connection \n",
    "import scripts.utils.import_notebook\n",
    "import importlib\n",
    "\n",
    "connection = get_connection()\n",
    "cursor = connection.cursor()"
   ]
  },
  {
   "cell_type": "code",
   "execution_count": 4,
   "metadata": {},
   "outputs": [
    {
     "data": {
      "text/html": [
       "<div>\n",
       "<style scoped>\n",
       "    .dataframe tbody tr th:only-of-type {\n",
       "        vertical-align: middle;\n",
       "    }\n",
       "\n",
       "    .dataframe tbody tr th {\n",
       "        vertical-align: top;\n",
       "    }\n",
       "\n",
       "    .dataframe thead th {\n",
       "        text-align: right;\n",
       "    }\n",
       "</style>\n",
       "<table border=\"1\" class=\"dataframe\">\n",
       "  <thead>\n",
       "    <tr style=\"text-align: right;\">\n",
       "      <th></th>\n",
       "      <th>subject</th>\n",
       "      <th>relation</th>\n",
       "      <th>object</th>\n",
       "      <th>question</th>\n",
       "    </tr>\n",
       "  </thead>\n",
       "  <tbody>\n",
       "    <tr>\n",
       "      <th>0</th>\n",
       "      <td>0f3xg_</td>\n",
       "      <td>symbols/namesake/named_after</td>\n",
       "      <td>0cqt90</td>\n",
       "      <td>Who was the trump ocean club international hot...</td>\n",
       "    </tr>\n",
       "    <tr>\n",
       "      <th>1</th>\n",
       "      <td>07f3jg</td>\n",
       "      <td>people/person/place_of_birth</td>\n",
       "      <td>0565d</td>\n",
       "      <td>where was sasha vujačić born</td>\n",
       "    </tr>\n",
       "    <tr>\n",
       "      <th>2</th>\n",
       "      <td>031j8nn</td>\n",
       "      <td>music/release/region</td>\n",
       "      <td>07ssc</td>\n",
       "      <td>What is a region that dead combo was released in</td>\n",
       "    </tr>\n",
       "    <tr>\n",
       "      <th>3</th>\n",
       "      <td>0c1cyhd</td>\n",
       "      <td>film/director/film</td>\n",
       "      <td>0wxsz5y</td>\n",
       "      <td>What is a film directed by wiebke von carolsfeld?</td>\n",
       "    </tr>\n",
       "    <tr>\n",
       "      <th>4</th>\n",
       "      <td>0fvhc0g</td>\n",
       "      <td>music/release/region</td>\n",
       "      <td>0345h</td>\n",
       "      <td>what country was music for stock exchange  rel...</td>\n",
       "    </tr>\n",
       "  </tbody>\n",
       "</table>\n",
       "</div>"
      ],
      "text/plain": [
       "   subject                      relation   object  \\\n",
       "0   0f3xg_  symbols/namesake/named_after   0cqt90   \n",
       "1   07f3jg  people/person/place_of_birth    0565d   \n",
       "2  031j8nn          music/release/region    07ssc   \n",
       "3  0c1cyhd            film/director/film  0wxsz5y   \n",
       "4  0fvhc0g          music/release/region    0345h   \n",
       "\n",
       "                                            question  \n",
       "0  Who was the trump ocean club international hot...  \n",
       "1                       where was sasha vujačić born  \n",
       "2   What is a region that dead combo was released in  \n",
       "3  What is a film directed by wiebke von carolsfeld?  \n",
       "4  what country was music for stock exchange  rel...  "
      ]
     },
     "execution_count": 4,
     "metadata": {},
     "output_type": "execute_result"
    }
   ],
   "source": [
    "from scripts.utils.simple_qa import load_simple_qa \n",
    "\n",
    "# Load development set because its a magnitude smaller than the training set.\n",
    "df_dev, = load_simple_qa(dev=True)\n",
    "df_dev[:5]"
   ]
  },
  {
   "cell_type": "code",
   "execution_count": 5,
   "metadata": {},
   "outputs": [
    {
     "data": {
      "application/vnd.jupyter.widget-view+json": {
       "model_id": "954cb6d7b7224f14bea9b546b3f6adef",
       "version_major": 2,
       "version_minor": 0
      },
      "text/html": [
       "<p>Failed to display Jupyter Widget of type <code>HBox</code>.</p>\n",
       "<p>\n",
       "  If you're reading this message in the Jupyter Notebook or JupyterLab Notebook, it may mean\n",
       "  that the widgets JavaScript is still loading. If this message persists, it\n",
       "  likely means that the widgets JavaScript library is either not installed or\n",
       "  not enabled. See the <a href=\"https://ipywidgets.readthedocs.io/en/stable/user_install.html\">Jupyter\n",
       "  Widgets Documentation</a> for setup instructions.\n",
       "</p>\n",
       "<p>\n",
       "  If you're reading this message in another frontend (for example, a static\n",
       "  rendering on GitHub or <a href=\"https://nbviewer.jupyter.org/\">NBViewer</a>),\n",
       "  it may mean that your frontend doesn't currently support widgets.\n",
       "</p>\n"
      ],
      "text/plain": [
       "HBox(children=(IntProgress(value=0, max=10845), HTML(value='')))"
      ]
     },
     "metadata": {},
     "output_type": "display_data"
    },
    {
     "name": "stdout",
     "output_type": "stream",
     "text": [
      "\n",
      "Dev Linked 10648 examples\n"
     ]
    },
    {
     "data": {
      "text/html": [
       "<div>\n",
       "<style scoped>\n",
       "    .dataframe tbody tr th:only-of-type {\n",
       "        vertical-align: middle;\n",
       "    }\n",
       "\n",
       "    .dataframe tbody tr th {\n",
       "        vertical-align: top;\n",
       "    }\n",
       "\n",
       "    .dataframe thead th {\n",
       "        text-align: right;\n",
       "    }\n",
       "</style>\n",
       "<table border=\"1\" class=\"dataframe\">\n",
       "  <thead>\n",
       "    <tr style=\"text-align: right;\">\n",
       "      <th></th>\n",
       "      <th>subject</th>\n",
       "      <th>relation</th>\n",
       "      <th>object</th>\n",
       "      <th>question</th>\n",
       "      <th>subject_name</th>\n",
       "    </tr>\n",
       "  </thead>\n",
       "  <tbody>\n",
       "    <tr>\n",
       "      <th>0</th>\n",
       "      <td>0f3xg_</td>\n",
       "      <td>symbols/namesake/named_after</td>\n",
       "      <td>0cqt90</td>\n",
       "      <td>Who was the trump ocean club international hot...</td>\n",
       "      <td>trump ocean club international hotel and tower</td>\n",
       "    </tr>\n",
       "    <tr>\n",
       "      <th>1</th>\n",
       "      <td>07f3jg</td>\n",
       "      <td>people/person/place_of_birth</td>\n",
       "      <td>0565d</td>\n",
       "      <td>where was sasha vujačić born</td>\n",
       "      <td>sasha vujacic</td>\n",
       "    </tr>\n",
       "    <tr>\n",
       "      <th>2</th>\n",
       "      <td>031j8nn</td>\n",
       "      <td>music/release/region</td>\n",
       "      <td>07ssc</td>\n",
       "      <td>What is a region that dead combo was released in</td>\n",
       "      <td>dead combo</td>\n",
       "    </tr>\n",
       "    <tr>\n",
       "      <th>3</th>\n",
       "      <td>0c1cyhd</td>\n",
       "      <td>film/director/film</td>\n",
       "      <td>0wxsz5y</td>\n",
       "      <td>What is a film directed by wiebke von carolsfeld?</td>\n",
       "      <td>wiebke von carolsfeld</td>\n",
       "    </tr>\n",
       "    <tr>\n",
       "      <th>4</th>\n",
       "      <td>0fvhc0g</td>\n",
       "      <td>music/release/region</td>\n",
       "      <td>0345h</td>\n",
       "      <td>what country was music for stock exchange  rel...</td>\n",
       "      <td>music for stock exchange</td>\n",
       "    </tr>\n",
       "  </tbody>\n",
       "</table>\n",
       "</div>"
      ],
      "text/plain": [
       "   subject                      relation   object  \\\n",
       "0   0f3xg_  symbols/namesake/named_after   0cqt90   \n",
       "1   07f3jg  people/person/place_of_birth    0565d   \n",
       "2  031j8nn          music/release/region    07ssc   \n",
       "3  0c1cyhd            film/director/film  0wxsz5y   \n",
       "4  0fvhc0g          music/release/region    0345h   \n",
       "\n",
       "                                            question  \\\n",
       "0  Who was the trump ocean club international hot...   \n",
       "1                       where was sasha vujačić born   \n",
       "2   What is a region that dead combo was released in   \n",
       "3  What is a film directed by wiebke von carolsfeld?   \n",
       "4  what country was music for stock exchange  rel...   \n",
       "\n",
       "                                     subject_name  \n",
       "0  trump ocean club international hotel and tower  \n",
       "1                                   sasha vujacic  \n",
       "2                                      dead combo  \n",
       "3                           wiebke von carolsfeld  \n",
       "4                        music for stock exchange  "
      ]
     },
     "metadata": {},
     "output_type": "display_data"
    }
   ],
   "source": [
    "\n",
    "from functools import partial\n",
    "edit_distance_link_alias = importlib.import_module(\n",
    "                \"scripts.Simple QA Numbers.HYPOTHESIS - Question Refers to Multiple Subjects\").edit_distance_link_alias\n",
    "normalize = importlib.import_module(\n",
    "                \"scripts.Simple QA Numbers.HYPOTHESIS - Subject Name not in Question\").normalize\n",
    "\n",
    "# Create a column with the subject_name linked per example\n",
    "df_dev['subject_name'] = df_dev.progress_apply(partial(edit_distance_link_alias, cursor, normalize), axis=1)\n",
    "print('Dev Linked', sum(df_dev.subject_name.notnull()), 'examples')\n",
    "display(df_dev[:5])"
   ]
  },
  {
   "cell_type": "code",
   "execution_count": 6,
   "metadata": {},
   "outputs": [
    {
     "name": "stdout",
     "output_type": "stream",
     "text": [
      "importing Jupyter notebook from ../../scripts/Simple QA Models/Subject Recognition Data.ipynb\n"
     ]
    },
    {
     "data": {
      "application/vnd.jupyter.widget-view+json": {
       "model_id": "fbc6a84ae2c24f939e4c3a47eab75a31",
       "version_major": 2,
       "version_minor": 0
      },
      "text/html": [
       "<p>Failed to display Jupyter Widget of type <code>HBox</code>.</p>\n",
       "<p>\n",
       "  If you're reading this message in the Jupyter Notebook or JupyterLab Notebook, it may mean\n",
       "  that the widgets JavaScript is still loading. If this message persists, it\n",
       "  likely means that the widgets JavaScript library is either not installed or\n",
       "  not enabled. See the <a href=\"https://ipywidgets.readthedocs.io/en/stable/user_install.html\">Jupyter\n",
       "  Widgets Documentation</a> for setup instructions.\n",
       "</p>\n",
       "<p>\n",
       "  If you're reading this message in another frontend (for example, a static\n",
       "  rendering on GitHub or <a href=\"https://nbviewer.jupyter.org/\">NBViewer</a>),\n",
       "  it may mean that your frontend doesn't currently support widgets.\n",
       "</p>\n"
      ],
      "text/plain": [
       "HBox(children=(IntProgress(value=0, max=10845), HTML(value='')))"
      ]
     },
     "metadata": {},
     "output_type": "display_data"
    },
    {
     "name": "stdout",
     "output_type": "stream",
     "text": [
      "\n",
      "Dev:\n"
     ]
    },
    {
     "data": {
      "text/html": [
       "<div>\n",
       "<style scoped>\n",
       "    .dataframe tbody tr th:only-of-type {\n",
       "        vertical-align: middle;\n",
       "    }\n",
       "\n",
       "    .dataframe tbody tr th {\n",
       "        vertical-align: top;\n",
       "    }\n",
       "\n",
       "    .dataframe thead th {\n",
       "        text-align: right;\n",
       "    }\n",
       "</style>\n",
       "<table border=\"1\" class=\"dataframe\">\n",
       "  <thead>\n",
       "    <tr style=\"text-align: right;\">\n",
       "      <th></th>\n",
       "      <th>end_index</th>\n",
       "      <th>object</th>\n",
       "      <th>question</th>\n",
       "      <th>question_tokens</th>\n",
       "      <th>relation</th>\n",
       "      <th>start_index</th>\n",
       "      <th>subject</th>\n",
       "      <th>subject_name</th>\n",
       "      <th>subject_name_tokens</th>\n",
       "    </tr>\n",
       "  </thead>\n",
       "  <tbody>\n",
       "    <tr>\n",
       "      <th>0</th>\n",
       "      <td>10.0</td>\n",
       "      <td>0cqt90</td>\n",
       "      <td>Who was the trump ocean club international hot...</td>\n",
       "      <td>[who, was, the, trump, ocean, club, internatio...</td>\n",
       "      <td>symbols/namesake/named_after</td>\n",
       "      <td>3.0</td>\n",
       "      <td>0f3xg_</td>\n",
       "      <td>trump ocean club international hotel and tower</td>\n",
       "      <td>(trump, ocean, club, international, hotel, and...</td>\n",
       "    </tr>\n",
       "    <tr>\n",
       "      <th>1</th>\n",
       "      <td>4.0</td>\n",
       "      <td>0565d</td>\n",
       "      <td>where was sasha vujačić born</td>\n",
       "      <td>[where, was, sasha, vujacic, born]</td>\n",
       "      <td>people/person/place_of_birth</td>\n",
       "      <td>2.0</td>\n",
       "      <td>07f3jg</td>\n",
       "      <td>sasha vujacic</td>\n",
       "      <td>(sasha, vujacic)</td>\n",
       "    </tr>\n",
       "    <tr>\n",
       "      <th>2</th>\n",
       "      <td>7.0</td>\n",
       "      <td>07ssc</td>\n",
       "      <td>What is a region that dead combo was released in</td>\n",
       "      <td>[what, is, a, region, that, dead, combo, was, ...</td>\n",
       "      <td>music/release/region</td>\n",
       "      <td>5.0</td>\n",
       "      <td>031j8nn</td>\n",
       "      <td>dead combo</td>\n",
       "      <td>(dead, combo)</td>\n",
       "    </tr>\n",
       "    <tr>\n",
       "      <th>3</th>\n",
       "      <td>9.0</td>\n",
       "      <td>0wxsz5y</td>\n",
       "      <td>What is a film directed by wiebke von carolsfeld?</td>\n",
       "      <td>[what, is, a, film, directed, by, wiebke, von,...</td>\n",
       "      <td>film/director/film</td>\n",
       "      <td>6.0</td>\n",
       "      <td>0c1cyhd</td>\n",
       "      <td>wiebke von carolsfeld</td>\n",
       "      <td>(wiebke, von, carolsfeld)</td>\n",
       "    </tr>\n",
       "    <tr>\n",
       "      <th>4</th>\n",
       "      <td>7.0</td>\n",
       "      <td>0345h</td>\n",
       "      <td>what country was music for stock exchange  rel...</td>\n",
       "      <td>[what, country, was, music, for, stock, exchan...</td>\n",
       "      <td>music/release/region</td>\n",
       "      <td>3.0</td>\n",
       "      <td>0fvhc0g</td>\n",
       "      <td>music for stock exchange</td>\n",
       "      <td>(music, for, stock, exchange)</td>\n",
       "    </tr>\n",
       "  </tbody>\n",
       "</table>\n",
       "</div>"
      ],
      "text/plain": [
       "   end_index   object                                           question  \\\n",
       "0       10.0   0cqt90  Who was the trump ocean club international hot...   \n",
       "1        4.0    0565d                       where was sasha vujačić born   \n",
       "2        7.0    07ssc   What is a region that dead combo was released in   \n",
       "3        9.0  0wxsz5y  What is a film directed by wiebke von carolsfeld?   \n",
       "4        7.0    0345h  what country was music for stock exchange  rel...   \n",
       "\n",
       "                                     question_tokens  \\\n",
       "0  [who, was, the, trump, ocean, club, internatio...   \n",
       "1                 [where, was, sasha, vujacic, born]   \n",
       "2  [what, is, a, region, that, dead, combo, was, ...   \n",
       "3  [what, is, a, film, directed, by, wiebke, von,...   \n",
       "4  [what, country, was, music, for, stock, exchan...   \n",
       "\n",
       "                       relation  start_index  subject  \\\n",
       "0  symbols/namesake/named_after          3.0   0f3xg_   \n",
       "1  people/person/place_of_birth          2.0   07f3jg   \n",
       "2          music/release/region          5.0  031j8nn   \n",
       "3            film/director/film          6.0  0c1cyhd   \n",
       "4          music/release/region          3.0  0fvhc0g   \n",
       "\n",
       "                                     subject_name  \\\n",
       "0  trump ocean club international hotel and tower   \n",
       "1                                   sasha vujacic   \n",
       "2                                      dead combo   \n",
       "3                           wiebke von carolsfeld   \n",
       "4                        music for stock exchange   \n",
       "\n",
       "                                 subject_name_tokens  \n",
       "0  (trump, ocean, club, international, hotel, and...  \n",
       "1                                   (sasha, vujacic)  \n",
       "2                                      (dead, combo)  \n",
       "3                          (wiebke, von, carolsfeld)  \n",
       "4                      (music, for, stock, exchange)  "
      ]
     },
     "metadata": {},
     "output_type": "display_data"
    }
   ],
   "source": [
    "import importlib\n",
    "find_subject_name_span = importlib.import_module(\n",
    "                \"scripts.Simple QA Models.Subject Recognition Data\").find_subject_name_span\n",
    "\n",
    "# Create a column with the subject_name linked per example\n",
    "df_dev = df_dev.progress_apply(find_subject_name_span, axis=1)\n",
    "print('Dev:')\n",
    "display(df_dev[:5])"
   ]
  },
  {
   "cell_type": "code",
   "execution_count": 26,
   "metadata": {},
   "outputs": [
    {
     "data": {
      "application/vnd.jupyter.widget-view+json": {
       "model_id": "308d8435734446d6a4b2700ac1138cb9",
       "version_major": 2,
       "version_minor": 0
      },
      "text/html": [
       "<p>Failed to display Jupyter Widget of type <code>HBox</code>.</p>\n",
       "<p>\n",
       "  If you're reading this message in the Jupyter Notebook or JupyterLab Notebook, it may mean\n",
       "  that the widgets JavaScript is still loading. If this message persists, it\n",
       "  likely means that the widgets JavaScript library is either not installed or\n",
       "  not enabled. See the <a href=\"https://ipywidgets.readthedocs.io/en/stable/user_install.html\">Jupyter\n",
       "  Widgets Documentation</a> for setup instructions.\n",
       "</p>\n",
       "<p>\n",
       "  If you're reading this message in another frontend (for example, a static\n",
       "  rendering on GitHub or <a href=\"https://nbviewer.jupyter.org/\">NBViewer</a>),\n",
       "  it may mean that your frontend doesn't currently support widgets.\n",
       "</p>\n"
      ],
      "text/plain": [
       "HBox(children=(IntProgress(value=0, max=10845), HTML(value='')))"
      ]
     },
     "metadata": {},
     "output_type": "display_data"
    },
    {
     "name": "stdout",
     "output_type": "stream",
     "text": [
      "\n"
     ]
    }
   ],
   "source": [
    "from tqdm import tqdm_notebook\n",
    "from collections import defaultdict\n",
    "\n",
    "def format_question(row):\n",
    "    ret =  ''\n",
    "    for i, token in enumerate(row['question_tokens']):\n",
    "        if i == row['start_index']:\n",
    "            ret += '<e>'\n",
    "        elif i > row['start_index'] and i < row['end_index']:\n",
    "            continue\n",
    "        else:\n",
    "            ret += token.lower().strip()\n",
    "        ret += ' '\n",
    "    return ret.strip()\n",
    "\n",
    "\n",
    "question_to_relation = defaultdict(lambda: defaultdict(int))\n",
    "for index, row in tqdm_notebook(df_dev.iterrows(), total=df_dev.shape[0]):\n",
    "    if not isinstance(row['subject_name'], str):\n",
    "        continue\n",
    "    \n",
    "    formatted_question = format_question(row)\n",
    "    question_to_relation[formatted_question][row['relation']] += 1"
   ]
  },
  {
   "cell_type": "code",
   "execution_count": 27,
   "metadata": {},
   "outputs": [],
   "source": [
    "upperbound = 0\n",
    "for q, value in question_to_relation.items():\n",
    "    max_relation_count = max(value.items(), key=lambda item: item[1])[1]\n",
    "    total_questions = sum(value.values())\n",
    "    upperbound += max_relation_count\n",
    "upperbound /= df_dev.shape[0] # - df_dev['subject_name'].isnull().sum()"
   ]
  },
  {
   "cell_type": "code",
   "execution_count": 28,
   "metadata": {},
   "outputs": [
    {
     "data": {
      "text/plain": [
       "0.909174734900876"
      ]
     },
     "execution_count": 28,
     "metadata": {},
     "output_type": "execute_result"
    }
   ],
   "source": [
    "upperbound"
   ]
  }
 ],
 "metadata": {
  "kernelspec": {
   "display_name": "Python 3",
   "language": "python",
   "name": "python3"
  },
  "language_info": {
   "codemirror_mode": {
    "name": "ipython",
    "version": 3
   },
   "file_extension": ".py",
   "mimetype": "text/x-python",
   "name": "python",
   "nbconvert_exporter": "python",
   "pygments_lexer": "ipython3",
   "version": "3.6.4"
  }
 },
 "nbformat": 4,
 "nbformat_minor": 2
}
