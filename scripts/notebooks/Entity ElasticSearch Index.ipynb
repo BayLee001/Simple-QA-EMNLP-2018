{
 "cells": [
  {
   "cell_type": "markdown",
   "metadata": {},
   "source": [
    "# Entity ElasticSearch Index"
   ]
  },
  {
   "cell_type": "markdown",
   "metadata": {},
   "source": [
    "Here we build up an ElasticSearch cluster for linking to the FB5M knowledge base."
   ]
  },
  {
   "cell_type": "code",
   "execution_count": 2,
   "metadata": {},
   "outputs": [],
   "source": [
    "FB5M = '../../data/simple_qa/freebase-FB5M.txt'\n",
    "\n",
    "# DOWNLOADED FROM: https://www.dropbox.com/s/yqbesl07hsw297w/FB5M.name.txt\n",
    "MID_TO_NAME = '../../data/simple_qa/FB5M.name.txt'"
   ]
  },
  {
   "cell_type": "markdown",
   "metadata": {},
   "source": [
    "Below we build an in memory representation of FB5M from the objects prespective."
   ]
  },
  {
   "cell_type": "code",
   "execution_count": 3,
   "metadata": {},
   "outputs": [
    {
     "data": {
      "application/vnd.jupyter.widget-view+json": {
       "model_id": "cfd1a3243ed84fd282bbbf5895324580",
       "version_major": 2,
       "version_minor": 0
      },
      "text/html": [
       "<p>Failed to display Jupyter Widget of type <code>HBox</code>.</p>\n",
       "<p>\n",
       "  If you're reading this message in Jupyter Notebook or JupyterLab, it may mean\n",
       "  that the widgets JavaScript is still loading. If this message persists, it\n",
       "  likely means that the widgets JavaScript library is either not installed or\n",
       "  not enabled. See the <a href=\"https://ipywidgets.readthedocs.io/en/stable/user_install.html\">Jupyter\n",
       "  Widgets Documentation</a> for setup instructions.\n",
       "</p>\n",
       "<p>\n",
       "  If you're reading this message in another notebook frontend (for example, a static\n",
       "  rendering on GitHub or <a href=\"https://nbviewer.jupyter.org/\">NBViewer</a>),\n",
       "  it may mean that your frontend doesn't currently support widgets.\n",
       "</p>\n"
      ],
      "text/plain": [
       "HBox(children=(IntProgress(value=0, max=12010500), HTML(value='')))"
      ]
     },
     "metadata": {},
     "output_type": "display_data"
    },
    {
     "name": "stdout",
     "output_type": "stream",
     "text": [
      "\n",
      "\n",
      "Number of Objects: 1972702\n",
      "Sample: [ ( '0f_3rwm',\n",
      "    [ {'property': 'common/topic/notable_types', 'subjects': ['0kpv11']},\n",
      "      {'property': 'music/recording/artist', 'subjects': ['01799y']},\n",
      "      {'property': 'music/recording/canonical_version', 'subjects': ['0rrh_v']},\n",
      "      {'property': 'music/recording/tracks', 'subjects': ['0mwmnzs']},\n",
      "      {'property': 'music/recording/releases', 'subjects': ['0g0y_c3']}]),\n",
      "  ( '0bb7hzj',\n",
      "    [ {'property': 'music/composition/form', 'subjects': ['074ft']},\n",
      "      {'property': 'music/composition/lyricist', 'subjects': ['01vv7sc']},\n",
      "      {'property': 'music/composition/language', 'subjects': ['02h40lc']},\n",
      "      {'property': 'music/composition/composer', 'subjects': ['01vv7sc']}]),\n",
      "  ( '0c6b6gg',\n",
      "    [ {'property': 'people/person/nationality', 'subjects': ['0345h']},\n",
      "      {'property': 'people/person/gender', 'subjects': ['05zppz']},\n",
      "      {'property': 'people/person/place_of_birth', 'subjects': ['08966']},\n",
      "      {'property': 'common/topic/notable_types', 'subjects': ['02xlh55']}]),\n",
      "  ( '0qzlmg',\n",
      "    [ {'property': 'music/recording/artist', 'subjects': ['01p8wxv']},\n",
      "      {'property': 'music/recording/tracks', 'subjects': ['0lq98hp']},\n",
      "      {'property': 'music/recording/releases', 'subjects': ['0391nbj']},\n",
      "      { 'property': 'music/recording/canonical_version',\n",
      "        'subjects': ['0102jf7']},\n",
      "      {'property': 'common/topic/notable_types', 'subjects': ['0kpv11']}]),\n",
      "  ( '02nsdbr',\n",
      "    [ { 'property': 'freebase/user_profile/favorite_films',\n",
      "        'subjects': ['0j6b5']},\n",
      "      { 'property': 'freebase/user_profile/favorite_music_artists',\n",
      "        'subjects': ['01cblr', '02ltrn']},\n",
      "      {'property': 'freebase/user_profile/hometown', 'subjects': ['0wh3']},\n",
      "      {'property': 'freebase/user_profile/location', 'subjects': ['0ckhc']}])]\n"
     ]
    }
   ],
   "source": [
    "from collections import defaultdict\n",
    "\n",
    "import random\n",
    "import os\n",
    "import pprint\n",
    "\n",
    "from tqdm import tqdm_notebook\n",
    "\n",
    "object_to_fact = defaultdict(list)\n",
    "for line in tqdm_notebook(open(FB5M, 'r'), total=12010500):\n",
    "    split = line.split('\\t')\n",
    "    assert len(split) == 3, 'Malformed row'\n",
    "    object_ = split[0].replace('www.freebase.com/m/', '').strip()\n",
    "    property_ = split[1].replace('www.freebase.com/', '').strip()\n",
    "    subjects = [url.replace('www.freebase.com/m/', '').strip() for url in split[2].split()]\n",
    "    object_to_fact[object_].append({'property': property_, 'subjects': subjects })\n",
    "\n",
    "pp = pprint.PrettyPrinter(indent=2)\n",
    "print()\n",
    "print('Number of Objects:', len(object_to_fact))\n",
    "print('Sample:', pp.pformat(random.sample(object_to_fact.items(), 5)))"
   ]
  },
  {
   "cell_type": "markdown",
   "metadata": {},
   "source": [
    "Below build a map to translate from MID to name. For each MID, we have multiple aliases that'll be used for entity linking."
   ]
  },
  {
   "cell_type": "code",
   "execution_count": 4,
   "metadata": {},
   "outputs": [
    {
     "data": {
      "application/vnd.jupyter.widget-view+json": {
       "model_id": "6037ff3c45dd459db636e6bf422107d7",
       "version_major": 2,
       "version_minor": 0
      },
      "text/html": [
       "<p>Failed to display Jupyter Widget of type <code>HBox</code>.</p>\n",
       "<p>\n",
       "  If you're reading this message in Jupyter Notebook or JupyterLab, it may mean\n",
       "  that the widgets JavaScript is still loading. If this message persists, it\n",
       "  likely means that the widgets JavaScript library is either not installed or\n",
       "  not enabled. See the <a href=\"https://ipywidgets.readthedocs.io/en/stable/user_install.html\">Jupyter\n",
       "  Widgets Documentation</a> for setup instructions.\n",
       "</p>\n",
       "<p>\n",
       "  If you're reading this message in another notebook frontend (for example, a static\n",
       "  rendering on GitHub or <a href=\"https://nbviewer.jupyter.org/\">NBViewer</a>),\n",
       "  it may mean that your frontend doesn't currently support widgets.\n",
       "</p>\n"
      ],
      "text/plain": [
       "HBox(children=(IntProgress(value=0, max=5507279), HTML(value='')))"
      ]
     },
     "metadata": {},
     "output_type": "display_data"
    },
    {
     "name": "stdout",
     "output_type": "stream",
     "text": [
      "\n",
      "\n",
      "Number of entries: 3972329\n",
      "Sample: [ ('0nbbn_1', ['anywhere but here']),\n",
      "  ('0898tx', ['kori bustard']),\n",
      "  ('01bph2', ['jim mitchell']),\n",
      "  ('08hj4n2', ['against timarchos']),\n",
      "  ( '02lgcwr',\n",
      "    [ 'cytoskeletal-associated protein tyrosine phosphatase',\n",
      "      'protein tyrosine phosphatase , non-receptor type 14']),\n",
      "  ( '035t1xr',\n",
      "    [ 'the best of the durutti column ( disc 2 )',\n",
      "      'the best of the durutti column']),\n",
      "  ('0gdysjq', ['get down ( rappapella ) ( feat. stepz )']),\n",
      "  ('0xhky38', ['scion cd sampler , volume 26 : the toxic avenger']),\n",
      "  ('0z7yx20', ['ryan deacon']),\n",
      "  ('0cbv3', ['richard doyly carte'])]\n"
     ]
    }
   ],
   "source": [
    "mid_to_name = defaultdict(list)\n",
    "for line in tqdm_notebook(open(MID_TO_NAME), total=5507279):\n",
    "    split = line.strip().split('\\t')\n",
    "    mid = split[0].replace('<fb:m.', '').replace('>', '')\n",
    "    name = split[2].replace('\"', '').replace(\"'\", '')\n",
    "    mid_to_name[mid].append(name)\n",
    "print()\n",
    "print('Number of entries:', len(mid_to_name))\n",
    "print('Sample:', pp.pformat(random.sample(mid_to_name.items(), 10)))"
   ]
  },
  {
   "cell_type": "markdown",
   "metadata": {},
   "source": [
    "Lets check if our elasticsearch cluster is healthy; afterwards, we'll attempt to populate it with data."
   ]
  },
  {
   "cell_type": "code",
   "execution_count": 5,
   "metadata": {},
   "outputs": [
    {
     "name": "stdout",
     "output_type": "stream",
     "text": [
      "Health: %s {'relocating_shards': 0, 'number_of_nodes': 1, 'unassigned_shards': 10, 'status': 'yellow', 'number_of_data_nodes': 1, 'cluster_name': 'elasticsearch', 'active_shards': 10, 'active_primary_shards': 10, 'timed_out': False, 'initializing_shards': 0, 'active_shards_percent_as_number': 50.0, 'number_of_in_flight_fetch': 0, 'number_of_pending_tasks': 0, 'task_max_waiting_in_queue_millis': 0, 'delayed_unassigned_shards': 0}\n"
     ]
    }
   ],
   "source": [
    "from elasticsearch_dsl.connections import connections\n",
    "\n",
    "# Define a default Elasticsearch client\n",
    "connections.create_connection(hosts=['localhost'])\n",
    "\n",
    "# Display cluster health\n",
    "print('Health: %s', connections.get_connection().cluster.health())"
   ]
  },
  {
   "cell_type": "code",
   "execution_count": 6,
   "metadata": {},
   "outputs": [
    {
     "name": "stdout",
     "output_type": "stream",
     "text": [
      "Found 1133800 documents in index \"fb5m_entities\"\n"
     ]
    }
   ],
   "source": [
    "from elasticsearch import Elasticsearch\n",
    "from elasticsearch_dsl import Search\n",
    "\n",
    "client = Elasticsearch()\n",
    "ENTITY_INDEX = 'fb5m_entities'\n",
    "\n",
    "# check if last entity exists, then do not refetch\n",
    "num_entities = 0\n",
    "if client.indices.exists(index=ENTITY_INDEX):\n",
    "    search = Search(using=client, index=ENTITY_INDEX)\n",
    "    query = search.query(\"match_all\")\n",
    "    num_entities = query.count()\n",
    "    print('Found %d documents in index \"%s\"' % (query.count(), ENTITY_INDEX))\n",
    "else:\n",
    "    print('%s index does not exist' % ENTITY_INDEX)"
   ]
  },
  {
   "cell_type": "code",
   "execution_count": 7,
   "metadata": {},
   "outputs": [],
   "source": [
    "from elasticsearch_dsl import DocType\n",
    "from elasticsearch_dsl import Index\n",
    "from elasticsearch_dsl import Integer\n",
    "from elasticsearch_dsl import Nested\n",
    "from elasticsearch_dsl import Search\n",
    "from elasticsearch_dsl import String\n",
    "\n",
    "class FreebaseEntity(DocType):\n",
    "    mid = String(index='not_analyzed')\n",
    "    names = Nested(required=True, properties={'name': String()})\n",
    "    facts = Nested(required=True,\n",
    "                   properties={'subjects': String(index='not_analyzed'),\n",
    "                               'property': String(index='not_analyzed')})\n",
    "\n",
    "    class Meta:\n",
    "        index = ENTITY_INDEX\n",
    "\n",
    "    def save(self, **kwargs):\n",
    "        return super().save(**kwargs)"
   ]
  },
  {
   "cell_type": "markdown",
   "metadata": {},
   "source": [
    "We checked if fb_5m exists, we checked that the cluster is healthy, and we setup a FreebaseEntity document schema. The last step in this process is to populate the cluster."
   ]
  },
  {
   "cell_type": "code",
   "execution_count": 1,
   "metadata": {},
   "outputs": [
    {
     "ename": "NameError",
     "evalue": "name 'num_entities' is not defined",
     "output_type": "error",
     "traceback": [
      "\u001b[0;31m---------------------------------------------------------------------------\u001b[0m",
      "\u001b[0;31mNameError\u001b[0m                                 Traceback (most recent call last)",
      "\u001b[0;32m<ipython-input-1-580eb0bdd1cf>\u001b[0m in \u001b[0;36m<module>\u001b[0;34m()\u001b[0m\n\u001b[1;32m     52\u001b[0m \u001b[0;34m\u001b[0m\u001b[0m\n\u001b[1;32m     53\u001b[0m \u001b[0;34m\u001b[0m\u001b[0m\n\u001b[0;32m---> 54\u001b[0;31m \u001b[0mcreate_index\u001b[0m\u001b[0;34m(\u001b[0m\u001b[0;34m)\u001b[0m\u001b[0;34m\u001b[0m\u001b[0m\n\u001b[0m\u001b[1;32m     55\u001b[0m \u001b[0mconnection\u001b[0m\u001b[0;34m.\u001b[0m\u001b[0mclose\u001b[0m\u001b[0;34m(\u001b[0m\u001b[0;34m)\u001b[0m\u001b[0;34m\u001b[0m\u001b[0m\n",
      "\u001b[0;32m<ipython-input-1-580eb0bdd1cf>\u001b[0m in \u001b[0;36mcreate_index\u001b[0;34m()\u001b[0m\n\u001b[1;32m     41\u001b[0m \u001b[0;31m# save entities if not already saved\u001b[0m\u001b[0;34m\u001b[0m\u001b[0;34m\u001b[0m\u001b[0m\n\u001b[1;32m     42\u001b[0m \u001b[0;32mdef\u001b[0m \u001b[0mcreate_index\u001b[0m\u001b[0;34m(\u001b[0m\u001b[0;34m)\u001b[0m\u001b[0;34m:\u001b[0m\u001b[0;34m\u001b[0m\u001b[0m\n\u001b[0;32m---> 43\u001b[0;31m     \u001b[0minput_\u001b[0m \u001b[0;34m=\u001b[0m \u001b[0minput\u001b[0m\u001b[0;34m(\u001b[0m\u001b[0;34m'WARNING - Delete %d entities? [YES/no] '\u001b[0m \u001b[0;34m%\u001b[0m \u001b[0mnum_entities\u001b[0m\u001b[0;34m)\u001b[0m\u001b[0;34m\u001b[0m\u001b[0m\n\u001b[0m\u001b[1;32m     44\u001b[0m     \u001b[0;32mif\u001b[0m \u001b[0minput_\u001b[0m \u001b[0;34m==\u001b[0m \u001b[0;34m'YES'\u001b[0m\u001b[0;34m:\u001b[0m\u001b[0;34m\u001b[0m\u001b[0m\n\u001b[1;32m     45\u001b[0m         \u001b[0mclient\u001b[0m\u001b[0;34m.\u001b[0m\u001b[0mindices\u001b[0m\u001b[0;34m.\u001b[0m\u001b[0mdelete\u001b[0m\u001b[0;34m(\u001b[0m\u001b[0mindex\u001b[0m\u001b[0;34m=\u001b[0m\u001b[0mENTITY_INDEX\u001b[0m\u001b[0;34m,\u001b[0m \u001b[0mignore\u001b[0m\u001b[0;34m=\u001b[0m\u001b[0;34m[\u001b[0m\u001b[0;36m400\u001b[0m\u001b[0;34m,\u001b[0m \u001b[0;36m404\u001b[0m\u001b[0;34m]\u001b[0m\u001b[0;34m)\u001b[0m\u001b[0;34m\u001b[0m\u001b[0m\n",
      "\u001b[0;31mNameError\u001b[0m: name 'num_entities' is not defined"
     ]
    }
   ],
   "source": [
    "from datetime import datetime\n",
    "\n",
    "import os\n",
    "\n",
    "from elasticsearch.helpers import streaming_bulk\n",
    "\n",
    "# save entities to elastic search\n",
    "def get_entities():\n",
    "    for mid, names in mid_to_name.items():\n",
    "        if mid in object_to_fact:\n",
    "            yield {\n",
    "                'mid': mid,\n",
    "                'names': names,\n",
    "                'facts': object_to_fact[mid]\n",
    "            }\n",
    "#         else:\n",
    "#             print('Lost MID:', mid, names)\n",
    "    \n",
    "\n",
    "def serialize_entity(mid, names, facts):\n",
    "    \"\"\" serialize the instance into a dictionary so that it can be saved in elasticsearch. \"\"\"\n",
    "    names = [{'name': name} for name in names]\n",
    "    return FreebaseEntity(\n",
    "        mid=mid,\n",
    "        facts=facts,\n",
    "        names=names,\n",
    "        meta={'id': mid}).to_dict(True)\n",
    "\n",
    "\n",
    "def save_entities():\n",
    "    \"\"\" efficiently save entities in bulk using `streaming_bulk` and `serialize_entity` \"\"\"\n",
    "    elasticsearch_connection = connections.get_connection()\n",
    "    task_generator = (serialize_entity(**kwargs) for kwargs in get_entities())\n",
    "    steaming_iterator = tqdm_notebook(streaming_bulk(elasticsearch_connection, task_generator,\n",
    "                                            chunk_size=100, request_timeout=120))\n",
    "    for ok, item in steaming_iterator:\n",
    "        if not ok:\n",
    "            print(item)\n",
    "\n",
    "\n",
    "# save entities if not already saved\n",
    "def create_index():\n",
    "    input_ = input('WARNING - Delete %d entities? [YES/no] ' % num_entities)\n",
    "    if input_ == 'YES':\n",
    "        client.indices.delete(index=ENTITY_INDEX, ignore=[400, 404])\n",
    "        # create the mappings in elasticsearch\n",
    "        FreebaseEntity.init()\n",
    "        save_entities()\n",
    "    else:\n",
    "        print('Not Deleting Index! Wohoo!')\n",
    "    print('Done!')\n",
    "\n",
    "\n",
    "create_index()\n",
    "connection.close()"
   ]
  }
 ],
 "metadata": {
  "kernelspec": {
   "display_name": "Python 3",
   "language": "python",
   "name": "python3"
  },
  "language_info": {
   "codemirror_mode": {
    "name": "ipython",
    "version": 3
   },
   "file_extension": ".py",
   "mimetype": "text/x-python",
   "name": "python",
   "nbconvert_exporter": "python",
   "pygments_lexer": "ipython3",
   "version": "3.5.2"
  }
 },
 "nbformat": 4,
 "nbformat_minor": 2
}
