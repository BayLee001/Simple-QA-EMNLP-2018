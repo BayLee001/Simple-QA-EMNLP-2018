{
 "cells": [
  {
   "cell_type": "markdown",
   "metadata": {},
   "source": [
    "# Simple QA to PostgreSQL\n",
    "\n",
    "This script is to move the data from files to postgreSQL to help analyze."
   ]
  },
  {
   "cell_type": "code",
   "execution_count": 15,
   "metadata": {},
   "outputs": [],
   "source": [
    "import os\n",
    "import psycopg2\n",
    "import psycopg2.extras\n",
    "\n",
    "# Load .env file\n",
    "pass_ = {}\n",
    "for line in open('../../.pass'):\n",
    "    split = line.strip().split('=')\n",
    "    pass_[split[0]] = split[1]\n",
    "\n",
    "# Connect    \n",
    "connection = psycopg2.connect(dbname=pass_['DB_NAME'],\n",
    "                              port=pass_['DB_PORT'],\n",
    "                              user=pass_['DB_USER'],\n",
    "                              host=pass_['DB_HOST'],\n",
    "                              password=pass_['DB_PASS'])\n",
    "cursor = connection.cursor()"
   ]
  },
  {
   "cell_type": "markdown",
   "metadata": {},
   "source": [
    "## Index FB5M KG"
   ]
  },
  {
   "cell_type": "code",
   "execution_count": 2,
   "metadata": {},
   "outputs": [],
   "source": [
    "fb_kg = '../../data/SimpleQuestions_v2/freebase-subsets/freebase-FB5M.txt'"
   ]
  },
  {
   "cell_type": "code",
   "execution_count": 3,
   "metadata": {},
   "outputs": [],
   "source": [
    "cursor.execute(\"\"\"\n",
    "    CREATE TABLE fb_kg\n",
    "        (object_mid varchar NOT NULL,\n",
    "        relation varchar NOT NULL,\n",
    "        subject_mid varchar NOT NULL,\n",
    "        PRIMARY KEY(object_mid, relation, subject_mid));\n",
    "        CREATE INDEX relation_index ON fb_kg (relation);\n",
    "        CREATE INDEX object_mid_index ON fb_kg (object_mid);\n",
    "        CREATE INDEX subject_mid_index ON fb_kg (subject_mid);\"\"\")"
   ]
  },
  {
   "cell_type": "code",
   "execution_count": 4,
   "metadata": {},
   "outputs": [
    {
     "data": {
      "application/vnd.jupyter.widget-view+json": {
       "model_id": "f553a04dd69d4f9fa285d65003d49a2d",
       "version_major": 2,
       "version_minor": 0
      },
      "text/html": [
       "<p>Failed to display Jupyter Widget of type <code>HBox</code>.</p>\n",
       "<p>\n",
       "  If you're reading this message in Jupyter Notebook or JupyterLab, it may mean\n",
       "  that the widgets JavaScript is still loading. If this message persists, it\n",
       "  likely means that the widgets JavaScript library is either not installed or\n",
       "  not enabled. See the <a href=\"https://ipywidgets.readthedocs.io/en/stable/user_install.html\">Jupyter\n",
       "  Widgets Documentation</a> for setup instructions.\n",
       "</p>\n",
       "<p>\n",
       "  If you're reading this message in another notebook frontend (for example, a static\n",
       "  rendering on GitHub or <a href=\"https://nbviewer.jupyter.org/\">NBViewer</a>),\n",
       "  it may mean that your frontend doesn't currently support widgets.\n",
       "</p>\n"
      ],
      "text/plain": [
       "HBox(children=(IntProgress(value=0, max=12010500), HTML(value='')))"
      ]
     },
     "metadata": {},
     "output_type": "display_data"
    },
    {
     "name": "stdout",
     "output_type": "stream",
     "text": [
      "\n"
     ]
    }
   ],
   "source": [
    "from tqdm import tqdm_notebook\n",
    "\n",
    "chunk_size = 20000\n",
    "\n",
    "\n",
    "def insert_chunk(rows):\n",
    "    insert_query = 'INSERT INTO fb_kg (object_mid, relation, subject_mid) VALUES %s ON CONFLICT DO NOTHING;'\n",
    "    psycopg2.extras.execute_values(\n",
    "        cursor, insert_query, rows, template=None, page_size=100\n",
    "    )\n",
    "    \n",
    "\n",
    "rows = []\n",
    "for line in tqdm_notebook(open(fb_kg, 'r'), total=12010500):\n",
    "    # Build Chunks\n",
    "    split = line.split('\\t')\n",
    "    assert len(split) == 3, 'Malformed row'\n",
    "    subject = split[0].replace('www.freebase.com/m/', '').strip()\n",
    "    property_ = split[1].replace('www.freebase.com/', '').strip()\n",
    "    objects = [url.replace('www.freebase.com/m/', '').strip() for url in split[2].split()]\n",
    "    rows.extend([tuple([str(object_), str(property_), str(subject)]) for object_ in objects])\n",
    "\n",
    "    # Insert Chunk\n",
    "    if len(rows) > chunk_size:\n",
    "        insert_chunk(rows)\n",
    "        rows = []\n",
    "        \n",
    "insert_chunk(rows)"
   ]
  },
  {
   "cell_type": "code",
   "execution_count": 5,
   "metadata": {},
   "outputs": [],
   "source": [
    "connection.commit()"
   ]
  },
  {
   "cell_type": "markdown",
   "metadata": {},
   "source": [
    "#### Some quick numbers:\n",
    "\n",
    "- Total 12,010,500 FB5M tuples. Coraborated by https://research.fb.com/wp-content/uploads/2016/11/large-scale_simple_question_answering_with_memory_networks.pdf?\n",
    "- Subject Unique MIDs ~ 3,929,894\n",
    "- Subject MIDs ~ 46,424,988\n",
    "- Object Unique MIDs ~ 1,972,702\n",
    "- Object MIDs ~ 12,010,500. Coraborated by https://research.fb.com/wp-content/uploads/2016/11/large-scale_simple_question_answering_with_memory_networks.pdf?\n",
    "- Total Unique MIDs ~ 3,988,105 ~ Coraborated by https://github.com/zihangdai/CFO\n",
    "- Total MIDs ~ 58,435,488\n",
    "- Total Relations ~ 7,523. Coraborated by https://research.fb.com/wp-content/uploads/2016/11/large-scale_simple_question_answering_with_memory_networks.pdf?\n",
    "- Total Unique Facts ~ 17,872,174. Coraborated by https://github.com/zihangdai/CFO \n",
    "\n",
    "\n",
    "## Index FB5M Mid to Names"
   ]
  },
  {
   "cell_type": "code",
   "execution_count": 6,
   "metadata": {},
   "outputs": [],
   "source": [
    "fb_name = '../../data/FB5M.name.txt'"
   ]
  },
  {
   "cell_type": "code",
   "execution_count": 7,
   "metadata": {},
   "outputs": [],
   "source": [
    "cursor.execute(\"\"\"\n",
    "    CREATE TABLE fb_name\n",
    "        (mid varchar NOT NULL,\n",
    "        relation varchar NOT NULL,\n",
    "        alias varchar NOT NULL,\n",
    "        PRIMARY KEY(mid, relation, alias));\n",
    "    CREATE INDEX alias_index ON fb_name (alias);\"\"\")"
   ]
  },
  {
   "cell_type": "code",
   "execution_count": 8,
   "metadata": {},
   "outputs": [
    {
     "data": {
      "application/vnd.jupyter.widget-view+json": {
       "model_id": "b900e546d4f74578a74e1ec2137c0cd9",
       "version_major": 2,
       "version_minor": 0
      },
      "text/html": [
       "<p>Failed to display Jupyter Widget of type <code>HBox</code>.</p>\n",
       "<p>\n",
       "  If you're reading this message in Jupyter Notebook or JupyterLab, it may mean\n",
       "  that the widgets JavaScript is still loading. If this message persists, it\n",
       "  likely means that the widgets JavaScript library is either not installed or\n",
       "  not enabled. See the <a href=\"https://ipywidgets.readthedocs.io/en/stable/user_install.html\">Jupyter\n",
       "  Widgets Documentation</a> for setup instructions.\n",
       "</p>\n",
       "<p>\n",
       "  If you're reading this message in another notebook frontend (for example, a static\n",
       "  rendering on GitHub or <a href=\"https://nbviewer.jupyter.org/\">NBViewer</a>),\n",
       "  it may mean that your frontend doesn't currently support widgets.\n",
       "</p>\n"
      ],
      "text/plain": [
       "HBox(children=(IntProgress(value=0, max=5507279), HTML(value='')))"
      ]
     },
     "metadata": {},
     "output_type": "display_data"
    },
    {
     "name": "stdout",
     "output_type": "stream",
     "text": [
      "\n"
     ]
    }
   ],
   "source": [
    "chunk_size = 10000\n",
    "\n",
    "\n",
    "def insert_chunk(rows):\n",
    "    insert_query = 'INSERT INTO fb_name (mid, relation, alias) VALUES %s ON CONFLICT DO NOTHING;'\n",
    "    psycopg2.extras.execute_values(\n",
    "        cursor, insert_query, rows, template=None, page_size=100\n",
    "    )\n",
    "    \n",
    "\n",
    "rows = []\n",
    "for line in tqdm_notebook(open(fb_name, 'r'), total=5507279):\n",
    "    # Build Chunks\n",
    "    split = line.strip('.\\n').strip().split('\\t')\n",
    "    assert len(split) == 3, 'Malformed row'\n",
    "    mid = split[0].strip().replace('<fb:m.', '').rstrip('>')\n",
    "    relation = split[1].strip().replace('<fb:', '').rstrip('>')\n",
    "    alias = split[2].strip().strip('\\'').strip('\"')\n",
    "    rows.append(tuple([mid, relation, alias]))\n",
    "\n",
    "    # Insert Chunk\n",
    "    if len(rows) > chunk_size:\n",
    "        insert_chunk(rows)\n",
    "        rows = []\n",
    "        \n",
    "insert_chunk(rows)"
   ]
  },
  {
   "cell_type": "code",
   "execution_count": 10,
   "metadata": {},
   "outputs": [],
   "source": [
    "connection.commit()"
   ]
  },
  {
   "cell_type": "markdown",
   "metadata": {},
   "source": [
    "## Index FB5M Mid to Type"
   ]
  },
  {
   "cell_type": "code",
   "execution_count": 12,
   "metadata": {},
   "outputs": [],
   "source": [
    "fb_type = '../../data/FB5M.type.txt'"
   ]
  },
  {
   "cell_type": "code",
   "execution_count": 16,
   "metadata": {},
   "outputs": [],
   "source": [
    "cursor.execute(\"\"\"\n",
    "    CREATE TABLE fb_type\n",
    "        (mid varchar NOT NULL,\n",
    "        relation varchar NOT NULL,\n",
    "        type varchar NOT NULL,\n",
    "        PRIMARY KEY(mid, relation, type))\"\"\")"
   ]
  },
  {
   "cell_type": "code",
   "execution_count": 17,
   "metadata": {},
   "outputs": [
    {
     "data": {
      "application/vnd.jupyter.widget-view+json": {
       "model_id": "b978fd4c1085461faea6cccb023802ba",
       "version_major": 2,
       "version_minor": 0
      },
      "text/html": [
       "<p>Failed to display Jupyter Widget of type <code>HBox</code>.</p>\n",
       "<p>\n",
       "  If you're reading this message in Jupyter Notebook or JupyterLab, it may mean\n",
       "  that the widgets JavaScript is still loading. If this message persists, it\n",
       "  likely means that the widgets JavaScript library is either not installed or\n",
       "  not enabled. See the <a href=\"https://ipywidgets.readthedocs.io/en/stable/user_install.html\">Jupyter\n",
       "  Widgets Documentation</a> for setup instructions.\n",
       "</p>\n",
       "<p>\n",
       "  If you're reading this message in another notebook frontend (for example, a static\n",
       "  rendering on GitHub or <a href=\"https://nbviewer.jupyter.org/\">NBViewer</a>),\n",
       "  it may mean that your frontend doesn't currently support widgets.\n",
       "</p>\n"
      ],
      "text/plain": [
       "HBox(children=(IntProgress(value=0, max=23649940), HTML(value='')))"
      ]
     },
     "metadata": {},
     "output_type": "display_data"
    },
    {
     "name": "stdout",
     "output_type": "stream",
     "text": [
      "\n"
     ]
    }
   ],
   "source": [
    "chunk_size = 10000\n",
    "\n",
    "\n",
    "def insert_chunk(rows):\n",
    "    insert_query = 'INSERT INTO fb_type (mid, relation, type) VALUES %s ON CONFLICT DO NOTHING;'\n",
    "    psycopg2.extras.execute_values(\n",
    "        cursor, insert_query, rows, template=None, page_size=100\n",
    "    )\n",
    "    \n",
    "\n",
    "rows = []\n",
    "for line in tqdm_notebook(open(fb_type, 'r'), total=23649940):\n",
    "    # Build Chunks\n",
    "    split = line.strip('.\\n').strip().split('\\t')\n",
    "    assert len(split) == 3, 'Malformed row'\n",
    "    mid = split[0].strip().replace('<fb:m.', '').strip('>')\n",
    "    relation = split[1].strip().replace('<fb:', '').strip('>')\n",
    "    type_ = split[2].strip().replace('<fb:', '').strip('>')\n",
    "    rows.append(tuple([mid, relation, type_]))\n",
    "\n",
    "    # Insert Chunk\n",
    "    if len(rows) > chunk_size:\n",
    "        insert_chunk(rows)\n",
    "        rows = []\n",
    "\n",
    "insert_chunk(rows)"
   ]
  },
  {
   "cell_type": "code",
   "execution_count": 19,
   "metadata": {},
   "outputs": [],
   "source": [
    "connection.commit()"
   ]
  },
  {
   "cell_type": "markdown",
   "metadata": {},
   "source": [
    "## Shut Down Connection"
   ]
  },
  {
   "cell_type": "code",
   "execution_count": 12,
   "metadata": {},
   "outputs": [],
   "source": [
    "cursor.close()\n",
    "connection.close()"
   ]
  }
 ],
 "metadata": {
  "kernelspec": {
   "display_name": "Python 3",
   "language": "python",
   "name": "python3"
  },
  "language_info": {
   "codemirror_mode": {
    "name": "ipython",
    "version": 3
   },
   "file_extension": ".py",
   "mimetype": "text/x-python",
   "name": "python",
   "nbconvert_exporter": "python",
   "pygments_lexer": "ipython3",
   "version": "3.6.1"
  }
 },
 "nbformat": 4,
 "nbformat_minor": 2
}
